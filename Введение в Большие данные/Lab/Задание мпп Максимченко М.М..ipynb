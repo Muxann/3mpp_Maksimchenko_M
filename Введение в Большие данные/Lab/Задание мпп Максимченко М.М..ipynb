{
 "cells": [
  {
   "cell_type": "markdown",
   "metadata": {},
   "source": [
    "# Машинное обучение\n",
    "\n",
    "Практическое задание 1 посвящено изучению основных библиотек для анализа данных, а также линейных моделей и методов их обучения. Вы научитесь:\n",
    " * применять библиотеки NumPy и Pandas для осуществления желаемых преобразований;\n",
    " * подготавливать данные для обучения линейных моделей;\n",
    " * обучать линейную, Lasso и Ridge-регрессии при помощи модуля scikit-learn;\n",
    " * реализовывать обычный и стохастический градиентные спуски;\n",
    " * обучать линейную регрессию для произвольного функционала качества."
   ]
  },
  {
   "cell_type": "markdown",
   "metadata": {},
   "source": [
    "## Библиотеки для анализа данных\n",
    "\n",
    "### NumPy\n",
    "\n",
    "Во всех заданиях данного раздела запрещено использовать циклы  и list comprehensions. Под вектором и матрицей в данных заданиях понимается одномерный и двумерный numpy.array соответственно."
   ]
  },
  {
   "cell_type": "code",
   "execution_count": 1,
   "metadata": {},
   "outputs": [],
   "source": [
    "import numpy as np"
   ]
  },
  {
   "cell_type": "markdown",
   "metadata": {},
   "source": [
    "Реализуйте функцию, возвращающую максимальный элемент в векторе x среди элементов, перед которыми стоит нулевой. Для x = np.array([6, 2, 0, 3, 0, 0, 5, 7, 0]) ответом является 5. Если нулевых элементов нет, функция должна возвращать None.\n"
   ]
  },
  {
   "cell_type": "code",
   "execution_count": 2,
   "metadata": {},
   "outputs": [
    {
     "name": "stdout",
     "output_type": "stream",
     "text": [
      "5\n"
     ]
    }
   ],
   "source": [
    "def max_element(arr):\n",
    "    zero = arr==0;\n",
    "    print (arr[1:][zero[:-1]].max());\n",
    "newArray=np.array([6, 2, 0, 3, 0, 0, 5, 7, 0]);\n",
    "max_element(newArray);   "
   ]
  },
  {
   "cell_type": "markdown",
   "metadata": {},
   "source": [
    "Реализуйте функцию, принимающую на вход матрицу и некоторое число и возвращающую ближайший к числу элемент матрицы. Например: для X = np.arange(0,10).reshape((2, 5)) и v = 3.6 ответом будет 4."
   ]
  },
  {
   "cell_type": "code",
   "execution_count": 3,
   "metadata": {},
   "outputs": [
    {
     "data": {
      "text/plain": [
       "4"
      ]
     },
     "execution_count": 3,
     "metadata": {},
     "output_type": "execute_result"
    }
   ],
   "source": [
    "def nearest_value(X, v):\n",
    "    # Your code here\n",
    "    deviations = np.abs(X - v)\n",
    "    return X[np.where(deviations == np.min(deviations))][0]\n",
    "x= np.arange(0,10).reshape((2, 5)) \n",
    "v=3.6\n",
    "nearest_value(x, v )"
   ]
  },
  {
   "cell_type": "markdown",
   "metadata": {},
   "source": [
    "Реализуйте функцию scale(X), которая принимает на вход матрицу и масштабирует каждый ее столбец (вычитает выборочное среднее и делит на стандартное отклонение). Убедитесь, что в функции не будет происходить деления на ноль. Протестируйте на случайной матрице (для её генерации можно использовать, например, функцию [numpy.random.randint](http://docs.scipy.org/doc/numpy/reference/generated/numpy.random.randint.html))."
   ]
  },
  {
   "cell_type": "code",
   "execution_count": 4,
   "metadata": {},
   "outputs": [
    {
     "name": "stdout",
     "output_type": "stream",
     "text": [
      "[[88 29]\n",
      " [36 40]]\n",
      "[[ 1.         -4.5       ]\n",
      " [-0.76271186  1.        ]]\n"
     ]
    }
   ],
   "source": [
    "def scale(X):\n",
    "    stds = X.std(axis=1)\n",
    "    if len(np.nonzero(stds==0)[0]):\n",
    "        return \"DIVISION BY ZERO!!!\"\n",
    "    means = X.mean(axis=1)\n",
    "    Y = X - means\n",
    "    Y /= stds\n",
    "    return Y\n",
    "\n",
    "sample_matrix = np.array([np.random.randint(0, 100, 2) for i in range(2)])\n",
    "\n",
    "print(sample_matrix)\n",
    "print(scale(sample_matrix))"
   ]
  },
  {
   "cell_type": "markdown",
   "metadata": {},
   "source": [
    " Реализуйте функцию, которая для заданной матрицы находит:\n",
    " - определитель\n",
    " - след\n",
    " - наименьший и наибольший элементы\n",
    " - норму Фробениуса\n",
    " - собственные числа\n",
    " - обратную матрицу\n",
    "\n",
    "Для тестирования сгенерируйте матрицу с элементами из нормального распределения $\\mathcal{N}$(10,1)"
   ]
  },
  {
   "cell_type": "code",
   "execution_count": 5,
   "metadata": {},
   "outputs": [
    {
     "name": "stdout",
     "output_type": "stream",
     "text": [
      "[[11.23953454  9.33530601]\n",
      " [11.50888172  8.86192729]]\n",
      "DET:  -7.834994887902737\n",
      "TRACE:  20.10146182929534\n",
      "MAX:  11.508881723292491\n",
      "MIN:  8.861927293486291\n",
      "MATRIX NORM:  20.60250443072025\n",
      "EIGENVALS:  [20.48395605 -0.38249422]\n",
      "INVERSE:  [[-1.13106995  1.19148846]\n",
      " [ 1.46890737 -1.43452991]]\n"
     ]
    }
   ],
   "source": [
    "from numpy import linalg as la\n",
    "def get_stats(X):\n",
    "    print(\"DET: \", np.linalg.det(X))\n",
    "    print(\"TRACE: \", np.trace(X))\n",
    "    print(\"MAX: \", X.max())\n",
    "    print(\"MIN: \", X.min())\n",
    "    print(\"MATRIX NORM: \", np.linalg.norm(X))\n",
    "    print(\"EIGENVALS: \", np.linalg.eig(X)[0])\n",
    "    print(\"INVERSE: \", np.linalg.inv(X))\n",
    "    # Your code here\n",
    "    \n",
    "X = np.array([np.random.normal(10, 1, 2) for i in range(2)])\n",
    "print(X)\n",
    "get_stats(X)"
   ]
  },
  {
   "cell_type": "markdown",
   "metadata": {},
   "source": [
    "Повторите 100 раз следующий эксперимент: сгенерируйте две матрицы размера 10×10 из стандартного нормального распределения, перемножьте их (как матрицы) и найдите максимальный элемент. Какое среднее значение по экспериментам у максимальных элементов? 95-процентная квантиль?"
   ]
  },
  {
   "cell_type": "code",
   "execution_count": 6,
   "metadata": {},
   "outputs": [
    {
     "name": "stdout",
     "output_type": "stream",
     "text": [
      "MEAN:  8.575446443278125\n",
      "95% quantile:  12.52407281303261\n"
     ]
    }
   ],
   "source": [
    "vals = np.empty(100)\n",
    "for exp_num in range(100):\n",
    "    x1 = np.random.normal(0, 1, (10, 10))\n",
    "    x2 = np.random.normal(0, 1, (10, 10))\n",
    "    vals[exp_num] = np.max(x1.dot(x2))\n",
    "    \n",
    "print(\"MEAN: \", np.average(vals))\n",
    "print(\"95% quantile: \", np.percentile(vals, 95))"
   ]
  },
  {
   "cell_type": "markdown",
   "metadata": {},
   "source": [
    "### Pandas\n",
    "\n",
    "![](https://metrouk2.files.wordpress.com/2015/10/panda.jpg)\n",
    "\n",
    "#### Ответьте на вопросы о данных по авиарейсам в США за январь-апрель 2008 года.\n",
    "\n",
    "[Данные](https://www.dropbox.com/s/dvfitn93obn0rql/2008.csv?dl=0) и их [описание](http://stat-computing.org/dataexpo/2009/the-data.html)"
   ]
  },
  {
   "cell_type": "code",
   "execution_count": 7,
   "metadata": {},
   "outputs": [],
   "source": [
    "import pandas as pd\n",
    "%matplotlib inline"
   ]
  },
  {
   "cell_type": "markdown",
   "metadata": {},
   "source": [
    "Какая из причин отмены рейса (`CancellationCode`) была самой частой? (расшифровки кодов можно найти в описании данных)"
   ]
  },
  {
   "cell_type": "code",
   "execution_count": 8,
   "metadata": {},
   "outputs": [],
   "source": [
    "data = pd.read_csv('2008.csv')"
   ]
  },
  {
   "cell_type": "code",
   "execution_count": 9,
   "metadata": {},
   "outputs": [
    {
     "data": {
      "text/plain": [
       "CancellationCode\n",
       "A    563\n",
       "B    549\n",
       "C    299\n",
       "Name: Cancelled, dtype: int64"
      ]
     },
     "execution_count": 9,
     "metadata": {},
     "output_type": "execute_result"
    }
   ],
   "source": [
    "grouped = data.groupby(\"CancellationCode\")\n",
    "grouped.sum()[\"Cancelled\"]"
   ]
  },
  {
   "cell_type": "markdown",
   "metadata": {},
   "source": [
    "Ответ:  __A = carrier__"
   ]
  },
  {
   "cell_type": "markdown",
   "metadata": {},
   "source": [
    " Найдите среднее, минимальное и максимальное расстояние, пройденное самолетом."
   ]
  },
  {
   "cell_type": "code",
   "execution_count": 10,
   "metadata": {},
   "outputs": [
    {
     "name": "stdout",
     "output_type": "stream",
     "text": [
      "Max: =  4962\n",
      "Average: =  724.5082571428571\n",
      "Min: =  31\n"
     ]
    }
   ],
   "source": [
    "dataframe = pd.read_csv(\"2008.csv\")\n",
    "dists = data[\"Distance\"]\n",
    "print (\"Max: = \", dists.max())\n",
    "print (\"Average: = \", dists.mean())\n",
    "print (\"Min: = \", dists.min())"
   ]
  },
  {
   "cell_type": "markdown",
   "metadata": {},
   "source": [
    " Не выглядит ли подозрительным минимальное пройденное расстояние? В какие дни и на каких рейсах оно было? Какое расстояние было пройдено этими же рейсами в другие дни?"
   ]
  },
  {
   "cell_type": "code",
   "execution_count": 11,
   "metadata": {},
   "outputs": [
    {
     "name": "stdout",
     "output_type": "stream",
     "text": [
      "Подозрительные:\n",
      "       FlightNum  Month  DayofMonth\n",
      "1116          65     12          30\n",
      "6958          65     12          26\n",
      "17349         64      8          18\n",
      "27534         64      3          11\n",
      "46082         65      8           9\n",
      "48112         64      2          28 \n",
      "\n",
      "Они же в другие дни:\n",
      "FLIGHT #  65 \n",
      "        Distance  Month  DayofMonth\n",
      "501         533      3          20\n",
      "1389        680      3          13\n",
      "2619       2381      5          23\n",
      "3869         82      7           1\n",
      "4025       1005      6          15\n",
      "4466        123      6          29\n",
      "6778        359      7          12\n",
      "7891       2381      4           6\n",
      "7977       1747      7           9\n",
      "8448        123      2          10\n",
      "9615        533      1           4\n",
      "10833       372      3          31\n",
      "12352      1747      1          14\n",
      "12980        82      8           6\n",
      "13155      1747      7           2\n",
      "21304      1005      5          13\n",
      "24750       680      8          21\n",
      "25671       533      1          15\n",
      "26323      1005     12          15\n",
      "29801       123      4          23\n",
      "30053        82      1           4\n",
      "31375      1005      3          30\n",
      "31629       883      7          19\n",
      "32242        82      9          23\n",
      "33769      1747     12           7\n",
      "41044      1747      3          30\n",
      "43353       571      8          29\n",
      "44649       571      9          14\n",
      "44810        82      2          12\n",
      "48020      1005     11           1\n",
      "55053       123      3          31\n",
      "58530       571      1          16\n",
      "61164       680      9          14\n",
      "63028      1747      1          22\n",
      "64319       414      5           3\n",
      "67172       533      3          22 \n",
      "\n",
      "FLIGHT #  64 \n",
      "        Distance  Month  DayofMonth\n",
      "501         533      3          20\n",
      "1389        680      3          13\n",
      "2619       2381      5          23\n",
      "3869         82      7           1\n",
      "4025       1005      6          15\n",
      "4466        123      6          29\n",
      "6778        359      7          12\n",
      "7891       2381      4           6\n",
      "7977       1747      7           9\n",
      "8448        123      2          10\n",
      "9615        533      1           4\n",
      "10833       372      3          31\n",
      "12352      1747      1          14\n",
      "12980        82      8           6\n",
      "13155      1747      7           2\n",
      "21304      1005      5          13\n",
      "24750       680      8          21\n",
      "25671       533      1          15\n",
      "26323      1005     12          15\n",
      "29801       123      4          23\n",
      "30053        82      1           4\n",
      "31375      1005      3          30\n",
      "31629       883      7          19\n",
      "32242        82      9          23\n",
      "33769      1747     12           7\n",
      "41044      1747      3          30\n",
      "43353       571      8          29\n",
      "44649       571      9          14\n",
      "44810        82      2          12\n",
      "48020      1005     11           1\n",
      "55053       123      3          31\n",
      "58530       571      1          16\n",
      "61164       680      9          14\n",
      "63028      1747      1          22\n",
      "64319       414      5           3\n",
      "67172       533      3          22 \n",
      "\n"
     ]
    }
   ],
   "source": [
    "susp_flight_info = data[data.Distance == 31][[\"FlightNum\", \"Month\", \"DayofMonth\"]]\n",
    "susp_flight_nums = susp_flight_info[\"FlightNum\"].unique()\n",
    "print(\"Подозрительные:\")\n",
    "print(susp_flight_info, \"\\n\")\n",
    "print(\"Они же в другие дни:\")\n",
    "for flight in susp_flight_nums:\n",
    "        print(\"FLIGHT # \", flight, \"\\n\", data[(data['FlightNum'] == susp_flight_nums[1]) &\n",
    "                                                                   (data['Distance'] != 31)][['Distance', 'Month', 'DayofMonth']], \"\\n\")"
   ]
  },
  {
   "cell_type": "markdown",
   "metadata": {},
   "source": [
    "Из какого аэропорта было произведено больше всего вылетов? В каком городе он находится?"
   ]
  },
  {
   "cell_type": "code",
   "execution_count": 12,
   "metadata": {},
   "outputs": [
    {
     "name": "stdout",
     "output_type": "stream",
     "text": [
      "ATL находится в городе  ['Atlanta']\n"
     ]
    }
   ],
   "source": [
    "IATA_code = data.groupby('Origin').size().idxmax()\n",
    "airports = pd.read_csv('airports.csv') # http://stat-computing.org/dataexpo/2009/supplemental-data.html\n",
    "print(IATA_code, \"находится в городе \", airports[airports['iata'] == IATA_code]['city'].values)"
   ]
  },
  {
   "cell_type": "markdown",
   "metadata": {},
   "source": [
    "Найдите для каждого аэропорта среднее время полета (`AirTime`) по всем вылетевшим из него рейсам. Какой аэропорт имеет наибольшее значение этого показателя?"
   ]
  },
  {
   "cell_type": "code",
   "execution_count": 13,
   "metadata": {},
   "outputs": [
    {
     "name": "stdout",
     "output_type": "stream",
     "text": [
      "Аэропорт с интентификатором  SJU\n"
     ]
    }
   ],
   "source": [
    "time_mean = data[['Origin', 'AirTime' ]].groupby('Origin').mean()\n",
    "print(\"Аэропорт с интентификатором \", time_mean['AirTime'].idxmax())"
   ]
  },
  {
   "cell_type": "markdown",
   "metadata": {},
   "source": [
    "Найдите аэропорт, у которого наибольшая доля задержанных (`DepDelay > 0`) рейсов. Исключите при этом из рассмотрения аэропорты, из которых было отправлено меньше 1000 рейсов (используйте функцию `filter` после `groupby`)."
   ]
  },
  {
   "cell_type": "code",
   "execution_count": 14,
   "metadata": {},
   "outputs": [
    {
     "name": "stdout",
     "output_type": "stream",
     "text": [
      "0.5111591072714183\n"
     ]
    },
    {
     "data": {
      "text/html": [
       "<div>\n",
       "<style scoped>\n",
       "    .dataframe tbody tr th:only-of-type {\n",
       "        vertical-align: middle;\n",
       "    }\n",
       "\n",
       "    .dataframe tbody tr th {\n",
       "        vertical-align: top;\n",
       "    }\n",
       "\n",
       "    .dataframe thead th {\n",
       "        text-align: right;\n",
       "    }\n",
       "</style>\n",
       "<table border=\"1\" class=\"dataframe\">\n",
       "  <thead>\n",
       "    <tr style=\"text-align: right;\">\n",
       "      <th></th>\n",
       "      <th>iata</th>\n",
       "      <th>airport</th>\n",
       "      <th>city</th>\n",
       "      <th>state</th>\n",
       "      <th>country</th>\n",
       "      <th>lat</th>\n",
       "      <th>long</th>\n",
       "    </tr>\n",
       "  </thead>\n",
       "  <tbody>\n",
       "    <tr>\n",
       "      <td>1436</td>\n",
       "      <td>EWR</td>\n",
       "      <td>Newark Intl</td>\n",
       "      <td>Newark</td>\n",
       "      <td>NJ</td>\n",
       "      <td>USA</td>\n",
       "      <td>40.692497</td>\n",
       "      <td>-74.168661</td>\n",
       "    </tr>\n",
       "  </tbody>\n",
       "</table>\n",
       "</div>"
      ],
      "text/plain": [
       "     iata      airport    city state country        lat       long\n",
       "1436  EWR  Newark Intl  Newark    NJ     USA  40.692497 -74.168661"
      ]
     },
     "execution_count": 14,
     "metadata": {},
     "output_type": "execute_result"
    }
   ],
   "source": [
    "threshold = 1000\n",
    "all_flights = data.groupby(\"Origin\").size()\n",
    "delayed_flights = data[data[\"DepDelay\"] > 0].groupby(\"Origin\").size()\n",
    "fraction_delayed = delayed_flights[all_flights > threshold] / all_flights[all_flights > threshold]\n",
    "max_fraction_delayed = fraction_delayed.idxmax()\n",
    "print (fraction_delayed.max())\n",
    "airports[airports[\"iata\"] == max_fraction_delayed]"
   ]
  },
  {
   "cell_type": "markdown",
   "metadata": {},
   "source": [
    "## Линейная регрессия\n",
    "\n",
    "В этой части мы разберемся с линейной регрессией, способами её обучения и измерением качества ее прогнозов. \n",
    "\n",
    "Будем рассматривать датасет из предыдущей части задания для предсказания времени задержки отправления рейса в минутах (DepDelay). Отметим, что под задержкой подразумевается не только опоздание рейса относительно планируемого времени вылета, но и отправление до планируемого времени.\n",
    "\n",
    "### Подготовка данных\n",
    "\n",
    "**12. (0.5 балла)** Считайте выборку из файла при помощи функции pd.read_csv и ответьте на следующие вопросы:\n",
    "   - Имеются ли в данных пропущенные значения?\n",
    "   - Сколько всего пропущенных элементов в таблице \"объект-признак\"?\n",
    "   - Сколько объектов имеют хотя бы один пропуск?\n",
    "   - Сколько признаков имеют хотя бы одно пропущенное значение?"
   ]
  },
  {
   "cell_type": "code",
   "execution_count": 15,
   "metadata": {
    "scrolled": true
   },
   "outputs": [
    {
     "name": "stdout",
     "output_type": "stream",
     "text": [
      "Пропущенные значения имеются: True\n",
      "В таблице объект-признак пропущено 355215 значений\n",
      "70000 объектов имеют хотя бы 1 пропуск\n",
      "16 признаков имеют хотя бы 1 пропуск\n"
     ]
    }
   ],
   "source": [
    "data = pd.read_csv('2008.csv')\n",
    "print(\"Пропущенные значения имеются:\", data.isnull().values.any())\n",
    "print(\"В таблице объект-признак пропущено\", data.isnull().values.sum(), \"значений\")\n",
    "print(np.count_nonzero(np.array(data.isnull().values.sum(axis=1))), \"объектов имеют хотя бы 1 пропуск\")\n",
    "print(np.count_nonzero(np.array(data.isnull().values.sum(axis=0))), \"признаков имеют хотя бы 1 пропуск\")"
   ]
  },
  {
   "cell_type": "markdown",
   "metadata": {},
   "source": [
    "Как вы понимаете, также не имеет смысла рассматривать при решении поставленной задачи объекты с пропущенным значением целевой переменной. В связи с этим ответьте на следующие вопросы и выполните соответствующие действия:\n",
    "- Имеются ли пропущенные значения в целевой переменной? **ДА**\n",
    "- Проанализируйте объекты с пропущенными значениями целевой переменной. Чем вызвано это явление? Что их объединяет? Можно ли в связи с этим, на ваш взгляд, исключить какие-то признаки из рассмотрения? Обоснуйте свою точку зрения.\n",
    "\n",
    "Исключите из выборки объекты **с пропущенным значением целевой переменной и со значением целевой переменной, равным 0**, а также при необходимости исключите признаки в соответствии с вашим ответом на последний вопрос из списка и выделите целевую переменную в отдельный вектор, исключив её из матрицы \"объект-признак\"."
   ]
  },
  {
   "cell_type": "code",
   "execution_count": 16,
   "metadata": {},
   "outputs": [
    {
     "name": "stdout",
     "output_type": "stream",
     "text": [
      "1399 пропущенных значений в целевой переменной\n"
     ]
    }
   ],
   "source": [
    "print(data['DepDelay'].isnull().sum(), 'пропущенных значений в целевой переменной')"
   ]
  },
  {
   "cell_type": "markdown",
   "metadata": {},
   "source": [
    "Посмотрим на объекты, у которых нет ответа, заметим, что у этих объектов в признаке Cancelled единицы, проверим, так ли это для всех объектов:"
   ]
  },
  {
   "cell_type": "code",
   "execution_count": 17,
   "metadata": {},
   "outputs": [
    {
     "data": {
      "text/plain": [
       "0"
      ]
     },
     "execution_count": 17,
     "metadata": {},
     "output_type": "execute_result"
    }
   ],
   "source": [
    "sum(data[data['DepDelay'].isnull()]['Cancelled'] < 1)"
   ]
  },
  {
   "cell_type": "markdown",
   "metadata": {},
   "source": [
    "Дествительно, все объекты с отсутствующим ответом были отменены, проверим, работает ли это в обратную сторону"
   ]
  },
  {
   "cell_type": "code",
   "execution_count": 18,
   "metadata": {},
   "outputs": [
    {
     "data": {
      "text/html": [
       "<div>\n",
       "<style scoped>\n",
       "    .dataframe tbody tr th:only-of-type {\n",
       "        vertical-align: middle;\n",
       "    }\n",
       "\n",
       "    .dataframe tbody tr th {\n",
       "        vertical-align: top;\n",
       "    }\n",
       "\n",
       "    .dataframe thead th {\n",
       "        text-align: right;\n",
       "    }\n",
       "</style>\n",
       "<table border=\"1\" class=\"dataframe\">\n",
       "  <thead>\n",
       "    <tr style=\"text-align: right;\">\n",
       "      <th></th>\n",
       "      <th>Year</th>\n",
       "      <th>Month</th>\n",
       "      <th>DayofMonth</th>\n",
       "      <th>DayOfWeek</th>\n",
       "      <th>DepTime</th>\n",
       "      <th>CRSDepTime</th>\n",
       "      <th>ArrTime</th>\n",
       "      <th>CRSArrTime</th>\n",
       "      <th>UniqueCarrier</th>\n",
       "      <th>FlightNum</th>\n",
       "      <th>...</th>\n",
       "      <th>TaxiIn</th>\n",
       "      <th>TaxiOut</th>\n",
       "      <th>Cancelled</th>\n",
       "      <th>CancellationCode</th>\n",
       "      <th>Diverted</th>\n",
       "      <th>CarrierDelay</th>\n",
       "      <th>WeatherDelay</th>\n",
       "      <th>NASDelay</th>\n",
       "      <th>SecurityDelay</th>\n",
       "      <th>LateAircraftDelay</th>\n",
       "    </tr>\n",
       "  </thead>\n",
       "  <tbody>\n",
       "    <tr>\n",
       "      <td>5976</td>\n",
       "      <td>2008</td>\n",
       "      <td>11</td>\n",
       "      <td>29</td>\n",
       "      <td>6</td>\n",
       "      <td>1325.0</td>\n",
       "      <td>1301</td>\n",
       "      <td>NaN</td>\n",
       "      <td>1354</td>\n",
       "      <td>EV</td>\n",
       "      <td>5401</td>\n",
       "      <td>...</td>\n",
       "      <td>NaN</td>\n",
       "      <td>NaN</td>\n",
       "      <td>1</td>\n",
       "      <td>A</td>\n",
       "      <td>0</td>\n",
       "      <td>NaN</td>\n",
       "      <td>NaN</td>\n",
       "      <td>NaN</td>\n",
       "      <td>NaN</td>\n",
       "      <td>NaN</td>\n",
       "    </tr>\n",
       "    <tr>\n",
       "      <td>15680</td>\n",
       "      <td>2008</td>\n",
       "      <td>12</td>\n",
       "      <td>19</td>\n",
       "      <td>5</td>\n",
       "      <td>954.0</td>\n",
       "      <td>935</td>\n",
       "      <td>NaN</td>\n",
       "      <td>1252</td>\n",
       "      <td>XE</td>\n",
       "      <td>2573</td>\n",
       "      <td>...</td>\n",
       "      <td>NaN</td>\n",
       "      <td>NaN</td>\n",
       "      <td>1</td>\n",
       "      <td>B</td>\n",
       "      <td>0</td>\n",
       "      <td>NaN</td>\n",
       "      <td>NaN</td>\n",
       "      <td>NaN</td>\n",
       "      <td>NaN</td>\n",
       "      <td>NaN</td>\n",
       "    </tr>\n",
       "    <tr>\n",
       "      <td>16382</td>\n",
       "      <td>2008</td>\n",
       "      <td>12</td>\n",
       "      <td>6</td>\n",
       "      <td>6</td>\n",
       "      <td>1806.0</td>\n",
       "      <td>1728</td>\n",
       "      <td>NaN</td>\n",
       "      <td>1827</td>\n",
       "      <td>OO</td>\n",
       "      <td>5790</td>\n",
       "      <td>...</td>\n",
       "      <td>NaN</td>\n",
       "      <td>11.0</td>\n",
       "      <td>1</td>\n",
       "      <td>B</td>\n",
       "      <td>0</td>\n",
       "      <td>NaN</td>\n",
       "      <td>NaN</td>\n",
       "      <td>NaN</td>\n",
       "      <td>NaN</td>\n",
       "      <td>NaN</td>\n",
       "    </tr>\n",
       "    <tr>\n",
       "      <td>20622</td>\n",
       "      <td>2008</td>\n",
       "      <td>10</td>\n",
       "      <td>7</td>\n",
       "      <td>2</td>\n",
       "      <td>844.0</td>\n",
       "      <td>845</td>\n",
       "      <td>NaN</td>\n",
       "      <td>1039</td>\n",
       "      <td>YV</td>\n",
       "      <td>7302</td>\n",
       "      <td>...</td>\n",
       "      <td>NaN</td>\n",
       "      <td>NaN</td>\n",
       "      <td>1</td>\n",
       "      <td>A</td>\n",
       "      <td>0</td>\n",
       "      <td>NaN</td>\n",
       "      <td>NaN</td>\n",
       "      <td>NaN</td>\n",
       "      <td>NaN</td>\n",
       "      <td>NaN</td>\n",
       "    </tr>\n",
       "    <tr>\n",
       "      <td>22462</td>\n",
       "      <td>2008</td>\n",
       "      <td>12</td>\n",
       "      <td>17</td>\n",
       "      <td>3</td>\n",
       "      <td>2132.0</td>\n",
       "      <td>2134</td>\n",
       "      <td>NaN</td>\n",
       "      <td>2232</td>\n",
       "      <td>YV</td>\n",
       "      <td>2859</td>\n",
       "      <td>...</td>\n",
       "      <td>NaN</td>\n",
       "      <td>28.0</td>\n",
       "      <td>1</td>\n",
       "      <td>B</td>\n",
       "      <td>0</td>\n",
       "      <td>NaN</td>\n",
       "      <td>NaN</td>\n",
       "      <td>NaN</td>\n",
       "      <td>NaN</td>\n",
       "      <td>NaN</td>\n",
       "    </tr>\n",
       "    <tr>\n",
       "      <td>30057</td>\n",
       "      <td>2008</td>\n",
       "      <td>12</td>\n",
       "      <td>9</td>\n",
       "      <td>2</td>\n",
       "      <td>1358.0</td>\n",
       "      <td>1330</td>\n",
       "      <td>NaN</td>\n",
       "      <td>1700</td>\n",
       "      <td>OO</td>\n",
       "      <td>2874</td>\n",
       "      <td>...</td>\n",
       "      <td>NaN</td>\n",
       "      <td>NaN</td>\n",
       "      <td>1</td>\n",
       "      <td>B</td>\n",
       "      <td>0</td>\n",
       "      <td>NaN</td>\n",
       "      <td>NaN</td>\n",
       "      <td>NaN</td>\n",
       "      <td>NaN</td>\n",
       "      <td>NaN</td>\n",
       "    </tr>\n",
       "    <tr>\n",
       "      <td>33611</td>\n",
       "      <td>2008</td>\n",
       "      <td>10</td>\n",
       "      <td>11</td>\n",
       "      <td>6</td>\n",
       "      <td>826.0</td>\n",
       "      <td>830</td>\n",
       "      <td>NaN</td>\n",
       "      <td>1015</td>\n",
       "      <td>OO</td>\n",
       "      <td>3721</td>\n",
       "      <td>...</td>\n",
       "      <td>NaN</td>\n",
       "      <td>NaN</td>\n",
       "      <td>1</td>\n",
       "      <td>A</td>\n",
       "      <td>0</td>\n",
       "      <td>NaN</td>\n",
       "      <td>NaN</td>\n",
       "      <td>NaN</td>\n",
       "      <td>NaN</td>\n",
       "      <td>NaN</td>\n",
       "    </tr>\n",
       "    <tr>\n",
       "      <td>37581</td>\n",
       "      <td>2008</td>\n",
       "      <td>12</td>\n",
       "      <td>3</td>\n",
       "      <td>3</td>\n",
       "      <td>2234.0</td>\n",
       "      <td>2235</td>\n",
       "      <td>NaN</td>\n",
       "      <td>2318</td>\n",
       "      <td>OO</td>\n",
       "      <td>5426</td>\n",
       "      <td>...</td>\n",
       "      <td>NaN</td>\n",
       "      <td>16.0</td>\n",
       "      <td>1</td>\n",
       "      <td>B</td>\n",
       "      <td>0</td>\n",
       "      <td>NaN</td>\n",
       "      <td>NaN</td>\n",
       "      <td>NaN</td>\n",
       "      <td>NaN</td>\n",
       "      <td>NaN</td>\n",
       "    </tr>\n",
       "    <tr>\n",
       "      <td>40343</td>\n",
       "      <td>2008</td>\n",
       "      <td>11</td>\n",
       "      <td>10</td>\n",
       "      <td>1</td>\n",
       "      <td>1440.0</td>\n",
       "      <td>1445</td>\n",
       "      <td>NaN</td>\n",
       "      <td>1731</td>\n",
       "      <td>EV</td>\n",
       "      <td>5309</td>\n",
       "      <td>...</td>\n",
       "      <td>NaN</td>\n",
       "      <td>NaN</td>\n",
       "      <td>1</td>\n",
       "      <td>A</td>\n",
       "      <td>0</td>\n",
       "      <td>NaN</td>\n",
       "      <td>NaN</td>\n",
       "      <td>NaN</td>\n",
       "      <td>NaN</td>\n",
       "      <td>NaN</td>\n",
       "    </tr>\n",
       "    <tr>\n",
       "      <td>50401</td>\n",
       "      <td>2008</td>\n",
       "      <td>11</td>\n",
       "      <td>29</td>\n",
       "      <td>6</td>\n",
       "      <td>2232.0</td>\n",
       "      <td>2234</td>\n",
       "      <td>NaN</td>\n",
       "      <td>11</td>\n",
       "      <td>OO</td>\n",
       "      <td>6412</td>\n",
       "      <td>...</td>\n",
       "      <td>NaN</td>\n",
       "      <td>21.0</td>\n",
       "      <td>1</td>\n",
       "      <td>B</td>\n",
       "      <td>0</td>\n",
       "      <td>NaN</td>\n",
       "      <td>NaN</td>\n",
       "      <td>NaN</td>\n",
       "      <td>NaN</td>\n",
       "      <td>NaN</td>\n",
       "    </tr>\n",
       "    <tr>\n",
       "      <td>50810</td>\n",
       "      <td>2008</td>\n",
       "      <td>11</td>\n",
       "      <td>19</td>\n",
       "      <td>3</td>\n",
       "      <td>1559.0</td>\n",
       "      <td>1606</td>\n",
       "      <td>NaN</td>\n",
       "      <td>1651</td>\n",
       "      <td>OO</td>\n",
       "      <td>5750</td>\n",
       "      <td>...</td>\n",
       "      <td>NaN</td>\n",
       "      <td>10.0</td>\n",
       "      <td>1</td>\n",
       "      <td>B</td>\n",
       "      <td>0</td>\n",
       "      <td>NaN</td>\n",
       "      <td>NaN</td>\n",
       "      <td>NaN</td>\n",
       "      <td>NaN</td>\n",
       "      <td>NaN</td>\n",
       "    </tr>\n",
       "    <tr>\n",
       "      <td>67078</td>\n",
       "      <td>2008</td>\n",
       "      <td>12</td>\n",
       "      <td>5</td>\n",
       "      <td>5</td>\n",
       "      <td>1517.0</td>\n",
       "      <td>1510</td>\n",
       "      <td>NaN</td>\n",
       "      <td>1615</td>\n",
       "      <td>XE</td>\n",
       "      <td>2173</td>\n",
       "      <td>...</td>\n",
       "      <td>NaN</td>\n",
       "      <td>NaN</td>\n",
       "      <td>1</td>\n",
       "      <td>A</td>\n",
       "      <td>0</td>\n",
       "      <td>NaN</td>\n",
       "      <td>NaN</td>\n",
       "      <td>NaN</td>\n",
       "      <td>NaN</td>\n",
       "      <td>NaN</td>\n",
       "    </tr>\n",
       "  </tbody>\n",
       "</table>\n",
       "<p>12 rows × 29 columns</p>\n",
       "</div>"
      ],
      "text/plain": [
       "       Year  Month  DayofMonth  DayOfWeek  DepTime  CRSDepTime  ArrTime  \\\n",
       "5976   2008     11          29          6   1325.0        1301      NaN   \n",
       "15680  2008     12          19          5    954.0         935      NaN   \n",
       "16382  2008     12           6          6   1806.0        1728      NaN   \n",
       "20622  2008     10           7          2    844.0         845      NaN   \n",
       "22462  2008     12          17          3   2132.0        2134      NaN   \n",
       "30057  2008     12           9          2   1358.0        1330      NaN   \n",
       "33611  2008     10          11          6    826.0         830      NaN   \n",
       "37581  2008     12           3          3   2234.0        2235      NaN   \n",
       "40343  2008     11          10          1   1440.0        1445      NaN   \n",
       "50401  2008     11          29          6   2232.0        2234      NaN   \n",
       "50810  2008     11          19          3   1559.0        1606      NaN   \n",
       "67078  2008     12           5          5   1517.0        1510      NaN   \n",
       "\n",
       "       CRSArrTime UniqueCarrier  FlightNum  ... TaxiIn  TaxiOut  Cancelled  \\\n",
       "5976         1354            EV       5401  ...    NaN      NaN          1   \n",
       "15680        1252            XE       2573  ...    NaN      NaN          1   \n",
       "16382        1827            OO       5790  ...    NaN     11.0          1   \n",
       "20622        1039            YV       7302  ...    NaN      NaN          1   \n",
       "22462        2232            YV       2859  ...    NaN     28.0          1   \n",
       "30057        1700            OO       2874  ...    NaN      NaN          1   \n",
       "33611        1015            OO       3721  ...    NaN      NaN          1   \n",
       "37581        2318            OO       5426  ...    NaN     16.0          1   \n",
       "40343        1731            EV       5309  ...    NaN      NaN          1   \n",
       "50401          11            OO       6412  ...    NaN     21.0          1   \n",
       "50810        1651            OO       5750  ...    NaN     10.0          1   \n",
       "67078        1615            XE       2173  ...    NaN      NaN          1   \n",
       "\n",
       "       CancellationCode  Diverted  CarrierDelay WeatherDelay NASDelay  \\\n",
       "5976                  A         0           NaN          NaN      NaN   \n",
       "15680                 B         0           NaN          NaN      NaN   \n",
       "16382                 B         0           NaN          NaN      NaN   \n",
       "20622                 A         0           NaN          NaN      NaN   \n",
       "22462                 B         0           NaN          NaN      NaN   \n",
       "30057                 B         0           NaN          NaN      NaN   \n",
       "33611                 A         0           NaN          NaN      NaN   \n",
       "37581                 B         0           NaN          NaN      NaN   \n",
       "40343                 A         0           NaN          NaN      NaN   \n",
       "50401                 B         0           NaN          NaN      NaN   \n",
       "50810                 B         0           NaN          NaN      NaN   \n",
       "67078                 A         0           NaN          NaN      NaN   \n",
       "\n",
       "       SecurityDelay  LateAircraftDelay  \n",
       "5976             NaN                NaN  \n",
       "15680            NaN                NaN  \n",
       "16382            NaN                NaN  \n",
       "20622            NaN                NaN  \n",
       "22462            NaN                NaN  \n",
       "30057            NaN                NaN  \n",
       "33611            NaN                NaN  \n",
       "37581            NaN                NaN  \n",
       "40343            NaN                NaN  \n",
       "50401            NaN                NaN  \n",
       "50810            NaN                NaN  \n",
       "67078            NaN                NaN  \n",
       "\n",
       "[12 rows x 29 columns]"
      ]
     },
     "execution_count": 18,
     "metadata": {},
     "output_type": "execute_result"
    }
   ],
   "source": [
    "data[(data['DepDelay'].isnull()==False) & (data['Cancelled']==1)]"
   ]
  },
  {
   "cell_type": "markdown",
   "metadata": {},
   "source": [
    "\n",
    "\n",
    "Для 12 объектов не выполнено обратное, то есть они были отменены, но вылетели из аэропорта, при этом они не прилетели, так как ArrDelay = NaN, но они и не \n",
    "были перенаправлены в другой аэропорт, а ActualElapsedTime - время от поднятия шасси до реального приземления неизвестно. Значит, их сбили (как только они подняли шасси).\n",
    "Но даже если это ошибки в данных, то признак Cancelled можно удалить, так как он будет иметь 12 единиц с учетом удаления оъектов без ответа, это не будет информативным\n",
    "\n",
    "  __Вывод:__ удаляем __Cancelled = 1__"
   ]
  },
  {
   "cell_type": "code",
   "execution_count": 19,
   "metadata": {},
   "outputs": [],
   "source": [
    "data.drop(['Cancelled','CancellationCode'], axis=1, inplace=True)"
   ]
  },
  {
   "cell_type": "code",
   "execution_count": 20,
   "metadata": {},
   "outputs": [],
   "source": [
    "data_1 = data[(data['DepDelay'].isnull()==False) & (data['DepDelay']!=0)]"
   ]
  },
  {
   "cell_type": "code",
   "execution_count": 21,
   "metadata": {},
   "outputs": [
    {
     "data": {
      "text/plain": [
       "(63404, 27)"
      ]
     },
     "execution_count": 21,
     "metadata": {},
     "output_type": "execute_result"
    }
   ],
   "source": [
    "data_1.shape"
   ]
  },
  {
   "cell_type": "code",
   "execution_count": 22,
   "metadata": {},
   "outputs": [],
   "source": [
    "data_x = data_1[data_1.columns.difference(['DepDelay'])]"
   ]
  },
  {
   "cell_type": "code",
   "execution_count": 23,
   "metadata": {},
   "outputs": [
    {
     "data": {
      "text/plain": [
       "(63404, 26)"
      ]
     },
     "execution_count": 23,
     "metadata": {},
     "output_type": "execute_result"
    }
   ],
   "source": [
    "data_x.shape"
   ]
  },
  {
   "cell_type": "code",
   "execution_count": 24,
   "metadata": {},
   "outputs": [],
   "source": [
    "#Выделим отдельно целевую переменную:"
   ]
  },
  {
   "cell_type": "code",
   "execution_count": 25,
   "metadata": {},
   "outputs": [],
   "source": [
    "data_y  = data_1['DepDelay']"
   ]
  },
  {
   "cell_type": "code",
   "execution_count": 26,
   "metadata": {},
   "outputs": [
    {
     "data": {
      "text/plain": [
       "(63404,)"
      ]
     },
     "execution_count": 26,
     "metadata": {},
     "output_type": "execute_result"
    }
   ],
   "source": [
    "data_y.shape"
   ]
  },
  {
   "cell_type": "markdown",
   "metadata": {},
   "source": [
    "**13. (0.5 балла)** Обратите внимание, что признаки DepTime, CRSDepTime, ArrTime, CRSArrTime приведены в формате hhmm, в связи с чем будет не вполне корректно рассматривать их как вещественные.\n",
    "\n",
    "Преобразуйте каждый признак FeatureName из указанных в пару новых признаков FeatureName\\_Hour, FeatureName\\_Minute, разделив каждое из значений на часы и минуты. Не забудьте при этом исключить исходный признак из выборки. В случае, если значение признака отсутствует, значения двух новых признаков, его заменяющих, также должны отсутствовать. \n",
    "\n",
    "Например, признак DepTime необходимо заменить на пару признаков DepTime_Hour, DepTime_Minute. При этом, например, значение 155 исходного признака будет преобразовано в значения 1 и 55 признаков DepTime_Hour, DepTime_Minute соответственно."
   ]
  },
  {
   "cell_type": "code",
   "execution_count": 27,
   "metadata": {},
   "outputs": [],
   "source": [
    "for col in ['DepTime', 'CRSDepTime', 'ArrTime', 'CRSArrTime']:\n",
    "    data_x[col+'_Hour'] = data_x[col]//100\n",
    "    data_x[col+'_Minute'] = data_x[col]%100\n",
    "    data_x.drop([col], axis=1, inplace=True)"
   ]
  },
  {
   "cell_type": "code",
   "execution_count": 28,
   "metadata": {},
   "outputs": [
    {
     "data": {
      "text/html": [
       "<div>\n",
       "<style scoped>\n",
       "    .dataframe tbody tr th:only-of-type {\n",
       "        vertical-align: middle;\n",
       "    }\n",
       "\n",
       "    .dataframe tbody tr th {\n",
       "        vertical-align: top;\n",
       "    }\n",
       "\n",
       "    .dataframe thead th {\n",
       "        text-align: right;\n",
       "    }\n",
       "</style>\n",
       "<table border=\"1\" class=\"dataframe\">\n",
       "  <thead>\n",
       "    <tr style=\"text-align: right;\">\n",
       "      <th></th>\n",
       "      <th>ActualElapsedTime</th>\n",
       "      <th>AirTime</th>\n",
       "      <th>ArrDelay</th>\n",
       "      <th>CRSElapsedTime</th>\n",
       "      <th>CarrierDelay</th>\n",
       "      <th>DayOfWeek</th>\n",
       "      <th>DayofMonth</th>\n",
       "      <th>Dest</th>\n",
       "      <th>Distance</th>\n",
       "      <th>Diverted</th>\n",
       "      <th>...</th>\n",
       "      <th>WeatherDelay</th>\n",
       "      <th>Year</th>\n",
       "      <th>DepTime_Hour</th>\n",
       "      <th>DepTime_Minute</th>\n",
       "      <th>CRSDepTime_Hour</th>\n",
       "      <th>CRSDepTime_Minute</th>\n",
       "      <th>ArrTime_Hour</th>\n",
       "      <th>ArrTime_Minute</th>\n",
       "      <th>CRSArrTime_Hour</th>\n",
       "      <th>CRSArrTime_Minute</th>\n",
       "    </tr>\n",
       "  </thead>\n",
       "  <tbody>\n",
       "    <tr>\n",
       "      <td>0</td>\n",
       "      <td>57.0</td>\n",
       "      <td>46.0</td>\n",
       "      <td>8.0</td>\n",
       "      <td>65.0</td>\n",
       "      <td>NaN</td>\n",
       "      <td>3</td>\n",
       "      <td>18</td>\n",
       "      <td>CLE</td>\n",
       "      <td>307</td>\n",
       "      <td>0</td>\n",
       "      <td>...</td>\n",
       "      <td>NaN</td>\n",
       "      <td>2008</td>\n",
       "      <td>21.0</td>\n",
       "      <td>11.0</td>\n",
       "      <td>20</td>\n",
       "      <td>55</td>\n",
       "      <td>23.0</td>\n",
       "      <td>8.0</td>\n",
       "      <td>23</td>\n",
       "      <td>0</td>\n",
       "    </tr>\n",
       "    <tr>\n",
       "      <td>1</td>\n",
       "      <td>124.0</td>\n",
       "      <td>108.0</td>\n",
       "      <td>2.0</td>\n",
       "      <td>138.0</td>\n",
       "      <td>NaN</td>\n",
       "      <td>3</td>\n",
       "      <td>4</td>\n",
       "      <td>AVL</td>\n",
       "      <td>834</td>\n",
       "      <td>0</td>\n",
       "      <td>...</td>\n",
       "      <td>NaN</td>\n",
       "      <td>2008</td>\n",
       "      <td>14.0</td>\n",
       "      <td>26.0</td>\n",
       "      <td>14</td>\n",
       "      <td>10</td>\n",
       "      <td>17.0</td>\n",
       "      <td>30.0</td>\n",
       "      <td>17</td>\n",
       "      <td>28</td>\n",
       "    </tr>\n",
       "    <tr>\n",
       "      <td>2</td>\n",
       "      <td>138.0</td>\n",
       "      <td>125.0</td>\n",
       "      <td>-19.0</td>\n",
       "      <td>155.0</td>\n",
       "      <td>NaN</td>\n",
       "      <td>7</td>\n",
       "      <td>3</td>\n",
       "      <td>TPA</td>\n",
       "      <td>997</td>\n",
       "      <td>0</td>\n",
       "      <td>...</td>\n",
       "      <td>NaN</td>\n",
       "      <td>2008</td>\n",
       "      <td>11.0</td>\n",
       "      <td>43.0</td>\n",
       "      <td>11</td>\n",
       "      <td>45</td>\n",
       "      <td>15.0</td>\n",
       "      <td>1.0</td>\n",
       "      <td>15</td>\n",
       "      <td>20</td>\n",
       "    </tr>\n",
       "    <tr>\n",
       "      <td>3</td>\n",
       "      <td>102.0</td>\n",
       "      <td>79.0</td>\n",
       "      <td>-12.0</td>\n",
       "      <td>111.0</td>\n",
       "      <td>NaN</td>\n",
       "      <td>3</td>\n",
       "      <td>23</td>\n",
       "      <td>FCA</td>\n",
       "      <td>532</td>\n",
       "      <td>0</td>\n",
       "      <td>...</td>\n",
       "      <td>NaN</td>\n",
       "      <td>2008</td>\n",
       "      <td>11.0</td>\n",
       "      <td>41.0</td>\n",
       "      <td>11</td>\n",
       "      <td>44</td>\n",
       "      <td>13.0</td>\n",
       "      <td>23.0</td>\n",
       "      <td>13</td>\n",
       "      <td>35</td>\n",
       "    </tr>\n",
       "    <tr>\n",
       "      <td>4</td>\n",
       "      <td>148.0</td>\n",
       "      <td>136.0</td>\n",
       "      <td>-17.0</td>\n",
       "      <td>160.0</td>\n",
       "      <td>NaN</td>\n",
       "      <td>7</td>\n",
       "      <td>4</td>\n",
       "      <td>AUS</td>\n",
       "      <td>1090</td>\n",
       "      <td>0</td>\n",
       "      <td>...</td>\n",
       "      <td>NaN</td>\n",
       "      <td>2008</td>\n",
       "      <td>8.0</td>\n",
       "      <td>15.0</td>\n",
       "      <td>8</td>\n",
       "      <td>20</td>\n",
       "      <td>12.0</td>\n",
       "      <td>43.0</td>\n",
       "      <td>13</td>\n",
       "      <td>0</td>\n",
       "    </tr>\n",
       "  </tbody>\n",
       "</table>\n",
       "<p>5 rows × 30 columns</p>\n",
       "</div>"
      ],
      "text/plain": [
       "   ActualElapsedTime  AirTime  ArrDelay  CRSElapsedTime  CarrierDelay  \\\n",
       "0               57.0     46.0       8.0            65.0           NaN   \n",
       "1              124.0    108.0       2.0           138.0           NaN   \n",
       "2              138.0    125.0     -19.0           155.0           NaN   \n",
       "3              102.0     79.0     -12.0           111.0           NaN   \n",
       "4              148.0    136.0     -17.0           160.0           NaN   \n",
       "\n",
       "   DayOfWeek  DayofMonth Dest  Distance  Diverted  ...  WeatherDelay  Year  \\\n",
       "0          3          18  CLE       307         0  ...           NaN  2008   \n",
       "1          3           4  AVL       834         0  ...           NaN  2008   \n",
       "2          7           3  TPA       997         0  ...           NaN  2008   \n",
       "3          3          23  FCA       532         0  ...           NaN  2008   \n",
       "4          7           4  AUS      1090         0  ...           NaN  2008   \n",
       "\n",
       "   DepTime_Hour  DepTime_Minute CRSDepTime_Hour  CRSDepTime_Minute  \\\n",
       "0          21.0            11.0              20                 55   \n",
       "1          14.0            26.0              14                 10   \n",
       "2          11.0            43.0              11                 45   \n",
       "3          11.0            41.0              11                 44   \n",
       "4           8.0            15.0               8                 20   \n",
       "\n",
       "  ArrTime_Hour  ArrTime_Minute  CRSArrTime_Hour CRSArrTime_Minute  \n",
       "0         23.0             8.0               23                 0  \n",
       "1         17.0            30.0               17                28  \n",
       "2         15.0             1.0               15                20  \n",
       "3         13.0            23.0               13                35  \n",
       "4         12.0            43.0               13                 0  \n",
       "\n",
       "[5 rows x 30 columns]"
      ]
     },
     "execution_count": 28,
     "metadata": {},
     "output_type": "execute_result"
    }
   ],
   "source": [
    "data_x.head()"
   ]
  },
  {
   "cell_type": "markdown",
   "metadata": {},
   "source": [
    "**14. (0.5 балла)** Некоторые из признаков, отличных от целевой переменной, могут оказывать чересчур значимое влияние на прогноз, поскольку по своему смыслу содержат большую долю информации о значении целевой переменной. Изучите описание датасета и исключите признаки, сильно коррелирующие с ответами. Ваш выбор признаков для исключения из выборки обоснуйте. Кроме того, исключите признаки TailNum и Year."
   ]
  },
  {
   "cell_type": "code",
   "execution_count": 29,
   "metadata": {},
   "outputs": [],
   "source": [
    "#Посмотрим, какие признаки сильно коррелируют с целевой переменной"
   ]
  },
  {
   "cell_type": "code",
   "execution_count": 30,
   "metadata": {},
   "outputs": [
    {
     "name": "stdout",
     "output_type": "stream",
     "text": [
      "Populating the interactive namespace from numpy and matplotlib\n"
     ]
    },
    {
     "data": {
      "text/plain": [
       "<matplotlib.axes._subplots.AxesSubplot at 0x16359f6e748>"
      ]
     },
     "execution_count": 30,
     "metadata": {},
     "output_type": "execute_result"
    },
    {
     "data": {
      "image/png": "[encoded data removed]",
      "text/plain": [
       "<Figure size 1080x1080 with 2 Axes>"
      ]
     },
     "metadata": {
      "needs_background": "light"
     },
     "output_type": "display_data"
    }
   ],
   "source": [
    "%pylab inline\n",
    "import seaborn as sns\n",
    "corr = data_1.corr(method='pearson')\n",
    "fig, ax = plt.subplots(figsize=(15,15))\n",
    "sns.heatmap(corr, annot=True, fmt=\".2f\", square=True, linewidths=.5,  ax=ax)"
   ]
  },
  {
   "cell_type": "code",
   "execution_count": null,
   "metadata": {},
   "outputs": [],
   "source": [
    "#Наиболее кореллирующими признаками являются"
   ]
  },
  {
   "cell_type": "code",
   "execution_count": 31,
   "metadata": {},
   "outputs": [
    {
     "data": {
      "text/plain": [
       "ArrDelay             0.933526\n",
       "DepDelay             1.000000\n",
       "CarrierDelay         0.532696\n",
       "LateAircraftDelay    0.553806\n",
       "Name: DepDelay, dtype: float64"
      ]
     },
     "execution_count": 31,
     "metadata": {},
     "output_type": "execute_result"
    }
   ],
   "source": [
    "corr_DepDelay = corr.loc['DepDelay',:]\n",
    "corr_DepDelay[corr_DepDelay > 0.4]"
   ]
  },
  {
   "cell_type": "markdown",
   "metadata": {},
   "source": [
    "Посмотрим на таймлайн переменных\n",
    "\n",
    "<img src=\"timeline.png\" width=\"800\" height=\"800\">\n",
    "\n",
    "[Источник](http://www.galitshmueli.com/sites/galitshmueli.com/files/FlightDelays.pdf)"
   ]
  },
  {
   "cell_type": "code",
   "execution_count": 32,
   "metadata": {},
   "outputs": [
    {
     "data": {
      "text/html": [
       "<div>\n",
       "<style scoped>\n",
       "    .dataframe tbody tr th:only-of-type {\n",
       "        vertical-align: middle;\n",
       "    }\n",
       "\n",
       "    .dataframe tbody tr th {\n",
       "        vertical-align: top;\n",
       "    }\n",
       "\n",
       "    .dataframe thead th {\n",
       "        text-align: right;\n",
       "    }\n",
       "</style>\n",
       "<table border=\"1\" class=\"dataframe\">\n",
       "  <thead>\n",
       "    <tr style=\"text-align: right;\">\n",
       "      <th></th>\n",
       "      <th>DepDelay</th>\n",
       "      <th>TaxiOut</th>\n",
       "      <th>DepTime</th>\n",
       "      <th>CRSDepTime</th>\n",
       "    </tr>\n",
       "  </thead>\n",
       "  <tbody>\n",
       "    <tr>\n",
       "      <td>17</td>\n",
       "      <td>1.0</td>\n",
       "      <td>65.0</td>\n",
       "      <td>1951.0</td>\n",
       "      <td>1950</td>\n",
       "    </tr>\n",
       "    <tr>\n",
       "      <td>25</td>\n",
       "      <td>1.0</td>\n",
       "      <td>10.0</td>\n",
       "      <td>901.0</td>\n",
       "      <td>900</td>\n",
       "    </tr>\n",
       "    <tr>\n",
       "      <td>43</td>\n",
       "      <td>8.0</td>\n",
       "      <td>19.0</td>\n",
       "      <td>648.0</td>\n",
       "      <td>640</td>\n",
       "    </tr>\n",
       "    <tr>\n",
       "      <td>44</td>\n",
       "      <td>5.0</td>\n",
       "      <td>13.0</td>\n",
       "      <td>1735.0</td>\n",
       "      <td>1730</td>\n",
       "    </tr>\n",
       "    <tr>\n",
       "      <td>51</td>\n",
       "      <td>14.0</td>\n",
       "      <td>46.0</td>\n",
       "      <td>1416.0</td>\n",
       "      <td>1402</td>\n",
       "    </tr>\n",
       "  </tbody>\n",
       "</table>\n",
       "</div>"
      ],
      "text/plain": [
       "    DepDelay  TaxiOut  DepTime  CRSDepTime\n",
       "17       1.0     65.0   1951.0        1950\n",
       "25       1.0     10.0    901.0         900\n",
       "43       8.0     19.0    648.0         640\n",
       "44       5.0     13.0   1735.0        1730\n",
       "51      14.0     46.0   1416.0        1402"
      ]
     },
     "execution_count": 32,
     "metadata": {},
     "output_type": "execute_result"
    }
   ],
   "source": [
    "data_1[(data_1['TaxiOut']> data_1['DepDelay']) & (data_1['DepDelay']>0)][['DepDelay', 'TaxiOut', 'DepTime',\n",
    "                                                                          'CRSDepTime']].head()"
   ]
  },
  {
   "cell_type": "markdown",
   "metadata": {},
   "source": [
    "Но по нашим данным TaxiOut не входит DepDelay, получается, что в нашем случае DepDelay = DepTime - CRSDepTime\n",
    "\n",
    "Логично предположить, что в момент предсказания мы находимся до вылета самолета и не знаем ни информацию после взлета, ни информацию о времени реального \n",
    "отправления - только расписание (иначе модель бессмысленна) \n",
    "\n",
    "Очевидно, что все переменные после __Wheels-off time__ мы не можем использовать, так как они не известны в момент нашего предсказания или не влияют на нашу переменную:\n",
    "- ActualElapsedTime - после вылета\n",
    "- CRSElapsedTime - не влияет\n",
    "- AirTime - после вылета\n",
    "- ArrDelay - после вылета\n",
    "- Year - не нужен \n",
    "- ArrTime_Hour - после вылета\n",
    "- ArrTime_Minute - после вылета\n",
    "- TaxiIn - после вылета\n",
    "- TailNum - не нужен \n",
    "- LateAircraftDelay - не можем знать до того, как произошло \n",
    "- WeatherDelay - не можем знать до того, как произошло \n",
    "- CarrierDelay - не можем знать до того, как произошло \n",
    "- Diverted - узнается в процессе полета и не влияет на задержку при вылете\n",
    "- NASDelay - не можем знать до того, как произошло \n",
    "- SecurityDelay - не можем знать до того, как произошло \n",
    "- TaxiOut - по данным происходит после задержки, так что не влияет на DepDelay\n",
    "- DepTime_Hour - не можем знать до того, как произошло \n",
    "- DepTime_Minute - не можем знать до того, как произошло\n",
    "- ArrTime_Hour - не можем знать до того, как произошло\n",
    "- ArrTime_Minute - не можем знать до того, как произошло"
   ]
  },
  {
   "cell_type": "code",
   "execution_count": 110,
   "metadata": {},
   "outputs": [],
   "source": [
    "# Исходя из вышесказанного получаем следующий набор данных"
   ]
  },
  {
   "cell_type": "code",
   "execution_count": 130,
   "metadata": {},
   "outputs": [],
   "source": [
    "X = data_x[['DayOfWeek', 'DayofMonth', 'Dest', 'Distance',  'FlightNum', 'Month', 'Origin','UniqueCarrier',\n",
    "            'CRSDepTime_Hour', 'CRSDepTime_Minute','CRSArrTime_Hour','CRSArrTime_Minute']]"
   ]
  },
  {
   "cell_type": "code",
   "execution_count": 131,
   "metadata": {},
   "outputs": [
    {
     "data": {
      "text/html": [
       "<div>\n",
       "<style scoped>\n",
       "    .dataframe tbody tr th:only-of-type {\n",
       "        vertical-align: middle;\n",
       "    }\n",
       "\n",
       "    .dataframe tbody tr th {\n",
       "        vertical-align: top;\n",
       "    }\n",
       "\n",
       "    .dataframe thead th {\n",
       "        text-align: right;\n",
       "    }\n",
       "</style>\n",
       "<table border=\"1\" class=\"dataframe\">\n",
       "  <thead>\n",
       "    <tr style=\"text-align: right;\">\n",
       "      <th></th>\n",
       "      <th>DayOfWeek</th>\n",
       "      <th>DayofMonth</th>\n",
       "      <th>Dest</th>\n",
       "      <th>Distance</th>\n",
       "      <th>FlightNum</th>\n",
       "      <th>Month</th>\n",
       "      <th>Origin</th>\n",
       "      <th>UniqueCarrier</th>\n",
       "      <th>CRSDepTime_Hour</th>\n",
       "      <th>CRSDepTime_Minute</th>\n",
       "      <th>CRSArrTime_Hour</th>\n",
       "      <th>CRSArrTime_Minute</th>\n",
       "    </tr>\n",
       "  </thead>\n",
       "  <tbody>\n",
       "    <tr>\n",
       "      <td>0</td>\n",
       "      <td>3</td>\n",
       "      <td>18</td>\n",
       "      <td>CLE</td>\n",
       "      <td>307</td>\n",
       "      <td>242</td>\n",
       "      <td>6</td>\n",
       "      <td>MDW</td>\n",
       "      <td>WN</td>\n",
       "      <td>20</td>\n",
       "      <td>55</td>\n",
       "      <td>23</td>\n",
       "      <td>0</td>\n",
       "    </tr>\n",
       "    <tr>\n",
       "      <td>1</td>\n",
       "      <td>3</td>\n",
       "      <td>4</td>\n",
       "      <td>AVL</td>\n",
       "      <td>834</td>\n",
       "      <td>2380</td>\n",
       "      <td>6</td>\n",
       "      <td>IAH</td>\n",
       "      <td>XE</td>\n",
       "      <td>14</td>\n",
       "      <td>10</td>\n",
       "      <td>17</td>\n",
       "      <td>28</td>\n",
       "    </tr>\n",
       "    <tr>\n",
       "      <td>2</td>\n",
       "      <td>7</td>\n",
       "      <td>3</td>\n",
       "      <td>TPA</td>\n",
       "      <td>997</td>\n",
       "      <td>1769</td>\n",
       "      <td>8</td>\n",
       "      <td>MDW</td>\n",
       "      <td>WN</td>\n",
       "      <td>11</td>\n",
       "      <td>45</td>\n",
       "      <td>15</td>\n",
       "      <td>20</td>\n",
       "    </tr>\n",
       "    <tr>\n",
       "      <td>3</td>\n",
       "      <td>3</td>\n",
       "      <td>23</td>\n",
       "      <td>FCA</td>\n",
       "      <td>532</td>\n",
       "      <td>3802</td>\n",
       "      <td>1</td>\n",
       "      <td>SLC</td>\n",
       "      <td>OO</td>\n",
       "      <td>11</td>\n",
       "      <td>44</td>\n",
       "      <td>13</td>\n",
       "      <td>35</td>\n",
       "    </tr>\n",
       "    <tr>\n",
       "      <td>4</td>\n",
       "      <td>7</td>\n",
       "      <td>4</td>\n",
       "      <td>AUS</td>\n",
       "      <td>1090</td>\n",
       "      <td>399</td>\n",
       "      <td>5</td>\n",
       "      <td>LAS</td>\n",
       "      <td>WN</td>\n",
       "      <td>8</td>\n",
       "      <td>20</td>\n",
       "      <td>13</td>\n",
       "      <td>0</td>\n",
       "    </tr>\n",
       "  </tbody>\n",
       "</table>\n",
       "</div>"
      ],
      "text/plain": [
       "   DayOfWeek  DayofMonth Dest  Distance  FlightNum  Month Origin  \\\n",
       "0          3          18  CLE       307        242      6    MDW   \n",
       "1          3           4  AVL       834       2380      6    IAH   \n",
       "2          7           3  TPA       997       1769      8    MDW   \n",
       "3          3          23  FCA       532       3802      1    SLC   \n",
       "4          7           4  AUS      1090        399      5    LAS   \n",
       "\n",
       "  UniqueCarrier  CRSDepTime_Hour  CRSDepTime_Minute  CRSArrTime_Hour  \\\n",
       "0            WN               20                 55               23   \n",
       "1            XE               14                 10               17   \n",
       "2            WN               11                 45               15   \n",
       "3            OO               11                 44               13   \n",
       "4            WN                8                 20               13   \n",
       "\n",
       "   CRSArrTime_Minute  \n",
       "0                  0  \n",
       "1                 28  \n",
       "2                 20  \n",
       "3                 35  \n",
       "4                  0  "
      ]
     },
     "execution_count": 131,
     "metadata": {},
     "output_type": "execute_result"
    }
   ],
   "source": [
    "X.head()"
   ]
  },
  {
   "cell_type": "markdown",
   "metadata": {},
   "source": [
    "**15. (1 балл)** Приведем данные к виду, пригодному для обучения линейных моделей. Для этого вещественные признаки надо отмасштабировать, а категориальные — привести к числовому виду. Также надо устранить пропуски в данных."
   ]
  },
  {
   "cell_type": "markdown",
   "metadata": {},
   "source": [
    "В первую очередь поймем, зачем необходимо применять масштабирование. Следующие ячейки с кодом построят гистограммы для 3 вещественных признаков выборки."
   ]
  },
  {
   "cell_type": "code",
   "execution_count": 132,
   "metadata": {
    "scrolled": true
   },
   "outputs": [
    {
     "data": {
      "text/plain": [
       "<matplotlib.axes._subplots.AxesSubplot at 0x16361fbd8c8>"
      ]
     },
     "execution_count": 132,
     "metadata": {},
     "output_type": "execute_result"
    },
    {
     "data": {
      "image/png": "[encoded data removed]",
      "text/plain": [
       "<Figure size 432x288 with 1 Axes>"
      ]
     },
     "metadata": {
      "needs_background": "light"
     },
     "output_type": "display_data"
    }
   ],
   "source": [
    "data_x['DepTime_Hour'].hist(bins=20)"
   ]
  },
  {
   "cell_type": "code",
   "execution_count": 133,
   "metadata": {},
   "outputs": [
    {
     "data": {
      "text/plain": [
       "<matplotlib.axes._subplots.AxesSubplot at 0x16360758c08>"
      ]
     },
     "execution_count": 133,
     "metadata": {},
     "output_type": "execute_result"
    },
    {
     "data": {
      "image/png": "[encoded data removed]",
      "text/plain": [
       "<Figure size 432x288 with 1 Axes>"
      ]
     },
     "metadata": {
      "needs_background": "light"
     },
     "output_type": "display_data"
    }
   ],
   "source": [
    "data_x['TaxiIn'].hist(bins=20)"
   ]
  },
  {
   "cell_type": "code",
   "execution_count": 134,
   "metadata": {},
   "outputs": [
    {
     "data": {
      "text/plain": [
       "<matplotlib.axes._subplots.AxesSubplot at 0x16361f97308>"
      ]
     },
     "execution_count": 134,
     "metadata": {},
     "output_type": "execute_result"
    },
    {
     "data": {
      "image/png": "[encoded data removed]",
      "text/plain": [
       "<Figure size 432x288 with 1 Axes>"
      ]
     },
     "metadata": {
      "needs_background": "light"
     },
     "output_type": "display_data"
    }
   ],
   "source": [
    "data_x['FlightNum'].hist(bins=20)"
   ]
  },
  {
   "cell_type": "markdown",
   "metadata": {},
   "source": [
    "Какую проблему вы наблюдаете на этих графиках? Как масштабирование поможет её исправить?"
   ]
  },
  {
   "cell_type": "markdown",
   "metadata": {},
   "source": [
    "<font color='navy'> __Проблема__ - разные единицы измерения, следовательно разный разброс переменных, поэтому без масштабирования их нельзя сравнивать. Кроме того, это нужно для градиентного спуска, который мы будем использовать для обучения. Если признаки имеют разный масштаб, то на разных признаках веса будут обновляться с разной скоростью. Масштабирование ускорит сходимость алгоритма. </font>"
   ]
  },
  {
   "cell_type": "markdown",
   "metadata": {},
   "source": [
    "Некоторые из признаков в нашем датасете являются категориальными. Типичным подходом к работе с ними является бинарное, или [one-hot-кодирование](https://en.wikipedia.org/wiki/One-hot).\n",
    "\n",
    "Реализуйте функцию transform_data, которая принимает на вход DataFrame с признаками и выполняет следующие шаги:\n",
    "1. Замена пропущенных значений на нули для вещественных признаков и на строки 'nan' для категориальных.\n",
    "2. Масштабирование вещественных признаков с помощью [StandardScaler](http://scikit-learn.org/stable/modules/generated/sklearn.preprocessing.StandardScaler.html).\n",
    "3. One-hot-кодирование категориальных признаков с помощью [DictVectorizer](http://scikit-learn.org/stable/modules/generated/sklearn.feature_extraction.DictVectorizer.html) или функции [pd.get_dummies](http://pandas.pydata.org/pandas-docs/stable/generated/pandas.get_dummies.html).\n",
    "\n",
    "Метод должен возвращать преобразованный DataFrame, который должна состоять из масштабированных вещественных признаков и закодированных категориальных (исходные признаки должны быть исключены из выборки)."
   ]
  },
  {
   "cell_type": "code",
   "execution_count": 135,
   "metadata": {},
   "outputs": [],
   "source": [
    "from sklearn.preprocessing import StandardScaler\n",
    "import warnings\n",
    "warnings.filterwarnings('ignore')\n",
    "pd.set_option('display.max_columns', 15)"
   ]
  },
  {
   "cell_type": "code",
   "execution_count": 136,
   "metadata": {},
   "outputs": [],
   "source": [
    "def transform_data(data):\n",
    "    ss = StandardScaler()\n",
    "    for col in data.columns:\n",
    "        if data[col].dtype.name == 'object':\n",
    "            data[col].fillna('nan', inplace = True)\n",
    "        else:\n",
    "            data[col].fillna(0, inplace = True)\n",
    "            data[col]= ss.fit_transform(data[col].values.reshape(-1, 1)).flatten('F')\n",
    "    data = pd.get_dummies(data)\n",
    "    return data "
   ]
  },
  {
   "cell_type": "markdown",
   "metadata": {},
   "source": [
    "Примените функцию transform_data к данным. Сколько признаков получилось после преобразования?"
   ]
  },
  {
   "cell_type": "code",
   "execution_count": 137,
   "metadata": {},
   "outputs": [
    {
     "name": "stdout",
     "output_type": "stream",
     "text": [
      "623 признака после преобразования\n"
     ]
    }
   ],
   "source": [
    "X_trasf = transform_data(X)\n",
    "print(X_trasf.shape[1], \"признака после преобразования\")"
   ]
  },
  {
   "cell_type": "code",
   "execution_count": 138,
   "metadata": {},
   "outputs": [
    {
     "data": {
      "text/html": [
       "<div>\n",
       "<style scoped>\n",
       "    .dataframe tbody tr th:only-of-type {\n",
       "        vertical-align: middle;\n",
       "    }\n",
       "\n",
       "    .dataframe tbody tr th {\n",
       "        vertical-align: top;\n",
       "    }\n",
       "\n",
       "    .dataframe thead th {\n",
       "        text-align: right;\n",
       "    }\n",
       "</style>\n",
       "<table border=\"1\" class=\"dataframe\">\n",
       "  <thead>\n",
       "    <tr style=\"text-align: right;\">\n",
       "      <th></th>\n",
       "      <th>DayOfWeek</th>\n",
       "      <th>DayofMonth</th>\n",
       "      <th>Distance</th>\n",
       "      <th>FlightNum</th>\n",
       "      <th>Month</th>\n",
       "      <th>CRSDepTime_Hour</th>\n",
       "      <th>CRSDepTime_Minute</th>\n",
       "      <th>...</th>\n",
       "      <th>UniqueCarrier_OH</th>\n",
       "      <th>UniqueCarrier_OO</th>\n",
       "      <th>UniqueCarrier_UA</th>\n",
       "      <th>UniqueCarrier_US</th>\n",
       "      <th>UniqueCarrier_WN</th>\n",
       "      <th>UniqueCarrier_XE</th>\n",
       "      <th>UniqueCarrier_YV</th>\n",
       "    </tr>\n",
       "  </thead>\n",
       "  <tbody>\n",
       "    <tr>\n",
       "      <td>0</td>\n",
       "      <td>-0.462767</td>\n",
       "      <td>0.256485</td>\n",
       "      <td>-0.744130</td>\n",
       "      <td>-0.991600</td>\n",
       "      <td>-0.118281</td>\n",
       "      <td>1.512432</td>\n",
       "      <td>1.586498</td>\n",
       "      <td>...</td>\n",
       "      <td>0</td>\n",
       "      <td>0</td>\n",
       "      <td>0</td>\n",
       "      <td>0</td>\n",
       "      <td>1</td>\n",
       "      <td>0</td>\n",
       "      <td>0</td>\n",
       "    </tr>\n",
       "    <tr>\n",
       "      <td>1</td>\n",
       "      <td>-0.462767</td>\n",
       "      <td>-1.332050</td>\n",
       "      <td>0.183961</td>\n",
       "      <td>0.106546</td>\n",
       "      <td>-0.118281</td>\n",
       "      <td>0.214011</td>\n",
       "      <td>-0.936014</td>\n",
       "      <td>...</td>\n",
       "      <td>0</td>\n",
       "      <td>0</td>\n",
       "      <td>0</td>\n",
       "      <td>0</td>\n",
       "      <td>0</td>\n",
       "      <td>1</td>\n",
       "      <td>0</td>\n",
       "    </tr>\n",
       "    <tr>\n",
       "      <td>2</td>\n",
       "      <td>1.541454</td>\n",
       "      <td>-1.445517</td>\n",
       "      <td>0.471018</td>\n",
       "      <td>-0.207284</td>\n",
       "      <td>0.467662</td>\n",
       "      <td>-0.435199</td>\n",
       "      <td>1.025940</td>\n",
       "      <td>...</td>\n",
       "      <td>0</td>\n",
       "      <td>0</td>\n",
       "      <td>0</td>\n",
       "      <td>0</td>\n",
       "      <td>1</td>\n",
       "      <td>0</td>\n",
       "      <td>0</td>\n",
       "    </tr>\n",
       "    <tr>\n",
       "      <td>3</td>\n",
       "      <td>-0.462767</td>\n",
       "      <td>0.823819</td>\n",
       "      <td>-0.347886</td>\n",
       "      <td>0.836931</td>\n",
       "      <td>-1.583137</td>\n",
       "      <td>-0.435199</td>\n",
       "      <td>0.969884</td>\n",
       "      <td>...</td>\n",
       "      <td>0</td>\n",
       "      <td>1</td>\n",
       "      <td>0</td>\n",
       "      <td>0</td>\n",
       "      <td>0</td>\n",
       "      <td>0</td>\n",
       "      <td>0</td>\n",
       "    </tr>\n",
       "    <tr>\n",
       "      <td>4</td>\n",
       "      <td>1.541454</td>\n",
       "      <td>-1.332050</td>\n",
       "      <td>0.634799</td>\n",
       "      <td>-0.910960</td>\n",
       "      <td>-0.411252</td>\n",
       "      <td>-1.084410</td>\n",
       "      <td>-0.375456</td>\n",
       "      <td>...</td>\n",
       "      <td>0</td>\n",
       "      <td>0</td>\n",
       "      <td>0</td>\n",
       "      <td>0</td>\n",
       "      <td>1</td>\n",
       "      <td>0</td>\n",
       "      <td>0</td>\n",
       "    </tr>\n",
       "  </tbody>\n",
       "</table>\n",
       "<p>5 rows × 623 columns</p>\n",
       "</div>"
      ],
      "text/plain": [
       "   DayOfWeek  DayofMonth  Distance  FlightNum     Month  CRSDepTime_Hour  \\\n",
       "0  -0.462767    0.256485 -0.744130  -0.991600 -0.118281         1.512432   \n",
       "1  -0.462767   -1.332050  0.183961   0.106546 -0.118281         0.214011   \n",
       "2   1.541454   -1.445517  0.471018  -0.207284  0.467662        -0.435199   \n",
       "3  -0.462767    0.823819 -0.347886   0.836931 -1.583137        -0.435199   \n",
       "4   1.541454   -1.332050  0.634799  -0.910960 -0.411252        -1.084410   \n",
       "\n",
       "   CRSDepTime_Minute  ...  UniqueCarrier_OH  UniqueCarrier_OO  \\\n",
       "0           1.586498  ...                 0                 0   \n",
       "1          -0.936014  ...                 0                 0   \n",
       "2           1.025940  ...                 0                 0   \n",
       "3           0.969884  ...                 0                 1   \n",
       "4          -0.375456  ...                 0                 0   \n",
       "\n",
       "   UniqueCarrier_UA  UniqueCarrier_US  UniqueCarrier_WN  UniqueCarrier_XE  \\\n",
       "0                 0                 0                 1                 0   \n",
       "1                 0                 0                 0                 1   \n",
       "2                 0                 0                 1                 0   \n",
       "3                 0                 0                 0                 0   \n",
       "4                 0                 0                 1                 0   \n",
       "\n",
       "   UniqueCarrier_YV  \n",
       "0                 0  \n",
       "1                 0  \n",
       "2                 0  \n",
       "3                 0  \n",
       "4                 0  \n",
       "\n",
       "[5 rows x 623 columns]"
      ]
     },
     "execution_count": 138,
     "metadata": {},
     "output_type": "execute_result"
    }
   ],
   "source": [
    "X_trasf.head()"
   ]
  },
  {
   "cell_type": "markdown",
   "metadata": {},
   "source": [
    "**16. (0.5 балла)** Разбейте выборку и вектор целевой переменной на обучение и контроль в отношении 70/30 (для этого можно использовать, например, функцию [train_test_split](http://scikit-learn.org/stable/modules/generated/sklearn.cross_validation.train_test_split.html)). "
   ]
  },
  {
   "cell_type": "code",
   "execution_count": 139,
   "metadata": {},
   "outputs": [],
   "source": [
    "from sklearn.model_selection import train_test_split\n",
    "X_train, X_test, y_train, y_test = train_test_split(X_trasf, data_y, test_size=0.3, random_state=42)"
   ]
  },
  {
   "cell_type": "markdown",
   "metadata": {},
   "source": [
    "### Scikit-learn\n",
    "\n",
    "<img src = \"https://pp.vk.me/c4534/u35727827/93547647/x_d31c4463.jpg\">\n",
    "Теперь, когда мы привели данные к пригодному виду, попробуем решить задачу при помощи метода наименьших квадратов. Напомним, что данный метод заключается в оптимизации функционала $MSE$:\n",
    "\n",
    "$$MSE(X, y) = \\frac{1}{l} \\sum_{i=1}^l (<w, x_i> - y_i)^2 \\to \\min_{w},$$\n",
    "\n",
    "где $\\{ (x_i, y_i ) \\}_{i=1}^l$ — обучающая выборка, состоящая из $l$ пар объект-ответ.\n",
    "\n",
    "Заметим, что решение данной задачи уже реализовано в модуле sklearn в виде класса [LinearRegression](http://scikit-learn.org/stable/modules/generated/sklearn.linear_model.LinearRegression.html#sklearn.linear_model.LinearRegression).\n",
    "\n",
    "**17. (0.5 балла)** Обучите линейную регрессию на 1000 объектах из обучающей выборки и выведите значения $MSE$ и $R^2$ на этой подвыборке и контрольной выборке (итого 4 различных числа). Проинтерпретируйте полученный результат — насколько качественные прогнозы строит полученная модель? Какие проблемы наблюдаются в модели?\n",
    "\n",
    "**Подсказка**: изучите значения полученных коэффициентов $w$, сохраненных в атрибуте coef_ объекта LinearRegression."
   ]
  },
  {
   "cell_type": "code",
   "execution_count": 140,
   "metadata": {},
   "outputs": [],
   "source": [
    "from sklearn.linear_model import LinearRegression\n",
    "from sklearn.metrics import mean_squared_error as mse\n",
    "from sklearn.metrics import r2_score"
   ]
  },
  {
   "cell_type": "code",
   "execution_count": 141,
   "metadata": {},
   "outputs": [],
   "source": [
    "X_train_2, y_train_2 = X_train[:1000], y_train[:1000]\n",
    "LinReg = LinearRegression()\n",
    "LinReg.fit(X_train_2, y_train_2)\n",
    "pr_train_LinReg = LinReg.predict(X_train_2)\n",
    "pr_test_LinReg = LinReg.predict(X_test)"
   ]
  },
  {
   "cell_type": "code",
   "execution_count": 142,
   "metadata": {},
   "outputs": [
    {
     "name": "stdout",
     "output_type": "stream",
     "text": [
      "-------Train-------\n",
      "MSE 690.8600 \n",
      "R2    0.3481 \n",
      "-------Test-------\n",
      "MSE 3772405228171833865404416.0000 \n",
      "R2    -2820133628894426169344.0000 \n"
     ]
    }
   ],
   "source": [
    "print('-------Train-------')\n",
    "print('MSE %0.4f \\nR2    %0.4f ' %(mse(y_train_2, pr_train_LinReg), r2_score(y_train_2, pr_train_LinReg)))\n",
    "print('-------Test-------')\n",
    "print('MSE %0.4f \\nR2    %0.4f ' %(mse(y_test, pr_test_LinReg), r2_score(y_test, pr_test_LinReg)))"
   ]
  },
  {
   "cell_type": "code",
   "execution_count": 143,
   "metadata": {},
   "outputs": [
    {
     "data": {
      "text/plain": [
       "array([ 8.70809958e-01,  6.57452540e-01,  6.11508936e-01,  8.33314002e-01,\n",
       "       -5.53564808e-01,  7.71911065e+00, -9.43284712e-01, -1.05591977e+00,\n",
       "        2.55085255e+00, -1.83419941e+12, -1.83419941e+12, -1.83419941e+12,\n",
       "       -1.31941441e+14,  1.08652986e+13,  4.51057517e+13, -1.83419941e+12,\n",
       "        1.43358759e+13, -3.71435478e+13, -2.75516178e+13, -1.83419941e+12,\n",
       "        9.18651210e+12,  5.75290614e+12, -1.83419941e+12, -1.83419941e+12,\n",
       "       -1.83419941e+12,  9.12721080e+12, -1.83419941e+12, -1.83419941e+12,\n",
       "       -1.83419941e+12,  3.97218635e+12,  6.41729197e+12, -1.83419941e+12,\n",
       "       -1.83419941e+12, -1.03658402e+13, -1.83419941e+12, -1.32999743e+11,\n",
       "        1.21202863e+13, -1.83419941e+12,  2.27323613e+12, -1.83419941e+12,\n",
       "        9.87543208e+12, -6.25176277e+12, -1.83419941e+12, -1.83419941e+12,\n",
       "       -1.83419941e+12, -1.83419941e+12, -5.18329322e+12, -1.83419941e+12,\n",
       "        7.37549972e+12, -1.83419941e+12,  1.21760411e+13,  4.54553866e+11,\n",
       "        5.17393609e+11, -1.83419941e+12, -1.83419941e+12, -1.83419941e+12,\n",
       "       -1.83419941e+12, -1.83419941e+12, -1.83419941e+12, -1.83419941e+12,\n",
       "        3.69494637e+12, -1.83419941e+12, -5.29239968e+12, -8.73279307e+12,\n",
       "       -7.94419523e+12, -4.64874743e+12,  5.60223598e+11, -1.83419941e+12,\n",
       "       -1.83419941e+12, -1.83419941e+12, -1.83419941e+12, -1.83419941e+12,\n",
       "       -1.83419941e+12, -1.83419941e+12,  2.57288117e+12,  5.90687952e+12,\n",
       "       -1.83419941e+12, -1.83419941e+12, -1.83419941e+12, -5.94511767e+12,\n",
       "        4.88996015e+12, -1.83419941e+12, -7.14273504e+11, -1.91518920e+12,\n",
       "       -1.83419941e+12, -1.83419941e+12, -4.90538588e+12, -1.83419941e+12,\n",
       "       -1.83419941e+12, -1.83419941e+12, -3.96194599e+12, -5.75550678e+12,\n",
       "        1.82574922e+12, -1.31101612e+10, -1.83419941e+12, -1.83419941e+12,\n",
       "       -1.83419941e+12, -4.62709462e+12, -1.57533738e+12, -1.76092616e+12,\n",
       "       -5.12002732e+12, -1.83419941e+12, -1.83419941e+12,  7.89152034e+12,\n",
       "       -1.83419941e+12, -7.00876308e+12, -1.83419941e+12, -3.37048516e+12,\n",
       "       -1.83419941e+12,  7.95865268e+12, -1.83419941e+12,  3.23016548e+11,\n",
       "       -1.83419941e+12,  1.28587312e+13, -2.47361521e+12, -1.83419941e+12,\n",
       "       -8.36247708e+12, -9.64095140e+12,  4.45757594e+12, -1.83419941e+12,\n",
       "       -1.83419941e+12, -1.09924690e+12, -1.83419941e+12, -1.83419941e+12,\n",
       "        1.98818373e+12, -1.98686322e+12, -1.83419941e+12, -1.83419941e+12,\n",
       "       -1.83419941e+12,  1.88301846e+12,  2.25753905e+12, -1.83419941e+12,\n",
       "       -3.87534553e+12, -1.83419941e+12,  5.62844040e+12, -2.02744426e+12,\n",
       "       -1.83419941e+12, -1.83419941e+12, -1.83419941e+12, -1.83419941e+12,\n",
       "        6.59719235e+12, -1.83419941e+12, -3.37687247e+12, -1.83419941e+12,\n",
       "       -1.83419941e+12, -1.83419941e+12, -1.83419941e+12, -1.83419941e+12,\n",
       "       -1.83419941e+12, -6.82931289e+12, -1.83419941e+12, -1.83419941e+12,\n",
       "       -9.44317539e+11, -2.58692145e+12, -1.66914385e+12,  6.30997776e+11,\n",
       "       -3.51562631e+12, -1.83419941e+12, -1.83419941e+12, -4.51924427e+12,\n",
       "       -1.83419941e+12, -1.83419941e+12,  8.89635377e+11, -1.83419941e+12,\n",
       "       -1.33543589e+12, -1.83419941e+12, -1.83419941e+12, -1.08493139e+12,\n",
       "       -8.49057533e+10, -1.83419941e+12, -1.83419941e+12, -1.83419941e+12,\n",
       "       -1.83419941e+12, -1.83419941e+12, -3.92867548e+11, -1.83419941e+12,\n",
       "       -1.83419941e+12, -1.71160228e+13, -4.70647638e+11, -1.52170418e+12,\n",
       "       -3.04492703e+12, -1.83419941e+12, -1.83419941e+12, -1.83419941e+12,\n",
       "       -1.38825704e+13, -1.83419941e+12, -1.83419941e+12, -1.83419941e+12,\n",
       "        9.85771868e+12, -1.83419941e+12, -1.83419941e+12, -1.55888629e+13,\n",
       "       -4.33132649e+12, -1.83419941e+12, -1.83419941e+12, -1.83419941e+12,\n",
       "       -2.17055897e+11, -1.83419941e+12, -1.83419941e+12, -1.83419941e+12,\n",
       "        5.03735589e+11, -8.33534860e+11, -1.83419941e+12, -3.88333572e+11,\n",
       "        1.16892261e+11, -1.83419941e+12, -1.83419941e+12, -1.83419941e+12,\n",
       "       -1.83419941e+12,  3.55470858e+11, -1.83419941e+12,  4.12100921e+11,\n",
       "       -1.83419941e+12, -1.83419941e+12, -1.83419941e+12, -1.83419941e+12,\n",
       "       -4.35267623e+11, -1.83419941e+12, -1.83419941e+12, -1.83419941e+12,\n",
       "       -1.13623184e+11,  3.36487602e+11,  1.12010242e+11, -1.83419941e+12,\n",
       "       -1.83419941e+12,  2.95526525e+11, -1.83419941e+12, -1.83419941e+12,\n",
       "       -1.83419941e+12,  3.24002799e+11,  1.88381137e+11, -1.83419941e+12,\n",
       "       -8.79620356e+10, -3.55395653e+11,  2.97587262e+11,  3.84973678e+11,\n",
       "        1.11863129e+11, -1.58147938e+11, -1.83419941e+12, -1.83419941e+12,\n",
       "       -7.35895136e+11, -1.83419941e+12, -3.18321080e+11,  9.63260122e+10,\n",
       "       -1.83419941e+12, -6.50733812e+10,  5.02270279e+11, -1.83419941e+12,\n",
       "        5.20162951e+11, -1.83419941e+12, -1.83419941e+12, -1.83419941e+12,\n",
       "        2.68190002e+11, -7.21947093e+11, -1.83419941e+12, -1.83419941e+12,\n",
       "       -1.83419941e+12, -1.83419941e+12, -1.83419941e+12, -1.98170168e+11,\n",
       "       -1.83419941e+12, -2.09755127e+11, -1.68270963e+11, -1.83419941e+12,\n",
       "       -1.83419941e+12, -1.83419941e+12, -1.83419941e+12,  1.14500475e+11,\n",
       "       -4.23559709e+10, -3.54646415e+11, -1.83419941e+12, -3.48386009e+11,\n",
       "       -1.83419941e+12, -1.83419941e+12,  1.42743948e+11, -1.83419941e+12,\n",
       "       -1.79113333e+11, -1.83419941e+12,  2.86135042e+11,  5.57446905e+10,\n",
       "       -1.83419941e+12, -1.83419941e+12, -1.83419941e+12,  3.78046273e+10,\n",
       "        9.56713506e+10, -1.11222726e+11, -1.51889099e+11, -1.83419941e+12,\n",
       "       -1.83419941e+12,  2.22117836e+11, -1.83419941e+12, -8.27253337e+10,\n",
       "       -1.83419941e+12, -1.83419941e+12, -2.12477714e+10,  4.90471721e+10,\n",
       "        3.71392102e+10,  1.69160489e+11, -1.83419941e+12,  8.90559636e+10,\n",
       "       -1.83419941e+12,  2.49562998e+10, -1.90599378e+10, -1.83419941e+12,\n",
       "        2.23187802e+10,  1.32685676e+10, -3.70114489e+10,  4.41310980e+09,\n",
       "       -6.88747132e+12, -6.88747132e+12, -6.88747132e+12, -1.11232163e+10,\n",
       "        7.18519634e+09, -6.88747132e+12, -3.38339850e+09,  3.79185398e+09,\n",
       "       -1.30709240e+10,  5.64461189e+08, -1.24239758e+10,  1.64797264e+08,\n",
       "       -6.88747132e+12,  3.57627869e-07,  0.00000000e+00, -6.88747132e+12,\n",
       "       -6.88747132e+12, -6.88747132e+12, -6.88747132e+12, -6.88747132e+12,\n",
       "        3.55271368e-14,  2.60381994e-15, -7.10542736e-15, -6.88747132e+12,\n",
       "       -1.02804050e-15, -6.88747132e+12,  0.00000000e+00,  6.60322491e-15,\n",
       "       -6.88747132e+12,  1.06581410e-14, -4.24345888e-15,  3.55271368e-15,\n",
       "        0.00000000e+00, -6.88747132e+12, -6.88747132e+12, -6.88747132e+12,\n",
       "        1.77032512e-15, -6.88747132e+12, -3.55271368e-15,  3.97042459e-17,\n",
       "       -1.50990331e-14, -3.55271368e-14,  2.67907416e-16, -6.88747132e+12,\n",
       "       -6.88747132e+12, -6.88747132e+12, -6.88747132e+12, -6.88747132e+12,\n",
       "       -6.88747132e+12, -4.26325641e-14,  2.84217094e-14, -4.52383356e-16,\n",
       "       -6.88747132e+12, -3.99680289e-15, -6.88747132e+12,  0.00000000e+00,\n",
       "       -6.88747132e+12, -6.88747132e+12, -6.88747132e+12, -6.88747132e+12,\n",
       "       -6.88747132e+12, -6.88747132e+12,  0.00000000e+00,  0.00000000e+00,\n",
       "        0.00000000e+00, -6.88747132e+12,  0.00000000e+00, -6.88747132e+12,\n",
       "        0.00000000e+00,  0.00000000e+00, -6.88747132e+12,  0.00000000e+00,\n",
       "        0.00000000e+00, -6.88747132e+12, -6.88747132e+12,  0.00000000e+00,\n",
       "       -6.88747132e+12, -6.88747132e+12, -6.88747132e+12, -6.88747132e+12,\n",
       "       -6.88747132e+12,  0.00000000e+00, -6.88747132e+12, -6.88747132e+12,\n",
       "        0.00000000e+00,  0.00000000e+00,  0.00000000e+00, -6.88747132e+12,\n",
       "        0.00000000e+00, -6.88747132e+12,  0.00000000e+00,  0.00000000e+00,\n",
       "       -6.88747132e+12,  0.00000000e+00,  0.00000000e+00,  0.00000000e+00,\n",
       "       -6.88747132e+12, -6.88747132e+12,  0.00000000e+00,  0.00000000e+00,\n",
       "       -6.88747132e+12,  0.00000000e+00, -6.88747132e+12,  0.00000000e+00,\n",
       "        0.00000000e+00, -6.88747132e+12,  0.00000000e+00, -6.88747132e+12,\n",
       "       -6.88747132e+12,  0.00000000e+00, -6.88747132e+12,  0.00000000e+00,\n",
       "        0.00000000e+00, -6.88747132e+12, -6.88747132e+12, -6.88747132e+12,\n",
       "       -6.88747132e+12, -6.88747132e+12,  0.00000000e+00,  0.00000000e+00,\n",
       "        0.00000000e+00,  0.00000000e+00,  0.00000000e+00,  0.00000000e+00,\n",
       "        0.00000000e+00, -6.88747132e+12, -6.88747132e+12, -6.88747132e+12,\n",
       "        0.00000000e+00, -6.88747132e+12,  0.00000000e+00, -6.88747132e+12,\n",
       "       -6.88747132e+12, -6.88747132e+12, -6.88747132e+12,  0.00000000e+00,\n",
       "       -6.88747132e+12,  0.00000000e+00,  0.00000000e+00, -6.88747132e+12,\n",
       "        0.00000000e+00,  0.00000000e+00,  0.00000000e+00,  0.00000000e+00,\n",
       "       -6.88747132e+12, -6.88747132e+12, -6.88747132e+12, -6.88747132e+12,\n",
       "       -6.88747132e+12,  0.00000000e+00,  0.00000000e+00, -6.88747132e+12,\n",
       "        0.00000000e+00, -6.88747132e+12, -6.88747132e+12,  0.00000000e+00,\n",
       "       -6.88747132e+12,  0.00000000e+00, -6.88747132e+12, -6.88747132e+12,\n",
       "        0.00000000e+00, -6.88747132e+12,  0.00000000e+00,  0.00000000e+00,\n",
       "       -6.88747132e+12,  0.00000000e+00,  0.00000000e+00,  0.00000000e+00,\n",
       "        0.00000000e+00, -6.88747132e+12, -6.88747132e+12, -6.88747132e+12,\n",
       "        0.00000000e+00, -6.88747132e+12,  0.00000000e+00, -6.88747132e+12,\n",
       "        0.00000000e+00, -6.88747132e+12,  0.00000000e+00, -6.88747132e+12,\n",
       "        0.00000000e+00, -6.88747132e+12, -6.88747132e+12, -6.88747132e+12,\n",
       "        0.00000000e+00,  0.00000000e+00, -6.88747132e+12,  0.00000000e+00,\n",
       "       -6.88747132e+12,  0.00000000e+00,  0.00000000e+00,  0.00000000e+00,\n",
       "        0.00000000e+00, -6.88747132e+12,  0.00000000e+00, -6.88747132e+12,\n",
       "       -6.88747132e+12,  0.00000000e+00, -6.88747132e+12,  0.00000000e+00,\n",
       "       -6.88747132e+12, -6.88747132e+12, -6.88747132e+12, -6.88747132e+12,\n",
       "        0.00000000e+00, -6.88747132e+12, -6.88747132e+12, -6.88747132e+12,\n",
       "        0.00000000e+00,  0.00000000e+00,  0.00000000e+00, -6.88747132e+12,\n",
       "       -6.88747132e+12,  0.00000000e+00,  0.00000000e+00, -6.88747132e+12,\n",
       "       -6.88747132e+12, -6.88747132e+12,  0.00000000e+00, -6.88747132e+12,\n",
       "        0.00000000e+00,  0.00000000e+00, -6.88747132e+12,  0.00000000e+00,\n",
       "        0.00000000e+00,  0.00000000e+00, -6.88747132e+12, -6.88747132e+12,\n",
       "       -6.88747132e+12, -6.88747132e+12,  0.00000000e+00,  0.00000000e+00,\n",
       "       -6.88747132e+12,  0.00000000e+00,  0.00000000e+00, -6.88747132e+12,\n",
       "        0.00000000e+00, -6.88747132e+12, -6.88747132e+12, -6.88747132e+12,\n",
       "       -6.88747132e+12,  0.00000000e+00, -6.88747132e+12, -6.88747132e+12,\n",
       "       -6.88747132e+12, -6.88747132e+12, -6.88747132e+12, -6.88747132e+12,\n",
       "       -6.88747132e+12,  0.00000000e+00,  0.00000000e+00, -6.88747132e+12,\n",
       "       -6.88747132e+12, -6.88747132e+12, -6.88747132e+12,  0.00000000e+00,\n",
       "       -6.88747132e+12,  0.00000000e+00, -6.88747132e+12,  0.00000000e+00,\n",
       "       -6.88747132e+12, -6.88747132e+12,  0.00000000e+00, -6.88747132e+12,\n",
       "        0.00000000e+00, -6.88747132e+12,  0.00000000e+00, -6.88747132e+12,\n",
       "       -6.88747132e+12, -6.88747132e+12,  0.00000000e+00,  0.00000000e+00,\n",
       "        0.00000000e+00,  0.00000000e+00, -6.88747132e+12, -6.88747132e+12,\n",
       "        0.00000000e+00, -6.88747132e+12,  0.00000000e+00, -6.88747132e+12,\n",
       "       -6.88747132e+12, -6.88747132e+12, -6.88747132e+12,  0.00000000e+00,\n",
       "        0.00000000e+00,  0.00000000e+00,  0.00000000e+00, -6.88747132e+12,\n",
       "        0.00000000e+00, -6.88747132e+12,  0.00000000e+00, -6.88747132e+12,\n",
       "       -4.20242646e+12,  0.00000000e+00, -6.88747132e+12, -1.16071948e+13,\n",
       "       -1.16071948e+13,  0.00000000e+00, -1.16071948e+13, -1.16071948e+13,\n",
       "       -1.16071948e+13, -1.16071948e+13, -1.16071948e+13, -1.16071948e+13,\n",
       "       -1.16071948e+13, -1.16071948e+13, -1.16071948e+13, -1.16071948e+13,\n",
       "       -1.16071948e+13, -1.16071948e+13, -1.16071948e+13, -1.16071948e+13,\n",
       "       -1.16071948e+13, -1.16071948e+13, -1.16071948e+13])"
      ]
     },
     "execution_count": 143,
     "metadata": {},
     "output_type": "execute_result"
    }
   ],
   "source": [
    "LinReg.coef_"
   ]
  },
  {
   "cell_type": "markdown",
   "metadata": {},
   "source": [
    "__ВЫВОД:__\n",
    "\n",
    "   <font color='blue'>На тестовой выборке получили огромную MSE и сильно отрицательный $R^2$. Метрика r2_score может быть отрицательной, так как модель может быть \"сколь угодно плоха\" - в \n",
    "сравнении с моделью с одной константой, что дает $R^2$ = 0. То есть наша модель хуже предсказания среднего значения. Возможно, среднее тестовой выборки сильно отличается \n",
    "от среднего на обучающей, поэтому  просто предсказание среднего тестовой выборки намного лучше, то есть ошибка намного меньше, чем у нашей модели. </font>\n",
    "\n",
    "  <font color='blue'>Если модель адекватно работает на тренировочной, но хуже, чем бесполезна на тестовой, это значит, что существует проблема переобучения. Об этом свидетельствую \n",
    "экстремальные веса в модели - при таком большом количестве признаков модель теряет обобщающую способность, так как подстраивается под тренировочные данные, \n",
    "минимизируюя на них MSE, при этом коэффициенты в основном очень большие. </font>\n",
    "\n",
    "<font color='blue'>Регуляризация как раз вводит штраф за большие веса модели, тем самым заставляя её меньше подстраиваться под тренировочные данные и сохранять обобщающую способность. </font>\n"
   ]
  },
  {
   "cell_type": "markdown",
   "metadata": {},
   "source": [
    "Для решения описанных вами в предыдущем пункте проблем используем L1- или L2-регуляризацию, тем самым получив Lasso и Ridge регрессии соответственно и изменив оптимизационную задачу одним из следующих образов:\n",
    "$$MSE_{L1}(X, y) = \\frac{1}{l} \\sum_{i=1}^l (<w, x_i> - y_i)^2 + \\alpha ||w||_1 \\to \\min_{w},$$\n",
    "$$MSE_{L2}(X, y) = \\frac{1}{l} \\sum_{i=1}^l (<w, x_i> - y_i)^2 + \\alpha ||w||_2^2 \\to \\min_{w},$$\n",
    "\n",
    "где $\\alpha$ — коэффициент регуляризации. Один из способов его подбора заключается в переборе некоторого количества значений и оценке качества на кросс-валидации для каждого из них, после чего выбирается значение, для которого было получено наилучшее качество.\n",
    "\n",
    "**18. (0.5 балла)** Обучите линейные регрессии с L1- и L2-регуляризатором, подобрав лучшее значение параметра регуляризации из списка alpha_grid при помощи кросс-валидации c 5 фолдами на тех же 1000 объектах, что и в п.17. Выведите значения $MSE$ и $R^2$ на обучающей и контрольной выборках. Удалось ли решить указанные вами ранее проблемы?\n",
    "\n",
    "Для выполнения данного задания вам могут понадобиться реализованные в библиотеке объекты [LassoCV](http://scikit-learn.org/stable/modules/generated/sklearn.linear_model.LassoCV.html), [RidgeCV](http://scikit-learn.org/stable/modules/generated/sklearn.linear_model.RidgeCV.html) и [KFold](http://scikit-learn.org/stable/modules/generated/sklearn.cross_validation.KFold.html).\n"
   ]
  },
  {
   "cell_type": "code",
   "execution_count": 144,
   "metadata": {},
   "outputs": [],
   "source": [
    "from sklearn.linear_model import LassoCV\n",
    "from sklearn.linear_model import RidgeCV\n",
    "from sklearn.model_selection import KFold"
   ]
  },
  {
   "cell_type": "code",
   "execution_count": 145,
   "metadata": {},
   "outputs": [],
   "source": [
    "LassReg = LassoCV(alphas=np.linspace(0.01, 100, num=1000), cv=KFold(n_splits=5,random_state=42))\n",
    "LassReg.fit(X_train_2, y_train_2)\n",
    "pr_train_LassReg = LassReg.predict(X_train_2)\n",
    "pr_test_LassReg = LassReg.predict(X_test)"
   ]
  },
  {
   "cell_type": "code",
   "execution_count": 146,
   "metadata": {},
   "outputs": [
    {
     "data": {
      "text/plain": [
       "array([ 0.        ,  0.14977813,  0.73600924,  0.11622887, -0.6530681 ,\n",
       "        5.44399428,  0.        ,  0.        ,  1.06151939,  0.        ,\n",
       "       -0.        , -0.        ,  0.        ,  0.        ,  0.        ,\n",
       "       -0.        ,  0.        ,  0.        ,  0.        , -0.        ,\n",
       "        0.        ,  0.        ,  0.        , -0.        ,  0.        ,\n",
       "        0.        ,  0.        , -0.        , -0.        ,  0.        ,\n",
       "        0.        , -0.        , -0.        ,  0.        , -0.        ,\n",
       "        0.        ,  0.        , -0.        ,  0.        ,  0.        ,\n",
       "        0.        ,  0.        , -0.        , -0.        ,  0.        ,\n",
       "        0.        ,  0.        , -0.        ,  0.        ,  0.        ,\n",
       "        0.        ,  0.        ,  0.        , -0.        ,  0.        ,\n",
       "       -0.        , -0.        , -0.        , -0.        , -0.        ,\n",
       "        0.        , -0.        ,  0.        ,  0.        ,  0.        ,\n",
       "        0.        ,  0.        ,  0.        , -0.        , -0.        ,\n",
       "        0.        ,  0.        ,  0.        , -0.        ,  0.        ,\n",
       "        0.        , -0.        , -0.        , -0.        ,  0.        ,\n",
       "        0.        ,  0.        ,  0.        ,  0.        , -0.        ,\n",
       "        0.        ,  0.        , -0.        , -0.        ,  0.        ,\n",
       "        0.        ,  0.        ,  0.        ,  0.        , -0.        ,\n",
       "       -0.        , -0.        ,  0.        ,  0.        ,  0.        ,\n",
       "        0.        ,  0.        , -0.        ,  0.        ,  0.        ,\n",
       "        0.        , -0.        ,  0.        , -0.        ,  0.        ,\n",
       "       -0.        ,  0.        ,  0.        ,  0.        ,  0.        ,\n",
       "       -0.        ,  0.        ,  0.        ,  0.        , -0.        ,\n",
       "       -0.        ,  0.        , -0.        ,  0.        ,  0.        ,\n",
       "        0.        , -0.        , -0.        , -0.        ,  0.        ,\n",
       "        0.        , -0.        ,  0.        , -0.        ,  0.        ,\n",
       "        0.        , -0.        , -0.        , -0.        , -0.        ,\n",
       "        0.        , -0.        ,  0.        ,  0.        ,  0.        ,\n",
       "       -0.        , -0.        , -0.        , -0.        ,  0.        ,\n",
       "       -0.        , -0.        ,  0.        ,  0.        ,  0.        ,\n",
       "        0.        ,  0.        ,  0.        , -0.        ,  0.        ,\n",
       "       -0.        , -0.        ,  0.        ,  0.        ,  0.        ,\n",
       "       -0.        , -0.        ,  0.        ,  0.        ,  0.        ,\n",
       "       -0.        , -0.        , -0.        , -0.        ,  0.        ,\n",
       "       -0.        ,  0.        ,  0.        ,  0.        ,  0.        ,\n",
       "        0.        , -0.        , -0.        , -0.        ,  0.        ,\n",
       "        0.        , -0.        , -0.        ,  0.        ,  0.        ,\n",
       "        0.        ,  0.        ,  0.        , -0.        ,  0.        ,\n",
       "       -0.        ,  0.        , -0.        ,  0.        , -0.        ,\n",
       "        0.        ,  0.        , -0.        ,  0.        ,  0.        ,\n",
       "       -0.        ,  0.        , -0.        , -0.        ,  0.        ,\n",
       "       -0.        ,  0.        , -0.        , -0.        , -0.        ,\n",
       "       -0.        ,  0.        , -0.        , -0.        , -0.        ,\n",
       "        0.        ,  0.        ,  0.        , -0.        , -0.        ,\n",
       "        0.        , -0.        ,  0.        , -0.        ,  0.        ,\n",
       "        0.        ,  0.        ,  0.        ,  0.        ,  0.        ,\n",
       "        0.        ,  0.        ,  0.        ,  0.        , -0.        ,\n",
       "        0.        ,  0.        ,  0.        ,  0.        ,  0.        ,\n",
       "        0.        ,  0.        , -0.        ,  0.        , -0.        ,\n",
       "       -0.        , -0.        ,  0.        ,  0.        , -0.        ,\n",
       "        0.        ,  0.        ,  0.        ,  0.        ,  0.        ,\n",
       "       -0.        ,  0.        ,  0.        ,  0.        , -0.        ,\n",
       "        0.        , -0.        ,  0.        ,  0.        ,  0.        ,\n",
       "        0.        ,  0.        ,  0.        , -0.        ,  0.        ,\n",
       "        0.        ,  0.        ,  0.        ,  0.        ,  0.        ,\n",
       "       -0.        , -0.        , -0.        ,  0.        ,  0.        ,\n",
       "        0.        ,  0.        , -0.        ,  0.        ,  0.        ,\n",
       "        0.        ,  0.        , -0.        , -0.        ,  0.        ,\n",
       "        0.        ,  0.        ,  0.        , -0.        ,  0.        ,\n",
       "        0.        ,  0.        ,  0.        , -0.        ,  0.        ,\n",
       "        0.        ,  0.        ,  0.        ,  0.        , -0.        ,\n",
       "        0.        ,  0.        ,  0.        , -0.        ,  0.        ,\n",
       "        0.        ,  0.        ,  0.        ,  0.        ,  0.        ,\n",
       "       -0.        ,  0.        ,  0.        , -0.        , -0.        ,\n",
       "       -0.        , -0.        ,  0.        ,  0.        ,  0.        ,\n",
       "        0.        , -0.        ,  0.        , -0.        ,  0.        ,\n",
       "        0.        ,  0.        ,  0.        ,  0.        ,  0.        ,\n",
       "        0.        ,  0.        , -0.        , -0.        ,  0.        ,\n",
       "       -0.        ,  0.        ,  0.        ,  0.        ,  0.        ,\n",
       "        0.        ,  0.        ,  0.        , -0.        ,  0.        ,\n",
       "        0.        ,  0.        ,  0.        ,  0.        ,  0.        ,\n",
       "       -0.        ,  0.        , -0.        ,  0.        ,  0.        ,\n",
       "       -0.        , -0.        ,  0.        , -0.        ,  0.        ,\n",
       "        0.        ,  0.        ,  0.        , -0.        ,  0.        ,\n",
       "       -0.        ,  0.        ,  0.        , -0.        ,  0.        ,\n",
       "        0.        , -0.        , -0.        ,  0.        , -0.        ,\n",
       "       -0.        ,  0.        , -0.        , -0.        ,  0.        ,\n",
       "       -0.        , -0.        ,  0.        ,  0.        ,  0.        ,\n",
       "       -0.        ,  0.        ,  0.        ,  0.        ,  0.        ,\n",
       "        0.        ,  0.        ,  0.        ,  0.        , -0.        ,\n",
       "       -0.        ,  0.        ,  0.        ,  0.        ,  0.        ,\n",
       "       -0.        ,  0.        ,  0.        , -0.        ,  0.        ,\n",
       "       -0.        , -0.        ,  0.        ,  0.        ,  0.        ,\n",
       "        0.        ,  0.        , -0.        , -0.        , -0.        ,\n",
       "       -0.        ,  0.        ,  0.        ,  0.        ,  0.        ,\n",
       "        0.        ,  0.        ,  0.        ,  0.        , -0.        ,\n",
       "       -0.        ,  0.        , -0.        ,  0.        , -0.        ,\n",
       "       -0.        , -0.        , -0.        ,  0.        ,  0.        ,\n",
       "        0.        ,  0.        , -0.        ,  0.        ,  0.        ,\n",
       "        0.        ,  0.        , -0.        ,  0.        ,  0.        ,\n",
       "        0.        , -0.        ,  0.        ,  0.        , -0.        ,\n",
       "        0.        , -0.        , -0.        ,  0.        , -0.        ,\n",
       "        0.        , -0.        , -0.        ,  0.        , -0.        ,\n",
       "        0.        ,  0.        , -0.        ,  0.        ,  0.        ,\n",
       "        0.        ,  0.        , -0.        ,  0.        , -0.        ,\n",
       "        0.        , -0.        ,  0.        ,  0.        ,  0.        ,\n",
       "        0.        ,  0.        , -0.        ,  0.        ,  0.        ,\n",
       "        0.        ,  0.        ,  0.        ,  0.        , -0.        ,\n",
       "        0.        , -0.        ,  0.        ,  0.        ,  0.        ,\n",
       "        0.        , -0.        ,  0.        , -0.        , -0.        ,\n",
       "        0.        ,  0.        ,  0.        , -0.        , -0.        ,\n",
       "       -0.        , -0.        ,  0.        , -0.        ,  0.42524484,\n",
       "       -0.        ,  0.        ,  0.        ,  0.        , -0.        ,\n",
       "       -0.        ,  0.        ,  0.        ,  0.        , -0.        ,\n",
       "       -0.        ,  0.        , -0.        ,  0.        ,  0.        ,\n",
       "        0.        ,  0.        ,  0.        ,  0.        , -0.        ,\n",
       "        0.        , -0.        , -0.        ,  0.        ,  0.        ,\n",
       "       -0.        ,  0.        ,  0.        , -0.        ,  0.        ,\n",
       "       -0.        , -0.        ,  0.        , -0.        ,  0.        ,\n",
       "        0.        ,  0.        , -0.        , -0.        , -0.        ,\n",
       "       -0.        ,  0.        ,  0.        ,  0.        , -0.        ,\n",
       "       -0.        ,  0.        , -0.        ,  0.        , -0.        ,\n",
       "        0.        , -0.        ,  0.        , -0.        , -0.        ,\n",
       "        0.        , -0.        ,  0.        ,  0.        ,  0.        ,\n",
       "        0.        ,  0.        ,  0.        ,  0.        ,  0.        ,\n",
       "        0.        ,  0.        ,  0.        , -0.        ,  0.        ,\n",
       "        0.        ,  0.        , -0.        , -0.        ,  0.        ,\n",
       "       -0.        ,  0.        ,  0.        ,  0.        ,  0.        ,\n",
       "       -0.        ,  0.        ,  0.        ,  0.        , -0.        ,\n",
       "        0.        ,  0.        , -0.        , -0.        ,  0.        ,\n",
       "        0.        , -0.        ,  0.        ,  9.41647402, -0.        ,\n",
       "        0.        , -0.        , -0.        , -0.        , -0.        ,\n",
       "       -0.37888361,  0.        ,  0.        ,  0.        , -0.        ,\n",
       "        0.52638592, -0.        ,  0.        ])"
      ]
     },
     "execution_count": 146,
     "metadata": {},
     "output_type": "execute_result"
    }
   ],
   "source": [
    "LassReg.coef_"
   ]
  },
  {
   "cell_type": "code",
   "execution_count": 147,
   "metadata": {},
   "outputs": [
    {
     "data": {
      "text/plain": [
       "0.41036036036036033"
      ]
     },
     "execution_count": 147,
     "metadata": {},
     "output_type": "execute_result"
    }
   ],
   "source": [
    "LassReg.alpha_"
   ]
  },
  {
   "cell_type": "code",
   "execution_count": 148,
   "metadata": {},
   "outputs": [
    {
     "name": "stdout",
     "output_type": "stream",
     "text": [
      "-------Train-------\n",
      "MSE 1006.7691 \n",
      "R2     0.0501 \n",
      "-------Test-------\n",
      "MSE 1316.3999 \n",
      "R2     0.0159 \n"
     ]
    }
   ],
   "source": [
    "print('-------Train-------')\n",
    "print('MSE %0.4f \\nR2     %0.4f ' %(mse(y_train_2, pr_train_LassReg), r2_score(y_train_2, pr_train_LassReg)))\n",
    "print('-------Test-------')\n",
    "print('MSE %0.4f \\nR2     %0.4f ' %(mse(y_test, pr_test_LassReg), r2_score(y_test, pr_test_LassReg)))"
   ]
  },
  {
   "cell_type": "code",
   "execution_count": 149,
   "metadata": {},
   "outputs": [],
   "source": [
    "RidgeReg = RidgeCV(alphas=np.linspace(0.01, 150, num=100), cv=KFold(n_splits=5,random_state=42))\n",
    "RidgeReg.fit(X_train_2, y_train_2)\n",
    "pr_train_RidgeReg = RidgeReg.predict(X_train_2)\n",
    "pr_test_RidgeReg = RidgeReg.predict(X_test)"
   ]
  },
  {
   "cell_type": "code",
   "execution_count": 150,
   "metadata": {},
   "outputs": [
    {
     "data": {
      "text/plain": [
       "array([ 2.12532400e-01,  5.64604054e-01,  1.14281567e+00,  4.79208763e-01,\n",
       "       -9.14402180e-01,  4.82606226e+00, -1.82435175e-02,  7.46580505e-01,\n",
       "        1.30860125e+00,  8.79407046e-01, -1.53591809e-01, -1.83568173e-01,\n",
       "        0.00000000e+00,  0.00000000e+00,  0.00000000e+00, -3.13300320e-01,\n",
       "        0.00000000e+00,  0.00000000e+00,  0.00000000e+00, -1.12459251e-01,\n",
       "        0.00000000e+00,  0.00000000e+00,  6.95170110e-02, -7.04885037e-02,\n",
       "        1.49167447e-01,  0.00000000e+00,  1.64111891e+00, -4.03550007e-01,\n",
       "       -1.54884545e-01,  0.00000000e+00,  0.00000000e+00, -9.05179407e-02,\n",
       "       -6.75599475e-01,  0.00000000e+00, -1.85222488e-01,  0.00000000e+00,\n",
       "        0.00000000e+00, -1.24331712e-01,  0.00000000e+00,  1.52102524e-01,\n",
       "        0.00000000e+00,  0.00000000e+00, -2.91577155e-02, -4.44932423e-01,\n",
       "        9.80666155e-02,  1.95595504e+00,  0.00000000e+00, -1.83877373e-01,\n",
       "        0.00000000e+00,  2.61925809e-02,  0.00000000e+00,  0.00000000e+00,\n",
       "        0.00000000e+00, -9.95266549e-02,  1.95999796e-01, -2.72510333e-01,\n",
       "       -8.04678360e-02, -1.22091216e-02, -4.87567326e-02, -1.40926961e-01,\n",
       "        0.00000000e+00, -1.43530433e-01,  0.00000000e+00,  0.00000000e+00,\n",
       "        0.00000000e+00,  0.00000000e+00,  0.00000000e+00,  8.13556468e-01,\n",
       "       -3.03173557e-01,  7.59250597e-03,  8.27321113e-02,  1.45506650e-01,\n",
       "        1.03424176e+00, -1.19441822e-01,  0.00000000e+00,  0.00000000e+00,\n",
       "       -1.80119034e-01, -2.16807669e-01, -2.15387881e-01,  0.00000000e+00,\n",
       "        0.00000000e+00,  8.84988399e-01,  0.00000000e+00,  0.00000000e+00,\n",
       "       -3.08352995e-01,  8.77018615e-01,  0.00000000e+00, -8.05076749e-01,\n",
       "       -1.37609980e+00,  1.45207657e-02,  0.00000000e+00,  0.00000000e+00,\n",
       "        0.00000000e+00,  0.00000000e+00, -3.51924762e-01, -2.86251177e-01,\n",
       "       -1.31008532e-01,  0.00000000e+00,  0.00000000e+00,  0.00000000e+00,\n",
       "        0.00000000e+00,  1.06739830e-01, -1.13068246e-01,  0.00000000e+00,\n",
       "        2.47578449e+00,  0.00000000e+00, -3.09731807e-01,  0.00000000e+00,\n",
       "       -3.56087083e-01,  0.00000000e+00, -4.13476435e-01,  0.00000000e+00,\n",
       "        7.99026251e-01,  0.00000000e+00,  0.00000000e+00, -6.80485831e-02,\n",
       "        0.00000000e+00,  0.00000000e+00,  0.00000000e+00, -1.79652186e-01,\n",
       "       -1.37053017e-01,  0.00000000e+00, -2.18216753e-01, -1.98641388e-03,\n",
       "        0.00000000e+00,  0.00000000e+00, -8.21504430e-02, -1.89867264e-01,\n",
       "       -3.11122910e-01,  0.00000000e+00,  0.00000000e+00, -1.52268345e-01,\n",
       "        0.00000000e+00, -5.34059749e-02,  0.00000000e+00,  0.00000000e+00,\n",
       "       -9.96488641e-02, -8.12496529e-01, -2.60971855e-01, -1.20782045e-01,\n",
       "        0.00000000e+00, -4.43985789e-02,  0.00000000e+00,  3.13814955e-01,\n",
       "        1.40454636e+00, -4.41141120e-01, -1.53115398e-01, -1.12319114e-01,\n",
       "       -1.03738981e-01,  0.00000000e+00, -1.87205315e-01, -6.84976984e-02,\n",
       "        0.00000000e+00,  0.00000000e+00,  0.00000000e+00,  0.00000000e+00,\n",
       "        0.00000000e+00,  6.80942480e-01, -9.82479703e-01,  2.30131553e-01,\n",
       "       -1.24724016e-01, -1.07434647e-01,  0.00000000e+00,  9.31835769e-01,\n",
       "        0.00000000e+00, -2.03101953e+00, -8.17741253e-02,  0.00000000e+00,\n",
       "        0.00000000e+00,  1.20596471e-01, -8.63120114e-01, -1.76163332e-01,\n",
       "       -1.24859218e-01, -3.68937831e-02,  0.00000000e+00, -3.22054687e-01,\n",
       "        1.30801052e-01,  0.00000000e+00,  0.00000000e+00,  0.00000000e+00,\n",
       "        0.00000000e+00, -1.72696737e-01, -9.54955371e-02, -4.61625619e-01,\n",
       "        0.00000000e+00,  2.39241162e-01, -1.53252943e-01, -2.47053691e-01,\n",
       "        0.00000000e+00,  1.57024460e-01,  3.64163772e-02,  0.00000000e+00,\n",
       "        0.00000000e+00, -2.12224595e-01, -5.72482531e-03, -2.38638677e-01,\n",
       "        0.00000000e+00, -1.27422381e-01,  8.56505385e-03, -4.89329598e-02,\n",
       "        0.00000000e+00,  0.00000000e+00, -2.36043251e-01,  0.00000000e+00,\n",
       "        0.00000000e+00, -2.76126875e-01,  1.00457087e-01, -8.29154384e-01,\n",
       "       -5.95783416e-01,  0.00000000e+00, -3.20508153e-01,  0.00000000e+00,\n",
       "       -4.14120015e-01,  3.28174387e-03, -1.21967050e-01, -4.71334627e-01,\n",
       "        0.00000000e+00, -1.63124852e-01, -1.43097638e-01, -1.92912904e-01,\n",
       "        0.00000000e+00,  0.00000000e+00,  0.00000000e+00, -8.75568326e-02,\n",
       "       -3.41741030e-02,  0.00000000e+00, -9.13524571e-02,  1.52525318e+00,\n",
       "       -4.65422442e-01,  0.00000000e+00,  0.00000000e+00,  7.31318775e-01,\n",
       "        0.00000000e+00,  0.00000000e+00,  0.00000000e+00,  0.00000000e+00,\n",
       "        0.00000000e+00,  0.00000000e+00,  4.61718610e-01, -1.92687669e-01,\n",
       "        0.00000000e+00,  7.35774545e-01,  0.00000000e+00,  0.00000000e+00,\n",
       "        9.07457651e-01,  0.00000000e+00,  0.00000000e+00, -1.37717570e-01,\n",
       "        0.00000000e+00, -1.12143585e-01, -2.00685956e-01, -7.42005917e-02,\n",
       "        0.00000000e+00,  0.00000000e+00, -2.72635223e-01,  8.68915691e-01,\n",
       "        7.28999771e-01,  9.18233904e-02,  9.11479983e-01,  0.00000000e+00,\n",
       "       -1.85161533e-01,  0.00000000e+00,  0.00000000e+00,  1.24139098e+00,\n",
       "       -1.54123100e+00,  1.94117510e+00, -4.00630579e-02,  0.00000000e+00,\n",
       "        0.00000000e+00,  0.00000000e+00, -4.24623912e-04,  0.00000000e+00,\n",
       "        2.85730180e-03, -1.42308606e-01,  0.00000000e+00,  5.46443772e-01,\n",
       "        0.00000000e+00, -4.44513894e-02,  0.00000000e+00,  0.00000000e+00,\n",
       "       -2.85863037e-01, -5.63936737e-01, -7.84601559e-02,  0.00000000e+00,\n",
       "        0.00000000e+00,  0.00000000e+00,  0.00000000e+00, -7.64753981e-02,\n",
       "        4.15745543e-01,  0.00000000e+00,  5.92035973e-01,  0.00000000e+00,\n",
       "       -5.44814498e-02, -1.52924503e-01,  0.00000000e+00,  0.00000000e+00,\n",
       "        0.00000000e+00,  0.00000000e+00, -6.62198884e-02,  0.00000000e+00,\n",
       "        3.57660011e-01,  0.00000000e+00,  0.00000000e+00, -3.41092765e-01,\n",
       "        0.00000000e+00,  0.00000000e+00,  0.00000000e+00,  0.00000000e+00,\n",
       "        1.21350644e+00, -3.28441183e-02,  2.12221331e-01,  0.00000000e+00,\n",
       "        0.00000000e+00, -2.43796854e-01,  0.00000000e+00,  0.00000000e+00,\n",
       "        0.00000000e+00,  0.00000000e+00,  0.00000000e+00,  0.00000000e+00,\n",
       "       -5.10750552e-02,  0.00000000e+00,  0.00000000e+00, -4.95077016e-01,\n",
       "       -1.06000398e-01, -1.81553294e+00, -1.68255140e-01,  2.66744644e-02,\n",
       "        0.00000000e+00,  0.00000000e+00,  0.00000000e+00, -6.01224002e-02,\n",
       "        0.00000000e+00, -1.53991336e-01,  0.00000000e+00,  0.00000000e+00,\n",
       "        8.67249177e-01,  0.00000000e+00,  0.00000000e+00,  0.00000000e+00,\n",
       "        0.00000000e+00,  2.63876455e-01, -2.11121726e-01, -1.74481960e-01,\n",
       "        0.00000000e+00, -5.45712162e-02,  0.00000000e+00,  0.00000000e+00,\n",
       "        0.00000000e+00,  0.00000000e+00,  0.00000000e+00,  4.40991414e-02,\n",
       "        1.77807672e-01, -7.76219312e-01,  4.40689328e-01,  5.50034320e-01,\n",
       "        9.50569988e-02,  0.00000000e+00,  0.00000000e+00,  0.00000000e+00,\n",
       "       -1.94989631e-01,  0.00000000e+00, -9.59510452e-02,  0.00000000e+00,\n",
       "        1.16140207e+00, -1.16135730e-01, -3.29855451e-01,  8.44164738e-03,\n",
       "       -1.18488642e-01,  6.02432435e-01,  0.00000000e+00,  0.00000000e+00,\n",
       "        0.00000000e+00, -2.32290616e-01,  0.00000000e+00, -8.31028959e-02,\n",
       "        0.00000000e+00,  0.00000000e+00, -7.24892887e-01,  0.00000000e+00,\n",
       "        0.00000000e+00, -1.56210519e-01, -3.73656999e-01,  0.00000000e+00,\n",
       "       -1.12212297e+00, -1.37208131e+00,  2.58694884e-01, -1.06726619e-01,\n",
       "       -3.05757618e-01,  0.00000000e+00, -4.25188615e-01, -1.39960324e+00,\n",
       "        0.00000000e+00,  0.00000000e+00,  0.00000000e+00, -1.21239766e-01,\n",
       "        0.00000000e+00,  4.99910704e-01,  0.00000000e+00,  0.00000000e+00,\n",
       "        1.52494753e+00,  0.00000000e+00,  0.00000000e+00,  0.00000000e+00,\n",
       "       -5.49063811e-02, -1.43592073e-01,  0.00000000e+00,  0.00000000e+00,\n",
       "        2.38112718e-01,  0.00000000e+00, -1.35009756e-01,  0.00000000e+00,\n",
       "        0.00000000e+00, -1.91062605e-01,  0.00000000e+00, -1.84297391e-01,\n",
       "       -5.77010323e-02,  0.00000000e+00,  4.38784446e-01,  0.00000000e+00,\n",
       "        0.00000000e+00,  4.60252808e-01, -8.92979801e-02, -8.29808238e-02,\n",
       "       -2.91672689e-01, -1.14709715e-01,  0.00000000e+00,  0.00000000e+00,\n",
       "        0.00000000e+00,  0.00000000e+00,  0.00000000e+00,  0.00000000e+00,\n",
       "        0.00000000e+00,  5.95309261e-01, -2.85641554e-01, -1.27605361e-01,\n",
       "        0.00000000e+00, -1.97555846e-01,  0.00000000e+00, -1.11672179e+00,\n",
       "       -7.80066824e-01, -6.95196435e-02, -8.31178880e-02,  0.00000000e+00,\n",
       "        2.66867890e-01,  0.00000000e+00,  0.00000000e+00, -8.78732430e-03,\n",
       "        0.00000000e+00,  0.00000000e+00,  0.00000000e+00,  0.00000000e+00,\n",
       "       -6.02230829e-02,  9.75550228e-01,  5.65186096e-01,  4.01710919e-02,\n",
       "       -3.39040116e-01,  0.00000000e+00,  0.00000000e+00, -8.45352530e-01,\n",
       "        0.00000000e+00, -7.03671029e-01, -1.62275896e-01,  0.00000000e+00,\n",
       "       -2.65073518e-01,  0.00000000e+00, -9.72616090e-01, -2.86284519e-01,\n",
       "        0.00000000e+00, -3.94296693e-02,  0.00000000e+00,  0.00000000e+00,\n",
       "       -4.44933545e-03,  0.00000000e+00,  0.00000000e+00,  0.00000000e+00,\n",
       "        0.00000000e+00, -1.26089170e-01,  6.92212712e-02, -6.64843981e-01,\n",
       "        0.00000000e+00, -5.69218313e-01,  0.00000000e+00,  8.49769062e-01,\n",
       "        0.00000000e+00,  5.55184807e-02,  0.00000000e+00, -1.33169941e-01,\n",
       "        0.00000000e+00,  1.45726729e+00,  1.34629523e+00,  1.09736346e+00,\n",
       "        0.00000000e+00,  0.00000000e+00, -4.62026546e-02,  0.00000000e+00,\n",
       "       -1.50558222e-02,  0.00000000e+00,  0.00000000e+00,  0.00000000e+00,\n",
       "        0.00000000e+00,  4.33945139e-03,  0.00000000e+00, -1.01067160e+00,\n",
       "       -6.56938738e-01,  0.00000000e+00,  8.18325284e-01,  0.00000000e+00,\n",
       "       -2.25491572e-01, -4.74354430e-01, -6.31419129e-02, -8.29220251e-02,\n",
       "        0.00000000e+00, -5.68578247e-01,  2.32631025e+00, -2.36464465e-01,\n",
       "        0.00000000e+00,  0.00000000e+00,  0.00000000e+00, -3.03425198e-01,\n",
       "       -4.61244124e-01,  0.00000000e+00,  0.00000000e+00, -7.86051938e-03,\n",
       "       -2.30211384e-01, -1.53276831e-01,  0.00000000e+00, -4.42696063e-01,\n",
       "        0.00000000e+00,  0.00000000e+00,  2.71809851e+00,  0.00000000e+00,\n",
       "        0.00000000e+00,  0.00000000e+00, -4.85630655e-01,  1.14050016e-01,\n",
       "       -1.13180638e-01, -1.82551487e-01,  0.00000000e+00,  0.00000000e+00,\n",
       "        1.14126532e-02,  0.00000000e+00,  0.00000000e+00, -2.04137215e-01,\n",
       "        0.00000000e+00, -2.57308159e-01, -1.38942158e-01,  3.70027253e-01,\n",
       "       -9.63373955e-02,  0.00000000e+00,  1.59028619e+00,  1.65510125e+00,\n",
       "       -3.26908522e-01, -7.40164863e-02, -3.38581318e-01, -4.26406765e-02,\n",
       "        3.11518897e-01,  0.00000000e+00,  0.00000000e+00, -1.13150154e-01,\n",
       "       -7.74029090e-01,  2.11923062e+00, -1.87880893e-01,  0.00000000e+00,\n",
       "       -9.53808471e-02,  0.00000000e+00, -4.92181432e-01,  0.00000000e+00,\n",
       "       -1.15592181e-01,  5.75545955e-02,  0.00000000e+00, -6.36423518e-01,\n",
       "        0.00000000e+00,  5.33756964e-01,  0.00000000e+00,  4.43246524e-01,\n",
       "        2.13856617e-01,  7.52458865e-01,  0.00000000e+00,  0.00000000e+00,\n",
       "        0.00000000e+00,  0.00000000e+00,  1.08788030e+00, -2.16761189e-01,\n",
       "        0.00000000e+00,  5.94788861e-02,  0.00000000e+00, -2.99898753e-01,\n",
       "       -1.92602331e-01,  7.08225294e-02, -1.29435447e-01,  0.00000000e+00,\n",
       "        0.00000000e+00,  0.00000000e+00,  0.00000000e+00, -4.09645011e-01,\n",
       "        0.00000000e+00,  4.24612342e-02,  0.00000000e+00, -2.06132464e-02,\n",
       "        2.30131553e-01,  0.00000000e+00, -2.03330073e-01, -1.23415102e+00,\n",
       "        1.11301415e+00,  0.00000000e+00, -1.34087671e+00,  1.13943809e+00,\n",
       "        4.48458332e+00, -1.07495496e+00,  1.22131513e+00, -3.88145584e-01,\n",
       "       -1.59622428e+00, -9.10170870e-01, -1.76360241e+00, -2.26747256e+00,\n",
       "        2.31942964e+00, -1.93215861e-01,  1.99283473e+00, -1.65081433e+00,\n",
       "        1.80794572e+00, -1.68287521e+00,  2.39430249e-02])"
      ]
     },
     "execution_count": 150,
     "metadata": {},
     "output_type": "execute_result"
    }
   ],
   "source": [
    "RidgeReg.coef_"
   ]
  },
  {
   "cell_type": "code",
   "execution_count": 153,
   "metadata": {},
   "outputs": [
    {
     "data": {
      "text/plain": [
       "116.6688888888889"
      ]
     },
     "execution_count": 153,
     "metadata": {},
     "output_type": "execute_result"
    }
   ],
   "source": [
    "RidgeReg.alpha_"
   ]
  },
  {
   "cell_type": "code",
   "execution_count": 154,
   "metadata": {},
   "outputs": [
    {
     "name": "stdout",
     "output_type": "stream",
     "text": [
      "-------Train-------\n",
      "MSE 971.6110 \n",
      "R2     0.0832 \n",
      "-------Test-------\n",
      "MSE 1307.2449 \n",
      "R2     0.0227 \n"
     ]
    }
   ],
   "source": [
    "print('-------Train-------')\n",
    "print('MSE %0.4f \\nR2     %0.4f ' %(mse(y_train_2, pr_train_RidgeReg), r2_score(y_train_2, pr_train_RidgeReg)))\n",
    "print('-------Test-------')\n",
    "print('MSE %0.4f \\nR2     %0.4f ' %(mse(y_test, pr_test_RidgeReg), r2_score(y_test, pr_test_RidgeReg)))"
   ]
  },
  {
   "cell_type": "markdown",
   "metadata": {},
   "source": [
    "__ВЫВОД:__\n",
    "\n",
    "<font color='blue'>На тестовой выборке обе модели показали более высокую MSE и существенно более низкий $R^2$, однако на тестовой выборке MSE в обоих случаях улучшилась, при этом $R^2$ стал положительный, хотя и близкий к 0. Можно сделать вывод, что хотя модель и оставется бесполезной, уже нельзя сказать, что она хуже модели с константой (предсказания среднего). При этом и на тренировочной и на тестовой Ridge показывает себя немного лучше.  </font>\n",
    "\n",
    "<font color='blue'>Если посмотреть на веса, то можно увидеть, что Lasso занулила почти коэффициенты почти при всех признаках, кроме нескольких (отобрала признаки), а RidgeReg стянула к 0 все коэффициенты, не давая модели тем самым переобучаться так сильно. </font>\n",
    "\n",
    "------------------"
   ]
  },
  {
   "cell_type": "markdown",
   "metadata": {},
   "source": [
    "### Градиентный спуск\n",
    "\n",
    "В предыдущем разделе мы использовали существующие реализации методов обучения линейной регрессии с регуляризацией и без. Тем не менее, подобные реализации, как правило, имеются лишь для ограниченного набора стандартных методов. В частности, при выходе функционала качества за пределы стандартного множества необходимо самостоятельно реализовывать составляющие процесса решения оптимизационной задачи. Именно этому и посвящен данный раздел задания.\n",
    "\n",
    "Пусть необходимо минимизировать следующий функционал (Mean Square Percentage Error — модифицированный [RMSPE](https://www.kaggle.com/c/rossmann-store-sales/details/evaluation)):\n",
    "$$MSPE(\\{x_i, y_i\\}_{i=1}^l, \\, w) = \\frac{1}{l}\\sum_{i=1}^l \\left( \\frac{y_i - \\langle w, x_i \\rangle }{y_i} \\right)^2,$$\n",
    "\n",
    "где $\\{x_i, y_i\\}_{i=1}^l$ — обучающая выборка, $w$ — вектор весов линейной модели. Будем также рассматривать функционал $MSPE$ с L2-регуляризацией:\n",
    "\n",
    "$$MSPE(\\{x_i, y_i\\}_{i=1}^l, \\, w) = \\frac{1}{l}\\sum_{i=1}^l \\left( \\frac{y_i - \\langle w, x_i \\rangle }{y_i} \\right)^2 + ||w||_2^2.$$\n",
    "\n",
    "**19. (0 баллов)** Добавьте к объектам обеих выборок из п. 16 единичный признак."
   ]
  },
  {
   "cell_type": "code",
   "execution_count": 155,
   "metadata": {},
   "outputs": [],
   "source": [
    "X_train['C'] = 1\n",
    "X_test['C'] = 1"
   ]
  },
  {
   "cell_type": "code",
   "execution_count": 156,
   "metadata": {},
   "outputs": [
    {
     "data": {
      "text/html": [
       "<div>\n",
       "<style scoped>\n",
       "    .dataframe tbody tr th:only-of-type {\n",
       "        vertical-align: middle;\n",
       "    }\n",
       "\n",
       "    .dataframe tbody tr th {\n",
       "        vertical-align: top;\n",
       "    }\n",
       "\n",
       "    .dataframe thead th {\n",
       "        text-align: right;\n",
       "    }\n",
       "</style>\n",
       "<table border=\"1\" class=\"dataframe\">\n",
       "  <thead>\n",
       "    <tr style=\"text-align: right;\">\n",
       "      <th></th>\n",
       "      <th>DayOfWeek</th>\n",
       "      <th>DayofMonth</th>\n",
       "      <th>Distance</th>\n",
       "      <th>FlightNum</th>\n",
       "      <th>Month</th>\n",
       "      <th>CRSDepTime_Hour</th>\n",
       "      <th>CRSDepTime_Minute</th>\n",
       "      <th>...</th>\n",
       "      <th>UniqueCarrier_OO</th>\n",
       "      <th>UniqueCarrier_UA</th>\n",
       "      <th>UniqueCarrier_US</th>\n",
       "      <th>UniqueCarrier_WN</th>\n",
       "      <th>UniqueCarrier_XE</th>\n",
       "      <th>UniqueCarrier_YV</th>\n",
       "      <th>C</th>\n",
       "    </tr>\n",
       "  </thead>\n",
       "  <tbody>\n",
       "    <tr>\n",
       "      <td>47629</td>\n",
       "      <td>1.541454</td>\n",
       "      <td>-0.310849</td>\n",
       "      <td>1.066264</td>\n",
       "      <td>0.136336</td>\n",
       "      <td>0.174690</td>\n",
       "      <td>-0.651603</td>\n",
       "      <td>-0.655735</td>\n",
       "      <td>...</td>\n",
       "      <td>0</td>\n",
       "      <td>0</td>\n",
       "      <td>0</td>\n",
       "      <td>1</td>\n",
       "      <td>0</td>\n",
       "      <td>0</td>\n",
       "      <td>1</td>\n",
       "    </tr>\n",
       "    <tr>\n",
       "      <td>39632</td>\n",
       "      <td>1.541454</td>\n",
       "      <td>-1.218584</td>\n",
       "      <td>-0.391913</td>\n",
       "      <td>2.143612</td>\n",
       "      <td>1.053604</td>\n",
       "      <td>-0.651603</td>\n",
       "      <td>1.025940</td>\n",
       "      <td>...</td>\n",
       "      <td>0</td>\n",
       "      <td>0</td>\n",
       "      <td>0</td>\n",
       "      <td>0</td>\n",
       "      <td>0</td>\n",
       "      <td>0</td>\n",
       "      <td>1</td>\n",
       "    </tr>\n",
       "    <tr>\n",
       "      <td>46373</td>\n",
       "      <td>0.038288</td>\n",
       "      <td>-0.651249</td>\n",
       "      <td>-0.659598</td>\n",
       "      <td>1.822592</td>\n",
       "      <td>-1.583137</td>\n",
       "      <td>0.646818</td>\n",
       "      <td>-0.375456</td>\n",
       "      <td>...</td>\n",
       "      <td>0</td>\n",
       "      <td>0</td>\n",
       "      <td>0</td>\n",
       "      <td>0</td>\n",
       "      <td>0</td>\n",
       "      <td>0</td>\n",
       "      <td>1</td>\n",
       "    </tr>\n",
       "    <tr>\n",
       "      <td>42942</td>\n",
       "      <td>0.038288</td>\n",
       "      <td>0.710352</td>\n",
       "      <td>2.557903</td>\n",
       "      <td>-1.110249</td>\n",
       "      <td>-0.411252</td>\n",
       "      <td>-0.435199</td>\n",
       "      <td>-0.543623</td>\n",
       "      <td>...</td>\n",
       "      <td>0</td>\n",
       "      <td>0</td>\n",
       "      <td>0</td>\n",
       "      <td>0</td>\n",
       "      <td>0</td>\n",
       "      <td>0</td>\n",
       "      <td>1</td>\n",
       "    </tr>\n",
       "    <tr>\n",
       "      <td>44966</td>\n",
       "      <td>-0.963823</td>\n",
       "      <td>1.618087</td>\n",
       "      <td>0.442841</td>\n",
       "      <td>-0.590453</td>\n",
       "      <td>1.639547</td>\n",
       "      <td>1.079625</td>\n",
       "      <td>-1.440516</td>\n",
       "      <td>...</td>\n",
       "      <td>0</td>\n",
       "      <td>0</td>\n",
       "      <td>0</td>\n",
       "      <td>0</td>\n",
       "      <td>0</td>\n",
       "      <td>0</td>\n",
       "      <td>1</td>\n",
       "    </tr>\n",
       "  </tbody>\n",
       "</table>\n",
       "<p>5 rows × 624 columns</p>\n",
       "</div>"
      ],
      "text/plain": [
       "       DayOfWeek  DayofMonth  Distance  FlightNum     Month  CRSDepTime_Hour  \\\n",
       "47629   1.541454   -0.310849  1.066264   0.136336  0.174690        -0.651603   \n",
       "39632   1.541454   -1.218584 -0.391913   2.143612  1.053604        -0.651603   \n",
       "46373   0.038288   -0.651249 -0.659598   1.822592 -1.583137         0.646818   \n",
       "42942   0.038288    0.710352  2.557903  -1.110249 -0.411252        -0.435199   \n",
       "44966  -0.963823    1.618087  0.442841  -0.590453  1.639547         1.079625   \n",
       "\n",
       "       CRSDepTime_Minute  ...  UniqueCarrier_OO  UniqueCarrier_UA  \\\n",
       "47629          -0.655735  ...                 0                 0   \n",
       "39632           1.025940  ...                 0                 0   \n",
       "46373          -0.375456  ...                 0                 0   \n",
       "42942          -0.543623  ...                 0                 0   \n",
       "44966          -1.440516  ...                 0                 0   \n",
       "\n",
       "       UniqueCarrier_US  UniqueCarrier_WN  UniqueCarrier_XE  UniqueCarrier_YV  \\\n",
       "47629                 0                 1                 0                 0   \n",
       "39632                 0                 0                 0                 0   \n",
       "46373                 0                 0                 0                 0   \n",
       "42942                 0                 0                 0                 0   \n",
       "44966                 0                 0                 0                 0   \n",
       "\n",
       "       C  \n",
       "47629  1  \n",
       "39632  1  \n",
       "46373  1  \n",
       "42942  1  \n",
       "44966  1  \n",
       "\n",
       "[5 rows x 624 columns]"
      ]
     },
     "execution_count": 156,
     "metadata": {},
     "output_type": "execute_result"
    }
   ],
   "source": [
    "X_train.head()"
   ]
  },
  {
   "cell_type": "markdown",
   "metadata": {},
   "source": [
    "**20. (1 балл)** Реализуйте функции, которые вычисляют:\n",
    " * прогнозы линейной модели;\n",
    " * функционал $MSPE$ и его градиент;\n",
    " * регуляризованный $MSPE$ и его градиент."
   ]
  },
  {
   "cell_type": "code",
   "execution_count": 157,
   "metadata": {},
   "outputs": [],
   "source": [
    "# возвращает вектор прогнозов линейной модели с вектором весов w для выборки X\n",
    "def make_pred(X, w):\n",
    "    return np.dot(X,w)"
   ]
  },
  {
   "cell_type": "code",
   "execution_count": 158,
   "metadata": {},
   "outputs": [],
   "source": [
    "# возвращает значение функционала MSPE для выборки (X, y) и вектора весов w\n",
    "def get_func(w, X, y):\n",
    "    Li = (y-make_pred(X, w))/y\n",
    "    return np.dot(Li,Li)/y.shape[0]"
   ]
  },
  {
   "cell_type": "code",
   "execution_count": 159,
   "metadata": {},
   "outputs": [],
   "source": [
    "# возвращает градиент функционала MSPE для выборки (X, y) и вектора весов w\n",
    "def get_grad(w, X, y):\n",
    "    l1 = (y-make_pred(X, w))/y\n",
    "    L = np.dot(X.T, l1/y)\n",
    "    return -2*L/y.shape[0]"
   ]
  },
  {
   "cell_type": "code",
   "execution_count": 160,
   "metadata": {},
   "outputs": [],
   "source": [
    "# возвращает значение регуляризованного функционала MSPE для выборки (X, y) и вектора весов w\n",
    "def get_reg_func(w, X, y):\n",
    "    Li = (y-make_pred(X, w))/y\n",
    "    return np.dot(Li,Li)/y.shape[0]+np.dot(w,w)"
   ]
  },
  {
   "cell_type": "code",
   "execution_count": 161,
   "metadata": {},
   "outputs": [],
   "source": [
    "# возвращает градиент регуляризованного функционала MSPE для выборки (X, y) и вектора весов w\n",
    "def get_reg_grad(w, X, y):\n",
    "    l1 = (y-make_pred(X, w))/y\n",
    "    L = np.dot(X.T, l1/y)\n",
    "    return -2*L/y.shape[0] + 2*w"
   ]
  },
  {
   "cell_type": "markdown",
   "metadata": {},
   "source": [
    "**21. (1 балл)** Реализуйте метод градиентного спуска для описанных функционалов ($MSPE$ и его регуляризованный вариант). Функция должна принимать следующие параметры:\n",
    " - X — матрица \"объект-признак\";\n",
    " - y — вектор целевой переменной;\n",
    " - w0 — начальное значение вектора весов;\n",
    " - step_size — значение темпа обучения;\n",
    " - max_iter — максимальное число итераций;\n",
    " - eps — значение, используемое в критерии останова;\n",
    " - is_reg — бинарный параметр, принимает значение True в случае наличия регуляризации функционала, False — в противном случае.\n",
    " \n",
    "Процесс должен быть остановлен, если выполнено хотя бы одно из следующих условий:\n",
    " - было выполнено заданное количество итераций max_iter;\n",
    " - евклидова норма разности векторов $w$ на соседних итерациях стала меньше, чем eps.\n",
    "\n",
    "Функция должна возвращать полученный в результате оптимизации вектор $w$ и список значений функционала на каждой итерации."
   ]
  },
  {
   "cell_type": "code",
   "execution_count": 162,
   "metadata": {},
   "outputs": [],
   "source": [
    "def grad_descent(X, y, w0, step_size, max_iter=1000, eps=0.0001, is_reg=False):\n",
    "    w_old, w_new = w0, w0\n",
    "    L = [get_reg_func(w_old, X, y)] if is_reg else [get_func(w_old, X, y)]\n",
    "    iteration = 0\n",
    "    while iteration < max_iter and np.linalg.norm(w_old-w_new)>eps if iteration>0 else True:\n",
    "        #print('iter=', iteration, 'L=', L[iteration], 'norm=', np.linalg.norm(w_old-w_new))\n",
    "        w_old = w_new\n",
    "        iteration += 1\n",
    "        if is_reg:\n",
    "            w_new = w_old - step_size*get_reg_grad(w_old, X, y)\n",
    "            L.append(get_reg_func(w_new, X, y))\n",
    "            \n",
    "        else:\n",
    "            w_new = w_old - step_size*get_grad(w_old, X, y)\n",
    "            L.append(get_func(w_new, X, y))\n",
    "    return w_new, L"
   ]
  },
  {
   "cell_type": "markdown",
   "metadata": {},
   "source": [
    "Обучите линейную регрессию с функционалом $MSPE$ на обучающей выборке при помощи метода градиентного спуска и изобразите кривые зависимости значения функционала от номера итерации для различных:\n",
    " * значений размера шага из набора [0.001, 1, 10];\n",
    " * способов начальной инициализации вектора весов (нули, случайные веса).\n",
    "\n",
    "Проанализируйте полученные результаты — влияют ли данные параметры на скорость сходимости и итоговое качество? Если да, то как?"
   ]
  },
  {
   "cell_type": "markdown",
   "metadata": {},
   "source": [
    "__Возьмем те же первые 1000 наблюдений для ускорения выполнения алгоритма и посмотрим на сходимость при разных параметрах:__\n",
    "\n",
    "Помимо указанных в задании значений шага я добавил значение шага равное 1.3. "
   ]
  },
  {
   "cell_type": "code",
   "execution_count": 163,
   "metadata": {},
   "outputs": [],
   "source": [
    "X_train_2, y_train_2 = X_train[:1000], y_train[:1000]\n",
    "w0rand = numpy.random.rand(X_train_2.shape[1])"
   ]
  },
  {
   "cell_type": "code",
   "execution_count": 164,
   "metadata": {},
   "outputs": [
    {
     "data": {
      "image/png": "[encoded data removed]",
      "text/plain": [
       "<Figure size 1800x720 with 8 Axes>"
      ]
     },
     "metadata": {
      "needs_background": "light"
     },
     "output_type": "display_data"
    }
   ],
   "source": [
    "fig = plt.figure(figsize=(25,10))\n",
    "for i, alpha in enumerate([0.001, 1, 1.3, 10, 0.001, 1, 1.3, 10]):   \n",
    "    ax = fig.add_subplot(2, 4, i+1)\n",
    "    if i < 4:\n",
    "        w_opt, Loss = grad_descent(X_train_2, y_train_2, np.zeros(X_train_2.shape[1]), alpha, 1000, 0.0001, False)\n",
    "        Lmin = \"{:.2f}\".format(np.min(Loss)) \n",
    "        ax.set_title('alpha=' + str(alpha) + \" w0 = 0\" + ' min= ' + Lmin)\n",
    "        plt.plot(range(len(Loss)), Loss, c=\"r\")\n",
    "    else: \n",
    "        w_opt, Loss = grad_descent(X_train_2, y_train_2, w0rand , alpha, 1000, 0.0001, False)\n",
    "        Lmin = \"{:.2f}\".format(np.min(Loss)) \n",
    "        ax.set_title('alpha=' + str(alpha) + \" w0 = rand\" + ' min= ' + Lmin)\n",
    "        plt.plot(range(len(Loss)), Loss, c=\"r\")"
   ]
  },
  {
   "cell_type": "markdown",
   "metadata": {},
   "source": [
    "__Вывод:__\n",
    "\n",
    "<font color='blue'> Параметры, конечно, влияют на сходимость.  </font>\n",
    "\n",
    "<font color='blue'> Рассмотрим случай, когда веса инициализируются нулями (верхние графики), в этом случае при маленьких значениях альфа (0.001) алгоритм сходится очень медленно, для больших значений альфа (10) алгоритм моментально расходится (если посмотреть на значения функционала потерь, то он из единицы начинает сразу расти в бесконечность), то есть оптимальный параметр скорости обучения альфа где-то в окрестности 1.5-2.  </font>  \n",
    "\n",
    "<font color='blue'> Рассмотрим случай, когда веса инициализируются случайными величинами, взятыми из равномерного на [0,1] распределения (нижние графики). Поведение алгоритма при различных параметрах альфа такое же, как и в первом случае. Однако стоит отметить, что такая инициализация изменяет схождение алгоритма. Для альфа около 1 алгоритм также сходится примерно к тому же значению функционала потерь к 1000-ой итерации (что и с нулевыми весами), хотя и начинает с большего значения. Для меньших альфа схождение существенно хуже, так как скорость сильно меньше и он не успевает сходиться к тому же уровню, что и алгоритм с нулевыми начальными весами. При больших альфа алгоритм также расходится.  </font>"
   ]
  },
  {
   "cell_type": "markdown",
   "metadata": {},
   "source": [
    "**22. (0.5 балла)** Обучите линейную регрессию с функционалом MSPE и его регуляризованным вариантом на обучающей выборке при помощи метода градиентного спуска и изобразите кривые зависимости значения функционала от номера итерации. Исследуйте зависимость скорости сходимости от наличия регуляризации. Обоснуйте, почему так происходит."
   ]
  },
  {
   "cell_type": "code",
   "execution_count": 166,
   "metadata": {},
   "outputs": [
    {
     "data": {
      "image/png": "[encoded data removed]",
      "text/plain": [
       "<Figure size 1800x720 with 8 Axes>"
      ]
     },
     "metadata": {
      "needs_background": "light"
     },
     "output_type": "display_data"
    }
   ],
   "source": [
    "fig = plt.figure(figsize=(25,10))\n",
    "for i, alpha in enumerate([0.001, 0.01, 1, 2, 0.001, 0.01, 1, 2]):   \n",
    "    ax = fig.add_subplot(2, 4, i+1)\n",
    "    if i < 4:\n",
    "        w_opt, Loss = grad_descent(X_train_2, y_train_2, np.zeros(X_train_2.shape[1]), alpha, 1000, 0.0001, False)\n",
    "        Lmin = \"{:.2f}\".format(np.min(Loss)) \n",
    "        ax.set_title('alpha=' + str(alpha) + \" no Reg\" + ' min= ' + Lmin)\n",
    "        plt.plot(range(len(Loss)), Loss, c=\"r\")\n",
    "    else: \n",
    "        w_opt, Loss = grad_descent(X_train_2, y_train_2, np.zeros(X_train_2.shape[1]) , alpha, 1000, 0.0001, True)\n",
    "        Lmin = \"{:.2f}\".format(np.min(Loss)) \n",
    "        ax.set_title('alpha=' + str(alpha) + \" L2 Reg\" + ' min= ' + Lmin)\n",
    "        plt.plot(range(len(Loss)), Loss, c=\"r\")"
   ]
  },
  {
   "cell_type": "markdown",
   "metadata": {},
   "source": [
    "__Вывод:__\n",
    "\n",
    "<font color='blue'>Наличие регуляризации сильно влияет на сходимость.  </font>\n",
    "\n",
    "<font color='blue'>Во-первых, чтобы сойтись алгоритму с регуляризацией нужны меньшие значения альфа, иначе алгоритм быстро расходится.  Во-вторых, при одинаковых альфа, таких что оба алгоритма сходятся, алгоритм c регуляризацией сходится быстрее: при критерии останова = 0.0001 алгоритм с регуляризацией сходится за 130-340 интераций (в зависимости от выбора альфа), в то время, как алгоритм с регуляризацией еще до конца не сходится к 1000 шагу (но видно, что и не расходится). </font>\n",
    "\n",
    "<font color='blue'>Возможно, регуляризация ограничнивает разброс значений коэффициентов, что ускоряет сходимость алгоритма </font>\n",
    "\n",
    "<font color='blue'>--------------------------- </font>"
   ]
  },
  {
   "cell_type": "markdown",
   "metadata": {},
   "source": [
    "Метод градиентного спуска может быть весьма трудозатратен в случае большого размера обучающей выборки. Поэтому часто используют метод стохастического градиентного спуска, где на каждой итерации выбирается случайный объект из обучающей выборки и обновление весов происходит только по этому объекту. \n",
    "\n",
    "**23. (1 доп. балл)**  Реализуйте метод стохастического градиентного спуска (SGD) для описанных функционалов ($MSPE$ и его регуляризованный вариант). Функция должна иметь параметры и возвращаемое значение, аналогичные оным функции grad\\_descent из п.21. Кроме того, должен использоваться аналогичный критерий останова."
   ]
  },
  {
   "cell_type": "code",
   "execution_count": 167,
   "metadata": {},
   "outputs": [],
   "source": [
    "def sgd(X, y, w0, step_size, max_iter=1000, eps=0.0001, is_reg=False):\n",
    "    w_old, w_new = w0, w0\n",
    "    X0 = X.iloc[0].values.reshape(1, -1)\n",
    "    y0 = np.asarray(y.iloc[0]).reshape(1, -1)[0,:] \n",
    "    L = [get_reg_func(w_old, X0, y0)] if is_reg else [get_func(w_old, X0, y0)]\n",
    "    iteration = 0\n",
    "    while iteration < max_iter and np.linalg.norm(w_old-w_new)>eps if iteration>0 else True:\n",
    "        #print('iter=', iteration, 'L=', L[iteration], 'norm=', np.linalg.norm(w_old-w_new))\n",
    "        ind = numpy.random.randint(0, high=X.shape[0], size=1)[0]\n",
    "        X1 = X.iloc[ind].values.reshape(1, -1)\n",
    "        y1 = np.asarray(y.iloc[ind]).reshape(1, -1)[0,:] \n",
    "        w_old = w_new\n",
    "        iteration += 1\n",
    "        if is_reg:\n",
    "            w_new = w_old - step_size*get_reg_grad(w_old, X1, y1)\n",
    "            L.append(get_reg_func(w_new, X1, y1))\n",
    "            \n",
    "        else:\n",
    "            w_new = w_old - step_size*get_grad(w_old, X1, y1)\n",
    "            L.append(get_func(w_new, X1, y1))\n",
    "    return w_new, L"
   ]
  },
  {
   "cell_type": "markdown",
   "metadata": {},
   "source": [
    "Обучите линейную регрессию с функционалом $MSPE$ и его регуляризованным вариантом на обучающей выборке при помощи метода стохастического градиентного спуска, подобрав при этом размер шага, при котором метод будет сходиться. Нарисуйте график сходимости. Выведите значения $MSPE, MSE, R^2$ на контрольной выборке."
   ]
  },
  {
   "cell_type": "code",
   "execution_count": 168,
   "metadata": {},
   "outputs": [],
   "source": [
    "w0rand = numpy.random.rand(X_train.shape[1])"
   ]
  },
  {
   "cell_type": "markdown",
   "metadata": {},
   "source": [
    "__Алгоритм с регуляризацией__"
   ]
  },
  {
   "cell_type": "code",
   "execution_count": 169,
   "metadata": {},
   "outputs": [],
   "source": [
    "w_opt_r, Loss_r = sgd(X_train, y_train, w0rand , 0.0003, 20000, 0.0001, True)"
   ]
  },
  {
   "cell_type": "code",
   "execution_count": 170,
   "metadata": {},
   "outputs": [
    {
     "data": {
      "text/plain": [
       "Text(0.5, 1.0, 'alpha= 0.0003, L2 Reg, min= 1.03')"
      ]
     },
     "execution_count": 170,
     "metadata": {},
     "output_type": "execute_result"
    },
    {
     "data": {
      "image/png": "[encoded data removed]",
      "text/plain": [
       "<Figure size 432x288 with 1 Axes>"
      ]
     },
     "metadata": {
      "needs_background": "light"
     },
     "output_type": "display_data"
    }
   ],
   "source": [
    "plt.plot(range(len(Loss_r)), Loss_r, c=\"r\")\n",
    "Lmin = \"{:.2f}\".format(Loss_r[-1]) \n",
    "plt.title('alpha= 0.0003,'+ \" L2 Reg,\" + ' min= ' + Lmin)"
   ]
  },
  {
   "cell_type": "markdown",
   "metadata": {},
   "source": [
    "__Алгоритм без регуляризации__"
   ]
  },
  {
   "cell_type": "code",
   "execution_count": 171,
   "metadata": {},
   "outputs": [],
   "source": [
    "w_opt, Loss = sgd(X_train, y_train, w0rand , 0.008, 20000, 0.0001, False)"
   ]
  },
  {
   "cell_type": "code",
   "execution_count": 172,
   "metadata": {},
   "outputs": [
    {
     "data": {
      "text/plain": [
       "Text(0.5, 1.0, 'alpha= 0.0003, no Reg, min= 1.00')"
      ]
     },
     "execution_count": 172,
     "metadata": {},
     "output_type": "execute_result"
    },
    {
     "data": {
      "image/png": "[encoded data removed]",
      "text/plain": [
       "<Figure size 432x288 with 1 Axes>"
      ]
     },
     "metadata": {
      "needs_background": "light"
     },
     "output_type": "display_data"
    }
   ],
   "source": [
    "plt.plot(range(len(Loss)), Loss, c=\"r\")\n",
    "Lmin = \"{:.2f}\".format(Loss[-1]) \n",
    "plt.title('alpha= 0.0003,'+ \" no Reg,\" + ' min= ' + Lmin)"
   ]
  },
  {
   "cell_type": "markdown",
   "metadata": {},
   "source": [
    "Здесь я выведу значения $MSPE, MSE, R^2$ на контрольной выборке."
   ]
  },
  {
   "cell_type": "code",
   "execution_count": 173,
   "metadata": {},
   "outputs": [],
   "source": [
    "pred_sgd_noReg = make_pred(X_test, w_opt)\n",
    "pred_sgd_L2Reg = make_pred(X_test, w_opt_r)"
   ]
  },
  {
   "cell_type": "code",
   "execution_count": 174,
   "metadata": {},
   "outputs": [
    {
     "name": "stdout",
     "output_type": "stream",
     "text": [
      "-------No Regularization-------\n",
      "MSPE 0.9669 \n",
      "MSE 1464.1006 \n",
      "R2  -0.0945 \n",
      "\n",
      "-------L2 Regularization-------\n",
      "MSPE 1.0005 \n",
      "MSE 1455.8713 \n",
      "R2  -0.0884 \n"
     ]
    }
   ],
   "source": [
    "print('-------No Regularization-------')\n",
    "print('MSPE %0.4f \\nMSE %0.4f \\nR2  %0.4f ' %(get_func(w_opt, X_test, y_test), mse(y_test, pred_sgd_noReg),\n",
    "                                                 r2_score(y_test, pred_sgd_noReg)))\n",
    "print('\\n-------L2 Regularization-------')\n",
    "print('MSPE %0.4f \\nMSE %0.4f \\nR2  %0.4f ' %(get_reg_func(w_opt_r, X_test, y_test), mse(y_test, pred_sgd_L2Reg), \n",
    "                                                 r2_score(y_test, pred_sgd_L2Reg)))"
   ]
  },
  {
   "cell_type": "markdown",
   "metadata": {},
   "source": [
    "**24. (0.5 доп. балла)** Аналогично п.22 исследуйте зависимость скорости сходимости метода SGD от наличия регуляризации. Обоснуйте, почему так происходит."
   ]
  },
  {
   "cell_type": "code",
   "execution_count": 175,
   "metadata": {},
   "outputs": [
    {
     "data": {
      "image/png": "[encoded data removed]",
      "text/plain": [
       "<Figure size 1800x720 with 8 Axes>"
      ]
     },
     "metadata": {
      "needs_background": "light"
     },
     "output_type": "display_data"
    }
   ],
   "source": [
    "fig = plt.figure(figsize=(25,10))\n",
    "for i, alpha in enumerate([0.0003, 0.008, 0.01, 0.0001, 0.0003, 0.008, 0.01, 0.0001]):   \n",
    "    ax = fig.add_subplot(2, 4, i+1)\n",
    "    if i < 4:\n",
    "        w_opt, Loss = sgd(X_train, y_train, w0rand, alpha, 20000, 0.0001, False)\n",
    "        ax.set_title('alpha=' + str(alpha) + \" no Reg\")\n",
    "        plt.plot(range(len(Loss)), Loss, c=\"r\")\n",
    "    else: \n",
    "        w_opt, Loss = sgd(X_train, y_train, w0rand , alpha, 20000, 0.0001, True)\n",
    "        ax.set_title('alpha=' + str(alpha) + \" L2 Reg\")\n",
    "        plt.plot(range(len(Loss)), Loss, c=\"r\")"
   ]
  },
  {
   "cell_type": "markdown",
   "metadata": {},
   "source": [
    "__Вывод:__\n",
    "    \n",
    "<font color='blue'>Как и в случае выше, мы видим, что регуляризация (нижний ряд) улучшает сходимость. Алгоритм без регуляризации ведет себя нестабильно и расходится при многих значениях альфа, чего не происходит с алгоритмом с резуляризацией.  </font>\n",
    "\n",
    "<font color='blue'>Как уже было сказано выше, возможно, регуляризация позволяет снижать колебания весов, тем самым алгоритм становится более устойчивым в смысле сходимости. </font>"
   ]
  },
  {
   "cell_type": "markdown",
   "metadata": {},
   "source": [
    "**25. (0.5 балла)** Обучите стандартную линейную регрессию с функционалом качества MSE на обучающей выборке и выведите значение MSPE полученного решения на контрольной выборке. Как оно соотносится с аналогичным результатом для решения, полученного в п.22? Почему?"
   ]
  },
  {
   "cell_type": "code",
   "execution_count": 176,
   "metadata": {},
   "outputs": [],
   "source": [
    "LinReg_fin = LinearRegression()\n",
    "LinReg_fin.fit(X_train, y_train)\n",
    "w_linReg = LinReg_fin.coef_\n",
    "pred_linReg = LinReg_fin.predict(X_test)"
   ]
  },
  {
   "cell_type": "code",
   "execution_count": 177,
   "metadata": {},
   "outputs": [
    {
     "data": {
      "text/plain": [
       "(624,)"
      ]
     },
     "execution_count": 177,
     "metadata": {},
     "output_type": "execute_result"
    }
   ],
   "source": [
    "w_linReg.shape"
   ]
  },
  {
   "cell_type": "markdown",
   "metadata": {},
   "source": [
    "<font color='blue'>В задании просят сравнить результаты модели, обученной на полной тренировочной, а это было сделано в пункте __23__. </font>"
   ]
  },
  {
   "cell_type": "code",
   "execution_count": 178,
   "metadata": {},
   "outputs": [
    {
     "name": "stdout",
     "output_type": "stream",
     "text": [
      "MSPE 15.0615 \n",
      "R2  0.0301\n"
     ]
    }
   ],
   "source": [
    "print('MSPE %0.4f \\nR2  %0.4f' % (get_func(w_linReg, X_test, y_test), r2_score(y_test, pred_linReg)))"
   ]
  },
  {
   "cell_type": "markdown",
   "metadata": {},
   "source": [
    "<font color='blue'>Результаты, полученные при обучении регрессии с функционалом $MSPE$ и его регуляризованным вариантом на полной обучающей выборке при помощи метода стохастического градиентного спуска (пункт 23): </font>"
   ]
  },
  {
   "cell_type": "code",
   "execution_count": 181,
   "metadata": {},
   "outputs": [
    {
     "name": "stdout",
     "output_type": "stream",
     "text": [
      "-------No Regularization-------\n",
      "MSPE 0.9826 \n",
      "MSE 1464.1006 \n",
      "R2  -0.0945 \n",
      "\n",
      "-------L2 Regularization-------\n",
      "MSPE 1.0005 \n",
      "MSE 1455.8713 \n",
      "R2  -0.0884 \n"
     ]
    }
   ],
   "source": [
    "print('-------No Regularization-------')\n",
    "print('MSPE %0.4f \\nMSE %0.4f \\nR2  %0.4f ' %(get_func(w_opt, X_test, y_test), mse(y_test, pred_sgd_noReg),\n",
    "                                                 r2_score(y_test, pred_sgd_noReg)))\n",
    "print('\\n-------L2 Regularization-------')\n",
    "print('MSPE %0.4f \\nMSE %0.4f \\nR2  %0.4f ' %(get_reg_func(w_opt_r, X_test, y_test), mse(y_test, pred_sgd_L2Reg), \n",
    "                                                 r2_score(y_test, pred_sgd_L2Reg)))"
   ]
  },
  {
   "cell_type": "markdown",
   "metadata": {},
   "source": [
    "Результаты простой линейной регрессии, обученной по полной обучающей выборке с функционалом $MSE$ и подсчитаным для нее $MSPE$ (пункт 25):"
   ]
  },
  {
   "cell_type": "code",
   "execution_count": 182,
   "metadata": {},
   "outputs": [
    {
     "name": "stdout",
     "output_type": "stream",
     "text": [
      "MSPE 15.0615 \n",
      "MSE 1297.4159 \n",
      "R2  0.0301\n"
     ]
    }
   ],
   "source": [
    "print('MSPE %0.4f \\nMSE %0.4f \\nR2  %0.4f' % (get_func(w_linReg, X_test, y_test), mse(y_test, pred_linReg), \n",
    "                                              r2_score(y_test, pred_linReg)))"
   ]
  },
  {
   "cell_type": "markdown",
   "metadata": {},
   "source": [
    "__Вывод:__\n",
    "\n",
    "<font color='blue'>Как мы уже видели ранее, простая линейная регрессия с функционалом $MSE$ характеризуется проблемой переобучения, то есть показывает очень плохой результат на тестовой выборке, хуже чем модель с константой. </font>\n",
    "\n",
    "<font color='blue'>Если же сравнить её результаты с результатами регрессии с функционалом $MSPE$, то можно увидеть, что и $MSE$ и $MSPE$ на тестовой выборке для модели, обученной градиентным спуском с функционалом $MSPE$ в тысячи раз меньше, чем у обычной регрессии. При этом $R^2$ хоть и отрицательный, но он очень близок к 0, тогда как в обычной регрессии (с функционалом $MSE$) он сильно отрицательный. </font>\n",
    "\n",
    "<font color='blue'>Если посмотреть на получившиеся коэффициенты в двух моделях (ниже), то можно заметить, что в регрессии с функционалом $MSE$ явно наблюдается симптом переобучения - экстремальные коэффициенты, в то время как в регрессии с функционалом $MSPE$ коэффициенты стянуты к 0 (даже без регуляризации), можно предположить, что функционал $MSPE$ помогает бороться с переобучением в данном случае. </font>"
   ]
  },
  {
   "cell_type": "markdown",
   "metadata": {},
   "source": [
    "<font color='blue'> Коэффициенты в регрессии с функционалом $MSE$:</font>"
   ]
  },
  {
   "cell_type": "code",
   "execution_count": 183,
   "metadata": {},
   "outputs": [
    {
     "data": {
      "text/plain": [
       "array([ 3.42854248e-01,  2.02057195e-01,  5.62868657e-01,  1.08076870e+00,\n",
       "       -1.06811350e+00,  3.66831186e+00,  5.02557379e-01,  2.09213956e+00,\n",
       "        1.60226259e-01,  4.04390433e+00, -7.76631939e+00,  2.50422844e+00,\n",
       "       -7.61350580e+00,  1.40332190e-13,  3.97988346e-01, -5.70459443e+00,\n",
       "       -1.92992952e+01, -5.81855964e+00,  3.81450365e-01,  6.02043614e+00,\n",
       "       -4.02406899e+00, -1.00209540e+01, -5.90078093e-01, -2.51377990e+00,\n",
       "        2.10538287e+00,  5.48322868e+00,  4.35302903e+00, -1.18179369e+01,\n",
       "       -1.46156617e+00,  5.90425137e-01, -3.08778366e+00, -1.04058802e+01,\n",
       "        4.65298733e+00,  1.66366809e+01, -1.37906497e+00, -5.30654847e+00,\n",
       "        2.31294227e-01, -4.14821191e+00, -1.07422245e+01, -6.52258352e+00,\n",
       "       -1.10428592e+01, -2.41533957e+01,  7.82732784e+00,  4.94774983e-01,\n",
       "        2.03840442e-01,  6.11855798e+00, -2.74128274e+01,  3.10237532e+00,\n",
       "       -5.52394624e+00,  1.17319314e+01,  3.07575403e+00, -1.10781933e+01,\n",
       "       -5.34063073e-01,  7.48710795e+00,  1.94285225e+00, -1.40854889e+00,\n",
       "        2.12680879e+00,  1.68083711e+00, -3.84423709e+00, -2.68501699e+00,\n",
       "       -1.38066096e+01,  3.10721936e+00, -2.42748123e+00,  4.70848983e+00,\n",
       "        2.40028329e+01,  5.73650559e+00, -2.72281072e+00, -4.02667415e-01,\n",
       "       -3.31820837e+00, -1.58230990e+00, -2.15761511e+00, -2.56576174e-02,\n",
       "        3.28559320e+00,  6.27105208e+00, -2.03852284e+01,  8.86768725e+00,\n",
       "       -1.14707946e+00, -7.14673843e+00,  1.51865256e+00, -3.74711572e+00,\n",
       "        3.72882352e+00,  4.44660281e+00,  9.23720706e+00, -8.10773462e-02,\n",
       "       -1.57331577e-01,  4.43426542e+00, -4.72447741e+00,  2.25248741e+00,\n",
       "        3.11801196e+00,  2.62487403e+00,  3.01855523e+00, -8.70414851e-14,\n",
       "       -4.72864713e+00, -1.63230607e+01, -1.65906971e+00,  2.79258991e+00,\n",
       "       -1.61890039e+00, -2.75125623e+00, -6.84034099e+00, -4.72938861e-01,\n",
       "       -8.76002934e+00,  1.73697118e+00, -1.43365947e-01, -1.08030732e+01,\n",
       "        1.75651574e+01, -1.09184370e+01, -1.73971068e+00, -4.89945385e+00,\n",
       "       -2.26801441e+00,  2.97245562e+01, -1.17278219e+01, -2.07470816e+01,\n",
       "        1.62720909e+00, -1.22002747e+01, -1.53405814e-01, -2.11784323e+00,\n",
       "       -6.45170195e+00,  6.67132377e+00, -1.33877021e+01, -4.19838554e+00,\n",
       "       -9.39650068e+00,  1.81005160e+01, -4.62424821e+00, -1.64997389e+00,\n",
       "       -3.23327356e+00, -1.06355625e+00, -6.16099272e+00,  1.43307237e+00,\n",
       "        3.61751880e-01,  4.23534102e+00, -3.21964677e-14,  1.27176345e+01,\n",
       "       -1.06810594e+01,  1.58063586e+01, -9.79861297e+00, -1.58761893e-14,\n",
       "        2.53519058e+00,  2.24594861e+00,  1.67801611e+00,  2.37494568e+00,\n",
       "       -1.77431386e+00,  5.22054493e+00, -1.30436338e+01,  2.45005475e+00,\n",
       "        3.89383602e+00,  3.17338967e-01, -1.86022506e+00, -4.68591129e+00,\n",
       "        1.63074001e+00, -7.28306304e-14, -5.27610453e+00, -9.26990344e-01,\n",
       "       -1.37968946e+01, -7.98213795e-01, -1.04390628e+01,  9.18486635e-01,\n",
       "        6.99575279e+00,  2.18411326e+00,  1.01265221e+01,  2.63622513e+01,\n",
       "       -2.00902768e-01,  1.29656858e+01,  2.01342330e+00,  2.72421742e+00,\n",
       "        1.97884131e+01,  9.29921575e-01,  8.27583854e+00,  5.40819061e+01,\n",
       "        3.88354368e+00,  2.88081044e+00,  1.13052615e+01, -4.66363942e+00,\n",
       "       -6.78771295e-01,  3.26079569e+00,  4.06758263e+01,  9.06742368e-01,\n",
       "       -3.73993703e+00, -1.28755175e+01, -1.15854859e+01, -6.69447088e+00,\n",
       "       -5.25258748e+00, -5.12028436e+00, -8.85681650e+00,  1.33597246e+00,\n",
       "        4.13122341e+01,  2.58327733e+00, -4.85000299e+00,  2.82426800e-01,\n",
       "       -8.65699062e+00,  2.40408893e+00, -1.55719990e+00,  1.65094093e+00,\n",
       "        1.20559180e+01, -1.12037364e+00,  6.62511146e+00,  3.18150626e+00,\n",
       "       -6.55045607e+00,  1.01870605e+01,  1.76025119e+00,  2.83060871e-01,\n",
       "        3.30191823e+00,  6.14014517e+00, -1.96989117e+01,  1.84586225e+01,\n",
       "       -6.96728989e+00, -8.52444892e-01,  3.22572883e+00,  4.18335806e+00,\n",
       "        1.53503022e-01,  2.44837355e+00,  4.79239934e+00, -1.25908564e+01,\n",
       "        3.65721528e+00, -1.46528630e+00,  3.67388988e+00,  2.10678324e+00,\n",
       "        3.29899014e+00, -2.44546589e+00,  1.01525091e+01, -1.02674990e+00,\n",
       "       -1.24321703e+00,  5.19079499e+00, -8.12748473e+00,  7.67259688e-01,\n",
       "        1.93578969e+00,  4.05866872e+01,  6.41940001e+00,  5.14454389e+00,\n",
       "        7.25581519e-03, -5.61879184e+00, -5.81522655e+00, -5.31163735e-01,\n",
       "       -1.13088975e+01, -7.15146196e+00, -2.58880587e+00, -7.15666806e+00,\n",
       "       -6.36636996e+00,  2.24006743e+01,  7.65798965e+00, -1.11173887e+00,\n",
       "       -1.13318074e+00,  2.07137154e+00,  9.14543344e-01, -3.31658755e+00,\n",
       "        2.83695257e+00,  5.90638649e-14, -9.45708339e+00,  1.03940683e+01,\n",
       "       -1.00834432e+01,  4.41630870e+00, -4.61119720e+00, -6.28653423e+00,\n",
       "        1.10699260e+01, -7.27684898e+00, -6.38394600e-01, -2.09814897e-01,\n",
       "        2.01919668e+00,  3.12601670e-01, -2.74258139e+00,  1.63431333e+00,\n",
       "       -6.21927007e+00,  1.91753756e+00, -9.21184854e+00,  5.13084600e+00,\n",
       "        6.95159571e-01,  6.96164156e+00, -5.13179786e-01, -5.85816313e+00,\n",
       "       -4.05872494e-01, -1.32373492e+01,  3.45814687e-01, -1.64088240e+00,\n",
       "        9.04589199e+00,  2.55830799e+00, -1.45710916e+01,  8.84833591e-01,\n",
       "        9.01574765e+00, -1.10842868e+00,  4.77834727e+00, -1.52659141e+00,\n",
       "       -5.22755658e-02,  1.52501649e+00,  4.67853020e+00, -7.79871050e+00,\n",
       "       -1.30674238e+00,  2.75335310e-14,  6.15052217e+00, -3.39918038e-02,\n",
       "       -5.45993770e+00, -1.17192492e+01,  6.47989000e-01, -1.00481580e+01,\n",
       "        4.03121354e+00,  1.67933987e+00, -5.27588515e+00, -6.72878412e+00,\n",
       "       -2.19396986e+00, -7.33917351e+00,  2.64138773e+00, -9.28499203e+00,\n",
       "        5.66722934e+00,  4.31957393e+01, -1.90089832e+00,  4.08199943e+00,\n",
       "       -1.97208216e+01, -1.60206776e+01, -1.63573180e+01,  5.01348970e+00,\n",
       "        3.06398512e+00, -8.02837758e-01, -2.50296679e+00,  2.25233027e+01,\n",
       "        5.72880691e-02, -8.82263810e+00, -1.92007083e+01,  3.14129412e+01,\n",
       "       -1.63271088e+01, -3.63683274e+00,  2.28784709e+01,  1.68753900e-14,\n",
       "       -2.23485911e+00, -5.00678628e+00, -4.75891776e+00,  3.31964697e+00,\n",
       "       -4.52594734e-01,  1.68043218e+00, -6.81222460e-01, -6.40965922e-01,\n",
       "       -6.98131381e+00, -6.29646825e+00, -5.62733588e-01,  4.01084617e+00,\n",
       "        1.34003496e+00, -1.09764604e+01,  1.26907242e+01, -1.48076105e+01,\n",
       "       -3.91511338e-01, -5.37328516e+00,  1.46095397e+00, -7.01941410e+00,\n",
       "       -3.84489992e+00,  1.84450390e-01, -5.59673358e-01,  1.28463311e+00,\n",
       "       -1.10413261e+01, -1.03735902e+01, -1.16651690e+01,  1.34710744e+01,\n",
       "       -1.19970903e+01,  4.96071205e+00,  3.27331316e+00, -2.17893724e+00,\n",
       "       -1.48539754e+00,  9.46568386e-01,  2.61189958e+00,  1.59034703e+01,\n",
       "        7.11798786e+00, -5.38187972e+00, -3.09785730e+00,  9.89659571e+00,\n",
       "        3.12417410e+00,  2.20606625e+01,  5.08828010e-01, -8.31668405e+00,\n",
       "       -1.50552135e+00, -2.89789254e+00, -3.77917858e+00,  1.40386445e+00,\n",
       "        1.47525744e+00,  1.99336492e+00,  1.52986437e+00, -7.39017493e+00,\n",
       "       -9.51858997e+00, -2.20466132e+00, -5.90767533e-01, -7.67410085e+00,\n",
       "        2.17365505e+00, -1.41961057e+01, -2.92828778e+00, -8.30109768e+00,\n",
       "       -8.94067048e-01,  1.85065581e-01, -1.59799433e+00, -1.71816023e+01,\n",
       "        3.29051048e-01,  2.30750003e+00,  4.29304022e+00, -7.17039729e-01,\n",
       "       -5.18135905e+00, -1.07651832e+01, -5.60855595e+00,  2.87765589e+00,\n",
       "       -1.88974857e+00,  1.69554172e+00, -7.47070035e+00, -5.78350922e-01,\n",
       "       -6.34048302e+00, -3.16856887e+00, -8.86992992e+00,  5.63758682e+01,\n",
       "        1.17526175e+01, -1.31819092e+01, -5.20372416e+00,  1.41465571e+01,\n",
       "        9.41983866e-01,  1.98034367e+01, -4.54465874e+00, -1.47771128e+01,\n",
       "       -2.74974840e-01, -8.51357932e+00, -2.18634115e+00,  1.36843685e+01,\n",
       "       -6.83148645e+00,  1.43479863e+00, -6.99570587e+00,  5.52047907e-01,\n",
       "        7.75211180e+00, -2.12557358e+01, -6.92146386e+00, -1.55702112e+01,\n",
       "       -3.45481720e+00, -5.89929591e+00,  1.11901908e+00,  1.75173202e+00,\n",
       "       -2.27787285e+00, -5.07762311e+00, -1.25612036e+01, -5.03601782e+00,\n",
       "        1.01681513e+01, -2.24199044e+01,  4.62571746e+00, -7.04006497e+00,\n",
       "       -5.59455670e+00, -2.13803344e+00,  3.61470478e+00, -1.58154273e-01,\n",
       "       -2.30699973e+00,  7.89757959e+00, -1.92710461e+01,  3.48589866e+00,\n",
       "        3.51324649e+00,  3.70389617e+00, -6.00890304e+00, -1.63866899e+00,\n",
       "        2.19526462e+00, -2.64471578e+00, -8.77696994e+00, -3.03182114e+00,\n",
       "        1.80073355e+01, -1.95265156e+00, -2.94036365e+00,  5.59558813e+00,\n",
       "        2.19543132e+00, -2.26281545e-02,  4.26764521e+00,  1.44673900e+01,\n",
       "       -6.04863635e+00, -8.81286860e+00, -1.34566570e+00,  1.43481383e+00,\n",
       "        1.66222529e+01, -1.47382892e+00,  4.39916544e+00,  2.54114594e+01,\n",
       "        1.15678804e+01, -7.33860257e+00,  1.17704061e+00, -5.56819187e+00,\n",
       "       -6.69931067e+00,  2.83329055e+00, -1.23617938e+01,  8.36189285e+00,\n",
       "       -3.93101629e+00, -1.51334289e+01, -1.98867009e+01, -2.30529763e+00,\n",
       "       -1.58834307e+01, -6.48742600e+00,  3.13840460e+01, -7.11588009e-01,\n",
       "       -1.17892284e+01,  2.82495444e+00, -9.12756921e+00,  3.84099730e+00,\n",
       "       -1.11303220e+01,  1.47698939e+00, -4.56895775e+00,  1.16798101e+01,\n",
       "       -3.63115202e+00,  3.71214218e+00,  5.68896288e+00,  2.94430599e+00,\n",
       "       -3.70372734e+00, -8.46444848e+00, -6.10677971e+00, -7.48911978e+00,\n",
       "       -1.57181830e-01,  4.61495909e+00, -1.12404544e+01,  1.77020107e+01,\n",
       "       -3.26455447e+00,  2.30047048e+00, -8.60950857e+00,  2.35391782e+00,\n",
       "        3.82416647e+00, -1.69158814e+01,  3.37312911e+00, -7.15031000e+00,\n",
       "       -1.49425667e-01, -5.63676956e+00, -4.20682753e+00, -1.26258894e+00,\n",
       "       -9.08204363e-01, -1.93635138e+00,  9.32956668e+00, -2.31902641e-01,\n",
       "        5.26870774e+00,  1.25907475e+01, -4.12677864e+00, -1.50639838e+00,\n",
       "        3.21401349e-01, -5.38610957e+00,  4.91374383e+00,  4.96232162e+00,\n",
       "        1.28538947e+00,  1.66755108e+00,  1.32159634e+01,  1.87956437e+00,\n",
       "        2.11835495e+00, -1.83820095e+00,  9.50969152e+00, -4.35736356e-01,\n",
       "       -1.41356373e+01, -2.39130224e+01, -2.80708123e+00,  3.39783494e-01,\n",
       "        5.16418349e+00, -5.52350393e+00, -1.07009009e+01,  1.60925881e+00,\n",
       "        6.78811419e-02, -1.37048251e+01,  6.62815343e+01,  6.42104691e+00,\n",
       "       -1.73993976e+01, -2.54321787e+00, -5.27169342e+00,  3.08970393e+00,\n",
       "        3.19914230e+01, -4.72465551e+00,  2.33272119e+00, -8.59568830e-01,\n",
       "       -9.90194013e-01,  1.83679220e+00, -2.68276802e+00,  1.58085512e+01,\n",
       "       -2.24970216e+00,  1.20945074e+00,  3.67656723e+01,  8.79264872e+00,\n",
       "        1.45060681e+00,  5.39637788e+00,  6.96282299e-01,  6.88413062e+00,\n",
       "        4.12402343e+00,  4.45151404e+01, -3.07730322e+00, -8.61957338e+00,\n",
       "       -2.93570867e+00,  4.50193187e-01, -5.14139648e+00,  1.23133407e+00,\n",
       "       -5.62487068e-01, -1.71561072e+00,  2.38934013e+01,  3.05721422e+01,\n",
       "        5.31441481e+00,  7.53722307e-01, -6.61052430e+00, -1.83128770e+01,\n",
       "        6.61961053e+00, -1.31565737e+01,  2.91643827e+00, -5.84197753e-01,\n",
       "       -3.31853685e+00, -1.36614161e+00,  9.77232540e+00,  1.30294249e-01,\n",
       "       -7.79691227e-01, -1.78914700e+00, -1.92814207e+00,  1.45745446e+01,\n",
       "        5.39054396e+00, -2.64273066e+00, -9.68375650e+00, -8.19390740e-01,\n",
       "       -8.11558284e+00,  5.05584797e+00,  1.78910381e+01,  9.02715070e+00,\n",
       "       -2.54917447e+01, -8.70439632e+00, -1.00717380e+01, -3.09178565e+00,\n",
       "        6.78708849e-01, -4.45579118e+00, -1.18419969e+00,  1.56722157e+00,\n",
       "        1.21483442e-01, -1.56648546e+00,  2.22969966e+00, -2.71806620e+00,\n",
       "       -6.01946877e-01, -8.41417680e-01, -6.74291095e-01, -3.97236178e+00,\n",
       "        8.17681380e+00, -2.89584079e+00,  2.35418563e+00, -3.31073204e+00,\n",
       "        3.74073862e+00,  4.45800696e-01,  5.99826619e+00,  0.00000000e+00])"
      ]
     },
     "execution_count": 183,
     "metadata": {},
     "output_type": "execute_result"
    }
   ],
   "source": [
    "LinReg_fin.coef_"
   ]
  },
  {
   "cell_type": "code",
   "execution_count": 184,
   "metadata": {},
   "outputs": [
    {
     "data": {
      "text/plain": [
       "array([ 1.02477522e-02,  9.00474070e-04,  3.04075872e-02,  1.31914414e-02,\n",
       "       -6.51691936e-03,  2.99714770e-02,  1.02449584e-02,  3.09708947e-02,\n",
       "        1.50628078e-02,  1.33758588e-02,  9.43774527e-04,  2.49150185e-02,\n",
       "        6.59322490e-04,  1.13822050e-02,  1.73351975e-02,  3.05669129e-02,\n",
       "        1.16661265e-02,  1.53846942e-02,  1.44423072e-02,  6.14839380e-03,\n",
       "        2.55504246e-02,  5.89701548e-03,  1.26271342e-03,  2.74357805e-02,\n",
       "        6.37085459e-03,  1.53384372e-02,  8.45714042e-04,  3.96311887e-03,\n",
       "        1.97059726e-02,  5.12302264e-03,  9.40669726e-03,  2.21775992e-02,\n",
       "        1.73971872e-02,  2.77543901e-02,  6.62813535e-03,  2.15522254e-02,\n",
       "        1.89350471e-02,  3.27654146e-02,  1.92362829e-02,  2.49980458e-03,\n",
       "        1.17982991e-02,  1.14011523e-02,  3.39319995e-02,  1.88255772e-02,\n",
       "        3.28453818e-02,  1.43204820e-04,  2.93075234e-02,  3.46625587e-02,\n",
       "        2.59396399e-02,  2.76243474e-02,  1.02855837e-03,  2.78641370e-02,\n",
       "        3.29758451e-02,  6.43743050e-03,  1.84620192e-02,  2.24495084e-02,\n",
       "        3.12799631e-02,  1.06157931e-02,  1.56481758e-02,  1.68871624e-02,\n",
       "        7.70724077e-03,  6.55193480e-03,  2.61181224e-02,  7.98984662e-04,\n",
       "        3.26756937e-02,  2.03784557e-02,  3.20867203e-02,  1.28537756e-02,\n",
       "        2.77346382e-02,  1.12546849e-02,  6.01012080e-03,  8.15423229e-03,\n",
       "        2.00358270e-02,  5.32921887e-03,  5.73347345e-03,  2.85491826e-02,\n",
       "        3.10317147e-02,  5.63040157e-03,  1.32567753e-02,  3.11510999e-02,\n",
       "        3.26931089e-02,  1.52581428e-02,  9.94212930e-04,  1.93308234e-02,\n",
       "        1.64513275e-02,  3.74958619e-03,  1.77834691e-02,  2.53320120e-02,\n",
       "        1.63389117e-02, -2.78950965e-03,  3.10489960e-02,  3.25062654e-03,\n",
       "        2.26569863e-02,  1.84165624e-02,  2.99543339e-02,  7.83904140e-03,\n",
       "        2.14643518e-02,  2.37816673e-02,  1.38515624e-02,  4.78137423e-03,\n",
       "        3.18759925e-02,  7.06011670e-03,  1.37956381e-02,  1.17135195e-02,\n",
       "        1.80611467e-02,  1.65265400e-02,  1.19624928e-02,  1.11750685e-02,\n",
       "       -3.54694325e-04,  1.98936050e-02,  4.89823228e-03,  3.96545658e-03,\n",
       "        3.27490718e-02,  1.28078143e-02,  1.40290354e-02,  7.68010983e-03,\n",
       "        1.55246405e-02,  1.48075569e-02,  2.22023030e-02,  3.39975763e-02,\n",
       "        2.61530981e-02,  1.17593402e-02,  2.94467166e-02,  1.33698997e-02,\n",
       "        2.49532535e-03,  2.86592754e-03,  1.79051823e-02,  5.50066073e-03,\n",
       "        2.00968866e-02,  2.83765639e-02,  5.62516564e-03,  1.80003993e-02,\n",
       "        2.75960363e-02,  1.11500289e-02,  2.16901482e-02,  3.11213728e-02,\n",
       "        2.06899079e-03,  9.36022050e-03,  2.27690675e-02,  5.24920982e-03,\n",
       "        2.72047362e-03,  4.95054319e-03,  2.13723306e-02,  9.93459290e-03,\n",
       "        2.02500159e-02,  2.43743741e-02,  9.99360726e-03,  1.37321300e-03,\n",
       "        3.09311865e-02,  3.11171649e-02,  3.86011281e-05,  5.03544670e-03,\n",
       "        2.77720973e-02,  2.66185199e-02,  2.55690765e-02,  1.45387974e-04,\n",
       "        6.12611600e-03,  2.64966305e-02, -1.63332277e-03,  7.63632395e-03,\n",
       "        2.70996376e-02,  3.20338917e-02,  1.25784456e-02,  2.93774553e-02,\n",
       "        2.41668491e-02,  1.25799325e-03,  3.45316739e-02,  2.70905911e-02,\n",
       "        4.90454382e-03,  8.14586112e-03,  1.53483015e-02,  2.64896984e-02,\n",
       "        3.14008309e-02,  3.29253925e-02,  3.75020089e-03,  1.35847944e-02,\n",
       "        3.14405286e-02,  3.07119423e-02,  3.02120195e-02,  3.35939377e-02,\n",
       "        3.43727914e-02,  2.61838323e-02,  4.22899889e-03,  2.27317001e-02,\n",
       "        3.11957920e-02,  1.58492562e-03,  2.48379702e-02,  2.00654800e-02,\n",
       "        2.59651625e-02,  2.81186073e-02,  3.18492846e-02,  2.81049695e-02,\n",
       "        1.02783184e-02,  8.29005139e-03,  7.08116091e-03,  8.33165337e-03,\n",
       "        3.05087641e-03,  1.28089058e-02,  1.90408073e-02,  3.18986418e-02,\n",
       "        3.34228261e-02,  5.30059354e-03,  1.17150638e-02,  2.36949882e-02,\n",
       "        2.45512670e-02,  2.90584898e-02,  3.19157157e-02,  1.28829764e-02,\n",
       "        3.17796660e-02,  6.04623905e-03,  2.35782519e-02,  2.92541101e-02,\n",
       "        3.40157297e-02,  2.91907458e-02,  2.42078178e-02,  2.61876383e-03,\n",
       "        2.62082474e-02,  6.67633060e-03,  9.99899139e-03,  2.70336162e-02,\n",
       "        2.23145610e-02,  2.01296922e-02,  1.71412074e-02,  2.77104686e-02,\n",
       "        2.62336364e-02,  1.44712972e-02,  3.39174328e-02,  3.12276872e-02,\n",
       "        2.05454926e-02,  6.49054906e-03,  8.96979185e-03,  1.24086822e-02,\n",
       "        1.44059406e-03,  2.52783042e-02,  5.58805397e-03,  3.38030061e-02,\n",
       "        1.51253109e-02,  1.91796073e-02,  1.24942564e-02,  4.13089912e-03,\n",
       "        3.14832127e-02,  7.52120215e-03,  9.93342710e-03,  2.41712999e-02,\n",
       "        2.41697434e-02,  2.16773756e-02,  2.27508700e-02,  3.58042478e-03,\n",
       "        2.22871572e-03,  2.84377790e-02,  1.06752374e-02,  1.10277726e-02,\n",
       "        1.66234006e-02,  1.71653741e-02,  3.05156008e-02,  3.38188040e-03,\n",
       "        1.92672198e-02,  2.04874453e-02,  2.46521632e-02,  1.32603773e-02,\n",
       "        5.08027288e-03,  1.44577712e-03,  8.92247699e-03,  3.16077293e-03,\n",
       "        2.60201738e-02,  4.45797608e-04,  2.65252927e-02,  7.89481979e-03,\n",
       "        2.99811095e-03,  1.49858471e-02,  2.27233704e-02,  1.93854545e-02,\n",
       "        3.15758138e-02,  3.19013712e-02,  1.80269343e-02,  2.42101211e-02,\n",
       "        1.71371348e-02,  4.42672057e-03,  7.39917255e-03,  1.90384168e-02,\n",
       "        1.57322168e-03,  2.75176710e-02,  1.79927707e-02,  1.11825642e-02,\n",
       "        6.52969617e-03,  4.13514988e-03,  1.15177322e-02,  1.11430334e-02,\n",
       "        2.05736152e-02,  2.42304219e-02,  7.97344704e-03,  3.10696427e-02,\n",
       "        3.20653207e-02,  3.59434250e-03,  1.55666635e-02,  2.40655790e-02,\n",
       "        2.85702755e-02,  9.99050833e-03,  2.09030212e-02,  1.22392167e-02,\n",
       "        3.44925088e-02,  3.33825139e-02,  3.06673991e-02,  1.17364527e-02,\n",
       "        9.12141152e-03,  3.37031064e-02,  3.16236504e-02,  3.29610178e-02,\n",
       "        3.56938919e-03,  1.97425511e-03,  1.51960635e-03,  1.40094336e-02,\n",
       "        2.14224756e-02,  3.17002797e-02,  1.22922556e-02,  8.47822237e-03,\n",
       "        1.89622927e-02,  1.48052409e-02,  1.26940956e-02,  1.18610967e-02,\n",
       "        3.11408798e-02,  3.10400198e-02,  1.27281941e-02,  9.21600444e-03,\n",
       "        1.63404332e-02,  9.02517532e-03,  5.15178446e-03,  1.46560345e-02,\n",
       "        1.29329214e-02,  1.06259158e-02,  2.20572517e-02,  4.56902183e-03,\n",
       "        1.31666997e-02,  8.28638570e-04,  2.54669170e-02,  3.32012519e-02,\n",
       "        1.06328338e-02,  2.74606703e-02,  1.61121652e-02,  1.81406180e-02,\n",
       "        3.90514239e-03,  2.22843101e-02,  2.03923849e-02,  2.72804192e-03,\n",
       "        3.47100328e-02,  3.01168154e-02,  1.61247485e-02,  6.91505719e-03,\n",
       "        2.32291590e-03,  1.83682636e-02,  2.15361029e-02,  1.30724111e-02,\n",
       "        1.90601629e-02,  5.17890512e-03,  9.90885064e-03,  1.30321454e-02,\n",
       "        1.08449680e-02,  1.57727406e-03,  2.22959103e-03,  2.40021924e-02,\n",
       "        1.77936945e-03,  6.24058713e-03,  6.16654758e-03,  8.46552006e-03,\n",
       "        2.79166293e-02,  1.01740289e-03,  5.86492059e-03,  1.46159489e-03,\n",
       "        7.68155231e-04,  2.97928952e-02,  2.77130115e-02,  1.51746339e-02,\n",
       "        1.68528648e-02,  8.28860872e-03,  2.66200941e-02,  2.08133680e-02,\n",
       "        2.18728650e-02,  1.65002826e-02,  1.19128944e-02,  1.70412792e-02,\n",
       "        3.04044553e-02,  8.45541485e-04,  9.14352554e-03,  1.75406819e-02,\n",
       "        4.56947974e-03,  9.71159065e-03,  2.15984196e-03,  2.15208233e-02,\n",
       "        1.05020749e-02,  2.93129463e-02,  1.00609523e-02, -9.88046704e-04,\n",
       "        2.42237547e-02,  3.24684469e-02,  1.47354811e-02,  9.18974326e-03,\n",
       "        4.08807290e-03,  8.90935091e-03,  1.16656924e-02,  7.73165896e-03,\n",
       "        3.79095086e-03,  3.72461581e-03,  9.21028052e-04,  2.69727085e-02,\n",
       "        1.25725386e-02,  9.55264807e-03,  2.70515965e-02,  3.20823380e-02,\n",
       "        3.36333865e-02,  1.29400920e-02,  4.72507087e-03,  2.59868582e-02,\n",
       "        1.52714613e-03,  2.00519920e-02,  3.12556935e-02,  1.22595073e-02,\n",
       "        1.16007649e-02,  1.77716788e-02,  2.37982946e-02,  6.35056054e-03,\n",
       "        2.21248141e-02,  1.93110858e-03,  1.90207235e-02,  1.57537162e-02,\n",
       "        1.56835416e-02,  1.95991837e-02,  1.88231331e-02,  9.44612509e-04,\n",
       "        1.15308807e-03,  1.31883262e-02,  7.82538358e-03,  6.33966851e-03,\n",
       "        9.72580107e-03,  1.74744235e-02,  9.52056999e-03,  3.30696887e-02,\n",
       "        1.04046697e-02,  3.16740107e-02,  1.06919181e-02,  4.79011055e-03,\n",
       "        1.10794374e-02,  1.67480355e-02,  2.67329213e-02,  2.66268550e-02,\n",
       "        2.89108494e-02,  1.34209232e-02,  5.48566525e-03,  1.40335583e-02,\n",
       "        2.07946871e-02,  1.06937070e-03,  7.59430495e-03,  3.25371195e-02,\n",
       "        4.86819719e-03,  2.21755928e-02,  2.68262555e-02,  2.96781180e-02,\n",
       "        6.36475901e-03,  2.16912185e-02,  2.55698533e-02, -3.00385669e-03,\n",
       "        1.54309722e-02,  1.07215957e-03,  3.32370529e-02,  2.48219534e-02,\n",
       "        3.27264445e-02,  2.10020912e-02, -4.74042462e-04,  2.79738062e-02,\n",
       "        1.28387137e-03,  2.56968061e-02,  8.00518057e-03,  3.04877092e-02,\n",
       "        9.00375094e-03,  3.07032794e-02,  1.74521627e-02,  3.35505090e-02,\n",
       "        3.16126940e-02,  9.75976781e-03,  1.25086250e-02,  2.76725546e-03,\n",
       "        1.63464414e-02,  2.67725343e-02,  1.32969510e-02,  2.70775832e-02,\n",
       "        6.69637946e-03,  2.89108583e-02,  1.93319776e-03,  3.45089695e-02,\n",
       "        5.89607063e-03,  2.22582155e-02,  2.34954071e-02,  2.30253627e-02,\n",
       "        4.82731490e-03,  2.97196148e-02,  7.88677105e-03,  1.35927054e-02,\n",
       "        1.55659759e-02,  1.79911885e-02,  1.52836029e-02,  2.49208279e-02,\n",
       "        4.69363830e-03,  8.88671862e-03,  2.70412228e-02,  2.36529698e-02,\n",
       "        9.52237223e-03,  4.97009247e-03,  2.85063544e-03,  1.30080927e-02,\n",
       "        2.31304528e-02,  1.07640669e-02,  4.13466450e-03,  6.48273940e-03,\n",
       "        2.31461257e-02,  1.07183870e-02,  1.55307236e-02,  2.30053225e-02,\n",
       "        2.03169449e-02,  2.92007833e-02,  6.28404224e-03, -8.73429916e-05,\n",
       "        3.12937282e-02,  7.56773324e-03,  2.03416437e-02,  1.55938144e-02,\n",
       "        9.06811294e-03,  2.62150721e-02,  1.46181867e-02,  2.68015678e-02,\n",
       "        8.53461263e-03,  3.29139991e-02,  1.52126420e-02,  1.12563607e-03,\n",
       "        1.02340586e-02,  3.13280618e-02,  3.16622321e-02,  7.19120404e-03,\n",
       "        1.30173614e-02,  2.40599649e-02,  2.55293093e-02,  6.68067693e-03,\n",
       "        2.23662070e-02,  2.46828570e-02,  1.81807565e-02,  2.53702292e-02,\n",
       "        2.87502572e-02,  3.46666650e-02,  3.01649114e-02,  2.20091723e-02,\n",
       "        1.81004106e-02,  1.20603903e-02,  1.34788459e-02,  7.90150820e-03,\n",
       "        2.53688261e-02,  1.53908333e-02,  6.88975308e-03,  1.99943230e-02,\n",
       "        2.32412277e-03,  2.83904223e-03,  2.70878775e-02,  2.04765348e-02,\n",
       "        2.49664705e-02,  3.14330098e-02,  2.88387849e-02,  4.81497095e-03,\n",
       "        1.79215834e-02,  1.53410435e-02,  2.13828307e-03,  2.70482083e-02,\n",
       "        3.17807925e-02,  1.47393815e-02,  3.23383678e-02,  1.35324112e-02,\n",
       "        1.92837117e-02,  1.98549786e-02,  3.37436878e-02,  3.04518943e-03,\n",
       "        3.15442195e-02,  1.71021555e-02,  2.38004760e-02,  3.15727872e-02,\n",
       "        6.18566365e-03,  5.26755022e-03,  2.70431062e-02,  1.58292598e-02,\n",
       "        1.34681087e-02,  6.96142334e-03,  1.57130663e-02,  1.09762825e-02,\n",
       "        2.97155939e-03,  4.19806516e-03,  9.06296315e-03,  1.54590064e-02,\n",
       "        1.69063167e-02,  3.14629682e-02,  2.93201030e-02,  3.28188073e-02,\n",
       "        7.89944333e-04,  1.95243893e-02,  5.78097659e-03,  1.20187788e-02,\n",
       "        1.82047054e-02,  8.68704746e-03,  2.92644600e-02,  5.55073937e-03,\n",
       "        9.41238835e-03,  2.36640949e-02,  3.24099366e-02,  1.87708710e-02,\n",
       "        1.04293275e-02, -5.17382852e-03,  1.20187697e-02,  1.58316688e-02,\n",
       "        3.63731063e-04,  3.00324949e-02,  1.34777472e-02,  2.19460826e-04,\n",
       "        4.87605771e-03,  6.51040054e-03,  2.42847058e-02,  1.76745530e-03,\n",
       "        7.01110586e-03,  2.08462536e-02,  2.48207109e-03, -9.67506625e-02])"
      ]
     },
     "execution_count": 184,
     "metadata": {},
     "output_type": "execute_result"
    }
   ],
   "source": [
    "w_opt"
   ]
  },
  {
   "cell_type": "code",
   "execution_count": 185,
   "metadata": {},
   "outputs": [
    {
     "data": {
      "text/plain": [
       "array([ 9.91750155e-03,  1.35515592e-02,  1.52980059e-02, -3.67792449e-03,\n",
       "       -7.15847346e-04,  1.50784524e-02, -4.42572841e-03,  1.32445436e-02,\n",
       "        9.35937967e-03,  2.86611129e-03,  1.66043086e-04,  5.33995659e-03,\n",
       "        2.88528168e-04,  2.75372450e-03,  4.20960350e-03,  7.42996984e-03,\n",
       "        2.82295463e-03,  3.72205646e-03,  3.48398348e-03,  1.39334897e-03,\n",
       "        6.18896019e-03,  1.42667928e-03,  2.72084271e-04,  6.42267383e-03,\n",
       "        1.29387698e-03,  3.82860781e-03, -4.26825768e-03,  1.01987318e-03,\n",
       "        5.12413876e-03,  1.25856234e-03,  2.21526692e-03,  5.34438504e-03,\n",
       "        2.60693370e-03,  6.71978097e-03,  1.50070501e-03,  5.16494837e-03,\n",
       "        4.36018572e-03,  7.30225094e-03,  4.52639387e-03,  6.80502123e-04,\n",
       "        2.85439118e-03,  2.75652967e-03,  8.12401679e-03,  3.94295379e-03,\n",
       "        7.91986073e-03, -1.45429271e-03,  7.03570738e-03,  8.36703304e-03,\n",
       "        6.27981827e-03,  6.27071315e-03,  3.17677259e-04,  6.73730353e-03,\n",
       "        7.89266283e-03,  1.36379633e-03,  4.07454669e-03,  4.73579967e-03,\n",
       "        6.78126759e-03,  2.54235078e-03,  3.50424758e-03,  4.07578239e-03,\n",
       "        1.85998371e-03,  1.57822155e-03,  6.31882080e-03,  2.00505250e-04,\n",
       "        7.80654273e-03,  4.78454265e-03,  7.78538147e-03,  2.74304833e-03,\n",
       "        6.62063701e-03,  1.89936695e-03,  1.45199518e-03, -8.68614238e-05,\n",
       "        4.75878674e-03,  1.29502468e-03,  1.26134751e-03,  6.91544667e-03,\n",
       "        7.17635276e-03,  1.16686818e-03,  3.11877893e-03,  7.49698108e-03,\n",
       "        7.80652616e-03,  2.77500776e-03,  2.38283874e-04,  4.67796380e-03,\n",
       "        2.76140475e-03,  4.89826451e-04,  4.30239788e-03,  3.03267848e-03,\n",
       "        3.04776583e-03, -6.81663926e-03,  7.51152440e-03,  7.86431976e-04,\n",
       "        5.48797628e-03,  4.43696878e-03,  7.47412021e-03,  6.48869047e-04,\n",
       "        5.20795122e-03,  5.72281562e-03,  3.31574677e-03,  3.85327006e-04,\n",
       "        7.48614736e-03,  1.68026011e-03,  3.37213490e-03,  2.83388024e-03,\n",
       "        5.38403165e-03,  3.96154053e-03,  2.90250709e-03,  2.72519600e-03,\n",
       "       -1.39051271e-04,  4.81967353e-03,  1.26539493e-03,  9.00821778e-04,\n",
       "        6.69207633e-03,  3.10040988e-03,  3.46066514e-03,  1.88345207e-03,\n",
       "        3.68154756e-03,  3.57826446e-03,  5.35903906e-03,  7.72638334e-03,\n",
       "        6.30159573e-03,  2.84479338e-03,  6.69728124e-03,  2.88693230e-03,\n",
       "        6.57897203e-04,  7.28127403e-04,  4.27365618e-03,  1.05659434e-03,\n",
       "        4.93554903e-03,  6.52067301e-03,  1.36090999e-03,  3.85595143e-03,\n",
       "        6.67373866e-03,  2.63831042e-03,  5.24431195e-03,  7.52926934e-03,\n",
       "        4.79658564e-04,  1.40311279e-03,  5.56745574e-03,  1.21354398e-03,\n",
       "        3.45047093e-04,  1.35106353e-03,  5.17065988e-03,  2.95649591e-04,\n",
       "        2.80232630e-03,  5.47028716e-03,  2.37270434e-03,  3.41832295e-04,\n",
       "        6.05266979e-03,  7.52825132e-03, -1.51028085e-04,  6.52861488e-04,\n",
       "        6.64583518e-03,  6.25504671e-03,  6.15086002e-03,  1.29866126e-05,\n",
       "        1.75977146e-03,  6.04031583e-03, -2.60871894e-03,  1.44399081e-03,\n",
       "        6.44849458e-03,  7.82591462e-03,  3.01869995e-03,  4.30535676e-03,\n",
       "        5.81675022e-03,  1.03345990e-03,  8.60610997e-03,  6.55409253e-03,\n",
       "        1.09824425e-03,  1.97088189e-03,  2.43931830e-03,  6.04832790e-03,\n",
       "        7.48587251e-03,  7.51451252e-03,  8.87026980e-04,  3.30815679e-03,\n",
       "        7.66496854e-03,  7.45320158e-03,  7.30926728e-03,  8.11463819e-03,\n",
       "        8.29023596e-03,  6.16902276e-03,  7.56722390e-04,  4.63342875e-03,\n",
       "        7.54803702e-03,  6.34838074e-05,  5.90937826e-03,  3.88326797e-03,\n",
       "        6.28629316e-03,  5.90054589e-03,  7.70505939e-03,  6.93994285e-03,\n",
       "        2.47384359e-03,  1.99263195e-03, -6.04443324e-05,  1.43645272e-03,\n",
       "        7.35690654e-04,  3.00423607e-03,  4.32828262e-03,  8.18318742e-03,\n",
       "        7.68541669e-03,  1.24353997e-03,  2.84984882e-03,  5.72835357e-03,\n",
       "        5.97203725e-03,  7.17578001e-03,  7.65348879e-03,  5.28946355e-04,\n",
       "        6.90619040e-03,  1.52582610e-03,  5.63225355e-03,  7.14647982e-03,\n",
       "        7.48567844e-03,  6.65319513e-03,  5.11691314e-03,  7.23016598e-04,\n",
       "        6.34343993e-03, -5.08061776e-04, -7.03834663e-04,  6.62342432e-03,\n",
       "        5.39971200e-03,  4.86755899e-03,  4.05883439e-03,  6.45578872e-03,\n",
       "        6.11110731e-03,  3.51749939e-03,  8.16601777e-03,  6.97583273e-03,\n",
       "        3.26305326e-03,  1.47169169e-03,  2.11527890e-03,  2.10286431e-03,\n",
       "        3.49139287e-04,  6.13899540e-03,  1.15601041e-03,  8.15972361e-03,\n",
       "        3.65140505e-03,  4.64089273e-03,  2.70875569e-03,  7.02245975e-04,\n",
       "        7.39782716e-03,  1.84481954e-03,  2.43296106e-03,  5.70950258e-03,\n",
       "        4.82314747e-03,  5.24446015e-03,  5.50417326e-03,  1.11387536e-03,\n",
       "        5.44009453e-04,  6.55625957e-03,  2.74745183e-03,  2.63992403e-03,\n",
       "        4.00264982e-03,  4.18580827e-03,  7.22744407e-03,  9.27038181e-04,\n",
       "        3.44726709e-03,  5.01699542e-03,  5.59335298e-03,  2.97867209e-03,\n",
       "        1.27793390e-03,  3.45549518e-04,  2.01304673e-03,  7.58793045e-04,\n",
       "        5.46019308e-03, -3.32217787e-03,  6.25050441e-03,  1.75566760e-03,\n",
       "        7.60568706e-04,  3.62556241e-03,  4.35208049e-03,  4.67453869e-03,\n",
       "        7.47674250e-03,  6.95387963e-03,  4.36010958e-03,  5.38183981e-03,\n",
       "        4.14405590e-03,  1.00408784e-03,  1.59230511e-03,  4.58505080e-03,\n",
       "        2.54650481e-04,  6.24039707e-03,  4.15050226e-03,  2.70319179e-03,\n",
       "        1.27431422e-03,  1.00042686e-03,  2.72603414e-03,  2.87670053e-03,\n",
       "        4.46848144e-03,  5.80689138e-03,  1.79327081e-03,  7.51512003e-03,\n",
       "        7.53053331e-03,  1.21428851e-03,  3.71638737e-03,  5.64918787e-03,\n",
       "        6.90629774e-03,  2.37637132e-03,  5.00784158e-03,  2.96062593e-03,\n",
       "        8.36048093e-03,  8.08416723e-03,  7.37671348e-03,  2.24743000e-03,\n",
       "        2.07710522e-03,  8.15732509e-03,  7.62071460e-03,  7.80823955e-03,\n",
       "        8.45440648e-04,  2.88207305e-04,  3.70239124e-04,  3.38906817e-03,\n",
       "        5.06321514e-03,  7.60458345e-03,  2.97352122e-03,  2.05115694e-03,\n",
       "        4.56787693e-03,  3.61241541e-03,  3.08612752e-03,  2.86958394e-03,\n",
       "        7.76137090e-03,  7.50958740e-03,  2.31979777e-03,  2.10010389e-03,\n",
       "        3.95093841e-03, -5.41314630e-03,  1.16910664e-03,  1.73880176e-03,\n",
       "        3.07828598e-03,  2.54581297e-03,  5.25431417e-03,  9.65198413e-04,\n",
       "        3.18865116e-03,  2.13409798e-04,  6.16586227e-03,  9.13194192e-03,\n",
       "        2.17218874e-03,  6.80046348e-03,  3.81271598e-03,  4.38880378e-03,\n",
       "        8.63753174e-04,  3.41647816e-03,  4.42104439e-03, -3.13672295e-04,\n",
       "        8.39289783e-03,  7.27250995e-03,  3.87758612e-03,  1.67115336e-03,\n",
       "        5.67618749e-04,  4.56133895e-03,  5.07839361e-03,  2.55569867e-03,\n",
       "        4.82133669e-03,  1.90330857e-03,  2.36074774e-03,  3.14380454e-03,\n",
       "        2.21182527e-03,  3.46753815e-04,  4.08951924e-04,  5.80221895e-03,\n",
       "        3.28353369e-04,  1.55348910e-03,  1.11702070e-03,  2.02172888e-03,\n",
       "        6.73008254e-03,  1.21241291e-04,  1.22966556e-03,  7.83296710e-04,\n",
       "       -1.35830241e-03,  6.80655643e-03,  6.66262879e-03,  3.67123606e-03,\n",
       "        4.08055652e-03,  2.44616249e-03,  6.45243420e-03,  4.84868905e-03,\n",
       "        5.26418187e-03,  3.93149389e-03,  1.88284287e-03,  4.00220421e-03,\n",
       "        7.36912116e-03, -3.46571097e-05,  2.19860569e-03,  4.24749065e-03,\n",
       "       -4.55869872e-04,  2.53711999e-04, -3.78751424e-03,  5.19589606e-03,\n",
       "        2.52003839e-03,  7.06616692e-03,  2.18640154e-03, -3.49851599e-03,\n",
       "        5.87225542e-03,  7.86943945e-03,  3.56735548e-03,  2.15899162e-03,\n",
       "        9.93004611e-04,  2.01592310e-03,  2.80802764e-03,  1.88758083e-03,\n",
       "        2.96627156e-04,  9.00319001e-04,  3.44979137e-05,  6.33279013e-03,\n",
       "        2.94587314e-03,  2.26867241e-03,  6.30425440e-03,  7.77240049e-03,\n",
       "        8.64598482e-03,  3.06578487e-03,  9.53733041e-04,  6.28344667e-03,\n",
       "        3.57159176e-04,  4.96318995e-03,  7.53063191e-03,  3.57862631e-03,\n",
       "        2.71287957e-03,  4.29986037e-03,  5.52361492e-03,  1.34941209e-03,\n",
       "        5.39256765e-03,  5.57170648e-04,  3.78295828e-03,  3.62119660e-03,\n",
       "        3.65634675e-03,  4.43700585e-03,  4.55392634e-03,  1.71360448e-04,\n",
       "        1.99456485e-04,  3.13308431e-03,  1.89491169e-03,  1.55737130e-03,\n",
       "        2.29270578e-03,  3.38544332e-03,  1.61925157e-03,  7.98783365e-03,\n",
       "        2.35884281e-03,  7.47616709e-03,  2.58672171e-03,  5.75293119e-04,\n",
       "        6.49767284e-04,  3.87139838e-03,  6.46826612e-03,  6.41035838e-03,\n",
       "        5.11791503e-03,  3.24695656e-03,  1.30158475e-03,  3.72124888e-03,\n",
       "        5.02941773e-03,  1.69826199e-04,  1.84002815e-03,  7.73436678e-03,\n",
       "        1.10289505e-03,  4.52828306e-03,  4.23880734e-03,  7.18816116e-03,\n",
       "        1.46462777e-03,  5.24672722e-03,  6.12777355e-03, -1.81492707e-03,\n",
       "        3.78119871e-03, -3.50958238e-03,  7.98495394e-03,  6.00044236e-03,\n",
       "        7.46893222e-03,  5.11299065e-03, -2.55250477e-03,  6.58548359e-03,\n",
       "        1.68357683e-04,  5.98841044e-03,  1.93671278e-03,  7.38102026e-03,\n",
       "        2.21805931e-03,  7.40562510e-03,  4.22224412e-03,  8.07955456e-03,\n",
       "        7.53831633e-03,  2.14665903e-03,  3.02770133e-03,  3.13295238e-04,\n",
       "        3.95529886e-03,  5.62089268e-03,  3.34324082e-03,  6.40300771e-03,\n",
       "        1.62007135e-03,  6.00667303e-03,  4.36577725e-04,  8.34744247e-03,\n",
       "        1.31000461e-03,  5.77419220e-03,  5.60408064e-03,  4.59755152e-03,\n",
       "        1.16788402e-03,  7.14089502e-03,  2.19619388e-03,  3.24640063e-03,\n",
       "        3.74164124e-03,  4.44447462e-03,  3.60826011e-03,  5.89095509e-03,\n",
       "        1.47412348e-03,  1.85696192e-03,  6.51468636e-03,  4.24367736e-03,\n",
       "        2.00615678e-03,  1.17599012e-03,  6.79532725e-04,  3.13177311e-03,\n",
       "        5.81499274e-03,  1.66481666e-03,  1.46209767e-04,  8.33517491e-04,\n",
       "        5.58777629e-03,  2.38634530e-03,  6.37232563e-04,  5.42299577e-03,\n",
       "        4.92136949e-03,  7.06743143e-03,  1.52145541e-03, -1.13992878e-04,\n",
       "        5.99714064e-03,  1.81339294e-03,  4.74680799e-03,  3.04072917e-03,\n",
       "       -9.78994149e-04,  6.27342460e-03,  3.37153422e-03,  5.84569356e-03,\n",
       "        2.07671062e-03,  7.96460141e-03,  3.31301959e-03,  2.56796051e-04,\n",
       "        2.48277263e-03,  7.57962030e-03,  7.62628558e-03,  8.48799813e-04,\n",
       "        2.99936626e-03,  5.86591201e-03,  6.16422684e-03,  1.39707721e-03,\n",
       "        4.62372629e-03,  5.89646481e-03,  4.39851460e-03,  6.11374606e-03,\n",
       "        6.96166591e-03,  8.42693234e-03,  7.35612925e-03,  5.20847439e-03,\n",
       "        4.38534506e-03,  2.98855925e-03,  2.67390351e-03,  8.96045550e-04,\n",
       "        5.31097044e-03,  3.59756582e-03,  1.22569086e-03,  4.80549395e-03,\n",
       "        4.63772606e-04,  7.68466466e-04,  6.55464715e-03,  4.44741526e-03,\n",
       "        4.65227692e-03,  8.10901786e-03,  6.31400173e-03,  1.04499850e-03,\n",
       "        4.14276235e-03,  3.71288456e-03,  1.12769897e-03,  6.52961215e-03,\n",
       "        7.94133008e-03,  8.42293867e-04,  7.52866175e-03,  2.88815399e-03,\n",
       "        4.66379476e-03,  3.98768646e-03,  8.17230465e-03,  7.36910764e-04,\n",
       "        7.50346288e-03,  3.75868814e-03,  5.77151100e-03,  7.54325821e-03,\n",
       "        1.43690044e-03,  1.23781052e-03,  6.59274228e-03,  3.76625161e-03,\n",
       "        3.25837227e-03,  1.62159692e-03,  3.80150031e-03, -9.48672323e-04,\n",
       "        7.04902984e-04,  3.10268009e-04,  2.16579355e-03,  3.78544785e-03,\n",
       "        4.09162149e-03,  7.56448545e-03,  7.09244422e-03,  7.87735008e-03,\n",
       "        8.81783986e-05,  4.72020413e-03,  1.39856911e-03,  2.46332580e-03,\n",
       "        4.40045492e-03,  2.10897166e-03,  7.07986608e-03, -3.41077465e-03,\n",
       "       -9.99529767e-03,  5.67560470e-03,  6.39838712e-03,  2.12728589e-03,\n",
       "        1.68960119e-03, -7.52840376e-03, -1.10103012e-03,  3.63657594e-03,\n",
       "       -5.47538781e-03,  5.76323468e-03, -4.89722939e-03, -3.03342738e-03,\n",
       "       -2.99058104e-04, -6.01532426e-03,  1.78960776e-03, -6.63213553e-03,\n",
       "       -7.06748029e-03,  2.32675337e-03, -1.61413461e-03, -1.07871971e-01])"
      ]
     },
     "execution_count": 185,
     "metadata": {},
     "output_type": "execute_result"
    }
   ],
   "source": [
    "w_opt_r"
   ]
  },
  {
   "cell_type": "markdown",
   "metadata": {},
   "source": [
    "Здесь вы можете поделиться своими мыслями по поводу этого задания."
   ]
  },
  {
   "cell_type": "markdown",
   "metadata": {
    "jupyter": {
     "outputs_hidden": true
    }
   },
   "source": [
    "_Честно говоря. Задание достаточно интересное, но сложное. Однако выполняя его я научился искать информацию, и что не маловажно пользоваться документацией к библиотекам. Задача полностью направлена на практическую реализацию, что на мой взгляд тоже не маловажно. Задания построены таким образом, как буд-то это реальные задачи из жизни, без всяких там нажми туда, сделай это и получи результат. Тут надо головой подумать и покопаться в интернете, чтобы решить задачу и возникшие в ходе ее решения проблемы._"
   ]
  },
  {
   "cell_type": "markdown",
   "metadata": {},
   "source": [
    "А здесь — вставить вашу любимую картинку."
   ]
  },
  {
   "cell_type": "markdown",
   "metadata": {
    "jupyter": {
     "outputs_hidden": true
    }
   },
   "source": [
    "![](https://naked-science.ru/wp-content/uploads/2016/11/field_image_26bfb2160bb56bc24bacf8d3c489e9ad.jpg)"
   ]
  }
 ],
 "metadata": {
  "kernelspec": {
   "display_name": "Python 3",
   "language": "python",
   "name": "python3"
  },
  "language_info": {
   "codemirror_mode": {
    "name": "ipython",
    "version": 3
   },
   "file_extension": ".py",
   "mimetype": "text/x-python",
   "name": "python",
   "nbconvert_exporter": "python",
   "pygments_lexer": "ipython3",
   "version": "3.7.4"
  }
 },
 "nbformat": 4,
 "nbformat_minor": 4
}
