{
 "cells": [
  {
   "cell_type": "markdown",
   "metadata": {},
   "source": [
    "# Машинное обучение\n",
    "\n",
    "Практическое задание 1 посвящено изучению основных библиотек для анализа данных, а также линейных моделей и методов их обучения. Вы научитесь:\n",
    " * применять библиотеки NumPy и Pandas для осуществления желаемых преобразований;\n",
    " * подготавливать данные для обучения линейных моделей;\n",
    " * обучать линейную, Lasso и Ridge-регрессии при помощи модуля scikit-learn;\n",
    " * реализовывать обычный и стохастический градиентные спуски;\n",
    " * обучать линейную регрессию для произвольного функционала качества."
   ]
  },
  {
   "cell_type": "markdown",
   "metadata": {},
   "source": [
    "## Библиотеки для анализа данных\n",
    "\n",
    "### NumPy\n",
    "\n",
    "Во всех заданиях данного раздела запрещено использовать циклы  и list comprehensions. Под вектором и матрицей в данных заданиях понимается одномерный и двумерный numpy.array соответственно."
   ]
  },
  {
   "cell_type": "code",
   "execution_count": 119,
   "metadata": {},
   "outputs": [],
   "source": [
    "import numpy as np"
   ]
  },
  {
   "cell_type": "markdown",
   "metadata": {},
   "source": [
    "Реализуйте функцию, возвращающую максимальный элемент в векторе x среди элементов, перед которыми стоит нулевой. Для x = np.array([6, 2, 0, 3, 0, 0, 5, 7, 0]) ответом является 5. Если нулевых элементов нет, функция должна возвращать None.\n"
   ]
  },
  {
   "cell_type": "code",
   "execution_count": 120,
   "metadata": {},
   "outputs": [
    {
     "name": "stdout",
     "output_type": "stream",
     "text": [
      "5\n"
     ]
    }
   ],
   "source": [
    "def max_element(arr):\n",
    "    zero = arr==0;\n",
    "    print (arr[1:][zero[:-1]].max());\n",
    "newArray=np.array([6, 2, 0, 3, 0, 0, 5, 7, 0]);\n",
    "max_element(newArray);   "
   ]
  },
  {
   "cell_type": "markdown",
   "metadata": {},
   "source": [
    "Реализуйте функцию, принимающую на вход матрицу и некоторое число и возвращающую ближайший к числу элемент матрицы. Например: для X = np.arange(0,10).reshape((2, 5)) и v = 3.6 ответом будет 4."
   ]
  },
  {
   "cell_type": "code",
   "execution_count": 121,
   "metadata": {},
   "outputs": [
    {
     "data": {
      "text/plain": [
       "4"
      ]
     },
     "execution_count": 121,
     "metadata": {},
     "output_type": "execute_result"
    }
   ],
   "source": [
    "def nearest_value(X, v):\n",
    "    # Your code here\n",
    "    deviations = np.abs(X - v)\n",
    "    return X[np.where(deviations == np.min(deviations))][0]\n",
    "x= np.arange(0,10).reshape((2, 5)) \n",
    "v=3.6\n",
    "nearest_value(x, v )"
   ]
  },
  {
   "cell_type": "markdown",
   "metadata": {},
   "source": [
    "Реализуйте функцию scale(X), которая принимает на вход матрицу и масштабирует каждый ее столбец (вычитает выборочное среднее и делит на стандартное отклонение). Убедитесь, что в функции не будет происходить деления на ноль. Протестируйте на случайной матрице (для её генерации можно использовать, например, функцию [numpy.random.randint](http://docs.scipy.org/doc/numpy/reference/generated/numpy.random.randint.html))."
   ]
  },
  {
   "cell_type": "code",
   "execution_count": 122,
   "metadata": {},
   "outputs": [
    {
     "name": "stdout",
     "output_type": "stream",
     "text": [
      "[[ 6 98]\n",
      " [22 47]]\n",
      "[[-1.          5.08      ]\n",
      " [-0.65217391  1.        ]]\n"
     ]
    }
   ],
   "source": [
    "def scale(X):\n",
    "    stds = X.std(axis=1)\n",
    "    if len(np.nonzero(stds==0)[0]):\n",
    "        return \"DIVISION BY ZERO!!!\"\n",
    "    means = X.mean(axis=1)\n",
    "    Y = X - means\n",
    "    Y /= stds\n",
    "    return Y\n",
    "\n",
    "sample_matrix = np.array([np.random.randint(0, 100, 2) for i in range(2)])\n",
    "\n",
    "print(sample_matrix)\n",
    "print(scale(sample_matrix))"
   ]
  },
  {
   "cell_type": "markdown",
   "metadata": {},
   "source": [
    " Реализуйте функцию, которая для заданной матрицы находит:\n",
    " - определитель\n",
    " - след\n",
    " - наименьший и наибольший элементы\n",
    " - норму Фробениуса\n",
    " - собственные числа\n",
    " - обратную матрицу\n",
    "\n",
    "Для тестирования сгенерируйте матрицу с элементами из нормального распределения $\\mathcal{N}$(10,1)"
   ]
  },
  {
   "cell_type": "code",
   "execution_count": 123,
   "metadata": {},
   "outputs": [
    {
     "name": "stdout",
     "output_type": "stream",
     "text": [
      "[[ 8.30920336 10.61416393]\n",
      " [ 9.05660037 10.39398635]]\n",
      "DET:  -9.762494678375822\n",
      "TRACE:  18.703189710038366\n",
      "MAX:  10.614163931291058\n",
      "MIN:  8.309203358019596\n",
      "MATRIX NORM:  19.281086560064846\n",
      "EIGENVALS:  [-0.5081628  19.21135251]\n",
      "INVERSE:  [[-1.06468548  1.0872389 ]\n",
      " [ 0.92769325 -0.85113525]]\n"
     ]
    }
   ],
   "source": [
    "from numpy import linalg as la\n",
    "def get_stats(X):\n",
    "    print(\"DET: \", np.linalg.det(X))\n",
    "    print(\"TRACE: \", np.trace(X))\n",
    "    print(\"MAX: \", X.max())\n",
    "    print(\"MIN: \", X.min())\n",
    "    print(\"MATRIX NORM: \", np.linalg.norm(X))\n",
    "    print(\"EIGENVALS: \", np.linalg.eig(X)[0])\n",
    "    print(\"INVERSE: \", np.linalg.inv(X))\n",
    "    # Your code here\n",
    "    \n",
    "X = np.array([np.random.normal(10, 1, 2) for i in range(2)])\n",
    "print(X)\n",
    "get_stats(X)"
   ]
  },
  {
   "cell_type": "markdown",
   "metadata": {},
   "source": [
    "Повторите 100 раз следующий эксперимент: сгенерируйте две матрицы размера 10×10 из стандартного нормального распределения, перемножьте их (как матрицы) и найдите максимальный элемент. Какое среднее значение по экспериментам у максимальных элементов? 95-процентная квантиль?"
   ]
  },
  {
   "cell_type": "code",
   "execution_count": 124,
   "metadata": {},
   "outputs": [
    {
     "name": "stdout",
     "output_type": "stream",
     "text": [
      "MEAN:  8.78812620267872\n",
      "95% quantile:  11.871878633522872\n"
     ]
    }
   ],
   "source": [
    "vals = np.empty(100)\n",
    "for exp_num in range(100):\n",
    "    x1 = np.random.normal(0, 1, (10, 10))\n",
    "    x2 = np.random.normal(0, 1, (10, 10))\n",
    "    vals[exp_num] = np.max(x1.dot(x2))\n",
    "    \n",
    "print(\"MEAN: \", np.average(vals))\n",
    "print(\"95% quantile: \", np.percentile(vals, 95))"
   ]
  },
  {
   "cell_type": "markdown",
   "metadata": {},
   "source": [
    "### Pandas\n",
    "\n",
    "![](https://metrouk2.files.wordpress.com/2015/10/panda.jpg)\n",
    "\n",
    "#### Ответьте на вопросы о данных по авиарейсам в США за январь-апрель 2008 года.\n",
    "\n",
    "[Данные](https://www.dropbox.com/s/dvfitn93obn0rql/2008.csv?dl=0) и их [описание](http://stat-computing.org/dataexpo/2009/the-data.html)"
   ]
  },
  {
   "cell_type": "code",
   "execution_count": 125,
   "metadata": {},
   "outputs": [],
   "source": [
    "import pandas as pd\n",
    "%matplotlib inline"
   ]
  },
  {
   "cell_type": "markdown",
   "metadata": {},
   "source": [
    "Какая из причин отмены рейса (`CancellationCode`) была самой частой? (расшифровки кодов можно найти в описании данных)"
   ]
  },
  {
   "cell_type": "code",
   "execution_count": 126,
   "metadata": {},
   "outputs": [],
   "source": [
    "data = pd.read_csv('2008.csv')"
   ]
  },
  {
   "cell_type": "code",
   "execution_count": 127,
   "metadata": {},
   "outputs": [
    {
     "data": {
      "text/plain": [
       "CancellationCode\n",
       "A    563\n",
       "B    549\n",
       "C    299\n",
       "Name: Cancelled, dtype: int64"
      ]
     },
     "execution_count": 127,
     "metadata": {},
     "output_type": "execute_result"
    }
   ],
   "source": [
    "grouped = data.groupby(\"CancellationCode\")\n",
    "grouped.sum()[\"Cancelled\"]"
   ]
  },
  {
   "cell_type": "markdown",
   "metadata": {},
   "source": [
    "Ответ:  __A = carrier__"
   ]
  },
  {
   "cell_type": "markdown",
   "metadata": {},
   "source": [
    " Найдите среднее, минимальное и максимальное расстояние, пройденное самолетом."
   ]
  },
  {
   "cell_type": "code",
   "execution_count": 128,
   "metadata": {},
   "outputs": [
    {
     "name": "stdout",
     "output_type": "stream",
     "text": [
      "Max: =  4962\n",
      "Average: =  724.5082571428571\n",
      "Min: =  31\n"
     ]
    }
   ],
   "source": [
    "dataframe = pd.read_csv(\"2008.csv\")\n",
    "dists = data[\"Distance\"]\n",
    "print (\"Max: = \", dists.max())\n",
    "print (\"Average: = \", dists.mean())\n",
    "print (\"Min: = \", dists.min())"
   ]
  },
  {
   "cell_type": "markdown",
   "metadata": {},
   "source": [
    " Не выглядит ли подозрительным минимальное пройденное расстояние? В какие дни и на каких рейсах оно было? Какое расстояние было пройдено этими же рейсами в другие дни?"
   ]
  },
  {
   "cell_type": "code",
   "execution_count": 129,
   "metadata": {},
   "outputs": [
    {
     "name": "stdout",
     "output_type": "stream",
     "text": [
      "Подозрительные:\n",
      "       FlightNum  Month  DayofMonth\n",
      "1116          65     12          30\n",
      "6958          65     12          26\n",
      "17349         64      8          18\n",
      "27534         64      3          11\n",
      "46082         65      8           9\n",
      "48112         64      2          28 \n",
      "\n",
      "Они же в другие дни:\n",
      "FLIGHT #  65 \n",
      "        Distance  Month  DayofMonth\n",
      "501         533      3          20\n",
      "1389        680      3          13\n",
      "2619       2381      5          23\n",
      "3869         82      7           1\n",
      "4025       1005      6          15\n",
      "4466        123      6          29\n",
      "6778        359      7          12\n",
      "7891       2381      4           6\n",
      "7977       1747      7           9\n",
      "8448        123      2          10\n",
      "9615        533      1           4\n",
      "10833       372      3          31\n",
      "12352      1747      1          14\n",
      "12980        82      8           6\n",
      "13155      1747      7           2\n",
      "21304      1005      5          13\n",
      "24750       680      8          21\n",
      "25671       533      1          15\n",
      "26323      1005     12          15\n",
      "29801       123      4          23\n",
      "30053        82      1           4\n",
      "31375      1005      3          30\n",
      "31629       883      7          19\n",
      "32242        82      9          23\n",
      "33769      1747     12           7\n",
      "41044      1747      3          30\n",
      "43353       571      8          29\n",
      "44649       571      9          14\n",
      "44810        82      2          12\n",
      "48020      1005     11           1\n",
      "55053       123      3          31\n",
      "58530       571      1          16\n",
      "61164       680      9          14\n",
      "63028      1747      1          22\n",
      "64319       414      5           3\n",
      "67172       533      3          22 \n",
      "\n",
      "FLIGHT #  64 \n",
      "        Distance  Month  DayofMonth\n",
      "501         533      3          20\n",
      "1389        680      3          13\n",
      "2619       2381      5          23\n",
      "3869         82      7           1\n",
      "4025       1005      6          15\n",
      "4466        123      6          29\n",
      "6778        359      7          12\n",
      "7891       2381      4           6\n",
      "7977       1747      7           9\n",
      "8448        123      2          10\n",
      "9615        533      1           4\n",
      "10833       372      3          31\n",
      "12352      1747      1          14\n",
      "12980        82      8           6\n",
      "13155      1747      7           2\n",
      "21304      1005      5          13\n",
      "24750       680      8          21\n",
      "25671       533      1          15\n",
      "26323      1005     12          15\n",
      "29801       123      4          23\n",
      "30053        82      1           4\n",
      "31375      1005      3          30\n",
      "31629       883      7          19\n",
      "32242        82      9          23\n",
      "33769      1747     12           7\n",
      "41044      1747      3          30\n",
      "43353       571      8          29\n",
      "44649       571      9          14\n",
      "44810        82      2          12\n",
      "48020      1005     11           1\n",
      "55053       123      3          31\n",
      "58530       571      1          16\n",
      "61164       680      9          14\n",
      "63028      1747      1          22\n",
      "64319       414      5           3\n",
      "67172       533      3          22 \n",
      "\n"
     ]
    }
   ],
   "source": [
    "susp_flight_info = data[data.Distance == 31][[\"FlightNum\", \"Month\", \"DayofMonth\"]]\n",
    "susp_flight_nums = susp_flight_info[\"FlightNum\"].unique()\n",
    "print(\"Подозрительные:\")\n",
    "print(susp_flight_info, \"\\n\")\n",
    "print(\"Они же в другие дни:\")\n",
    "for flight in susp_flight_nums:\n",
    "        print(\"FLIGHT # \", flight, \"\\n\", data[(data['FlightNum'] == susp_flight_nums[1]) &\n",
    "                                                                   (data['Distance'] != 31)][['Distance', 'Month', 'DayofMonth']], \"\\n\")"
   ]
  },
  {
   "cell_type": "markdown",
   "metadata": {},
   "source": [
    "Из какого аэропорта было произведено больше всего вылетов? В каком городе он находится?"
   ]
  },
  {
   "cell_type": "code",
   "execution_count": 130,
   "metadata": {},
   "outputs": [
    {
     "name": "stdout",
     "output_type": "stream",
     "text": [
      "ATL находится в городе  ['Atlanta']\n"
     ]
    }
   ],
   "source": [
    "IATA_code = data.groupby('Origin').size().idxmax()\n",
    "airports = pd.read_csv('airports.csv') # http://stat-computing.org/dataexpo/2009/supplemental-data.html\n",
    "print(IATA_code, \"находится в городе \", airports[airports['iata'] == IATA_code]['city'].values)"
   ]
  },
  {
   "cell_type": "markdown",
   "metadata": {},
   "source": [
    "Найдите для каждого аэропорта среднее время полета (`AirTime`) по всем вылетевшим из него рейсам. Какой аэропорт имеет наибольшее значение этого показателя?"
   ]
  },
  {
   "cell_type": "code",
   "execution_count": 131,
   "metadata": {},
   "outputs": [
    {
     "name": "stdout",
     "output_type": "stream",
     "text": [
      "Аэропорт с интентификатором  SJU\n"
     ]
    }
   ],
   "source": [
    "time_mean = data[['Origin', 'AirTime' ]].groupby('Origin').mean()\n",
    "print(\"Аэропорт с интентификатором \", time_mean['AirTime'].idxmax())"
   ]
  },
  {
   "cell_type": "markdown",
   "metadata": {},
   "source": [
    "Найдите аэропорт, у которого наибольшая доля задержанных (`DepDelay > 0`) рейсов. Исключите при этом из рассмотрения аэропорты, из которых было отправлено меньше 1000 рейсов (используйте функцию `filter` после `groupby`)."
   ]
  },
  {
   "cell_type": "code",
   "execution_count": 132,
   "metadata": {},
   "outputs": [
    {
     "name": "stdout",
     "output_type": "stream",
     "text": [
      "0.5111591072714183\n"
     ]
    },
    {
     "data": {
      "text/html": [
       "<div>\n",
       "<style scoped>\n",
       "    .dataframe tbody tr th:only-of-type {\n",
       "        vertical-align: middle;\n",
       "    }\n",
       "\n",
       "    .dataframe tbody tr th {\n",
       "        vertical-align: top;\n",
       "    }\n",
       "\n",
       "    .dataframe thead th {\n",
       "        text-align: right;\n",
       "    }\n",
       "</style>\n",
       "<table border=\"1\" class=\"dataframe\">\n",
       "  <thead>\n",
       "    <tr style=\"text-align: right;\">\n",
       "      <th></th>\n",
       "      <th>iata</th>\n",
       "      <th>airport</th>\n",
       "      <th>city</th>\n",
       "      <th>state</th>\n",
       "      <th>country</th>\n",
       "      <th>lat</th>\n",
       "      <th>long</th>\n",
       "    </tr>\n",
       "  </thead>\n",
       "  <tbody>\n",
       "    <tr>\n",
       "      <td>1436</td>\n",
       "      <td>EWR</td>\n",
       "      <td>Newark Intl</td>\n",
       "      <td>Newark</td>\n",
       "      <td>NJ</td>\n",
       "      <td>USA</td>\n",
       "      <td>40.692497</td>\n",
       "      <td>-74.168661</td>\n",
       "    </tr>\n",
       "  </tbody>\n",
       "</table>\n",
       "</div>"
      ],
      "text/plain": [
       "     iata      airport    city state country        lat       long\n",
       "1436  EWR  Newark Intl  Newark    NJ     USA  40.692497 -74.168661"
      ]
     },
     "execution_count": 132,
     "metadata": {},
     "output_type": "execute_result"
    }
   ],
   "source": [
    "threshold = 1000\n",
    "all_flights = data.groupby(\"Origin\").size()\n",
    "delayed_flights = data[data[\"DepDelay\"] > 0].groupby(\"Origin\").size()\n",
    "fraction_delayed = delayed_flights[all_flights > threshold] / all_flights[all_flights > threshold]\n",
    "max_fraction_delayed = fraction_delayed.idxmax()\n",
    "print (fraction_delayed.max())\n",
    "airports[airports[\"iata\"] == max_fraction_delayed]"
   ]
  },
  {
   "cell_type": "markdown",
   "metadata": {},
   "source": [
    "## Линейная регрессия\n",
    "\n",
    "В этой части мы разберемся с линейной регрессией, способами её обучения и измерением качества ее прогнозов. \n",
    "\n",
    "Будем рассматривать датасет из предыдущей части задания для предсказания времени задержки отправления рейса в минутах (DepDelay). Отметим, что под задержкой подразумевается не только опоздание рейса относительно планируемого времени вылета, но и отправление до планируемого времени.\n",
    "\n",
    "### Подготовка данных\n",
    "\n",
    "**12. (0.5 балла)** Считайте выборку из файла при помощи функции pd.read_csv и ответьте на следующие вопросы:\n",
    "   - Имеются ли в данных пропущенные значения?\n",
    "   - Сколько всего пропущенных элементов в таблице \"объект-признак\"?\n",
    "   - Сколько объектов имеют хотя бы один пропуск?\n",
    "   - Сколько признаков имеют хотя бы одно пропущенное значение?"
   ]
  },
  {
   "cell_type": "code",
   "execution_count": 133,
   "metadata": {
    "scrolled": true
   },
   "outputs": [
    {
     "name": "stdout",
     "output_type": "stream",
     "text": [
      "Пропущенные значения имеются: True\n",
      "В таблице объект-признак пропущено 355215 значений\n",
      "70000 объектов имеют хотя бы 1 пропуск\n",
      "16 признаков имеют хотя бы 1 пропуск\n"
     ]
    }
   ],
   "source": [
    "data = pd.read_csv('2008.csv')\n",
    "print(\"Пропущенные значения имеются:\", data.isnull().values.any())\n",
    "print(\"В таблице объект-признак пропущено\", data.isnull().values.sum(), \"значений\")\n",
    "print(np.count_nonzero(np.array(data.isnull().values.sum(axis=1))), \"объектов имеют хотя бы 1 пропуск\")\n",
    "print(np.count_nonzero(np.array(data.isnull().values.sum(axis=0))), \"признаков имеют хотя бы 1 пропуск\")"
   ]
  },
  {
   "cell_type": "markdown",
   "metadata": {},
   "source": [
    "Как вы понимаете, также не имеет смысла рассматривать при решении поставленной задачи объекты с пропущенным значением целевой переменной. В связи с этим ответьте на следующие вопросы и выполните соответствующие действия:\n",
    "- Имеются ли пропущенные значения в целевой переменной? **ДА**\n",
    "- Проанализируйте объекты с пропущенными значениями целевой переменной. Чем вызвано это явление? Что их объединяет? Можно ли в связи с этим, на ваш взгляд, исключить какие-то признаки из рассмотрения? Обоснуйте свою точку зрения.\n",
    "\n",
    "Исключите из выборки объекты **с пропущенным значением целевой переменной и со значением целевой переменной, равным 0**, а также при необходимости исключите признаки в соответствии с вашим ответом на последний вопрос из списка и выделите целевую переменную в отдельный вектор, исключив её из матрицы \"объект-признак\"."
   ]
  },
  {
   "cell_type": "code",
   "execution_count": 134,
   "metadata": {},
   "outputs": [
    {
     "name": "stdout",
     "output_type": "stream",
     "text": [
      "1399 пропущенных значений в целевой переменной\n"
     ]
    }
   ],
   "source": [
    "print(data['DepDelay'].isnull().sum(), 'пропущенных значений в целевой переменной')"
   ]
  },
  {
   "cell_type": "markdown",
   "metadata": {},
   "source": [
    "Посмотрим на объекты, у которых нет ответа, заметим, что у этих объектов в признаке Cancelled единицы, проверим, так ли это для всех объектов:"
   ]
  },
  {
   "cell_type": "code",
   "execution_count": 135,
   "metadata": {},
   "outputs": [
    {
     "data": {
      "text/plain": [
       "0"
      ]
     },
     "execution_count": 135,
     "metadata": {},
     "output_type": "execute_result"
    }
   ],
   "source": [
    "sum(data[data['DepDelay'].isnull()]['Cancelled'] < 1)"
   ]
  },
  {
   "cell_type": "markdown",
   "metadata": {},
   "source": [
    "Дествительно, все объекты с отсутствующим ответом были отменены, проверим, работает ли это в обратную сторону"
   ]
  },
  {
   "cell_type": "code",
   "execution_count": 136,
   "metadata": {},
   "outputs": [
    {
     "data": {
      "text/html": [
       "<div>\n",
       "<style scoped>\n",
       "    .dataframe tbody tr th:only-of-type {\n",
       "        vertical-align: middle;\n",
       "    }\n",
       "\n",
       "    .dataframe tbody tr th {\n",
       "        vertical-align: top;\n",
       "    }\n",
       "\n",
       "    .dataframe thead th {\n",
       "        text-align: right;\n",
       "    }\n",
       "</style>\n",
       "<table border=\"1\" class=\"dataframe\">\n",
       "  <thead>\n",
       "    <tr style=\"text-align: right;\">\n",
       "      <th></th>\n",
       "      <th>Year</th>\n",
       "      <th>Month</th>\n",
       "      <th>DayofMonth</th>\n",
       "      <th>DayOfWeek</th>\n",
       "      <th>DepTime</th>\n",
       "      <th>CRSDepTime</th>\n",
       "      <th>ArrTime</th>\n",
       "      <th>...</th>\n",
       "      <th>CancellationCode</th>\n",
       "      <th>Diverted</th>\n",
       "      <th>CarrierDelay</th>\n",
       "      <th>WeatherDelay</th>\n",
       "      <th>NASDelay</th>\n",
       "      <th>SecurityDelay</th>\n",
       "      <th>LateAircraftDelay</th>\n",
       "    </tr>\n",
       "  </thead>\n",
       "  <tbody>\n",
       "    <tr>\n",
       "      <td>5976</td>\n",
       "      <td>2008</td>\n",
       "      <td>11</td>\n",
       "      <td>29</td>\n",
       "      <td>6</td>\n",
       "      <td>1325.0</td>\n",
       "      <td>1301</td>\n",
       "      <td>NaN</td>\n",
       "      <td>...</td>\n",
       "      <td>A</td>\n",
       "      <td>0</td>\n",
       "      <td>NaN</td>\n",
       "      <td>NaN</td>\n",
       "      <td>NaN</td>\n",
       "      <td>NaN</td>\n",
       "      <td>NaN</td>\n",
       "    </tr>\n",
       "    <tr>\n",
       "      <td>15680</td>\n",
       "      <td>2008</td>\n",
       "      <td>12</td>\n",
       "      <td>19</td>\n",
       "      <td>5</td>\n",
       "      <td>954.0</td>\n",
       "      <td>935</td>\n",
       "      <td>NaN</td>\n",
       "      <td>...</td>\n",
       "      <td>B</td>\n",
       "      <td>0</td>\n",
       "      <td>NaN</td>\n",
       "      <td>NaN</td>\n",
       "      <td>NaN</td>\n",
       "      <td>NaN</td>\n",
       "      <td>NaN</td>\n",
       "    </tr>\n",
       "    <tr>\n",
       "      <td>16382</td>\n",
       "      <td>2008</td>\n",
       "      <td>12</td>\n",
       "      <td>6</td>\n",
       "      <td>6</td>\n",
       "      <td>1806.0</td>\n",
       "      <td>1728</td>\n",
       "      <td>NaN</td>\n",
       "      <td>...</td>\n",
       "      <td>B</td>\n",
       "      <td>0</td>\n",
       "      <td>NaN</td>\n",
       "      <td>NaN</td>\n",
       "      <td>NaN</td>\n",
       "      <td>NaN</td>\n",
       "      <td>NaN</td>\n",
       "    </tr>\n",
       "    <tr>\n",
       "      <td>20622</td>\n",
       "      <td>2008</td>\n",
       "      <td>10</td>\n",
       "      <td>7</td>\n",
       "      <td>2</td>\n",
       "      <td>844.0</td>\n",
       "      <td>845</td>\n",
       "      <td>NaN</td>\n",
       "      <td>...</td>\n",
       "      <td>A</td>\n",
       "      <td>0</td>\n",
       "      <td>NaN</td>\n",
       "      <td>NaN</td>\n",
       "      <td>NaN</td>\n",
       "      <td>NaN</td>\n",
       "      <td>NaN</td>\n",
       "    </tr>\n",
       "    <tr>\n",
       "      <td>22462</td>\n",
       "      <td>2008</td>\n",
       "      <td>12</td>\n",
       "      <td>17</td>\n",
       "      <td>3</td>\n",
       "      <td>2132.0</td>\n",
       "      <td>2134</td>\n",
       "      <td>NaN</td>\n",
       "      <td>...</td>\n",
       "      <td>B</td>\n",
       "      <td>0</td>\n",
       "      <td>NaN</td>\n",
       "      <td>NaN</td>\n",
       "      <td>NaN</td>\n",
       "      <td>NaN</td>\n",
       "      <td>NaN</td>\n",
       "    </tr>\n",
       "    <tr>\n",
       "      <td>30057</td>\n",
       "      <td>2008</td>\n",
       "      <td>12</td>\n",
       "      <td>9</td>\n",
       "      <td>2</td>\n",
       "      <td>1358.0</td>\n",
       "      <td>1330</td>\n",
       "      <td>NaN</td>\n",
       "      <td>...</td>\n",
       "      <td>B</td>\n",
       "      <td>0</td>\n",
       "      <td>NaN</td>\n",
       "      <td>NaN</td>\n",
       "      <td>NaN</td>\n",
       "      <td>NaN</td>\n",
       "      <td>NaN</td>\n",
       "    </tr>\n",
       "    <tr>\n",
       "      <td>33611</td>\n",
       "      <td>2008</td>\n",
       "      <td>10</td>\n",
       "      <td>11</td>\n",
       "      <td>6</td>\n",
       "      <td>826.0</td>\n",
       "      <td>830</td>\n",
       "      <td>NaN</td>\n",
       "      <td>...</td>\n",
       "      <td>A</td>\n",
       "      <td>0</td>\n",
       "      <td>NaN</td>\n",
       "      <td>NaN</td>\n",
       "      <td>NaN</td>\n",
       "      <td>NaN</td>\n",
       "      <td>NaN</td>\n",
       "    </tr>\n",
       "    <tr>\n",
       "      <td>37581</td>\n",
       "      <td>2008</td>\n",
       "      <td>12</td>\n",
       "      <td>3</td>\n",
       "      <td>3</td>\n",
       "      <td>2234.0</td>\n",
       "      <td>2235</td>\n",
       "      <td>NaN</td>\n",
       "      <td>...</td>\n",
       "      <td>B</td>\n",
       "      <td>0</td>\n",
       "      <td>NaN</td>\n",
       "      <td>NaN</td>\n",
       "      <td>NaN</td>\n",
       "      <td>NaN</td>\n",
       "      <td>NaN</td>\n",
       "    </tr>\n",
       "    <tr>\n",
       "      <td>40343</td>\n",
       "      <td>2008</td>\n",
       "      <td>11</td>\n",
       "      <td>10</td>\n",
       "      <td>1</td>\n",
       "      <td>1440.0</td>\n",
       "      <td>1445</td>\n",
       "      <td>NaN</td>\n",
       "      <td>...</td>\n",
       "      <td>A</td>\n",
       "      <td>0</td>\n",
       "      <td>NaN</td>\n",
       "      <td>NaN</td>\n",
       "      <td>NaN</td>\n",
       "      <td>NaN</td>\n",
       "      <td>NaN</td>\n",
       "    </tr>\n",
       "    <tr>\n",
       "      <td>50401</td>\n",
       "      <td>2008</td>\n",
       "      <td>11</td>\n",
       "      <td>29</td>\n",
       "      <td>6</td>\n",
       "      <td>2232.0</td>\n",
       "      <td>2234</td>\n",
       "      <td>NaN</td>\n",
       "      <td>...</td>\n",
       "      <td>B</td>\n",
       "      <td>0</td>\n",
       "      <td>NaN</td>\n",
       "      <td>NaN</td>\n",
       "      <td>NaN</td>\n",
       "      <td>NaN</td>\n",
       "      <td>NaN</td>\n",
       "    </tr>\n",
       "    <tr>\n",
       "      <td>50810</td>\n",
       "      <td>2008</td>\n",
       "      <td>11</td>\n",
       "      <td>19</td>\n",
       "      <td>3</td>\n",
       "      <td>1559.0</td>\n",
       "      <td>1606</td>\n",
       "      <td>NaN</td>\n",
       "      <td>...</td>\n",
       "      <td>B</td>\n",
       "      <td>0</td>\n",
       "      <td>NaN</td>\n",
       "      <td>NaN</td>\n",
       "      <td>NaN</td>\n",
       "      <td>NaN</td>\n",
       "      <td>NaN</td>\n",
       "    </tr>\n",
       "    <tr>\n",
       "      <td>67078</td>\n",
       "      <td>2008</td>\n",
       "      <td>12</td>\n",
       "      <td>5</td>\n",
       "      <td>5</td>\n",
       "      <td>1517.0</td>\n",
       "      <td>1510</td>\n",
       "      <td>NaN</td>\n",
       "      <td>...</td>\n",
       "      <td>A</td>\n",
       "      <td>0</td>\n",
       "      <td>NaN</td>\n",
       "      <td>NaN</td>\n",
       "      <td>NaN</td>\n",
       "      <td>NaN</td>\n",
       "      <td>NaN</td>\n",
       "    </tr>\n",
       "  </tbody>\n",
       "</table>\n",
       "<p>12 rows × 29 columns</p>\n",
       "</div>"
      ],
      "text/plain": [
       "       Year  Month  DayofMonth  DayOfWeek  DepTime  CRSDepTime  ArrTime  ...  \\\n",
       "5976   2008     11          29          6   1325.0        1301      NaN  ...   \n",
       "15680  2008     12          19          5    954.0         935      NaN  ...   \n",
       "16382  2008     12           6          6   1806.0        1728      NaN  ...   \n",
       "20622  2008     10           7          2    844.0         845      NaN  ...   \n",
       "22462  2008     12          17          3   2132.0        2134      NaN  ...   \n",
       "30057  2008     12           9          2   1358.0        1330      NaN  ...   \n",
       "33611  2008     10          11          6    826.0         830      NaN  ...   \n",
       "37581  2008     12           3          3   2234.0        2235      NaN  ...   \n",
       "40343  2008     11          10          1   1440.0        1445      NaN  ...   \n",
       "50401  2008     11          29          6   2232.0        2234      NaN  ...   \n",
       "50810  2008     11          19          3   1559.0        1606      NaN  ...   \n",
       "67078  2008     12           5          5   1517.0        1510      NaN  ...   \n",
       "\n",
       "       CancellationCode Diverted  CarrierDelay WeatherDelay  NASDelay  \\\n",
       "5976                  A        0           NaN          NaN       NaN   \n",
       "15680                 B        0           NaN          NaN       NaN   \n",
       "16382                 B        0           NaN          NaN       NaN   \n",
       "20622                 A        0           NaN          NaN       NaN   \n",
       "22462                 B        0           NaN          NaN       NaN   \n",
       "30057                 B        0           NaN          NaN       NaN   \n",
       "33611                 A        0           NaN          NaN       NaN   \n",
       "37581                 B        0           NaN          NaN       NaN   \n",
       "40343                 A        0           NaN          NaN       NaN   \n",
       "50401                 B        0           NaN          NaN       NaN   \n",
       "50810                 B        0           NaN          NaN       NaN   \n",
       "67078                 A        0           NaN          NaN       NaN   \n",
       "\n",
       "       SecurityDelay  LateAircraftDelay  \n",
       "5976             NaN                NaN  \n",
       "15680            NaN                NaN  \n",
       "16382            NaN                NaN  \n",
       "20622            NaN                NaN  \n",
       "22462            NaN                NaN  \n",
       "30057            NaN                NaN  \n",
       "33611            NaN                NaN  \n",
       "37581            NaN                NaN  \n",
       "40343            NaN                NaN  \n",
       "50401            NaN                NaN  \n",
       "50810            NaN                NaN  \n",
       "67078            NaN                NaN  \n",
       "\n",
       "[12 rows x 29 columns]"
      ]
     },
     "execution_count": 136,
     "metadata": {},
     "output_type": "execute_result"
    }
   ],
   "source": [
    "data[(data['DepDelay'].isnull()==False) & (data['Cancelled']==1)]"
   ]
  },
  {
   "cell_type": "markdown",
   "metadata": {},
   "source": [
    "\n",
    "\n",
    "Для 12 объектов не выполнено обратное, то есть они были отменены, но вылетели из аэропорта, при этом они не прилетели, так как ArrDelay = NaN, но они и не \n",
    "были перенаправлены в другой аэропорт, а ActualElapsedTime - время от поднятия шасси до реального приземления неизвестно. Значит, их сбили (как только они подняли шасси).\n",
    "Но даже если это ошибки в данных, то признак Cancelled можно удалить, так как он будет иметь 12 единиц с учетом удаления оъектов без ответа, это не будет информативным\n",
    "\n",
    "  __Вывод:__ удаляем __Cancelled = 1__"
   ]
  },
  {
   "cell_type": "code",
   "execution_count": 137,
   "metadata": {},
   "outputs": [],
   "source": [
    "data.drop(['Cancelled','CancellationCode'], axis=1, inplace=True)"
   ]
  },
  {
   "cell_type": "code",
   "execution_count": 138,
   "metadata": {},
   "outputs": [],
   "source": [
    "data_1 = data[(data['DepDelay'].isnull()==False) & (data['DepDelay']!=0)]"
   ]
  },
  {
   "cell_type": "code",
   "execution_count": 139,
   "metadata": {},
   "outputs": [
    {
     "data": {
      "text/plain": [
       "(63404, 27)"
      ]
     },
     "execution_count": 139,
     "metadata": {},
     "output_type": "execute_result"
    }
   ],
   "source": [
    "data_1.shape"
   ]
  },
  {
   "cell_type": "code",
   "execution_count": 140,
   "metadata": {},
   "outputs": [],
   "source": [
    "data_x = data_1[data_1.columns.difference(['DepDelay'])]"
   ]
  },
  {
   "cell_type": "code",
   "execution_count": 141,
   "metadata": {},
   "outputs": [
    {
     "data": {
      "text/plain": [
       "(63404, 26)"
      ]
     },
     "execution_count": 141,
     "metadata": {},
     "output_type": "execute_result"
    }
   ],
   "source": [
    "data_x.shape"
   ]
  },
  {
   "cell_type": "code",
   "execution_count": 142,
   "metadata": {},
   "outputs": [],
   "source": [
    "#Выделим отдельно целевую переменную:"
   ]
  },
  {
   "cell_type": "code",
   "execution_count": 143,
   "metadata": {},
   "outputs": [],
   "source": [
    "data_y  = data_1['DepDelay']"
   ]
  },
  {
   "cell_type": "code",
   "execution_count": 144,
   "metadata": {},
   "outputs": [
    {
     "data": {
      "text/plain": [
       "(63404,)"
      ]
     },
     "execution_count": 144,
     "metadata": {},
     "output_type": "execute_result"
    }
   ],
   "source": [
    "data_y.shape"
   ]
  },
  {
   "cell_type": "markdown",
   "metadata": {},
   "source": [
    "**13. (0.5 балла)** Обратите внимание, что признаки DepTime, CRSDepTime, ArrTime, CRSArrTime приведены в формате hhmm, в связи с чем будет не вполне корректно рассматривать их как вещественные.\n",
    "\n",
    "Преобразуйте каждый признак FeatureName из указанных в пару новых признаков FeatureName\\_Hour, FeatureName\\_Minute, разделив каждое из значений на часы и минуты. Не забудьте при этом исключить исходный признак из выборки. В случае, если значение признака отсутствует, значения двух новых признаков, его заменяющих, также должны отсутствовать. \n",
    "\n",
    "Например, признак DepTime необходимо заменить на пару признаков DepTime_Hour, DepTime_Minute. При этом, например, значение 155 исходного признака будет преобразовано в значения 1 и 55 признаков DepTime_Hour, DepTime_Minute соответственно."
   ]
  },
  {
   "cell_type": "code",
   "execution_count": 145,
   "metadata": {},
   "outputs": [],
   "source": [
    "for col in ['DepTime', 'CRSDepTime', 'ArrTime', 'CRSArrTime']:\n",
    "    data_x[col+'_Hour'] = data_x[col]//100\n",
    "    data_x[col+'_Minute'] = data_x[col]%100\n",
    "    data_x.drop([col], axis=1, inplace=True)"
   ]
  },
  {
   "cell_type": "code",
   "execution_count": 146,
   "metadata": {},
   "outputs": [
    {
     "data": {
      "text/html": [
       "<div>\n",
       "<style scoped>\n",
       "    .dataframe tbody tr th:only-of-type {\n",
       "        vertical-align: middle;\n",
       "    }\n",
       "\n",
       "    .dataframe tbody tr th {\n",
       "        vertical-align: top;\n",
       "    }\n",
       "\n",
       "    .dataframe thead th {\n",
       "        text-align: right;\n",
       "    }\n",
       "</style>\n",
       "<table border=\"1\" class=\"dataframe\">\n",
       "  <thead>\n",
       "    <tr style=\"text-align: right;\">\n",
       "      <th></th>\n",
       "      <th>ActualElapsedTime</th>\n",
       "      <th>AirTime</th>\n",
       "      <th>ArrDelay</th>\n",
       "      <th>CRSElapsedTime</th>\n",
       "      <th>CarrierDelay</th>\n",
       "      <th>DayOfWeek</th>\n",
       "      <th>DayofMonth</th>\n",
       "      <th>...</th>\n",
       "      <th>DepTime_Minute</th>\n",
       "      <th>CRSDepTime_Hour</th>\n",
       "      <th>CRSDepTime_Minute</th>\n",
       "      <th>ArrTime_Hour</th>\n",
       "      <th>ArrTime_Minute</th>\n",
       "      <th>CRSArrTime_Hour</th>\n",
       "      <th>CRSArrTime_Minute</th>\n",
       "    </tr>\n",
       "  </thead>\n",
       "  <tbody>\n",
       "    <tr>\n",
       "      <td>0</td>\n",
       "      <td>57.0</td>\n",
       "      <td>46.0</td>\n",
       "      <td>8.0</td>\n",
       "      <td>65.0</td>\n",
       "      <td>NaN</td>\n",
       "      <td>3</td>\n",
       "      <td>18</td>\n",
       "      <td>...</td>\n",
       "      <td>11.0</td>\n",
       "      <td>20</td>\n",
       "      <td>55</td>\n",
       "      <td>23.0</td>\n",
       "      <td>8.0</td>\n",
       "      <td>23</td>\n",
       "      <td>0</td>\n",
       "    </tr>\n",
       "    <tr>\n",
       "      <td>1</td>\n",
       "      <td>124.0</td>\n",
       "      <td>108.0</td>\n",
       "      <td>2.0</td>\n",
       "      <td>138.0</td>\n",
       "      <td>NaN</td>\n",
       "      <td>3</td>\n",
       "      <td>4</td>\n",
       "      <td>...</td>\n",
       "      <td>26.0</td>\n",
       "      <td>14</td>\n",
       "      <td>10</td>\n",
       "      <td>17.0</td>\n",
       "      <td>30.0</td>\n",
       "      <td>17</td>\n",
       "      <td>28</td>\n",
       "    </tr>\n",
       "    <tr>\n",
       "      <td>2</td>\n",
       "      <td>138.0</td>\n",
       "      <td>125.0</td>\n",
       "      <td>-19.0</td>\n",
       "      <td>155.0</td>\n",
       "      <td>NaN</td>\n",
       "      <td>7</td>\n",
       "      <td>3</td>\n",
       "      <td>...</td>\n",
       "      <td>43.0</td>\n",
       "      <td>11</td>\n",
       "      <td>45</td>\n",
       "      <td>15.0</td>\n",
       "      <td>1.0</td>\n",
       "      <td>15</td>\n",
       "      <td>20</td>\n",
       "    </tr>\n",
       "    <tr>\n",
       "      <td>3</td>\n",
       "      <td>102.0</td>\n",
       "      <td>79.0</td>\n",
       "      <td>-12.0</td>\n",
       "      <td>111.0</td>\n",
       "      <td>NaN</td>\n",
       "      <td>3</td>\n",
       "      <td>23</td>\n",
       "      <td>...</td>\n",
       "      <td>41.0</td>\n",
       "      <td>11</td>\n",
       "      <td>44</td>\n",
       "      <td>13.0</td>\n",
       "      <td>23.0</td>\n",
       "      <td>13</td>\n",
       "      <td>35</td>\n",
       "    </tr>\n",
       "    <tr>\n",
       "      <td>4</td>\n",
       "      <td>148.0</td>\n",
       "      <td>136.0</td>\n",
       "      <td>-17.0</td>\n",
       "      <td>160.0</td>\n",
       "      <td>NaN</td>\n",
       "      <td>7</td>\n",
       "      <td>4</td>\n",
       "      <td>...</td>\n",
       "      <td>15.0</td>\n",
       "      <td>8</td>\n",
       "      <td>20</td>\n",
       "      <td>12.0</td>\n",
       "      <td>43.0</td>\n",
       "      <td>13</td>\n",
       "      <td>0</td>\n",
       "    </tr>\n",
       "  </tbody>\n",
       "</table>\n",
       "<p>5 rows × 30 columns</p>\n",
       "</div>"
      ],
      "text/plain": [
       "   ActualElapsedTime  AirTime  ArrDelay  CRSElapsedTime  CarrierDelay  \\\n",
       "0               57.0     46.0       8.0            65.0           NaN   \n",
       "1              124.0    108.0       2.0           138.0           NaN   \n",
       "2              138.0    125.0     -19.0           155.0           NaN   \n",
       "3              102.0     79.0     -12.0           111.0           NaN   \n",
       "4              148.0    136.0     -17.0           160.0           NaN   \n",
       "\n",
       "   DayOfWeek  DayofMonth  ... DepTime_Minute  CRSDepTime_Hour  \\\n",
       "0          3          18  ...           11.0               20   \n",
       "1          3           4  ...           26.0               14   \n",
       "2          7           3  ...           43.0               11   \n",
       "3          3          23  ...           41.0               11   \n",
       "4          7           4  ...           15.0                8   \n",
       "\n",
       "   CRSDepTime_Minute  ArrTime_Hour  ArrTime_Minute  CRSArrTime_Hour  \\\n",
       "0                 55          23.0             8.0               23   \n",
       "1                 10          17.0            30.0               17   \n",
       "2                 45          15.0             1.0               15   \n",
       "3                 44          13.0            23.0               13   \n",
       "4                 20          12.0            43.0               13   \n",
       "\n",
       "   CRSArrTime_Minute  \n",
       "0                  0  \n",
       "1                 28  \n",
       "2                 20  \n",
       "3                 35  \n",
       "4                  0  \n",
       "\n",
       "[5 rows x 30 columns]"
      ]
     },
     "execution_count": 146,
     "metadata": {},
     "output_type": "execute_result"
    }
   ],
   "source": [
    "data_x.head()"
   ]
  },
  {
   "cell_type": "markdown",
   "metadata": {},
   "source": [
    "**14. (0.5 балла)** Некоторые из признаков, отличных от целевой переменной, могут оказывать чересчур значимое влияние на прогноз, поскольку по своему смыслу содержат большую долю информации о значении целевой переменной. Изучите описание датасета и исключите признаки, сильно коррелирующие с ответами. Ваш выбор признаков для исключения из выборки обоснуйте. Кроме того, исключите признаки TailNum и Year."
   ]
  },
  {
   "cell_type": "code",
   "execution_count": 147,
   "metadata": {},
   "outputs": [],
   "source": [
    "#Посмотрим, какие признаки сильно коррелируют с целевой переменной"
   ]
  },
  {
   "cell_type": "code",
   "execution_count": 148,
   "metadata": {},
   "outputs": [
    {
     "name": "stdout",
     "output_type": "stream",
     "text": [
      "Populating the interactive namespace from numpy and matplotlib\n"
     ]
    },
    {
     "data": {
      "text/plain": [
       "<matplotlib.axes._subplots.AxesSubplot at 0x21520c2e388>"
      ]
     },
     "execution_count": 148,
     "metadata": {},
     "output_type": "execute_result"
    },
    {
     "data": {
      "image/png": "[encoded data removed]",
      "text/plain": [
       "<Figure size 1080x1080 with 2 Axes>"
      ]
     },
     "metadata": {
      "needs_background": "light"
     },
     "output_type": "display_data"
    }
   ],
   "source": [
    "%pylab inline\n",
    "import seaborn as sns\n",
    "corr = data_1.corr(method='pearson')\n",
    "fig, ax = plt.subplots(figsize=(15,15))\n",
    "sns.heatmap(corr, annot=True, fmt=\".2f\", square=True, linewidths=.5,  ax=ax)"
   ]
  },
  {
   "cell_type": "code",
   "execution_count": 149,
   "metadata": {},
   "outputs": [],
   "source": [
    "#Наиболее кореллирующими признаками являются"
   ]
  },
  {
   "cell_type": "code",
   "execution_count": 150,
   "metadata": {},
   "outputs": [
    {
     "data": {
      "text/plain": [
       "ArrDelay             0.933526\n",
       "DepDelay             1.000000\n",
       "CarrierDelay         0.532696\n",
       "LateAircraftDelay    0.553806\n",
       "Name: DepDelay, dtype: float64"
      ]
     },
     "execution_count": 150,
     "metadata": {},
     "output_type": "execute_result"
    }
   ],
   "source": [
    "corr_DepDelay = corr.loc['DepDelay',:]\n",
    "corr_DepDelay[corr_DepDelay > 0.4]"
   ]
  },
  {
   "cell_type": "markdown",
   "metadata": {},
   "source": [
    "Посмотрим на таймлайн переменных\n",
    "\n",
    "<img src=\"timeline.png\" width=\"800\" height=\"800\">\n",
    "\n",
    "[Источник](http://www.galitshmueli.com/sites/galitshmueli.com/files/FlightDelays.pdf)"
   ]
  },
  {
   "cell_type": "code",
   "execution_count": 151,
   "metadata": {},
   "outputs": [
    {
     "data": {
      "text/html": [
       "<div>\n",
       "<style scoped>\n",
       "    .dataframe tbody tr th:only-of-type {\n",
       "        vertical-align: middle;\n",
       "    }\n",
       "\n",
       "    .dataframe tbody tr th {\n",
       "        vertical-align: top;\n",
       "    }\n",
       "\n",
       "    .dataframe thead th {\n",
       "        text-align: right;\n",
       "    }\n",
       "</style>\n",
       "<table border=\"1\" class=\"dataframe\">\n",
       "  <thead>\n",
       "    <tr style=\"text-align: right;\">\n",
       "      <th></th>\n",
       "      <th>DepDelay</th>\n",
       "      <th>TaxiOut</th>\n",
       "      <th>DepTime</th>\n",
       "      <th>CRSDepTime</th>\n",
       "    </tr>\n",
       "  </thead>\n",
       "  <tbody>\n",
       "    <tr>\n",
       "      <td>17</td>\n",
       "      <td>1.0</td>\n",
       "      <td>65.0</td>\n",
       "      <td>1951.0</td>\n",
       "      <td>1950</td>\n",
       "    </tr>\n",
       "    <tr>\n",
       "      <td>25</td>\n",
       "      <td>1.0</td>\n",
       "      <td>10.0</td>\n",
       "      <td>901.0</td>\n",
       "      <td>900</td>\n",
       "    </tr>\n",
       "    <tr>\n",
       "      <td>43</td>\n",
       "      <td>8.0</td>\n",
       "      <td>19.0</td>\n",
       "      <td>648.0</td>\n",
       "      <td>640</td>\n",
       "    </tr>\n",
       "    <tr>\n",
       "      <td>44</td>\n",
       "      <td>5.0</td>\n",
       "      <td>13.0</td>\n",
       "      <td>1735.0</td>\n",
       "      <td>1730</td>\n",
       "    </tr>\n",
       "    <tr>\n",
       "      <td>51</td>\n",
       "      <td>14.0</td>\n",
       "      <td>46.0</td>\n",
       "      <td>1416.0</td>\n",
       "      <td>1402</td>\n",
       "    </tr>\n",
       "  </tbody>\n",
       "</table>\n",
       "</div>"
      ],
      "text/plain": [
       "    DepDelay  TaxiOut  DepTime  CRSDepTime\n",
       "17       1.0     65.0   1951.0        1950\n",
       "25       1.0     10.0    901.0         900\n",
       "43       8.0     19.0    648.0         640\n",
       "44       5.0     13.0   1735.0        1730\n",
       "51      14.0     46.0   1416.0        1402"
      ]
     },
     "execution_count": 151,
     "metadata": {},
     "output_type": "execute_result"
    }
   ],
   "source": [
    "data_1[(data_1['TaxiOut']> data_1['DepDelay']) & (data_1['DepDelay']>0)][['DepDelay', 'TaxiOut', 'DepTime',\n",
    "                                                                          'CRSDepTime']].head()"
   ]
  },
  {
   "cell_type": "markdown",
   "metadata": {},
   "source": [
    "Но по нашим данным TaxiOut не входит DepDelay, получается, что в нашем случае DepDelay = DepTime - CRSDepTime\n",
    "\n",
    "Логично предположить, что в момент предсказания мы находимся до вылета самолета и не знаем ни информацию после взлета, ни информацию о времени реального \n",
    "отправления - только расписание (иначе модель бессмысленна) \n",
    "\n",
    "Очевидно, что все переменные после __Wheels-off time__ мы не можем использовать, так как они не известны в момент нашего предсказания или не влияют на нашу переменную:\n",
    "- ActualElapsedTime - после вылета\n",
    "- CRSElapsedTime - не влияет\n",
    "- AirTime - после вылета\n",
    "- ArrDelay - после вылета\n",
    "- Year - не нужен \n",
    "- ArrTime_Hour - после вылета\n",
    "- ArrTime_Minute - после вылета\n",
    "- TaxiIn - после вылета\n",
    "- TailNum - не нужен \n",
    "- LateAircraftDelay - не можем знать до того, как произошло \n",
    "- WeatherDelay - не можем знать до того, как произошло \n",
    "- CarrierDelay - не можем знать до того, как произошло \n",
    "- Diverted - узнается в процессе полета и не влияет на задержку при вылете\n",
    "- NASDelay - не можем знать до того, как произошло \n",
    "- SecurityDelay - не можем знать до того, как произошло \n",
    "- TaxiOut - по данным происходит после задержки, так что не влияет на DepDelay\n",
    "- DepTime_Hour - не можем знать до того, как произошло \n",
    "- DepTime_Minute - не можем знать до того, как произошло\n",
    "- ArrTime_Hour - не можем знать до того, как произошло\n",
    "- ArrTime_Minute - не можем знать до того, как произошло"
   ]
  },
  {
   "cell_type": "code",
   "execution_count": 152,
   "metadata": {},
   "outputs": [],
   "source": [
    "# Исходя из вышесказанного получаем следующий набор данных"
   ]
  },
  {
   "cell_type": "code",
   "execution_count": 153,
   "metadata": {},
   "outputs": [],
   "source": [
    "X = data_x[['DayOfWeek', 'DayofMonth', 'Dest', 'Distance',  'FlightNum', 'Month', 'Origin','UniqueCarrier',\n",
    "            'CRSDepTime_Hour', 'CRSDepTime_Minute','CRSArrTime_Hour','CRSArrTime_Minute']]"
   ]
  },
  {
   "cell_type": "code",
   "execution_count": 154,
   "metadata": {},
   "outputs": [
    {
     "data": {
      "text/html": [
       "<div>\n",
       "<style scoped>\n",
       "    .dataframe tbody tr th:only-of-type {\n",
       "        vertical-align: middle;\n",
       "    }\n",
       "\n",
       "    .dataframe tbody tr th {\n",
       "        vertical-align: top;\n",
       "    }\n",
       "\n",
       "    .dataframe thead th {\n",
       "        text-align: right;\n",
       "    }\n",
       "</style>\n",
       "<table border=\"1\" class=\"dataframe\">\n",
       "  <thead>\n",
       "    <tr style=\"text-align: right;\">\n",
       "      <th></th>\n",
       "      <th>DayOfWeek</th>\n",
       "      <th>DayofMonth</th>\n",
       "      <th>Dest</th>\n",
       "      <th>Distance</th>\n",
       "      <th>FlightNum</th>\n",
       "      <th>Month</th>\n",
       "      <th>Origin</th>\n",
       "      <th>UniqueCarrier</th>\n",
       "      <th>CRSDepTime_Hour</th>\n",
       "      <th>CRSDepTime_Minute</th>\n",
       "      <th>CRSArrTime_Hour</th>\n",
       "      <th>CRSArrTime_Minute</th>\n",
       "    </tr>\n",
       "  </thead>\n",
       "  <tbody>\n",
       "    <tr>\n",
       "      <td>0</td>\n",
       "      <td>3</td>\n",
       "      <td>18</td>\n",
       "      <td>CLE</td>\n",
       "      <td>307</td>\n",
       "      <td>242</td>\n",
       "      <td>6</td>\n",
       "      <td>MDW</td>\n",
       "      <td>WN</td>\n",
       "      <td>20</td>\n",
       "      <td>55</td>\n",
       "      <td>23</td>\n",
       "      <td>0</td>\n",
       "    </tr>\n",
       "    <tr>\n",
       "      <td>1</td>\n",
       "      <td>3</td>\n",
       "      <td>4</td>\n",
       "      <td>AVL</td>\n",
       "      <td>834</td>\n",
       "      <td>2380</td>\n",
       "      <td>6</td>\n",
       "      <td>IAH</td>\n",
       "      <td>XE</td>\n",
       "      <td>14</td>\n",
       "      <td>10</td>\n",
       "      <td>17</td>\n",
       "      <td>28</td>\n",
       "    </tr>\n",
       "    <tr>\n",
       "      <td>2</td>\n",
       "      <td>7</td>\n",
       "      <td>3</td>\n",
       "      <td>TPA</td>\n",
       "      <td>997</td>\n",
       "      <td>1769</td>\n",
       "      <td>8</td>\n",
       "      <td>MDW</td>\n",
       "      <td>WN</td>\n",
       "      <td>11</td>\n",
       "      <td>45</td>\n",
       "      <td>15</td>\n",
       "      <td>20</td>\n",
       "    </tr>\n",
       "    <tr>\n",
       "      <td>3</td>\n",
       "      <td>3</td>\n",
       "      <td>23</td>\n",
       "      <td>FCA</td>\n",
       "      <td>532</td>\n",
       "      <td>3802</td>\n",
       "      <td>1</td>\n",
       "      <td>SLC</td>\n",
       "      <td>OO</td>\n",
       "      <td>11</td>\n",
       "      <td>44</td>\n",
       "      <td>13</td>\n",
       "      <td>35</td>\n",
       "    </tr>\n",
       "    <tr>\n",
       "      <td>4</td>\n",
       "      <td>7</td>\n",
       "      <td>4</td>\n",
       "      <td>AUS</td>\n",
       "      <td>1090</td>\n",
       "      <td>399</td>\n",
       "      <td>5</td>\n",
       "      <td>LAS</td>\n",
       "      <td>WN</td>\n",
       "      <td>8</td>\n",
       "      <td>20</td>\n",
       "      <td>13</td>\n",
       "      <td>0</td>\n",
       "    </tr>\n",
       "  </tbody>\n",
       "</table>\n",
       "</div>"
      ],
      "text/plain": [
       "   DayOfWeek  DayofMonth Dest  Distance  FlightNum  Month Origin  \\\n",
       "0          3          18  CLE       307        242      6    MDW   \n",
       "1          3           4  AVL       834       2380      6    IAH   \n",
       "2          7           3  TPA       997       1769      8    MDW   \n",
       "3          3          23  FCA       532       3802      1    SLC   \n",
       "4          7           4  AUS      1090        399      5    LAS   \n",
       "\n",
       "  UniqueCarrier  CRSDepTime_Hour  CRSDepTime_Minute  CRSArrTime_Hour  \\\n",
       "0            WN               20                 55               23   \n",
       "1            XE               14                 10               17   \n",
       "2            WN               11                 45               15   \n",
       "3            OO               11                 44               13   \n",
       "4            WN                8                 20               13   \n",
       "\n",
       "   CRSArrTime_Minute  \n",
       "0                  0  \n",
       "1                 28  \n",
       "2                 20  \n",
       "3                 35  \n",
       "4                  0  "
      ]
     },
     "execution_count": 154,
     "metadata": {},
     "output_type": "execute_result"
    }
   ],
   "source": [
    "X.head()"
   ]
  },
  {
   "cell_type": "markdown",
   "metadata": {},
   "source": [
    "**15. (1 балл)** Приведем данные к виду, пригодному для обучения линейных моделей. Для этого вещественные признаки надо отмасштабировать, а категориальные — привести к числовому виду. Также надо устранить пропуски в данных."
   ]
  },
  {
   "cell_type": "markdown",
   "metadata": {},
   "source": [
    "В первую очередь поймем, зачем необходимо применять масштабирование. Следующие ячейки с кодом построят гистограммы для 3 вещественных признаков выборки."
   ]
  },
  {
   "cell_type": "code",
   "execution_count": 155,
   "metadata": {
    "scrolled": true
   },
   "outputs": [
    {
     "data": {
      "text/plain": [
       "<matplotlib.axes._subplots.AxesSubplot at 0x2152a3bbf08>"
      ]
     },
     "execution_count": 155,
     "metadata": {},
     "output_type": "execute_result"
    },
    {
     "data": {
      "image/png": "[encoded data removed]",
      "text/plain": [
       "<Figure size 432x288 with 1 Axes>"
      ]
     },
     "metadata": {
      "needs_background": "light"
     },
     "output_type": "display_data"
    }
   ],
   "source": [
    "data_x['DepTime_Hour'].hist(bins=20)"
   ]
  },
  {
   "cell_type": "code",
   "execution_count": 156,
   "metadata": {},
   "outputs": [
    {
     "data": {
      "text/plain": [
       "<matplotlib.axes._subplots.AxesSubplot at 0x21521cc6248>"
      ]
     },
     "execution_count": 156,
     "metadata": {},
     "output_type": "execute_result"
    },
    {
     "data": {
      "image/png": "[encoded data removed]",
      "text/plain": [
       "<Figure size 432x288 with 1 Axes>"
      ]
     },
     "metadata": {
      "needs_background": "light"
     },
     "output_type": "display_data"
    }
   ],
   "source": [
    "data_x['TaxiIn'].hist(bins=20)"
   ]
  },
  {
   "cell_type": "code",
   "execution_count": 157,
   "metadata": {},
   "outputs": [
    {
     "data": {
      "text/plain": [
       "<matplotlib.axes._subplots.AxesSubplot at 0x2152e0b8188>"
      ]
     },
     "execution_count": 157,
     "metadata": {},
     "output_type": "execute_result"
    },
    {
     "data": {
      "image/png": "[encoded data removed]",
      "text/plain": [
       "<Figure size 432x288 with 1 Axes>"
      ]
     },
     "metadata": {
      "needs_background": "light"
     },
     "output_type": "display_data"
    }
   ],
   "source": [
    "data_x['FlightNum'].hist(bins=20)"
   ]
  },
  {
   "cell_type": "markdown",
   "metadata": {},
   "source": [
    "Какую проблему вы наблюдаете на этих графиках? Как масштабирование поможет её исправить?"
   ]
  },
  {
   "cell_type": "markdown",
   "metadata": {},
   "source": [
    "<font color='navy'> __Проблема__ - разные единицы измерения, следовательно разный разброс переменных, поэтому без масштабирования их нельзя сравнивать. Кроме того, это нужно для градиентного спуска, который мы будем использовать для обучения. Если признаки имеют разный масштаб, то на разных признаках веса будут обновляться с разной скоростью. Масштабирование ускорит сходимость алгоритма. </font>"
   ]
  },
  {
   "cell_type": "markdown",
   "metadata": {},
   "source": [
    "Некоторые из признаков в нашем датасете являются категориальными. Типичным подходом к работе с ними является бинарное, или [one-hot-кодирование](https://en.wikipedia.org/wiki/One-hot).\n",
    "\n",
    "Реализуйте функцию transform_data, которая принимает на вход DataFrame с признаками и выполняет следующие шаги:\n",
    "1. Замена пропущенных значений на нули для вещественных признаков и на строки 'nan' для категориальных.\n",
    "2. Масштабирование вещественных признаков с помощью [StandardScaler](http://scikit-learn.org/stable/modules/generated/sklearn.preprocessing.StandardScaler.html).\n",
    "3. One-hot-кодирование категориальных признаков с помощью [DictVectorizer](http://scikit-learn.org/stable/modules/generated/sklearn.feature_extraction.DictVectorizer.html) или функции [pd.get_dummies](http://pandas.pydata.org/pandas-docs/stable/generated/pandas.get_dummies.html).\n",
    "\n",
    "Метод должен возвращать преобразованный DataFrame, который должна состоять из масштабированных вещественных признаков и закодированных категориальных (исходные признаки должны быть исключены из выборки)."
   ]
  },
  {
   "cell_type": "code",
   "execution_count": 158,
   "metadata": {},
   "outputs": [],
   "source": [
    "from sklearn.preprocessing import StandardScaler\n",
    "import warnings\n",
    "warnings.filterwarnings('ignore')\n",
    "pd.set_option('display.max_columns', 15)"
   ]
  },
  {
   "cell_type": "code",
   "execution_count": 159,
   "metadata": {},
   "outputs": [],
   "source": [
    "def transform_data(data):\n",
    "    ss = StandardScaler()\n",
    "    for col in data.columns:\n",
    "        if data[col].dtype.name == 'object':\n",
    "            data[col].fillna('nan', inplace = True)\n",
    "        else:\n",
    "            data[col].fillna(0, inplace = True)\n",
    "            data[col]= ss.fit_transform(data[col].values.reshape(-1, 1)).flatten('F')\n",
    "    data = pd.get_dummies(data)\n",
    "    return data "
   ]
  },
  {
   "cell_type": "markdown",
   "metadata": {},
   "source": [
    "Примените функцию transform_data к данным. Сколько признаков получилось после преобразования?"
   ]
  },
  {
   "cell_type": "code",
   "execution_count": 160,
   "metadata": {},
   "outputs": [
    {
     "name": "stdout",
     "output_type": "stream",
     "text": [
      "623 признака после преобразования\n"
     ]
    }
   ],
   "source": [
    "X_trasf = transform_data(X)\n",
    "print(X_trasf.shape[1], \"признака после преобразования\")"
   ]
  },
  {
   "cell_type": "markdown",
   "metadata": {},
   "source": [
    "<font color='blue'> В исходных переменных Destination, Origin, Unique Carrier было  много уникальных значений, поэтому one-hot-encoding создал огромное количество бинарных признаков из них. Попробуем уменьшить число признаков. \n",
    "\n",
    "<font color='blue'>Логика отбора: можно усреднить значения задержек по всем аэропортам отбытия для Origin, аэропортам прибытия для Dest, перевозчикам для UniqueCarrier. Ещё лучше посчитать не среднее, а медиану задержек вылета по аэропортам, чтобы выбросы не влияли на результат. Ожидается, что аэропорты, в которых чаще остальных задерживают рейсы, будут иметь медиану выше медианы по всей выборке. \n",
    "\n",
    "<font color='blue'>Значение медианы или среднего не показательно для тех аэропортов, по которым мало наблюдений, и бинарные переменные, кодирующие такие аэропорты, лучше просто исключить из числа признаков, потому что оценки по ним будут неточными.</font>"
   ]
  },
  {
   "cell_type": "code",
   "execution_count": 161,
   "metadata": {},
   "outputs": [
    {
     "data": {
      "text/html": [
       "<div>\n",
       "<style scoped>\n",
       "    .dataframe tbody tr th:only-of-type {\n",
       "        vertical-align: middle;\n",
       "    }\n",
       "\n",
       "    .dataframe tbody tr th {\n",
       "        vertical-align: top;\n",
       "    }\n",
       "\n",
       "    .dataframe thead th {\n",
       "        text-align: right;\n",
       "    }\n",
       "</style>\n",
       "<table border=\"1\" class=\"dataframe\">\n",
       "  <thead>\n",
       "    <tr style=\"text-align: right;\">\n",
       "      <th></th>\n",
       "      <th>DayOfWeek</th>\n",
       "      <th>DayofMonth</th>\n",
       "      <th>Distance</th>\n",
       "      <th>FlightNum</th>\n",
       "      <th>Month</th>\n",
       "      <th>CRSDepTime_Hour</th>\n",
       "      <th>CRSDepTime_Minute</th>\n",
       "      <th>...</th>\n",
       "      <th>UniqueCarrier_OH</th>\n",
       "      <th>UniqueCarrier_OO</th>\n",
       "      <th>UniqueCarrier_UA</th>\n",
       "      <th>UniqueCarrier_US</th>\n",
       "      <th>UniqueCarrier_WN</th>\n",
       "      <th>UniqueCarrier_XE</th>\n",
       "      <th>UniqueCarrier_YV</th>\n",
       "    </tr>\n",
       "  </thead>\n",
       "  <tbody>\n",
       "    <tr>\n",
       "      <td>0</td>\n",
       "      <td>-0.462767</td>\n",
       "      <td>0.256485</td>\n",
       "      <td>-0.744130</td>\n",
       "      <td>-0.991600</td>\n",
       "      <td>-0.118281</td>\n",
       "      <td>1.512432</td>\n",
       "      <td>1.586498</td>\n",
       "      <td>...</td>\n",
       "      <td>0</td>\n",
       "      <td>0</td>\n",
       "      <td>0</td>\n",
       "      <td>0</td>\n",
       "      <td>1</td>\n",
       "      <td>0</td>\n",
       "      <td>0</td>\n",
       "    </tr>\n",
       "    <tr>\n",
       "      <td>1</td>\n",
       "      <td>-0.462767</td>\n",
       "      <td>-1.332050</td>\n",
       "      <td>0.183961</td>\n",
       "      <td>0.106546</td>\n",
       "      <td>-0.118281</td>\n",
       "      <td>0.214011</td>\n",
       "      <td>-0.936014</td>\n",
       "      <td>...</td>\n",
       "      <td>0</td>\n",
       "      <td>0</td>\n",
       "      <td>0</td>\n",
       "      <td>0</td>\n",
       "      <td>0</td>\n",
       "      <td>1</td>\n",
       "      <td>0</td>\n",
       "    </tr>\n",
       "    <tr>\n",
       "      <td>2</td>\n",
       "      <td>1.541454</td>\n",
       "      <td>-1.445517</td>\n",
       "      <td>0.471018</td>\n",
       "      <td>-0.207284</td>\n",
       "      <td>0.467662</td>\n",
       "      <td>-0.435199</td>\n",
       "      <td>1.025940</td>\n",
       "      <td>...</td>\n",
       "      <td>0</td>\n",
       "      <td>0</td>\n",
       "      <td>0</td>\n",
       "      <td>0</td>\n",
       "      <td>1</td>\n",
       "      <td>0</td>\n",
       "      <td>0</td>\n",
       "    </tr>\n",
       "    <tr>\n",
       "      <td>3</td>\n",
       "      <td>-0.462767</td>\n",
       "      <td>0.823819</td>\n",
       "      <td>-0.347886</td>\n",
       "      <td>0.836931</td>\n",
       "      <td>-1.583137</td>\n",
       "      <td>-0.435199</td>\n",
       "      <td>0.969884</td>\n",
       "      <td>...</td>\n",
       "      <td>0</td>\n",
       "      <td>1</td>\n",
       "      <td>0</td>\n",
       "      <td>0</td>\n",
       "      <td>0</td>\n",
       "      <td>0</td>\n",
       "      <td>0</td>\n",
       "    </tr>\n",
       "    <tr>\n",
       "      <td>4</td>\n",
       "      <td>1.541454</td>\n",
       "      <td>-1.332050</td>\n",
       "      <td>0.634799</td>\n",
       "      <td>-0.910960</td>\n",
       "      <td>-0.411252</td>\n",
       "      <td>-1.084410</td>\n",
       "      <td>-0.375456</td>\n",
       "      <td>...</td>\n",
       "      <td>0</td>\n",
       "      <td>0</td>\n",
       "      <td>0</td>\n",
       "      <td>0</td>\n",
       "      <td>1</td>\n",
       "      <td>0</td>\n",
       "      <td>0</td>\n",
       "    </tr>\n",
       "  </tbody>\n",
       "</table>\n",
       "<p>5 rows × 623 columns</p>\n",
       "</div>"
      ],
      "text/plain": [
       "   DayOfWeek  DayofMonth  Distance  FlightNum     Month  CRSDepTime_Hour  \\\n",
       "0  -0.462767    0.256485 -0.744130  -0.991600 -0.118281         1.512432   \n",
       "1  -0.462767   -1.332050  0.183961   0.106546 -0.118281         0.214011   \n",
       "2   1.541454   -1.445517  0.471018  -0.207284  0.467662        -0.435199   \n",
       "3  -0.462767    0.823819 -0.347886   0.836931 -1.583137        -0.435199   \n",
       "4   1.541454   -1.332050  0.634799  -0.910960 -0.411252        -1.084410   \n",
       "\n",
       "   CRSDepTime_Minute  ...  UniqueCarrier_OH  UniqueCarrier_OO  \\\n",
       "0           1.586498  ...                 0                 0   \n",
       "1          -0.936014  ...                 0                 0   \n",
       "2           1.025940  ...                 0                 0   \n",
       "3           0.969884  ...                 0                 1   \n",
       "4          -0.375456  ...                 0                 0   \n",
       "\n",
       "   UniqueCarrier_UA  UniqueCarrier_US  UniqueCarrier_WN  UniqueCarrier_XE  \\\n",
       "0                 0                 0                 1                 0   \n",
       "1                 0                 0                 0                 1   \n",
       "2                 0                 0                 1                 0   \n",
       "3                 0                 0                 0                 0   \n",
       "4                 0                 0                 1                 0   \n",
       "\n",
       "   UniqueCarrier_YV  \n",
       "0                 0  \n",
       "1                 0  \n",
       "2                 0  \n",
       "3                 0  \n",
       "4                 0  \n",
       "\n",
       "[5 rows x 623 columns]"
      ]
     },
     "execution_count": 161,
     "metadata": {},
     "output_type": "execute_result"
    }
   ],
   "source": [
    "X_trasf.head()"
   ]
  },
  {
   "cell_type": "markdown",
   "metadata": {},
   "source": [
    "**16. (0.5 балла)** Разбейте выборку и вектор целевой переменной на обучение и контроль в отношении 70/30 (для этого можно использовать, например, функцию [train_test_split](http://scikit-learn.org/stable/modules/generated/sklearn.cross_validation.train_test_split.html)). "
   ]
  },
  {
   "cell_type": "code",
   "execution_count": 162,
   "metadata": {},
   "outputs": [],
   "source": [
    "from sklearn.model_selection import train_test_split\n",
    "X_train, X_test, y_train, y_test = train_test_split(X_trasf, data_y, test_size=0.3, random_state=42)"
   ]
  },
  {
   "cell_type": "markdown",
   "metadata": {},
   "source": [
    "### Scikit-learn\n",
    "\n",
    "<img src = \"https://pp.vk.me/c4534/u35727827/93547647/x_d31c4463.jpg\">\n",
    "Теперь, когда мы привели данные к пригодному виду, попробуем решить задачу при помощи метода наименьших квадратов. Напомним, что данный метод заключается в оптимизации функционала $MSE$:\n",
    "\n",
    "$$MSE(X, y) = \\frac{1}{l} \\sum_{i=1}^l (<w, x_i> - y_i)^2 \\to \\min_{w},$$\n",
    "\n",
    "где $\\{ (x_i, y_i ) \\}_{i=1}^l$ — обучающая выборка, состоящая из $l$ пар объект-ответ.\n",
    "\n",
    "Заметим, что решение данной задачи уже реализовано в модуле sklearn в виде класса [LinearRegression](http://scikit-learn.org/stable/modules/generated/sklearn.linear_model.LinearRegression.html#sklearn.linear_model.LinearRegression).\n",
    "\n",
    "**17. (0.5 балла)** Обучите линейную регрессию на 1000 объектах из обучающей выборки и выведите значения $MSE$ и $R^2$ на этой подвыборке и контрольной выборке (итого 4 различных числа). Проинтерпретируйте полученный результат — насколько качественные прогнозы строит полученная модель? Какие проблемы наблюдаются в модели?\n",
    "\n",
    "**Подсказка**: изучите значения полученных коэффициентов $w$, сохраненных в атрибуте coef_ объекта LinearRegression."
   ]
  },
  {
   "cell_type": "code",
   "execution_count": 163,
   "metadata": {},
   "outputs": [],
   "source": [
    "from sklearn.linear_model import LinearRegression\n",
    "from sklearn.metrics import mean_squared_error as mse\n",
    "from sklearn.metrics import r2_score"
   ]
  },
  {
   "cell_type": "code",
   "execution_count": 164,
   "metadata": {},
   "outputs": [],
   "source": [
    "X_train_2, y_train_2 = X_train[:1000], y_train[:1000]\n",
    "LinReg = LinearRegression()\n",
    "LinReg.fit(X_train_2, y_train_2)\n",
    "pr_train_LinReg = LinReg.predict(X_train_2)\n",
    "pr_test_LinReg = LinReg.predict(X_test)"
   ]
  },
  {
   "cell_type": "code",
   "execution_count": 165,
   "metadata": {},
   "outputs": [
    {
     "name": "stdout",
     "output_type": "stream",
     "text": [
      "-------Train-------\n",
      "MSE 690.8600 \n",
      "R2    0.3481 \n",
      "-------Test-------\n",
      "MSE 3772405228171833865404416.0000 \n",
      "R2    -2820133628894426169344.0000 \n"
     ]
    }
   ],
   "source": [
    "print('-------Train-------')\n",
    "print('MSE %0.4f \\nR2    %0.4f ' %(mse(y_train_2, pr_train_LinReg), r2_score(y_train_2, pr_train_LinReg)))\n",
    "print('-------Test-------')\n",
    "print('MSE %0.4f \\nR2    %0.4f ' %(mse(y_test, pr_test_LinReg), r2_score(y_test, pr_test_LinReg)))"
   ]
  },
  {
   "cell_type": "code",
   "execution_count": 166,
   "metadata": {},
   "outputs": [
    {
     "data": {
      "image/png": "[encoded data removed]",
      "text/plain": [
       "<Figure size 432x288 with 1 Axes>"
      ]
     },
     "metadata": {
      "needs_background": "light"
     },
     "output_type": "display_data"
    }
   ],
   "source": [
    "pd.DataFrame(LinReg.coef_).plot.hist(bins=35)\n",
    "plt.title('Веса в модели');"
   ]
  },
  {
   "cell_type": "code",
   "execution_count": 167,
   "metadata": {},
   "outputs": [
    {
     "data": {
      "text/plain": [
       "array([ 8.70809958e-01,  6.57452540e-01,  6.11508936e-01,  8.33314002e-01,\n",
       "       -5.53564808e-01,  7.71911065e+00, -9.43284712e-01, -1.05591977e+00,\n",
       "        2.55085255e+00, -1.83419941e+12, -1.83419941e+12, -1.83419941e+12,\n",
       "       -1.31941441e+14,  1.08652986e+13,  4.51057517e+13, -1.83419941e+12,\n",
       "        1.43358759e+13, -3.71435478e+13, -2.75516178e+13, -1.83419941e+12,\n",
       "        9.18651210e+12,  5.75290614e+12, -1.83419941e+12, -1.83419941e+12,\n",
       "       -1.83419941e+12,  9.12721080e+12, -1.83419941e+12, -1.83419941e+12,\n",
       "       -1.83419941e+12,  3.97218635e+12,  6.41729197e+12, -1.83419941e+12,\n",
       "       -1.83419941e+12, -1.03658402e+13, -1.83419941e+12, -1.32999743e+11,\n",
       "        1.21202863e+13, -1.83419941e+12,  2.27323613e+12, -1.83419941e+12,\n",
       "        9.87543208e+12, -6.25176277e+12, -1.83419941e+12, -1.83419941e+12,\n",
       "       -1.83419941e+12, -1.83419941e+12, -5.18329322e+12, -1.83419941e+12,\n",
       "        7.37549972e+12, -1.83419941e+12,  1.21760411e+13,  4.54553866e+11,\n",
       "        5.17393609e+11, -1.83419941e+12, -1.83419941e+12, -1.83419941e+12,\n",
       "       -1.83419941e+12, -1.83419941e+12, -1.83419941e+12, -1.83419941e+12,\n",
       "        3.69494637e+12, -1.83419941e+12, -5.29239968e+12, -8.73279307e+12,\n",
       "       -7.94419523e+12, -4.64874743e+12,  5.60223598e+11, -1.83419941e+12,\n",
       "       -1.83419941e+12, -1.83419941e+12, -1.83419941e+12, -1.83419941e+12,\n",
       "       -1.83419941e+12, -1.83419941e+12,  2.57288117e+12,  5.90687952e+12,\n",
       "       -1.83419941e+12, -1.83419941e+12, -1.83419941e+12, -5.94511767e+12,\n",
       "        4.88996015e+12, -1.83419941e+12, -7.14273504e+11, -1.91518920e+12,\n",
       "       -1.83419941e+12, -1.83419941e+12, -4.90538588e+12, -1.83419941e+12,\n",
       "       -1.83419941e+12, -1.83419941e+12, -3.96194599e+12, -5.75550678e+12,\n",
       "        1.82574922e+12, -1.31101612e+10, -1.83419941e+12, -1.83419941e+12,\n",
       "       -1.83419941e+12, -4.62709462e+12, -1.57533738e+12, -1.76092616e+12,\n",
       "       -5.12002732e+12, -1.83419941e+12, -1.83419941e+12,  7.89152034e+12,\n",
       "       -1.83419941e+12, -7.00876308e+12, -1.83419941e+12, -3.37048516e+12,\n",
       "       -1.83419941e+12,  7.95865268e+12, -1.83419941e+12,  3.23016548e+11,\n",
       "       -1.83419941e+12,  1.28587312e+13, -2.47361521e+12, -1.83419941e+12,\n",
       "       -8.36247708e+12, -9.64095140e+12,  4.45757594e+12, -1.83419941e+12,\n",
       "       -1.83419941e+12, -1.09924690e+12, -1.83419941e+12, -1.83419941e+12,\n",
       "        1.98818373e+12, -1.98686322e+12, -1.83419941e+12, -1.83419941e+12,\n",
       "       -1.83419941e+12,  1.88301846e+12,  2.25753905e+12, -1.83419941e+12,\n",
       "       -3.87534553e+12, -1.83419941e+12,  5.62844040e+12, -2.02744426e+12,\n",
       "       -1.83419941e+12, -1.83419941e+12, -1.83419941e+12, -1.83419941e+12,\n",
       "        6.59719235e+12, -1.83419941e+12, -3.37687247e+12, -1.83419941e+12,\n",
       "       -1.83419941e+12, -1.83419941e+12, -1.83419941e+12, -1.83419941e+12,\n",
       "       -1.83419941e+12, -6.82931289e+12, -1.83419941e+12, -1.83419941e+12,\n",
       "       -9.44317539e+11, -2.58692145e+12, -1.66914385e+12,  6.30997776e+11,\n",
       "       -3.51562631e+12, -1.83419941e+12, -1.83419941e+12, -4.51924427e+12,\n",
       "       -1.83419941e+12, -1.83419941e+12,  8.89635377e+11, -1.83419941e+12,\n",
       "       -1.33543589e+12, -1.83419941e+12, -1.83419941e+12, -1.08493139e+12,\n",
       "       -8.49057533e+10, -1.83419941e+12, -1.83419941e+12, -1.83419941e+12,\n",
       "       -1.83419941e+12, -1.83419941e+12, -3.92867548e+11, -1.83419941e+12,\n",
       "       -1.83419941e+12, -1.71160228e+13, -4.70647638e+11, -1.52170418e+12,\n",
       "       -3.04492703e+12, -1.83419941e+12, -1.83419941e+12, -1.83419941e+12,\n",
       "       -1.38825704e+13, -1.83419941e+12, -1.83419941e+12, -1.83419941e+12,\n",
       "        9.85771868e+12, -1.83419941e+12, -1.83419941e+12, -1.55888629e+13,\n",
       "       -4.33132649e+12, -1.83419941e+12, -1.83419941e+12, -1.83419941e+12,\n",
       "       -2.17055897e+11, -1.83419941e+12, -1.83419941e+12, -1.83419941e+12,\n",
       "        5.03735589e+11, -8.33534860e+11, -1.83419941e+12, -3.88333572e+11,\n",
       "        1.16892261e+11, -1.83419941e+12, -1.83419941e+12, -1.83419941e+12,\n",
       "       -1.83419941e+12,  3.55470858e+11, -1.83419941e+12,  4.12100921e+11,\n",
       "       -1.83419941e+12, -1.83419941e+12, -1.83419941e+12, -1.83419941e+12,\n",
       "       -4.35267623e+11, -1.83419941e+12, -1.83419941e+12, -1.83419941e+12,\n",
       "       -1.13623184e+11,  3.36487602e+11,  1.12010242e+11, -1.83419941e+12,\n",
       "       -1.83419941e+12,  2.95526525e+11, -1.83419941e+12, -1.83419941e+12,\n",
       "       -1.83419941e+12,  3.24002799e+11,  1.88381137e+11, -1.83419941e+12,\n",
       "       -8.79620356e+10, -3.55395653e+11,  2.97587262e+11,  3.84973678e+11,\n",
       "        1.11863129e+11, -1.58147938e+11, -1.83419941e+12, -1.83419941e+12,\n",
       "       -7.35895136e+11, -1.83419941e+12, -3.18321080e+11,  9.63260122e+10,\n",
       "       -1.83419941e+12, -6.50733812e+10,  5.02270279e+11, -1.83419941e+12,\n",
       "        5.20162951e+11, -1.83419941e+12, -1.83419941e+12, -1.83419941e+12,\n",
       "        2.68190002e+11, -7.21947093e+11, -1.83419941e+12, -1.83419941e+12,\n",
       "       -1.83419941e+12, -1.83419941e+12, -1.83419941e+12, -1.98170168e+11,\n",
       "       -1.83419941e+12, -2.09755127e+11, -1.68270963e+11, -1.83419941e+12,\n",
       "       -1.83419941e+12, -1.83419941e+12, -1.83419941e+12,  1.14500475e+11,\n",
       "       -4.23559709e+10, -3.54646415e+11, -1.83419941e+12, -3.48386009e+11,\n",
       "       -1.83419941e+12, -1.83419941e+12,  1.42743948e+11, -1.83419941e+12,\n",
       "       -1.79113333e+11, -1.83419941e+12,  2.86135042e+11,  5.57446905e+10,\n",
       "       -1.83419941e+12, -1.83419941e+12, -1.83419941e+12,  3.78046273e+10,\n",
       "        9.56713506e+10, -1.11222726e+11, -1.51889099e+11, -1.83419941e+12,\n",
       "       -1.83419941e+12,  2.22117836e+11, -1.83419941e+12, -8.27253337e+10,\n",
       "       -1.83419941e+12, -1.83419941e+12, -2.12477714e+10,  4.90471721e+10,\n",
       "        3.71392102e+10,  1.69160489e+11, -1.83419941e+12,  8.90559636e+10,\n",
       "       -1.83419941e+12,  2.49562998e+10, -1.90599378e+10, -1.83419941e+12,\n",
       "        2.23187802e+10,  1.32685676e+10, -3.70114489e+10,  4.41310980e+09,\n",
       "       -6.88747132e+12, -6.88747132e+12, -6.88747132e+12, -1.11232163e+10,\n",
       "        7.18519634e+09, -6.88747132e+12, -3.38339850e+09,  3.79185398e+09,\n",
       "       -1.30709240e+10,  5.64461189e+08, -1.24239758e+10,  1.64797264e+08,\n",
       "       -6.88747132e+12,  3.57627869e-07,  0.00000000e+00, -6.88747132e+12,\n",
       "       -6.88747132e+12, -6.88747132e+12, -6.88747132e+12, -6.88747132e+12,\n",
       "        3.55271368e-14,  2.60381994e-15, -7.10542736e-15, -6.88747132e+12,\n",
       "       -1.02804050e-15, -6.88747132e+12,  0.00000000e+00,  6.60322491e-15,\n",
       "       -6.88747132e+12,  1.06581410e-14, -4.24345888e-15,  3.55271368e-15,\n",
       "        0.00000000e+00, -6.88747132e+12, -6.88747132e+12, -6.88747132e+12,\n",
       "        1.77032512e-15, -6.88747132e+12, -3.55271368e-15,  3.97042459e-17,\n",
       "       -1.50990331e-14, -3.55271368e-14,  2.67907416e-16, -6.88747132e+12,\n",
       "       -6.88747132e+12, -6.88747132e+12, -6.88747132e+12, -6.88747132e+12,\n",
       "       -6.88747132e+12, -4.26325641e-14,  2.84217094e-14, -4.52383356e-16,\n",
       "       -6.88747132e+12, -3.99680289e-15, -6.88747132e+12,  0.00000000e+00,\n",
       "       -6.88747132e+12, -6.88747132e+12, -6.88747132e+12, -6.88747132e+12,\n",
       "       -6.88747132e+12, -6.88747132e+12,  0.00000000e+00,  0.00000000e+00,\n",
       "        0.00000000e+00, -6.88747132e+12,  0.00000000e+00, -6.88747132e+12,\n",
       "        0.00000000e+00,  0.00000000e+00, -6.88747132e+12,  0.00000000e+00,\n",
       "        0.00000000e+00, -6.88747132e+12, -6.88747132e+12,  0.00000000e+00,\n",
       "       -6.88747132e+12, -6.88747132e+12, -6.88747132e+12, -6.88747132e+12,\n",
       "       -6.88747132e+12,  0.00000000e+00, -6.88747132e+12, -6.88747132e+12,\n",
       "        0.00000000e+00,  0.00000000e+00,  0.00000000e+00, -6.88747132e+12,\n",
       "        0.00000000e+00, -6.88747132e+12,  0.00000000e+00,  0.00000000e+00,\n",
       "       -6.88747132e+12,  0.00000000e+00,  0.00000000e+00,  0.00000000e+00,\n",
       "       -6.88747132e+12, -6.88747132e+12,  0.00000000e+00,  0.00000000e+00,\n",
       "       -6.88747132e+12,  0.00000000e+00, -6.88747132e+12,  0.00000000e+00,\n",
       "        0.00000000e+00, -6.88747132e+12,  0.00000000e+00, -6.88747132e+12,\n",
       "       -6.88747132e+12,  0.00000000e+00, -6.88747132e+12,  0.00000000e+00,\n",
       "        0.00000000e+00, -6.88747132e+12, -6.88747132e+12, -6.88747132e+12,\n",
       "       -6.88747132e+12, -6.88747132e+12,  0.00000000e+00,  0.00000000e+00,\n",
       "        0.00000000e+00,  0.00000000e+00,  0.00000000e+00,  0.00000000e+00,\n",
       "        0.00000000e+00, -6.88747132e+12, -6.88747132e+12, -6.88747132e+12,\n",
       "        0.00000000e+00, -6.88747132e+12,  0.00000000e+00, -6.88747132e+12,\n",
       "       -6.88747132e+12, -6.88747132e+12, -6.88747132e+12,  0.00000000e+00,\n",
       "       -6.88747132e+12,  0.00000000e+00,  0.00000000e+00, -6.88747132e+12,\n",
       "        0.00000000e+00,  0.00000000e+00,  0.00000000e+00,  0.00000000e+00,\n",
       "       -6.88747132e+12, -6.88747132e+12, -6.88747132e+12, -6.88747132e+12,\n",
       "       -6.88747132e+12,  0.00000000e+00,  0.00000000e+00, -6.88747132e+12,\n",
       "        0.00000000e+00, -6.88747132e+12, -6.88747132e+12,  0.00000000e+00,\n",
       "       -6.88747132e+12,  0.00000000e+00, -6.88747132e+12, -6.88747132e+12,\n",
       "        0.00000000e+00, -6.88747132e+12,  0.00000000e+00,  0.00000000e+00,\n",
       "       -6.88747132e+12,  0.00000000e+00,  0.00000000e+00,  0.00000000e+00,\n",
       "        0.00000000e+00, -6.88747132e+12, -6.88747132e+12, -6.88747132e+12,\n",
       "        0.00000000e+00, -6.88747132e+12,  0.00000000e+00, -6.88747132e+12,\n",
       "        0.00000000e+00, -6.88747132e+12,  0.00000000e+00, -6.88747132e+12,\n",
       "        0.00000000e+00, -6.88747132e+12, -6.88747132e+12, -6.88747132e+12,\n",
       "        0.00000000e+00,  0.00000000e+00, -6.88747132e+12,  0.00000000e+00,\n",
       "       -6.88747132e+12,  0.00000000e+00,  0.00000000e+00,  0.00000000e+00,\n",
       "        0.00000000e+00, -6.88747132e+12,  0.00000000e+00, -6.88747132e+12,\n",
       "       -6.88747132e+12,  0.00000000e+00, -6.88747132e+12,  0.00000000e+00,\n",
       "       -6.88747132e+12, -6.88747132e+12, -6.88747132e+12, -6.88747132e+12,\n",
       "        0.00000000e+00, -6.88747132e+12, -6.88747132e+12, -6.88747132e+12,\n",
       "        0.00000000e+00,  0.00000000e+00,  0.00000000e+00, -6.88747132e+12,\n",
       "       -6.88747132e+12,  0.00000000e+00,  0.00000000e+00, -6.88747132e+12,\n",
       "       -6.88747132e+12, -6.88747132e+12,  0.00000000e+00, -6.88747132e+12,\n",
       "        0.00000000e+00,  0.00000000e+00, -6.88747132e+12,  0.00000000e+00,\n",
       "        0.00000000e+00,  0.00000000e+00, -6.88747132e+12, -6.88747132e+12,\n",
       "       -6.88747132e+12, -6.88747132e+12,  0.00000000e+00,  0.00000000e+00,\n",
       "       -6.88747132e+12,  0.00000000e+00,  0.00000000e+00, -6.88747132e+12,\n",
       "        0.00000000e+00, -6.88747132e+12, -6.88747132e+12, -6.88747132e+12,\n",
       "       -6.88747132e+12,  0.00000000e+00, -6.88747132e+12, -6.88747132e+12,\n",
       "       -6.88747132e+12, -6.88747132e+12, -6.88747132e+12, -6.88747132e+12,\n",
       "       -6.88747132e+12,  0.00000000e+00,  0.00000000e+00, -6.88747132e+12,\n",
       "       -6.88747132e+12, -6.88747132e+12, -6.88747132e+12,  0.00000000e+00,\n",
       "       -6.88747132e+12,  0.00000000e+00, -6.88747132e+12,  0.00000000e+00,\n",
       "       -6.88747132e+12, -6.88747132e+12,  0.00000000e+00, -6.88747132e+12,\n",
       "        0.00000000e+00, -6.88747132e+12,  0.00000000e+00, -6.88747132e+12,\n",
       "       -6.88747132e+12, -6.88747132e+12,  0.00000000e+00,  0.00000000e+00,\n",
       "        0.00000000e+00,  0.00000000e+00, -6.88747132e+12, -6.88747132e+12,\n",
       "        0.00000000e+00, -6.88747132e+12,  0.00000000e+00, -6.88747132e+12,\n",
       "       -6.88747132e+12, -6.88747132e+12, -6.88747132e+12,  0.00000000e+00,\n",
       "        0.00000000e+00,  0.00000000e+00,  0.00000000e+00, -6.88747132e+12,\n",
       "        0.00000000e+00, -6.88747132e+12,  0.00000000e+00, -6.88747132e+12,\n",
       "       -4.20242646e+12,  0.00000000e+00, -6.88747132e+12, -1.16071948e+13,\n",
       "       -1.16071948e+13,  0.00000000e+00, -1.16071948e+13, -1.16071948e+13,\n",
       "       -1.16071948e+13, -1.16071948e+13, -1.16071948e+13, -1.16071948e+13,\n",
       "       -1.16071948e+13, -1.16071948e+13, -1.16071948e+13, -1.16071948e+13,\n",
       "       -1.16071948e+13, -1.16071948e+13, -1.16071948e+13, -1.16071948e+13,\n",
       "       -1.16071948e+13, -1.16071948e+13, -1.16071948e+13])"
      ]
     },
     "execution_count": 167,
     "metadata": {},
     "output_type": "execute_result"
    }
   ],
   "source": [
    "LinReg.coef_"
   ]
  },
  {
   "cell_type": "markdown",
   "metadata": {},
   "source": [
    "__ВЫВОД:__\n",
    "\n",
    "   <font color='blue'>На тестовой выборке получили огромную MSE и сильно отрицательный $R^2$. Метрика r2_score может быть отрицательной, так как модель может быть \"сколь угодно плоха\" - в \n",
    "сравнении с моделью с одной константой, что дает $R^2$ = 0. То есть наша модель хуже предсказания среднего значения. Возможно, среднее тестовой выборки сильно отличается \n",
    "от среднего на обучающей, поэтому  просто предсказание среднего тестовой выборки намного лучше, то есть ошибка намного меньше, чем у нашей модели. </font>\n",
    "\n",
    "  <font color='blue'>Если модель адекватно работает на тренировочной, но хуже, чем бесполезна на тестовой, это значит, что существует проблема переобучения. Об этом свидетельствую \n",
    "экстремальные веса в модели - при таком большом количестве признаков модель теряет обобщающую способность, так как подстраивается под тренировочные данные, \n",
    "минимизируюя на них MSE, при этом коэффициенты в основном очень большие. </font>\n",
    "\n",
    "<font color='blue'>Регуляризация как раз вводит штраф за большие веса модели, тем самым заставляя её меньше подстраиваться под тренировочные данные и сохранять обобщающую способность. </font>\n"
   ]
  },
  {
   "cell_type": "markdown",
   "metadata": {},
   "source": [
    "Для решения описанных вами в предыдущем пункте проблем используем L1- или L2-регуляризацию, тем самым получив Lasso и Ridge регрессии соответственно и изменив оптимизационную задачу одним из следующих образов:\n",
    "$$MSE_{L1}(X, y) = \\frac{1}{l} \\sum_{i=1}^l (<w, x_i> - y_i)^2 + \\alpha ||w||_1 \\to \\min_{w},$$\n",
    "$$MSE_{L2}(X, y) = \\frac{1}{l} \\sum_{i=1}^l (<w, x_i> - y_i)^2 + \\alpha ||w||_2^2 \\to \\min_{w},$$\n",
    "\n",
    "где $\\alpha$ — коэффициент регуляризации. Один из способов его подбора заключается в переборе некоторого количества значений и оценке качества на кросс-валидации для каждого из них, после чего выбирается значение, для которого было получено наилучшее качество.\n",
    "\n",
    "**18. (0.5 балла)** Обучите линейные регрессии с L1- и L2-регуляризатором, подобрав лучшее значение параметра регуляризации из списка alpha_grid при помощи кросс-валидации c 5 фолдами на тех же 1000 объектах, что и в п.17. Выведите значения $MSE$ и $R^2$ на обучающей и контрольной выборках. Удалось ли решить указанные вами ранее проблемы?\n",
    "\n",
    "Для выполнения данного задания вам могут понадобиться реализованные в библиотеке объекты [LassoCV](http://scikit-learn.org/stable/modules/generated/sklearn.linear_model.LassoCV.html), [RidgeCV](http://scikit-learn.org/stable/modules/generated/sklearn.linear_model.RidgeCV.html) и [KFold](http://scikit-learn.org/stable/modules/generated/sklearn.cross_validation.KFold.html).\n"
   ]
  },
  {
   "cell_type": "code",
   "execution_count": 168,
   "metadata": {},
   "outputs": [],
   "source": [
    "from sklearn.linear_model import LassoCV\n",
    "from sklearn.linear_model import RidgeCV\n",
    "from sklearn.model_selection import KFold"
   ]
  },
  {
   "cell_type": "code",
   "execution_count": 169,
   "metadata": {},
   "outputs": [],
   "source": [
    "LassReg = LassoCV(alphas=np.linspace(0.01, 100, num=1000), cv=KFold(n_splits=5,random_state=42))\n",
    "LassReg.fit(X_train_2, y_train_2)\n",
    "pr_train_LassReg = LassReg.predict(X_train_2)\n",
    "pr_test_LassReg = LassReg.predict(X_test)"
   ]
  },
  {
   "cell_type": "code",
   "execution_count": 170,
   "metadata": {},
   "outputs": [
    {
     "data": {
      "text/plain": [
       "array([ 0.        ,  0.14977813,  0.73600924,  0.11622887, -0.6530681 ,\n",
       "        5.44399428,  0.        ,  0.        ,  1.06151939,  0.        ,\n",
       "       -0.        , -0.        ,  0.        ,  0.        ,  0.        ,\n",
       "       -0.        ,  0.        ,  0.        ,  0.        , -0.        ,\n",
       "        0.        ,  0.        ,  0.        , -0.        ,  0.        ,\n",
       "        0.        ,  0.        , -0.        , -0.        ,  0.        ,\n",
       "        0.        , -0.        , -0.        ,  0.        , -0.        ,\n",
       "        0.        ,  0.        , -0.        ,  0.        ,  0.        ,\n",
       "        0.        ,  0.        , -0.        , -0.        ,  0.        ,\n",
       "        0.        ,  0.        , -0.        ,  0.        ,  0.        ,\n",
       "        0.        ,  0.        ,  0.        , -0.        ,  0.        ,\n",
       "       -0.        , -0.        , -0.        , -0.        , -0.        ,\n",
       "        0.        , -0.        ,  0.        ,  0.        ,  0.        ,\n",
       "        0.        ,  0.        ,  0.        , -0.        , -0.        ,\n",
       "        0.        ,  0.        ,  0.        , -0.        ,  0.        ,\n",
       "        0.        , -0.        , -0.        , -0.        ,  0.        ,\n",
       "        0.        ,  0.        ,  0.        ,  0.        , -0.        ,\n",
       "        0.        ,  0.        , -0.        , -0.        ,  0.        ,\n",
       "        0.        ,  0.        ,  0.        ,  0.        , -0.        ,\n",
       "       -0.        , -0.        ,  0.        ,  0.        ,  0.        ,\n",
       "        0.        ,  0.        , -0.        ,  0.        ,  0.        ,\n",
       "        0.        , -0.        ,  0.        , -0.        ,  0.        ,\n",
       "       -0.        ,  0.        ,  0.        ,  0.        ,  0.        ,\n",
       "       -0.        ,  0.        ,  0.        ,  0.        , -0.        ,\n",
       "       -0.        ,  0.        , -0.        ,  0.        ,  0.        ,\n",
       "        0.        , -0.        , -0.        , -0.        ,  0.        ,\n",
       "        0.        , -0.        ,  0.        , -0.        ,  0.        ,\n",
       "        0.        , -0.        , -0.        , -0.        , -0.        ,\n",
       "        0.        , -0.        ,  0.        ,  0.        ,  0.        ,\n",
       "       -0.        , -0.        , -0.        , -0.        ,  0.        ,\n",
       "       -0.        , -0.        ,  0.        ,  0.        ,  0.        ,\n",
       "        0.        ,  0.        ,  0.        , -0.        ,  0.        ,\n",
       "       -0.        , -0.        ,  0.        ,  0.        ,  0.        ,\n",
       "       -0.        , -0.        ,  0.        ,  0.        ,  0.        ,\n",
       "       -0.        , -0.        , -0.        , -0.        ,  0.        ,\n",
       "       -0.        ,  0.        ,  0.        ,  0.        ,  0.        ,\n",
       "        0.        , -0.        , -0.        , -0.        ,  0.        ,\n",
       "        0.        , -0.        , -0.        ,  0.        ,  0.        ,\n",
       "        0.        ,  0.        ,  0.        , -0.        ,  0.        ,\n",
       "       -0.        ,  0.        , -0.        ,  0.        , -0.        ,\n",
       "        0.        ,  0.        , -0.        ,  0.        ,  0.        ,\n",
       "       -0.        ,  0.        , -0.        , -0.        ,  0.        ,\n",
       "       -0.        ,  0.        , -0.        , -0.        , -0.        ,\n",
       "       -0.        ,  0.        , -0.        , -0.        , -0.        ,\n",
       "        0.        ,  0.        ,  0.        , -0.        , -0.        ,\n",
       "        0.        , -0.        ,  0.        , -0.        ,  0.        ,\n",
       "        0.        ,  0.        ,  0.        ,  0.        ,  0.        ,\n",
       "        0.        ,  0.        ,  0.        ,  0.        , -0.        ,\n",
       "        0.        ,  0.        ,  0.        ,  0.        ,  0.        ,\n",
       "        0.        ,  0.        , -0.        ,  0.        , -0.        ,\n",
       "       -0.        , -0.        ,  0.        ,  0.        , -0.        ,\n",
       "        0.        ,  0.        ,  0.        ,  0.        ,  0.        ,\n",
       "       -0.        ,  0.        ,  0.        ,  0.        , -0.        ,\n",
       "        0.        , -0.        ,  0.        ,  0.        ,  0.        ,\n",
       "        0.        ,  0.        ,  0.        , -0.        ,  0.        ,\n",
       "        0.        ,  0.        ,  0.        ,  0.        ,  0.        ,\n",
       "       -0.        , -0.        , -0.        ,  0.        ,  0.        ,\n",
       "        0.        ,  0.        , -0.        ,  0.        ,  0.        ,\n",
       "        0.        ,  0.        , -0.        , -0.        ,  0.        ,\n",
       "        0.        ,  0.        ,  0.        , -0.        ,  0.        ,\n",
       "        0.        ,  0.        ,  0.        , -0.        ,  0.        ,\n",
       "        0.        ,  0.        ,  0.        ,  0.        , -0.        ,\n",
       "        0.        ,  0.        ,  0.        , -0.        ,  0.        ,\n",
       "        0.        ,  0.        ,  0.        ,  0.        ,  0.        ,\n",
       "       -0.        ,  0.        ,  0.        , -0.        , -0.        ,\n",
       "       -0.        , -0.        ,  0.        ,  0.        ,  0.        ,\n",
       "        0.        , -0.        ,  0.        , -0.        ,  0.        ,\n",
       "        0.        ,  0.        ,  0.        ,  0.        ,  0.        ,\n",
       "        0.        ,  0.        , -0.        , -0.        ,  0.        ,\n",
       "       -0.        ,  0.        ,  0.        ,  0.        ,  0.        ,\n",
       "        0.        ,  0.        ,  0.        , -0.        ,  0.        ,\n",
       "        0.        ,  0.        ,  0.        ,  0.        ,  0.        ,\n",
       "       -0.        ,  0.        , -0.        ,  0.        ,  0.        ,\n",
       "       -0.        , -0.        ,  0.        , -0.        ,  0.        ,\n",
       "        0.        ,  0.        ,  0.        , -0.        ,  0.        ,\n",
       "       -0.        ,  0.        ,  0.        , -0.        ,  0.        ,\n",
       "        0.        , -0.        , -0.        ,  0.        , -0.        ,\n",
       "       -0.        ,  0.        , -0.        , -0.        ,  0.        ,\n",
       "       -0.        , -0.        ,  0.        ,  0.        ,  0.        ,\n",
       "       -0.        ,  0.        ,  0.        ,  0.        ,  0.        ,\n",
       "        0.        ,  0.        ,  0.        ,  0.        , -0.        ,\n",
       "       -0.        ,  0.        ,  0.        ,  0.        ,  0.        ,\n",
       "       -0.        ,  0.        ,  0.        , -0.        ,  0.        ,\n",
       "       -0.        , -0.        ,  0.        ,  0.        ,  0.        ,\n",
       "        0.        ,  0.        , -0.        , -0.        , -0.        ,\n",
       "       -0.        ,  0.        ,  0.        ,  0.        ,  0.        ,\n",
       "        0.        ,  0.        ,  0.        ,  0.        , -0.        ,\n",
       "       -0.        ,  0.        , -0.        ,  0.        , -0.        ,\n",
       "       -0.        , -0.        , -0.        ,  0.        ,  0.        ,\n",
       "        0.        ,  0.        , -0.        ,  0.        ,  0.        ,\n",
       "        0.        ,  0.        , -0.        ,  0.        ,  0.        ,\n",
       "        0.        , -0.        ,  0.        ,  0.        , -0.        ,\n",
       "        0.        , -0.        , -0.        ,  0.        , -0.        ,\n",
       "        0.        , -0.        , -0.        ,  0.        , -0.        ,\n",
       "        0.        ,  0.        , -0.        ,  0.        ,  0.        ,\n",
       "        0.        ,  0.        , -0.        ,  0.        , -0.        ,\n",
       "        0.        , -0.        ,  0.        ,  0.        ,  0.        ,\n",
       "        0.        ,  0.        , -0.        ,  0.        ,  0.        ,\n",
       "        0.        ,  0.        ,  0.        ,  0.        , -0.        ,\n",
       "        0.        , -0.        ,  0.        ,  0.        ,  0.        ,\n",
       "        0.        , -0.        ,  0.        , -0.        , -0.        ,\n",
       "        0.        ,  0.        ,  0.        , -0.        , -0.        ,\n",
       "       -0.        , -0.        ,  0.        , -0.        ,  0.42524484,\n",
       "       -0.        ,  0.        ,  0.        ,  0.        , -0.        ,\n",
       "       -0.        ,  0.        ,  0.        ,  0.        , -0.        ,\n",
       "       -0.        ,  0.        , -0.        ,  0.        ,  0.        ,\n",
       "        0.        ,  0.        ,  0.        ,  0.        , -0.        ,\n",
       "        0.        , -0.        , -0.        ,  0.        ,  0.        ,\n",
       "       -0.        ,  0.        ,  0.        , -0.        ,  0.        ,\n",
       "       -0.        , -0.        ,  0.        , -0.        ,  0.        ,\n",
       "        0.        ,  0.        , -0.        , -0.        , -0.        ,\n",
       "       -0.        ,  0.        ,  0.        ,  0.        , -0.        ,\n",
       "       -0.        ,  0.        , -0.        ,  0.        , -0.        ,\n",
       "        0.        , -0.        ,  0.        , -0.        , -0.        ,\n",
       "        0.        , -0.        ,  0.        ,  0.        ,  0.        ,\n",
       "        0.        ,  0.        ,  0.        ,  0.        ,  0.        ,\n",
       "        0.        ,  0.        ,  0.        , -0.        ,  0.        ,\n",
       "        0.        ,  0.        , -0.        , -0.        ,  0.        ,\n",
       "       -0.        ,  0.        ,  0.        ,  0.        ,  0.        ,\n",
       "       -0.        ,  0.        ,  0.        ,  0.        , -0.        ,\n",
       "        0.        ,  0.        , -0.        , -0.        ,  0.        ,\n",
       "        0.        , -0.        ,  0.        ,  9.41647402, -0.        ,\n",
       "        0.        , -0.        , -0.        , -0.        , -0.        ,\n",
       "       -0.37888361,  0.        ,  0.        ,  0.        , -0.        ,\n",
       "        0.52638592, -0.        ,  0.        ])"
      ]
     },
     "execution_count": 170,
     "metadata": {},
     "output_type": "execute_result"
    }
   ],
   "source": [
    "LassReg.coef_"
   ]
  },
  {
   "cell_type": "code",
   "execution_count": 172,
   "metadata": {},
   "outputs": [
    {
     "data": {
      "image/png": "[encoded data removed]",
      "text/plain": [
       "<Figure size 432x288 with 1 Axes>"
      ]
     },
     "metadata": {
      "needs_background": "light"
     },
     "output_type": "display_data"
    }
   ],
   "source": [
    "pd.DataFrame(LassReg.coef_).plot.hist(bins=35)\n",
    "plt.title('Веса в модели');"
   ]
  },
  {
   "cell_type": "code",
   "execution_count": 173,
   "metadata": {},
   "outputs": [
    {
     "data": {
      "text/plain": [
       "0.41036036036036033"
      ]
     },
     "execution_count": 173,
     "metadata": {},
     "output_type": "execute_result"
    }
   ],
   "source": [
    "LassReg.alpha_"
   ]
  },
  {
   "cell_type": "code",
   "execution_count": 174,
   "metadata": {},
   "outputs": [
    {
     "name": "stdout",
     "output_type": "stream",
     "text": [
      "-------Train-------\n",
      "MSE 1006.7691 \n",
      "R2     0.0501 \n",
      "-------Test-------\n",
      "MSE 1316.3999 \n",
      "R2     0.0159 \n"
     ]
    }
   ],
   "source": [
    "print('-------Train-------')\n",
    "print('MSE %0.4f \\nR2     %0.4f ' %(mse(y_train_2, pr_train_LassReg), r2_score(y_train_2, pr_train_LassReg)))\n",
    "print('-------Test-------')\n",
    "print('MSE %0.4f \\nR2     %0.4f ' %(mse(y_test, pr_test_LassReg), r2_score(y_test, pr_test_LassReg)))"
   ]
  },
  {
   "cell_type": "code",
   "execution_count": 175,
   "metadata": {},
   "outputs": [],
   "source": [
    "RidgeReg = RidgeCV(alphas=np.linspace(0.01, 150, num=100), cv=KFold(n_splits=5,random_state=42))\n",
    "RidgeReg.fit(X_train_2, y_train_2)\n",
    "pr_train_RidgeReg = RidgeReg.predict(X_train_2)\n",
    "pr_test_RidgeReg = RidgeReg.predict(X_test)"
   ]
  },
  {
   "cell_type": "code",
   "execution_count": 178,
   "metadata": {},
   "outputs": [
    {
     "data": {
      "image/png": "[encoded data removed]",
      "text/plain": [
       "<Figure size 432x288 with 1 Axes>"
      ]
     },
     "metadata": {
      "needs_background": "light"
     },
     "output_type": "display_data"
    }
   ],
   "source": [
    "pd.DataFrame(RidgeReg.coef_).plot.hist(bins=35)\n",
    "plt.title('Веса в модели');"
   ]
  },
  {
   "cell_type": "code",
   "execution_count": 176,
   "metadata": {},
   "outputs": [
    {
     "data": {
      "text/plain": [
       "array([ 2.12532400e-01,  5.64604054e-01,  1.14281567e+00,  4.79208763e-01,\n",
       "       -9.14402180e-01,  4.82606226e+00, -1.82435175e-02,  7.46580505e-01,\n",
       "        1.30860125e+00,  8.79407046e-01, -1.53591809e-01, -1.83568173e-01,\n",
       "        0.00000000e+00,  0.00000000e+00,  0.00000000e+00, -3.13300320e-01,\n",
       "        0.00000000e+00,  0.00000000e+00,  0.00000000e+00, -1.12459251e-01,\n",
       "        0.00000000e+00,  0.00000000e+00,  6.95170110e-02, -7.04885037e-02,\n",
       "        1.49167447e-01,  0.00000000e+00,  1.64111891e+00, -4.03550007e-01,\n",
       "       -1.54884545e-01,  0.00000000e+00,  0.00000000e+00, -9.05179407e-02,\n",
       "       -6.75599475e-01,  0.00000000e+00, -1.85222488e-01,  0.00000000e+00,\n",
       "        0.00000000e+00, -1.24331712e-01,  0.00000000e+00,  1.52102524e-01,\n",
       "        0.00000000e+00,  0.00000000e+00, -2.91577155e-02, -4.44932423e-01,\n",
       "        9.80666155e-02,  1.95595504e+00,  0.00000000e+00, -1.83877373e-01,\n",
       "        0.00000000e+00,  2.61925809e-02,  0.00000000e+00,  0.00000000e+00,\n",
       "        0.00000000e+00, -9.95266549e-02,  1.95999796e-01, -2.72510333e-01,\n",
       "       -8.04678360e-02, -1.22091216e-02, -4.87567326e-02, -1.40926961e-01,\n",
       "        0.00000000e+00, -1.43530433e-01,  0.00000000e+00,  0.00000000e+00,\n",
       "        0.00000000e+00,  0.00000000e+00,  0.00000000e+00,  8.13556468e-01,\n",
       "       -3.03173557e-01,  7.59250597e-03,  8.27321113e-02,  1.45506650e-01,\n",
       "        1.03424176e+00, -1.19441822e-01,  0.00000000e+00,  0.00000000e+00,\n",
       "       -1.80119034e-01, -2.16807669e-01, -2.15387881e-01,  0.00000000e+00,\n",
       "        0.00000000e+00,  8.84988399e-01,  0.00000000e+00,  0.00000000e+00,\n",
       "       -3.08352995e-01,  8.77018615e-01,  0.00000000e+00, -8.05076749e-01,\n",
       "       -1.37609980e+00,  1.45207657e-02,  0.00000000e+00,  0.00000000e+00,\n",
       "        0.00000000e+00,  0.00000000e+00, -3.51924762e-01, -2.86251177e-01,\n",
       "       -1.31008532e-01,  0.00000000e+00,  0.00000000e+00,  0.00000000e+00,\n",
       "        0.00000000e+00,  1.06739830e-01, -1.13068246e-01,  0.00000000e+00,\n",
       "        2.47578449e+00,  0.00000000e+00, -3.09731807e-01,  0.00000000e+00,\n",
       "       -3.56087083e-01,  0.00000000e+00, -4.13476435e-01,  0.00000000e+00,\n",
       "        7.99026251e-01,  0.00000000e+00,  0.00000000e+00, -6.80485831e-02,\n",
       "        0.00000000e+00,  0.00000000e+00,  0.00000000e+00, -1.79652186e-01,\n",
       "       -1.37053017e-01,  0.00000000e+00, -2.18216753e-01, -1.98641388e-03,\n",
       "        0.00000000e+00,  0.00000000e+00, -8.21504430e-02, -1.89867264e-01,\n",
       "       -3.11122910e-01,  0.00000000e+00,  0.00000000e+00, -1.52268345e-01,\n",
       "        0.00000000e+00, -5.34059749e-02,  0.00000000e+00,  0.00000000e+00,\n",
       "       -9.96488641e-02, -8.12496529e-01, -2.60971855e-01, -1.20782045e-01,\n",
       "        0.00000000e+00, -4.43985789e-02,  0.00000000e+00,  3.13814955e-01,\n",
       "        1.40454636e+00, -4.41141120e-01, -1.53115398e-01, -1.12319114e-01,\n",
       "       -1.03738981e-01,  0.00000000e+00, -1.87205315e-01, -6.84976984e-02,\n",
       "        0.00000000e+00,  0.00000000e+00,  0.00000000e+00,  0.00000000e+00,\n",
       "        0.00000000e+00,  6.80942480e-01, -9.82479703e-01,  2.30131553e-01,\n",
       "       -1.24724016e-01, -1.07434647e-01,  0.00000000e+00,  9.31835769e-01,\n",
       "        0.00000000e+00, -2.03101953e+00, -8.17741253e-02,  0.00000000e+00,\n",
       "        0.00000000e+00,  1.20596471e-01, -8.63120114e-01, -1.76163332e-01,\n",
       "       -1.24859218e-01, -3.68937831e-02,  0.00000000e+00, -3.22054687e-01,\n",
       "        1.30801052e-01,  0.00000000e+00,  0.00000000e+00,  0.00000000e+00,\n",
       "        0.00000000e+00, -1.72696737e-01, -9.54955371e-02, -4.61625619e-01,\n",
       "        0.00000000e+00,  2.39241162e-01, -1.53252943e-01, -2.47053691e-01,\n",
       "        0.00000000e+00,  1.57024460e-01,  3.64163772e-02,  0.00000000e+00,\n",
       "        0.00000000e+00, -2.12224595e-01, -5.72482531e-03, -2.38638677e-01,\n",
       "        0.00000000e+00, -1.27422381e-01,  8.56505385e-03, -4.89329598e-02,\n",
       "        0.00000000e+00,  0.00000000e+00, -2.36043251e-01,  0.00000000e+00,\n",
       "        0.00000000e+00, -2.76126875e-01,  1.00457087e-01, -8.29154384e-01,\n",
       "       -5.95783416e-01,  0.00000000e+00, -3.20508153e-01,  0.00000000e+00,\n",
       "       -4.14120015e-01,  3.28174387e-03, -1.21967050e-01, -4.71334627e-01,\n",
       "        0.00000000e+00, -1.63124852e-01, -1.43097638e-01, -1.92912904e-01,\n",
       "        0.00000000e+00,  0.00000000e+00,  0.00000000e+00, -8.75568326e-02,\n",
       "       -3.41741030e-02,  0.00000000e+00, -9.13524571e-02,  1.52525318e+00,\n",
       "       -4.65422442e-01,  0.00000000e+00,  0.00000000e+00,  7.31318775e-01,\n",
       "        0.00000000e+00,  0.00000000e+00,  0.00000000e+00,  0.00000000e+00,\n",
       "        0.00000000e+00,  0.00000000e+00,  4.61718610e-01, -1.92687669e-01,\n",
       "        0.00000000e+00,  7.35774545e-01,  0.00000000e+00,  0.00000000e+00,\n",
       "        9.07457651e-01,  0.00000000e+00,  0.00000000e+00, -1.37717570e-01,\n",
       "        0.00000000e+00, -1.12143585e-01, -2.00685956e-01, -7.42005917e-02,\n",
       "        0.00000000e+00,  0.00000000e+00, -2.72635223e-01,  8.68915691e-01,\n",
       "        7.28999771e-01,  9.18233904e-02,  9.11479983e-01,  0.00000000e+00,\n",
       "       -1.85161533e-01,  0.00000000e+00,  0.00000000e+00,  1.24139098e+00,\n",
       "       -1.54123100e+00,  1.94117510e+00, -4.00630579e-02,  0.00000000e+00,\n",
       "        0.00000000e+00,  0.00000000e+00, -4.24623912e-04,  0.00000000e+00,\n",
       "        2.85730180e-03, -1.42308606e-01,  0.00000000e+00,  5.46443772e-01,\n",
       "        0.00000000e+00, -4.44513894e-02,  0.00000000e+00,  0.00000000e+00,\n",
       "       -2.85863037e-01, -5.63936737e-01, -7.84601559e-02,  0.00000000e+00,\n",
       "        0.00000000e+00,  0.00000000e+00,  0.00000000e+00, -7.64753981e-02,\n",
       "        4.15745543e-01,  0.00000000e+00,  5.92035973e-01,  0.00000000e+00,\n",
       "       -5.44814498e-02, -1.52924503e-01,  0.00000000e+00,  0.00000000e+00,\n",
       "        0.00000000e+00,  0.00000000e+00, -6.62198884e-02,  0.00000000e+00,\n",
       "        3.57660011e-01,  0.00000000e+00,  0.00000000e+00, -3.41092765e-01,\n",
       "        0.00000000e+00,  0.00000000e+00,  0.00000000e+00,  0.00000000e+00,\n",
       "        1.21350644e+00, -3.28441183e-02,  2.12221331e-01,  0.00000000e+00,\n",
       "        0.00000000e+00, -2.43796854e-01,  0.00000000e+00,  0.00000000e+00,\n",
       "        0.00000000e+00,  0.00000000e+00,  0.00000000e+00,  0.00000000e+00,\n",
       "       -5.10750552e-02,  0.00000000e+00,  0.00000000e+00, -4.95077016e-01,\n",
       "       -1.06000398e-01, -1.81553294e+00, -1.68255140e-01,  2.66744644e-02,\n",
       "        0.00000000e+00,  0.00000000e+00,  0.00000000e+00, -6.01224002e-02,\n",
       "        0.00000000e+00, -1.53991336e-01,  0.00000000e+00,  0.00000000e+00,\n",
       "        8.67249177e-01,  0.00000000e+00,  0.00000000e+00,  0.00000000e+00,\n",
       "        0.00000000e+00,  2.63876455e-01, -2.11121726e-01, -1.74481960e-01,\n",
       "        0.00000000e+00, -5.45712162e-02,  0.00000000e+00,  0.00000000e+00,\n",
       "        0.00000000e+00,  0.00000000e+00,  0.00000000e+00,  4.40991414e-02,\n",
       "        1.77807672e-01, -7.76219312e-01,  4.40689328e-01,  5.50034320e-01,\n",
       "        9.50569988e-02,  0.00000000e+00,  0.00000000e+00,  0.00000000e+00,\n",
       "       -1.94989631e-01,  0.00000000e+00, -9.59510452e-02,  0.00000000e+00,\n",
       "        1.16140207e+00, -1.16135730e-01, -3.29855451e-01,  8.44164738e-03,\n",
       "       -1.18488642e-01,  6.02432435e-01,  0.00000000e+00,  0.00000000e+00,\n",
       "        0.00000000e+00, -2.32290616e-01,  0.00000000e+00, -8.31028959e-02,\n",
       "        0.00000000e+00,  0.00000000e+00, -7.24892887e-01,  0.00000000e+00,\n",
       "        0.00000000e+00, -1.56210519e-01, -3.73656999e-01,  0.00000000e+00,\n",
       "       -1.12212297e+00, -1.37208131e+00,  2.58694884e-01, -1.06726619e-01,\n",
       "       -3.05757618e-01,  0.00000000e+00, -4.25188615e-01, -1.39960324e+00,\n",
       "        0.00000000e+00,  0.00000000e+00,  0.00000000e+00, -1.21239766e-01,\n",
       "        0.00000000e+00,  4.99910704e-01,  0.00000000e+00,  0.00000000e+00,\n",
       "        1.52494753e+00,  0.00000000e+00,  0.00000000e+00,  0.00000000e+00,\n",
       "       -5.49063811e-02, -1.43592073e-01,  0.00000000e+00,  0.00000000e+00,\n",
       "        2.38112718e-01,  0.00000000e+00, -1.35009756e-01,  0.00000000e+00,\n",
       "        0.00000000e+00, -1.91062605e-01,  0.00000000e+00, -1.84297391e-01,\n",
       "       -5.77010323e-02,  0.00000000e+00,  4.38784446e-01,  0.00000000e+00,\n",
       "        0.00000000e+00,  4.60252808e-01, -8.92979801e-02, -8.29808238e-02,\n",
       "       -2.91672689e-01, -1.14709715e-01,  0.00000000e+00,  0.00000000e+00,\n",
       "        0.00000000e+00,  0.00000000e+00,  0.00000000e+00,  0.00000000e+00,\n",
       "        0.00000000e+00,  5.95309261e-01, -2.85641554e-01, -1.27605361e-01,\n",
       "        0.00000000e+00, -1.97555846e-01,  0.00000000e+00, -1.11672179e+00,\n",
       "       -7.80066824e-01, -6.95196435e-02, -8.31178880e-02,  0.00000000e+00,\n",
       "        2.66867890e-01,  0.00000000e+00,  0.00000000e+00, -8.78732430e-03,\n",
       "        0.00000000e+00,  0.00000000e+00,  0.00000000e+00,  0.00000000e+00,\n",
       "       -6.02230829e-02,  9.75550228e-01,  5.65186096e-01,  4.01710919e-02,\n",
       "       -3.39040116e-01,  0.00000000e+00,  0.00000000e+00, -8.45352530e-01,\n",
       "        0.00000000e+00, -7.03671029e-01, -1.62275896e-01,  0.00000000e+00,\n",
       "       -2.65073518e-01,  0.00000000e+00, -9.72616090e-01, -2.86284519e-01,\n",
       "        0.00000000e+00, -3.94296693e-02,  0.00000000e+00,  0.00000000e+00,\n",
       "       -4.44933545e-03,  0.00000000e+00,  0.00000000e+00,  0.00000000e+00,\n",
       "        0.00000000e+00, -1.26089170e-01,  6.92212712e-02, -6.64843981e-01,\n",
       "        0.00000000e+00, -5.69218313e-01,  0.00000000e+00,  8.49769062e-01,\n",
       "        0.00000000e+00,  5.55184807e-02,  0.00000000e+00, -1.33169941e-01,\n",
       "        0.00000000e+00,  1.45726729e+00,  1.34629523e+00,  1.09736346e+00,\n",
       "        0.00000000e+00,  0.00000000e+00, -4.62026546e-02,  0.00000000e+00,\n",
       "       -1.50558222e-02,  0.00000000e+00,  0.00000000e+00,  0.00000000e+00,\n",
       "        0.00000000e+00,  4.33945139e-03,  0.00000000e+00, -1.01067160e+00,\n",
       "       -6.56938738e-01,  0.00000000e+00,  8.18325284e-01,  0.00000000e+00,\n",
       "       -2.25491572e-01, -4.74354430e-01, -6.31419129e-02, -8.29220251e-02,\n",
       "        0.00000000e+00, -5.68578247e-01,  2.32631025e+00, -2.36464465e-01,\n",
       "        0.00000000e+00,  0.00000000e+00,  0.00000000e+00, -3.03425198e-01,\n",
       "       -4.61244124e-01,  0.00000000e+00,  0.00000000e+00, -7.86051938e-03,\n",
       "       -2.30211384e-01, -1.53276831e-01,  0.00000000e+00, -4.42696063e-01,\n",
       "        0.00000000e+00,  0.00000000e+00,  2.71809851e+00,  0.00000000e+00,\n",
       "        0.00000000e+00,  0.00000000e+00, -4.85630655e-01,  1.14050016e-01,\n",
       "       -1.13180638e-01, -1.82551487e-01,  0.00000000e+00,  0.00000000e+00,\n",
       "        1.14126532e-02,  0.00000000e+00,  0.00000000e+00, -2.04137215e-01,\n",
       "        0.00000000e+00, -2.57308159e-01, -1.38942158e-01,  3.70027253e-01,\n",
       "       -9.63373955e-02,  0.00000000e+00,  1.59028619e+00,  1.65510125e+00,\n",
       "       -3.26908522e-01, -7.40164863e-02, -3.38581318e-01, -4.26406765e-02,\n",
       "        3.11518897e-01,  0.00000000e+00,  0.00000000e+00, -1.13150154e-01,\n",
       "       -7.74029090e-01,  2.11923062e+00, -1.87880893e-01,  0.00000000e+00,\n",
       "       -9.53808471e-02,  0.00000000e+00, -4.92181432e-01,  0.00000000e+00,\n",
       "       -1.15592181e-01,  5.75545955e-02,  0.00000000e+00, -6.36423518e-01,\n",
       "        0.00000000e+00,  5.33756964e-01,  0.00000000e+00,  4.43246524e-01,\n",
       "        2.13856617e-01,  7.52458865e-01,  0.00000000e+00,  0.00000000e+00,\n",
       "        0.00000000e+00,  0.00000000e+00,  1.08788030e+00, -2.16761189e-01,\n",
       "        0.00000000e+00,  5.94788861e-02,  0.00000000e+00, -2.99898753e-01,\n",
       "       -1.92602331e-01,  7.08225294e-02, -1.29435447e-01,  0.00000000e+00,\n",
       "        0.00000000e+00,  0.00000000e+00,  0.00000000e+00, -4.09645011e-01,\n",
       "        0.00000000e+00,  4.24612342e-02,  0.00000000e+00, -2.06132464e-02,\n",
       "        2.30131553e-01,  0.00000000e+00, -2.03330073e-01, -1.23415102e+00,\n",
       "        1.11301415e+00,  0.00000000e+00, -1.34087671e+00,  1.13943809e+00,\n",
       "        4.48458332e+00, -1.07495496e+00,  1.22131513e+00, -3.88145584e-01,\n",
       "       -1.59622428e+00, -9.10170870e-01, -1.76360241e+00, -2.26747256e+00,\n",
       "        2.31942964e+00, -1.93215861e-01,  1.99283473e+00, -1.65081433e+00,\n",
       "        1.80794572e+00, -1.68287521e+00,  2.39430249e-02])"
      ]
     },
     "execution_count": 176,
     "metadata": {},
     "output_type": "execute_result"
    }
   ],
   "source": [
    "RidgeReg.coef_"
   ]
  },
  {
   "cell_type": "code",
   "execution_count": 179,
   "metadata": {},
   "outputs": [
    {
     "data": {
      "text/plain": [
       "116.6688888888889"
      ]
     },
     "execution_count": 179,
     "metadata": {},
     "output_type": "execute_result"
    }
   ],
   "source": [
    "RidgeReg.alpha_"
   ]
  },
  {
   "cell_type": "code",
   "execution_count": 180,
   "metadata": {},
   "outputs": [
    {
     "name": "stdout",
     "output_type": "stream",
     "text": [
      "-------Train-------\n",
      "MSE 971.6110 \n",
      "R2     0.0832 \n",
      "-------Test-------\n",
      "MSE 1307.2449 \n",
      "R2     0.0227 \n"
     ]
    }
   ],
   "source": [
    "print('-------Train-------')\n",
    "print('MSE %0.4f \\nR2     %0.4f ' %(mse(y_train_2, pr_train_RidgeReg), r2_score(y_train_2, pr_train_RidgeReg)))\n",
    "print('-------Test-------')\n",
    "print('MSE %0.4f \\nR2     %0.4f ' %(mse(y_test, pr_test_RidgeReg), r2_score(y_test, pr_test_RidgeReg)))"
   ]
  },
  {
   "cell_type": "markdown",
   "metadata": {},
   "source": [
    "__ВЫВОД:__\n",
    "\n",
    "<font color='blue'>На тестовой выборке обе модели показали более высокую MSE и существенно более низкий $R^2$, однако на тестовой выборке MSE в обоих случаях улучшилась, при этом $R^2$ стал положительный, хотя и близкий к 0. Можно сделать вывод, что хотя модель и оставется бесполезной, уже нельзя сказать, что она хуже модели с константой (предсказания среднего). При этом и на тренировочной и на тестовой Ridge показывает себя немного лучше.  </font>\n",
    "\n",
    "<font color='blue'>Если посмотреть на веса, то можно увидеть, что Lasso занулила почти коэффициенты почти при всех признаках, кроме нескольких (отобрала признаки), а RidgeReg стянула к 0 все коэффициенты, не давая модели тем самым переобучаться так сильно. </font>\n",
    "\n",
    "------------------"
   ]
  },
  {
   "cell_type": "markdown",
   "metadata": {},
   "source": [
    "### Градиентный спуск\n",
    "\n",
    "В предыдущем разделе мы использовали существующие реализации методов обучения линейной регрессии с регуляризацией и без. Тем не менее, подобные реализации, как правило, имеются лишь для ограниченного набора стандартных методов. В частности, при выходе функционала качества за пределы стандартного множества необходимо самостоятельно реализовывать составляющие процесса решения оптимизационной задачи. Именно этому и посвящен данный раздел задания.\n",
    "\n",
    "Пусть необходимо минимизировать следующий функционал (Mean Square Percentage Error — модифицированный [RMSPE](https://www.kaggle.com/c/rossmann-store-sales/details/evaluation)):\n",
    "$$MSPE(\\{x_i, y_i\\}_{i=1}^l, \\, w) = \\frac{1}{l}\\sum_{i=1}^l \\left( \\frac{y_i - \\langle w, x_i \\rangle }{y_i} \\right)^2,$$\n",
    "\n",
    "где $\\{x_i, y_i\\}_{i=1}^l$ — обучающая выборка, $w$ — вектор весов линейной модели. Будем также рассматривать функционал $MSPE$ с L2-регуляризацией:\n",
    "\n",
    "$$MSPE(\\{x_i, y_i\\}_{i=1}^l, \\, w) = \\frac{1}{l}\\sum_{i=1}^l \\left( \\frac{y_i - \\langle w, x_i \\rangle }{y_i} \\right)^2 + ||w||_2^2.$$\n",
    "\n",
    "**19. (0 баллов)** Добавьте к объектам обеих выборок из п. 16 единичный признак."
   ]
  },
  {
   "cell_type": "code",
   "execution_count": 181,
   "metadata": {},
   "outputs": [],
   "source": [
    "X_train['C'] = 1\n",
    "X_test['C'] = 1"
   ]
  },
  {
   "cell_type": "code",
   "execution_count": 182,
   "metadata": {},
   "outputs": [
    {
     "data": {
      "text/html": [
       "<div>\n",
       "<style scoped>\n",
       "    .dataframe tbody tr th:only-of-type {\n",
       "        vertical-align: middle;\n",
       "    }\n",
       "\n",
       "    .dataframe tbody tr th {\n",
       "        vertical-align: top;\n",
       "    }\n",
       "\n",
       "    .dataframe thead th {\n",
       "        text-align: right;\n",
       "    }\n",
       "</style>\n",
       "<table border=\"1\" class=\"dataframe\">\n",
       "  <thead>\n",
       "    <tr style=\"text-align: right;\">\n",
       "      <th></th>\n",
       "      <th>DayOfWeek</th>\n",
       "      <th>DayofMonth</th>\n",
       "      <th>Distance</th>\n",
       "      <th>FlightNum</th>\n",
       "      <th>Month</th>\n",
       "      <th>CRSDepTime_Hour</th>\n",
       "      <th>CRSDepTime_Minute</th>\n",
       "      <th>...</th>\n",
       "      <th>UniqueCarrier_OO</th>\n",
       "      <th>UniqueCarrier_UA</th>\n",
       "      <th>UniqueCarrier_US</th>\n",
       "      <th>UniqueCarrier_WN</th>\n",
       "      <th>UniqueCarrier_XE</th>\n",
       "      <th>UniqueCarrier_YV</th>\n",
       "      <th>C</th>\n",
       "    </tr>\n",
       "  </thead>\n",
       "  <tbody>\n",
       "    <tr>\n",
       "      <td>47629</td>\n",
       "      <td>1.541454</td>\n",
       "      <td>-0.310849</td>\n",
       "      <td>1.066264</td>\n",
       "      <td>0.136336</td>\n",
       "      <td>0.174690</td>\n",
       "      <td>-0.651603</td>\n",
       "      <td>-0.655735</td>\n",
       "      <td>...</td>\n",
       "      <td>0</td>\n",
       "      <td>0</td>\n",
       "      <td>0</td>\n",
       "      <td>1</td>\n",
       "      <td>0</td>\n",
       "      <td>0</td>\n",
       "      <td>1</td>\n",
       "    </tr>\n",
       "    <tr>\n",
       "      <td>39632</td>\n",
       "      <td>1.541454</td>\n",
       "      <td>-1.218584</td>\n",
       "      <td>-0.391913</td>\n",
       "      <td>2.143612</td>\n",
       "      <td>1.053604</td>\n",
       "      <td>-0.651603</td>\n",
       "      <td>1.025940</td>\n",
       "      <td>...</td>\n",
       "      <td>0</td>\n",
       "      <td>0</td>\n",
       "      <td>0</td>\n",
       "      <td>0</td>\n",
       "      <td>0</td>\n",
       "      <td>0</td>\n",
       "      <td>1</td>\n",
       "    </tr>\n",
       "    <tr>\n",
       "      <td>46373</td>\n",
       "      <td>0.038288</td>\n",
       "      <td>-0.651249</td>\n",
       "      <td>-0.659598</td>\n",
       "      <td>1.822592</td>\n",
       "      <td>-1.583137</td>\n",
       "      <td>0.646818</td>\n",
       "      <td>-0.375456</td>\n",
       "      <td>...</td>\n",
       "      <td>0</td>\n",
       "      <td>0</td>\n",
       "      <td>0</td>\n",
       "      <td>0</td>\n",
       "      <td>0</td>\n",
       "      <td>0</td>\n",
       "      <td>1</td>\n",
       "    </tr>\n",
       "    <tr>\n",
       "      <td>42942</td>\n",
       "      <td>0.038288</td>\n",
       "      <td>0.710352</td>\n",
       "      <td>2.557903</td>\n",
       "      <td>-1.110249</td>\n",
       "      <td>-0.411252</td>\n",
       "      <td>-0.435199</td>\n",
       "      <td>-0.543623</td>\n",
       "      <td>...</td>\n",
       "      <td>0</td>\n",
       "      <td>0</td>\n",
       "      <td>0</td>\n",
       "      <td>0</td>\n",
       "      <td>0</td>\n",
       "      <td>0</td>\n",
       "      <td>1</td>\n",
       "    </tr>\n",
       "    <tr>\n",
       "      <td>44966</td>\n",
       "      <td>-0.963823</td>\n",
       "      <td>1.618087</td>\n",
       "      <td>0.442841</td>\n",
       "      <td>-0.590453</td>\n",
       "      <td>1.639547</td>\n",
       "      <td>1.079625</td>\n",
       "      <td>-1.440516</td>\n",
       "      <td>...</td>\n",
       "      <td>0</td>\n",
       "      <td>0</td>\n",
       "      <td>0</td>\n",
       "      <td>0</td>\n",
       "      <td>0</td>\n",
       "      <td>0</td>\n",
       "      <td>1</td>\n",
       "    </tr>\n",
       "  </tbody>\n",
       "</table>\n",
       "<p>5 rows × 624 columns</p>\n",
       "</div>"
      ],
      "text/plain": [
       "       DayOfWeek  DayofMonth  Distance  FlightNum     Month  CRSDepTime_Hour  \\\n",
       "47629   1.541454   -0.310849  1.066264   0.136336  0.174690        -0.651603   \n",
       "39632   1.541454   -1.218584 -0.391913   2.143612  1.053604        -0.651603   \n",
       "46373   0.038288   -0.651249 -0.659598   1.822592 -1.583137         0.646818   \n",
       "42942   0.038288    0.710352  2.557903  -1.110249 -0.411252        -0.435199   \n",
       "44966  -0.963823    1.618087  0.442841  -0.590453  1.639547         1.079625   \n",
       "\n",
       "       CRSDepTime_Minute  ...  UniqueCarrier_OO  UniqueCarrier_UA  \\\n",
       "47629          -0.655735  ...                 0                 0   \n",
       "39632           1.025940  ...                 0                 0   \n",
       "46373          -0.375456  ...                 0                 0   \n",
       "42942          -0.543623  ...                 0                 0   \n",
       "44966          -1.440516  ...                 0                 0   \n",
       "\n",
       "       UniqueCarrier_US  UniqueCarrier_WN  UniqueCarrier_XE  UniqueCarrier_YV  \\\n",
       "47629                 0                 1                 0                 0   \n",
       "39632                 0                 0                 0                 0   \n",
       "46373                 0                 0                 0                 0   \n",
       "42942                 0                 0                 0                 0   \n",
       "44966                 0                 0                 0                 0   \n",
       "\n",
       "       C  \n",
       "47629  1  \n",
       "39632  1  \n",
       "46373  1  \n",
       "42942  1  \n",
       "44966  1  \n",
       "\n",
       "[5 rows x 624 columns]"
      ]
     },
     "execution_count": 182,
     "metadata": {},
     "output_type": "execute_result"
    }
   ],
   "source": [
    "X_train.head()"
   ]
  },
  {
   "cell_type": "markdown",
   "metadata": {},
   "source": [
    "**20. (1 балл)** Реализуйте функции, которые вычисляют:\n",
    " * прогнозы линейной модели;\n",
    " * функционал $MSPE$ и его градиент;\n",
    " * регуляризованный $MSPE$ и его градиент."
   ]
  },
  {
   "cell_type": "code",
   "execution_count": 253,
   "metadata": {},
   "outputs": [],
   "source": [
    "# возвращает вектор прогнозов линейной модели с вектором весов w для выборки X\n",
    "def make_pred(X, w):\n",
    "    return np.dot(X,w)"
   ]
  },
  {
   "cell_type": "code",
   "execution_count": 254,
   "metadata": {},
   "outputs": [
    {
     "data": {
      "text/plain": [
       "array([3, 6])"
      ]
     },
     "execution_count": 254,
     "metadata": {},
     "output_type": "execute_result"
    }
   ],
   "source": [
    "X = np.array([[1, 1], [2,2]])\n",
    "w = np.array([1,2])\n",
    "make_pred(X, w)"
   ]
  },
  {
   "cell_type": "code",
   "execution_count": 339,
   "metadata": {},
   "outputs": [],
   "source": [
    "# возвращает значение функционала MSPE для выборки (X, y) и вектора весов w\n",
    "def get_func(w, X, y):\n",
    "    Li = (y-make_pred(X, w))/y\n",
    "    return np.dot(Li,Li)/y.shape[0]"
   ]
  },
  {
   "cell_type": "code",
   "execution_count": 340,
   "metadata": {},
   "outputs": [
    {
     "data": {
      "text/plain": [
       "11.666666666666666"
      ]
     },
     "execution_count": 340,
     "metadata": {},
     "output_type": "execute_result"
    }
   ],
   "source": [
    "X = np.array([[1, 1], [2,2], [3,3]])\n",
    "w = np.array([1,1])\n",
    "y = np.array([1,1,1])\n",
    "get_func(w, X, y)"
   ]
  },
  {
   "cell_type": "code",
   "execution_count": 305,
   "metadata": {},
   "outputs": [],
   "source": [
    "# возвращает градиент функционала MSPE для выборки (X, y) и вектора весов w\n",
    "def get_grad(w, X, y):\n",
    "    l1 = (y-make_pred(X, w))/y\n",
    "    L = np.dot(X.T, l1/y)\n",
    "    return -2*L/y.shape[0]"
   ]
  },
  {
   "cell_type": "code",
   "execution_count": 306,
   "metadata": {},
   "outputs": [
    {
     "data": {
      "text/plain": [
       "array([14.66666667, 14.66666667])"
      ]
     },
     "execution_count": 306,
     "metadata": {},
     "output_type": "execute_result"
    }
   ],
   "source": [
    "X = np.array([[1, 1], [2,2], [3,3]])\n",
    "w = np.array([1,1])\n",
    "y = np.array([1,1,1])\n",
    "get_grad(w, X, y)"
   ]
  },
  {
   "cell_type": "code",
   "execution_count": 309,
   "metadata": {},
   "outputs": [],
   "source": [
    "# возвращает значение регуляризованного функционала MSPE для выборки (X, y) и вектора весов w\n",
    "def get_reg_func(w, X, y):\n",
    "    Li = (y-make_pred(X, w))/y\n",
    "    return np.dot(Li,Li)/y.shape[0]+np.dot(w,w)"
   ]
  },
  {
   "cell_type": "code",
   "execution_count": 310,
   "metadata": {},
   "outputs": [
    {
     "data": {
      "text/plain": [
       "13.666666666666666"
      ]
     },
     "execution_count": 310,
     "metadata": {},
     "output_type": "execute_result"
    }
   ],
   "source": [
    "X = np.array([[1, 1], [2,2], [3,3]])\n",
    "w = np.array([1,1])\n",
    "y = np.array([1,1,1])\n",
    "get_reg_func(w, X, y)"
   ]
  },
  {
   "cell_type": "code",
   "execution_count": 313,
   "metadata": {},
   "outputs": [],
   "source": [
    "# возвращает градиент регуляризованного функционала MSPE для выборки (X, y) и вектора весов w\n",
    "def get_reg_grad(w, X, y):\n",
    "    return get_grad(w, X, y) + 2 * w  "
   ]
  },
  {
   "cell_type": "code",
   "execution_count": 314,
   "metadata": {},
   "outputs": [
    {
     "data": {
      "text/plain": [
       "array([9., 9.])"
      ]
     },
     "execution_count": 314,
     "metadata": {},
     "output_type": "execute_result"
    }
   ],
   "source": [
    "X = np.array([[1, 1], [2,2]])\n",
    "w = np.array([1,1])\n",
    "y = np.array([1,1])\n",
    "get_reg_grad(w, X, y)"
   ]
  },
  {
   "cell_type": "markdown",
   "metadata": {},
   "source": [
    "**21. (1 балл)** Реализуйте метод градиентного спуска для описанных функционалов ($MSPE$ и его регуляризованный вариант). Функция должна принимать следующие параметры:\n",
    " - X — матрица \"объект-признак\";\n",
    " - y — вектор целевой переменной;\n",
    " - w0 — начальное значение вектора весов;\n",
    " - step_size — значение темпа обучения;\n",
    " - max_iter — максимальное число итераций;\n",
    " - eps — значение, используемое в критерии останова;\n",
    " - is_reg — бинарный параметр, принимает значение True в случае наличия регуляризации функционала, False — в противном случае.\n",
    " \n",
    "Процесс должен быть остановлен, если выполнено хотя бы одно из следующих условий:\n",
    " - было выполнено заданное количество итераций max_iter;\n",
    " - евклидова норма разности векторов $w$ на соседних итерациях стала меньше, чем eps.\n",
    "\n",
    "Функция должна возвращать полученный в результате оптимизации вектор $w$ и список значений функционала на каждой итерации."
   ]
  },
  {
   "cell_type": "code",
   "execution_count": 116,
   "metadata": {
    "jupyter": {
     "source_hidden": true
    }
   },
   "outputs": [],
   "source": [
    "def grad_descent(X, y, w0, step_size, max_iter=1000, eps=0.0001, is_reg=False):\n",
    "    w_old, w_new = w0, w0\n",
    "    L = [get_reg_func(w_old, X, y)] if is_reg else [get_func(w_old, X, y)]\n",
    "    iteration = 0\n",
    "    while iteration < max_iter and np.linalg.norm(w_old-w_new)>eps if iteration>0 else True:\n",
    "        #print('iter=', iteration, 'L=', L[iteration], 'norm=', np.linalg.norm(w_old-w_new))\n",
    "        w_old = w_new\n",
    "        iteration += 1\n",
    "        if is_reg:\n",
    "            w_new = w_old - step_size*get_reg_grad(w_old, X, y)\n",
    "            L.append(get_reg_func(w_new, X, y))\n",
    "            \n",
    "        else:\n",
    "            w_new = w_old - step_size*get_grad(w_old, X, y)\n",
    "            L.append(get_func(w_new, X, y))\n",
    "    return w_new, L"
   ]
  },
  {
   "cell_type": "markdown",
   "metadata": {},
   "source": [
    "Обучите линейную регрессию с функционалом $MSPE$ на обучающей выборке при помощи метода градиентного спуска и изобразите кривые зависимости значения функционала от номера итерации для различных:\n",
    " * значений размера шага из набора [0.001, 1, 10];\n",
    " * способов начальной инициализации вектора весов (нули, случайные веса).\n",
    "\n",
    "Проанализируйте полученные результаты — влияют ли данные параметры на скорость сходимости и итоговое качество? Если да, то как?"
   ]
  },
  {
   "cell_type": "markdown",
   "metadata": {},
   "source": [
    "__Возьмем те же первые 1000 наблюдений для ускорения выполнения алгоритма и посмотрим на сходимость при разных параметрах:__\n",
    "\n",
    "Помимо указанных в задании значений шага я добавил значение шага равное 1.3. "
   ]
  },
  {
   "cell_type": "code",
   "execution_count": 315,
   "metadata": {},
   "outputs": [],
   "source": [
    "X_train_2, y_train_2 = X_train[:1000], y_train[:1000]\n",
    "w0rand = numpy.random.rand(X_train_2.shape[1])"
   ]
  },
  {
   "cell_type": "code",
   "execution_count": 316,
   "metadata": {},
   "outputs": [
    {
     "data": {
      "image/png": "[encoded data removed]",
      "text/plain": [
       "<Figure size 1800x720 with 8 Axes>"
      ]
     },
     "metadata": {
      "needs_background": "light"
     },
     "output_type": "display_data"
    }
   ],
   "source": [
    "fig = plt.figure(figsize=(25,10))\n",
    "for i, alpha in enumerate([0.001, 1, 1.3, 10, 0.001, 1, 1.3, 10]):   \n",
    "    ax = fig.add_subplot(2, 4, i+1)\n",
    "    if i < 4:\n",
    "        w_opt, Loss = grad_descent(X_train_2, y_train_2, np.zeros(X_train_2.shape[1]), alpha, 1000, 0.0001, False)\n",
    "        Lmin = \"{:.2f}\".format(np.min(Loss)) \n",
    "        ax.set_title('alpha=' + str(alpha) + \" w0 = 0\" + ' min= ' + Lmin)\n",
    "        plt.plot(range(len(Loss)), Loss, c=\"r\")\n",
    "    else: \n",
    "        w_opt, Loss = grad_descent(X_train_2, y_train_2, w0rand , alpha, 1000, 0.0001, False)\n",
    "        Lmin = \"{:.2f}\".format(np.min(Loss)) \n",
    "        ax.set_title('alpha=' + str(alpha) + \" w0 = rand\" + ' min= ' + Lmin)\n",
    "        plt.plot(range(len(Loss)), Loss, c=\"r\")"
   ]
  },
  {
   "cell_type": "markdown",
   "metadata": {},
   "source": [
    "__Вывод:__\n",
    "\n",
    "<font color='blue'> Параметры, конечно, влияют на сходимость.  </font>\n",
    "\n",
    "<font color='blue'> Рассмотрим случай, когда веса инициализируются нулями (верхние графики), в этом случае при маленьких значениях альфа (0.001) алгоритм сходится очень медленно, для больших значений альфа (10) алгоритм моментально расходится (если посмотреть на значения функционала потерь, то он из единицы начинает сразу расти в бесконечность), то есть оптимальный параметр скорости обучения альфа где-то в окрестности 1.5-2.  </font>  \n",
    "\n",
    "<font color='blue'> Рассмотрим случай, когда веса инициализируются случайными величинами, взятыми из равномерного на [0,1] распределения (нижние графики). Поведение алгоритма при различных параметрах альфа такое же, как и в первом случае. Однако стоит отметить, что такая инициализация изменяет схождение алгоритма. Для альфа около 1 алгоритм также сходится примерно к тому же значению функционала потерь к 1000-ой итерации (что и с нулевыми весами), хотя и начинает с большего значения. Для меньших альфа схождение существенно хуже, так как скорость сильно меньше и он не успевает сходиться к тому же уровню, что и алгоритм с нулевыми начальными весами. При больших альфа алгоритм также расходится.  </font>"
   ]
  },
  {
   "cell_type": "markdown",
   "metadata": {},
   "source": [
    "**22. (0.5 балла)** Обучите линейную регрессию с функционалом MSPE и его регуляризованным вариантом на обучающей выборке при помощи метода градиентного спуска и изобразите кривые зависимости значения функционала от номера итерации. Исследуйте зависимость скорости сходимости от наличия регуляризации. Обоснуйте, почему так происходит."
   ]
  },
  {
   "cell_type": "code",
   "execution_count": 317,
   "metadata": {},
   "outputs": [
    {
     "data": {
      "image/png": "[encoded data removed]",
      "text/plain": [
       "<Figure size 1800x720 with 8 Axes>"
      ]
     },
     "metadata": {
      "needs_background": "light"
     },
     "output_type": "display_data"
    }
   ],
   "source": [
    "fig = plt.figure(figsize=(25,10))\n",
    "for i, alpha in enumerate([0.001, 0.01, 1, 2, 0.001, 0.01, 1, 2]):   \n",
    "    ax = fig.add_subplot(2, 4, i+1)\n",
    "    if i < 4:\n",
    "        w_opt, Loss = grad_descent(X_train_2, y_train_2, np.zeros(X_train_2.shape[1]), alpha, 1000, 0.0001, False)\n",
    "        Lmin = \"{:.2f}\".format(np.min(Loss)) \n",
    "        ax.set_title('alpha=' + str(alpha) + \" no Reg\" + ' min= ' + Lmin)\n",
    "        plt.plot(range(len(Loss)), Loss, c=\"r\")\n",
    "    else: \n",
    "        w_opt, Loss = grad_descent(X_train_2, y_train_2, np.zeros(X_train_2.shape[1]) , alpha, 1000, 0.0001, True)\n",
    "        Lmin = \"{:.2f}\".format(np.min(Loss)) \n",
    "        ax.set_title('alpha=' + str(alpha) + \" L2 Reg\" + ' min= ' + Lmin)\n",
    "        plt.plot(range(len(Loss)), Loss, c=\"r\")"
   ]
  },
  {
   "cell_type": "markdown",
   "metadata": {},
   "source": [
    "__Вывод:__\n",
    "\n",
    "<font color='blue'>Наличие регуляризации сильно влияет на сходимость.  </font>\n",
    "\n",
    "<font color='blue'>Во-первых, чтобы сойтись алгоритму с регуляризацией нужны меньшие значения альфа, иначе алгоритм быстро расходится.  Во-вторых, при одинаковых альфа, таких что оба алгоритма сходятся, алгоритм c регуляризацией сходится быстрее: при критерии останова = 0.001 алгоритм с регуляризацией сходится за 130-340 интераций (в зависимости от выбора альфа), в то время, как алгоритм с регуляризацией еще до конца не сходится к 1000 шагу (но видно, что и не расходится). </font>\n",
    "\n",
    "<font color='blue'>Возможно, регуляризация ограничнивает разброс значений коэффициентов, что ускоряет сходимость алгоритма </font>\n",
    "\n",
    "<font color='blue'>--------------------------- </font>"
   ]
  },
  {
   "cell_type": "markdown",
   "metadata": {},
   "source": [
    "Метод градиентного спуска может быть весьма трудозатратен в случае большого размера обучающей выборки. Поэтому часто используют метод стохастического градиентного спуска, где на каждой итерации выбирается случайный объект из обучающей выборки и обновление весов происходит только по этому объекту. \n",
    "\n",
    "**23. (1 доп. балл)**  Реализуйте метод стохастического градиентного спуска (SGD) для описанных функционалов ($MSPE$ и его регуляризованный вариант). Функция должна иметь параметры и возвращаемое значение, аналогичные оным функции grad\\_descent из п.21. Кроме того, должен использоваться аналогичный критерий останова."
   ]
  },
  {
   "cell_type": "code",
   "execution_count": 318,
   "metadata": {},
   "outputs": [],
   "source": [
    "def sgd(X, y, w0, step_size, max_iter=1000, eps=0.0001, is_reg=False):\n",
    "    w_old, w_new = w0, w0\n",
    "    X0 = X.iloc[0].values.reshape(1, -1)\n",
    "    y0 = np.asarray(y.iloc[0]).reshape(1, -1)[0,:] \n",
    "    L = [get_reg_func(w_old, X0, y0)] if is_reg else [get_func(w_old, X0, y0)]\n",
    "    iteration = 0\n",
    "    while iteration < max_iter and np.linalg.norm(w_old-w_new)>eps if iteration>0 else True:\n",
    "        #print('iter=', iteration, 'L=', L[iteration], 'norm=', np.linalg.norm(w_old-w_new))\n",
    "        ind = numpy.random.randint(0, high=X.shape[0], size=1)[0]\n",
    "        X1 = X.iloc[ind].values.reshape(1, -1)\n",
    "        y1 = np.asarray(y.iloc[ind]).reshape(1, -1)[0,:] \n",
    "        w_old = w_new\n",
    "        iteration += 1\n",
    "        if is_reg:\n",
    "            w_new = w_old - step_size*get_reg_grad(w_old, X1, y1)\n",
    "            L.append(get_reg_func(w_new, X1, y1))\n",
    "            \n",
    "        else:\n",
    "            w_new = w_old - step_size*get_grad(w_old, X1, y1)\n",
    "            L.append(get_func(w_new, X1, y1))\n",
    "    return w_new, L"
   ]
  },
  {
   "cell_type": "markdown",
   "metadata": {},
   "source": [
    "Обучите линейную регрессию с функционалом $MSPE$ и его регуляризованным вариантом на обучающей выборке при помощи метода стохастического градиентного спуска, подобрав при этом размер шага, при котором метод будет сходиться. Нарисуйте график сходимости. Выведите значения $MSPE, MSE, R^2$ на контрольной выборке."
   ]
  },
  {
   "cell_type": "code",
   "execution_count": 319,
   "metadata": {},
   "outputs": [],
   "source": [
    "w0rand = numpy.random.rand(X_train.shape[1])"
   ]
  },
  {
   "cell_type": "markdown",
   "metadata": {},
   "source": [
    "__Алгоритм с регуляризацией__"
   ]
  },
  {
   "cell_type": "code",
   "execution_count": 320,
   "metadata": {},
   "outputs": [],
   "source": [
    "w_opt_r, Loss_r = sgd(X_train, y_train, w0rand , 0.0003, 20000, 0.0001, True)"
   ]
  },
  {
   "cell_type": "code",
   "execution_count": 321,
   "metadata": {},
   "outputs": [
    {
     "data": {
      "text/plain": [
       "Text(0.5, 1.0, 'alpha= 0.0003, L2 Reg, min= 1.03')"
      ]
     },
     "execution_count": 321,
     "metadata": {},
     "output_type": "execute_result"
    },
    {
     "data": {
      "image/png": "[encoded data removed]",
      "text/plain": [
       "<Figure size 432x288 with 1 Axes>"
      ]
     },
     "metadata": {
      "needs_background": "light"
     },
     "output_type": "display_data"
    }
   ],
   "source": [
    "plt.plot(range(len(Loss_r)), Loss_r, c=\"r\")\n",
    "Lmin = \"{:.2f}\".format(Loss_r[-1]) \n",
    "plt.title('alpha= 0.0003,'+ \" L2 Reg,\" + ' min= ' + Lmin)"
   ]
  },
  {
   "cell_type": "markdown",
   "metadata": {},
   "source": [
    "__Алгоритм без регуляризации__"
   ]
  },
  {
   "cell_type": "code",
   "execution_count": 322,
   "metadata": {},
   "outputs": [],
   "source": [
    "w_opt, Loss = sgd(X_train, y_train, w0rand , 0.008, 20000, 0.0001, False)"
   ]
  },
  {
   "cell_type": "code",
   "execution_count": 323,
   "metadata": {},
   "outputs": [
    {
     "data": {
      "text/plain": [
       "Text(0.5, 1.0, 'alpha= 0.0003, no Reg, min= 0.00')"
      ]
     },
     "execution_count": 323,
     "metadata": {},
     "output_type": "execute_result"
    },
    {
     "data": {
      "image/png": "[encoded data removed]",
      "text/plain": [
       "<Figure size 432x288 with 1 Axes>"
      ]
     },
     "metadata": {
      "needs_background": "light"
     },
     "output_type": "display_data"
    }
   ],
   "source": [
    "plt.plot(range(len(Loss)), Loss, c=\"r\")\n",
    "Lmin = \"{:.2f}\".format(Loss[-1]) \n",
    "plt.title('alpha= 0.0003,'+ \" no Reg,\" + ' min= ' + Lmin)"
   ]
  },
  {
   "cell_type": "markdown",
   "metadata": {},
   "source": [
    "Здесь я выведу значения $MSPE, MSE, R^2$ на контрольной выборке."
   ]
  },
  {
   "cell_type": "code",
   "execution_count": 324,
   "metadata": {},
   "outputs": [],
   "source": [
    "pred_sgd_noReg = make_pred(X_test, w_opt)\n",
    "pred_sgd_L2Reg = make_pred(X_test, w_opt_r)"
   ]
  },
  {
   "cell_type": "code",
   "execution_count": 325,
   "metadata": {},
   "outputs": [
    {
     "name": "stdout",
     "output_type": "stream",
     "text": [
      "-------No Regularization-------\n",
      "MSPE 0.9673 \n",
      "MSE 1460.7989 \n",
      "R2  -0.0920 \n",
      "\n",
      "-------L2 Regularization-------\n",
      "MSPE 1.0034 \n",
      "MSE 1455.3644 \n",
      "R2  -0.0880 \n"
     ]
    }
   ],
   "source": [
    "print('-------No Regularization-------')\n",
    "print('MSPE %0.4f \\nMSE %0.4f \\nR2  %0.4f ' %(get_func(w_opt, X_test, y_test), mse(y_test, pred_sgd_noReg),\n",
    "                                                 r2_score(y_test, pred_sgd_noReg)))\n",
    "print('\\n-------L2 Regularization-------')\n",
    "print('MSPE %0.4f \\nMSE %0.4f \\nR2  %0.4f ' %(get_reg_func(w_opt_r, X_test, y_test), mse(y_test, pred_sgd_L2Reg), \n",
    "                                                 r2_score(y_test, pred_sgd_L2Reg)))"
   ]
  },
  {
   "cell_type": "markdown",
   "metadata": {},
   "source": [
    "**24. (0.5 доп. балла)** Аналогично п.22 исследуйте зависимость скорости сходимости метода SGD от наличия регуляризации. Обоснуйте, почему так происходит."
   ]
  },
  {
   "cell_type": "code",
   "execution_count": 326,
   "metadata": {},
   "outputs": [
    {
     "data": {
      "image/png": "[encoded data removed]",
      "text/plain": [
       "<Figure size 1800x720 with 8 Axes>"
      ]
     },
     "metadata": {
      "needs_background": "light"
     },
     "output_type": "display_data"
    }
   ],
   "source": [
    "fig = plt.figure(figsize=(25,10))\n",
    "for i, alpha in enumerate([0.0003, 0.008, 0.01, 0.0001, 0.0003, 0.008, 0.01, 0.0001]):   \n",
    "    ax = fig.add_subplot(2, 4, i+1)\n",
    "    if i < 4:\n",
    "        w_opt, Loss = sgd(X_train, y_train, w0rand, alpha, 20000, 0.0001, False)\n",
    "        ax.set_title('alpha=' + str(alpha) + \" no Reg\")\n",
    "        plt.plot(range(len(Loss)), Loss, c=\"r\")\n",
    "    else: \n",
    "        w_opt, Loss = sgd(X_train, y_train, w0rand , alpha, 20000, 0.0001, True)\n",
    "        ax.set_title('alpha=' + str(alpha) + \" L2 Reg\")\n",
    "        plt.plot(range(len(Loss)), Loss, c=\"r\")"
   ]
  },
  {
   "cell_type": "markdown",
   "metadata": {},
   "source": [
    "__Вывод:__\n",
    "    \n",
    "<font color='blue'>Как и в случае выше, мы видим, что регуляризация (нижний ряд) улучшает сходимость. Алгоритм без регуляризации ведет себя нестабильно и расходится при многих значениях альфа, чего не происходит с алгоритмом с резуляризацией.  </font>\n",
    "\n",
    "<font color='blue'>Как уже было сказано выше, возможно, регуляризация позволяет снижать колебания весов, тем самым алгоритм становится более устойчивым в смысле сходимости. </font>"
   ]
  },
  {
   "cell_type": "markdown",
   "metadata": {},
   "source": [
    "**25. (0.5 балла)** Обучите стандартную линейную регрессию с функционалом качества MSE на обучающей выборке и выведите значение MSPE полученного решения на контрольной выборке. Как оно соотносится с аналогичным результатом для решения, полученного в п.22? Почему?"
   ]
  },
  {
   "cell_type": "code",
   "execution_count": 327,
   "metadata": {},
   "outputs": [],
   "source": [
    "LinReg_fin = LinearRegression()\n",
    "LinReg_fin.fit(X_train, y_train)\n",
    "w_linReg = LinReg_fin.coef_\n",
    "pred_linReg = LinReg_fin.predict(X_test)"
   ]
  },
  {
   "cell_type": "code",
   "execution_count": 328,
   "metadata": {},
   "outputs": [
    {
     "data": {
      "text/plain": [
       "(624,)"
      ]
     },
     "execution_count": 328,
     "metadata": {},
     "output_type": "execute_result"
    }
   ],
   "source": [
    "w_linReg.shape"
   ]
  },
  {
   "cell_type": "markdown",
   "metadata": {},
   "source": [
    "<font color='blue'>В задании просят сравнить результаты модели, обученной на полной тренировочной, а это было сделано в пункте __23__. </font>"
   ]
  },
  {
   "cell_type": "code",
   "execution_count": 329,
   "metadata": {},
   "outputs": [
    {
     "name": "stdout",
     "output_type": "stream",
     "text": [
      "MSPE 15.0615 \n",
      "R2  0.0301\n"
     ]
    }
   ],
   "source": [
    "print('MSPE %0.4f \\nR2  %0.4f' % (get_func(w_linReg, X_test, y_test), r2_score(y_test, pred_linReg)))"
   ]
  },
  {
   "cell_type": "markdown",
   "metadata": {},
   "source": [
    "<font color='blue'>Результаты, полученные при обучении регрессии с функционалом $MSPE$ и его регуляризованным вариантом на полной обучающей выборке при помощи метода стохастического градиентного спуска (пункт 23): </font>"
   ]
  },
  {
   "cell_type": "code",
   "execution_count": 330,
   "metadata": {},
   "outputs": [
    {
     "name": "stdout",
     "output_type": "stream",
     "text": [
      "-------No Regularization-------\n",
      "MSPE 0.9828 \n",
      "MSE 1460.7989 \n",
      "R2  -0.0920 \n",
      "\n",
      "-------L2 Regularization-------\n",
      "MSPE 1.0034 \n",
      "MSE 1455.3644 \n",
      "R2  -0.0880 \n"
     ]
    }
   ],
   "source": [
    "print('-------No Regularization-------')\n",
    "print('MSPE %0.4f \\nMSE %0.4f \\nR2  %0.4f ' %(get_func(w_opt, X_test, y_test), mse(y_test, pred_sgd_noReg),\n",
    "                                                 r2_score(y_test, pred_sgd_noReg)))\n",
    "print('\\n-------L2 Regularization-------')\n",
    "print('MSPE %0.4f \\nMSE %0.4f \\nR2  %0.4f ' %(get_reg_func(w_opt_r, X_test, y_test), mse(y_test, pred_sgd_L2Reg), \n",
    "                                                 r2_score(y_test, pred_sgd_L2Reg)))"
   ]
  },
  {
   "cell_type": "markdown",
   "metadata": {},
   "source": [
    "Результаты простой линейной регрессии, обученной по полной обучающей выборке с функционалом $MSE$ и подсчитаным для нее $MSPE$ (пункт 25):"
   ]
  },
  {
   "cell_type": "code",
   "execution_count": 331,
   "metadata": {},
   "outputs": [
    {
     "name": "stdout",
     "output_type": "stream",
     "text": [
      "MSPE 15.0615 \n",
      "MSE 1297.4159 \n",
      "R2  0.0301\n"
     ]
    }
   ],
   "source": [
    "print('MSPE %0.4f \\nMSE %0.4f \\nR2  %0.4f' % (get_func(w_linReg, X_test, y_test), mse(y_test, pred_linReg), \n",
    "                                              r2_score(y_test, pred_linReg)))"
   ]
  },
  {
   "cell_type": "markdown",
   "metadata": {},
   "source": [
    "__Вывод:__\n",
    "\n",
    "<font color='blue'>Как мы уже видели ранее, простая линейная регрессия с функционалом $MSE$ характеризуется проблемой переобучения, то есть показывает очень плохой результат на тестовой выборке, хуже чем модель с константой. </font>\n",
    "\n",
    "<font color='blue'>Если же сравнить её результаты с результатами регрессии с функционалом $MSPE$, то можно увидеть, что и $MSE$ и $MSPE$ на тестовой выборке для модели, обученной градиентным спуском с функционалом $MSPE$ в тысячи раз меньше, чем у обычной регрессии. При этом $R^2$ хоть и отрицательный, но он очень близок к 0, тогда как в обычной регрессии (с функционалом $MSE$) он сильно отрицательный. </font>\n",
    "\n",
    "<font color='blue'>Если посмотреть на получившиеся коэффициенты в двух моделях (ниже), то можно заметить, что в регрессии с функционалом $MSE$ явно наблюдается симптом переобучения - экстремальные коэффициенты, в то время как в регрессии с функционалом $MSPE$ коэффициенты стянуты к 0 (даже без регуляризации), можно предположить, что функционал $MSPE$ помогает бороться с переобучением в данном случае. </font>"
   ]
  },
  {
   "cell_type": "markdown",
   "metadata": {},
   "source": [
    "<font color='blue'> Коэффициенты в регрессии с функционалом $MSE$:</font>"
   ]
  },
  {
   "cell_type": "code",
   "execution_count": 332,
   "metadata": {},
   "outputs": [
    {
     "data": {
      "text/plain": [
       "array([ 3.42854248e-01,  2.02057195e-01,  5.62868657e-01,  1.08076870e+00,\n",
       "       -1.06811350e+00,  3.66831186e+00,  5.02557379e-01,  2.09213956e+00,\n",
       "        1.60226259e-01,  4.04390433e+00, -7.76631939e+00,  2.50422844e+00,\n",
       "       -7.61350580e+00,  1.40332190e-13,  3.97988346e-01, -5.70459443e+00,\n",
       "       -1.92992952e+01, -5.81855964e+00,  3.81450365e-01,  6.02043614e+00,\n",
       "       -4.02406899e+00, -1.00209540e+01, -5.90078093e-01, -2.51377990e+00,\n",
       "        2.10538287e+00,  5.48322868e+00,  4.35302903e+00, -1.18179369e+01,\n",
       "       -1.46156617e+00,  5.90425137e-01, -3.08778366e+00, -1.04058802e+01,\n",
       "        4.65298733e+00,  1.66366809e+01, -1.37906497e+00, -5.30654847e+00,\n",
       "        2.31294227e-01, -4.14821191e+00, -1.07422245e+01, -6.52258352e+00,\n",
       "       -1.10428592e+01, -2.41533957e+01,  7.82732784e+00,  4.94774983e-01,\n",
       "        2.03840442e-01,  6.11855798e+00, -2.74128274e+01,  3.10237532e+00,\n",
       "       -5.52394624e+00,  1.17319314e+01,  3.07575403e+00, -1.10781933e+01,\n",
       "       -5.34063073e-01,  7.48710795e+00,  1.94285225e+00, -1.40854889e+00,\n",
       "        2.12680879e+00,  1.68083711e+00, -3.84423709e+00, -2.68501699e+00,\n",
       "       -1.38066096e+01,  3.10721936e+00, -2.42748123e+00,  4.70848983e+00,\n",
       "        2.40028329e+01,  5.73650559e+00, -2.72281072e+00, -4.02667415e-01,\n",
       "       -3.31820837e+00, -1.58230990e+00, -2.15761511e+00, -2.56576174e-02,\n",
       "        3.28559320e+00,  6.27105208e+00, -2.03852284e+01,  8.86768725e+00,\n",
       "       -1.14707946e+00, -7.14673843e+00,  1.51865256e+00, -3.74711572e+00,\n",
       "        3.72882352e+00,  4.44660281e+00,  9.23720706e+00, -8.10773462e-02,\n",
       "       -1.57331577e-01,  4.43426542e+00, -4.72447741e+00,  2.25248741e+00,\n",
       "        3.11801196e+00,  2.62487403e+00,  3.01855523e+00, -8.70414851e-14,\n",
       "       -4.72864713e+00, -1.63230607e+01, -1.65906971e+00,  2.79258991e+00,\n",
       "       -1.61890039e+00, -2.75125623e+00, -6.84034099e+00, -4.72938861e-01,\n",
       "       -8.76002934e+00,  1.73697118e+00, -1.43365947e-01, -1.08030732e+01,\n",
       "        1.75651574e+01, -1.09184370e+01, -1.73971068e+00, -4.89945385e+00,\n",
       "       -2.26801441e+00,  2.97245562e+01, -1.17278219e+01, -2.07470816e+01,\n",
       "        1.62720909e+00, -1.22002747e+01, -1.53405814e-01, -2.11784323e+00,\n",
       "       -6.45170195e+00,  6.67132377e+00, -1.33877021e+01, -4.19838554e+00,\n",
       "       -9.39650068e+00,  1.81005160e+01, -4.62424821e+00, -1.64997389e+00,\n",
       "       -3.23327356e+00, -1.06355625e+00, -6.16099272e+00,  1.43307237e+00,\n",
       "        3.61751880e-01,  4.23534102e+00, -3.21964677e-14,  1.27176345e+01,\n",
       "       -1.06810594e+01,  1.58063586e+01, -9.79861297e+00, -1.58761893e-14,\n",
       "        2.53519058e+00,  2.24594861e+00,  1.67801611e+00,  2.37494568e+00,\n",
       "       -1.77431386e+00,  5.22054493e+00, -1.30436338e+01,  2.45005475e+00,\n",
       "        3.89383602e+00,  3.17338967e-01, -1.86022506e+00, -4.68591129e+00,\n",
       "        1.63074001e+00, -7.28306304e-14, -5.27610453e+00, -9.26990344e-01,\n",
       "       -1.37968946e+01, -7.98213795e-01, -1.04390628e+01,  9.18486635e-01,\n",
       "        6.99575279e+00,  2.18411326e+00,  1.01265221e+01,  2.63622513e+01,\n",
       "       -2.00902768e-01,  1.29656858e+01,  2.01342330e+00,  2.72421742e+00,\n",
       "        1.97884131e+01,  9.29921575e-01,  8.27583854e+00,  5.40819061e+01,\n",
       "        3.88354368e+00,  2.88081044e+00,  1.13052615e+01, -4.66363942e+00,\n",
       "       -6.78771295e-01,  3.26079569e+00,  4.06758263e+01,  9.06742368e-01,\n",
       "       -3.73993703e+00, -1.28755175e+01, -1.15854859e+01, -6.69447088e+00,\n",
       "       -5.25258748e+00, -5.12028436e+00, -8.85681650e+00,  1.33597246e+00,\n",
       "        4.13122341e+01,  2.58327733e+00, -4.85000299e+00,  2.82426800e-01,\n",
       "       -8.65699062e+00,  2.40408893e+00, -1.55719990e+00,  1.65094093e+00,\n",
       "        1.20559180e+01, -1.12037364e+00,  6.62511146e+00,  3.18150626e+00,\n",
       "       -6.55045607e+00,  1.01870605e+01,  1.76025119e+00,  2.83060871e-01,\n",
       "        3.30191823e+00,  6.14014517e+00, -1.96989117e+01,  1.84586225e+01,\n",
       "       -6.96728989e+00, -8.52444892e-01,  3.22572883e+00,  4.18335806e+00,\n",
       "        1.53503022e-01,  2.44837355e+00,  4.79239934e+00, -1.25908564e+01,\n",
       "        3.65721528e+00, -1.46528630e+00,  3.67388988e+00,  2.10678324e+00,\n",
       "        3.29899014e+00, -2.44546589e+00,  1.01525091e+01, -1.02674990e+00,\n",
       "       -1.24321703e+00,  5.19079499e+00, -8.12748473e+00,  7.67259688e-01,\n",
       "        1.93578969e+00,  4.05866872e+01,  6.41940001e+00,  5.14454389e+00,\n",
       "        7.25581519e-03, -5.61879184e+00, -5.81522655e+00, -5.31163735e-01,\n",
       "       -1.13088975e+01, -7.15146196e+00, -2.58880587e+00, -7.15666806e+00,\n",
       "       -6.36636996e+00,  2.24006743e+01,  7.65798965e+00, -1.11173887e+00,\n",
       "       -1.13318074e+00,  2.07137154e+00,  9.14543344e-01, -3.31658755e+00,\n",
       "        2.83695257e+00,  5.90638649e-14, -9.45708339e+00,  1.03940683e+01,\n",
       "       -1.00834432e+01,  4.41630870e+00, -4.61119720e+00, -6.28653423e+00,\n",
       "        1.10699260e+01, -7.27684898e+00, -6.38394600e-01, -2.09814897e-01,\n",
       "        2.01919668e+00,  3.12601670e-01, -2.74258139e+00,  1.63431333e+00,\n",
       "       -6.21927007e+00,  1.91753756e+00, -9.21184854e+00,  5.13084600e+00,\n",
       "        6.95159571e-01,  6.96164156e+00, -5.13179786e-01, -5.85816313e+00,\n",
       "       -4.05872494e-01, -1.32373492e+01,  3.45814687e-01, -1.64088240e+00,\n",
       "        9.04589199e+00,  2.55830799e+00, -1.45710916e+01,  8.84833591e-01,\n",
       "        9.01574765e+00, -1.10842868e+00,  4.77834727e+00, -1.52659141e+00,\n",
       "       -5.22755658e-02,  1.52501649e+00,  4.67853020e+00, -7.79871050e+00,\n",
       "       -1.30674238e+00,  2.75335310e-14,  6.15052217e+00, -3.39918038e-02,\n",
       "       -5.45993770e+00, -1.17192492e+01,  6.47989000e-01, -1.00481580e+01,\n",
       "        4.03121354e+00,  1.67933987e+00, -5.27588515e+00, -6.72878412e+00,\n",
       "       -2.19396986e+00, -7.33917351e+00,  2.64138773e+00, -9.28499203e+00,\n",
       "        5.66722934e+00,  4.31957393e+01, -1.90089832e+00,  4.08199943e+00,\n",
       "       -1.97208216e+01, -1.60206776e+01, -1.63573180e+01,  5.01348970e+00,\n",
       "        3.06398512e+00, -8.02837758e-01, -2.50296679e+00,  2.25233027e+01,\n",
       "        5.72880691e-02, -8.82263810e+00, -1.92007083e+01,  3.14129412e+01,\n",
       "       -1.63271088e+01, -3.63683274e+00,  2.28784709e+01,  1.68753900e-14,\n",
       "       -2.23485911e+00, -5.00678628e+00, -4.75891776e+00,  3.31964697e+00,\n",
       "       -4.52594734e-01,  1.68043218e+00, -6.81222460e-01, -6.40965922e-01,\n",
       "       -6.98131381e+00, -6.29646825e+00, -5.62733588e-01,  4.01084617e+00,\n",
       "        1.34003496e+00, -1.09764604e+01,  1.26907242e+01, -1.48076105e+01,\n",
       "       -3.91511338e-01, -5.37328516e+00,  1.46095397e+00, -7.01941410e+00,\n",
       "       -3.84489992e+00,  1.84450390e-01, -5.59673358e-01,  1.28463311e+00,\n",
       "       -1.10413261e+01, -1.03735902e+01, -1.16651690e+01,  1.34710744e+01,\n",
       "       -1.19970903e+01,  4.96071205e+00,  3.27331316e+00, -2.17893724e+00,\n",
       "       -1.48539754e+00,  9.46568386e-01,  2.61189958e+00,  1.59034703e+01,\n",
       "        7.11798786e+00, -5.38187972e+00, -3.09785730e+00,  9.89659571e+00,\n",
       "        3.12417410e+00,  2.20606625e+01,  5.08828010e-01, -8.31668405e+00,\n",
       "       -1.50552135e+00, -2.89789254e+00, -3.77917858e+00,  1.40386445e+00,\n",
       "        1.47525744e+00,  1.99336492e+00,  1.52986437e+00, -7.39017493e+00,\n",
       "       -9.51858997e+00, -2.20466132e+00, -5.90767533e-01, -7.67410085e+00,\n",
       "        2.17365505e+00, -1.41961057e+01, -2.92828778e+00, -8.30109768e+00,\n",
       "       -8.94067048e-01,  1.85065581e-01, -1.59799433e+00, -1.71816023e+01,\n",
       "        3.29051048e-01,  2.30750003e+00,  4.29304022e+00, -7.17039729e-01,\n",
       "       -5.18135905e+00, -1.07651832e+01, -5.60855595e+00,  2.87765589e+00,\n",
       "       -1.88974857e+00,  1.69554172e+00, -7.47070035e+00, -5.78350922e-01,\n",
       "       -6.34048302e+00, -3.16856887e+00, -8.86992992e+00,  5.63758682e+01,\n",
       "        1.17526175e+01, -1.31819092e+01, -5.20372416e+00,  1.41465571e+01,\n",
       "        9.41983866e-01,  1.98034367e+01, -4.54465874e+00, -1.47771128e+01,\n",
       "       -2.74974840e-01, -8.51357932e+00, -2.18634115e+00,  1.36843685e+01,\n",
       "       -6.83148645e+00,  1.43479863e+00, -6.99570587e+00,  5.52047907e-01,\n",
       "        7.75211180e+00, -2.12557358e+01, -6.92146386e+00, -1.55702112e+01,\n",
       "       -3.45481720e+00, -5.89929591e+00,  1.11901908e+00,  1.75173202e+00,\n",
       "       -2.27787285e+00, -5.07762311e+00, -1.25612036e+01, -5.03601782e+00,\n",
       "        1.01681513e+01, -2.24199044e+01,  4.62571746e+00, -7.04006497e+00,\n",
       "       -5.59455670e+00, -2.13803344e+00,  3.61470478e+00, -1.58154273e-01,\n",
       "       -2.30699973e+00,  7.89757959e+00, -1.92710461e+01,  3.48589866e+00,\n",
       "        3.51324649e+00,  3.70389617e+00, -6.00890304e+00, -1.63866899e+00,\n",
       "        2.19526462e+00, -2.64471578e+00, -8.77696994e+00, -3.03182114e+00,\n",
       "        1.80073355e+01, -1.95265156e+00, -2.94036365e+00,  5.59558813e+00,\n",
       "        2.19543132e+00, -2.26281545e-02,  4.26764521e+00,  1.44673900e+01,\n",
       "       -6.04863635e+00, -8.81286860e+00, -1.34566570e+00,  1.43481383e+00,\n",
       "        1.66222529e+01, -1.47382892e+00,  4.39916544e+00,  2.54114594e+01,\n",
       "        1.15678804e+01, -7.33860257e+00,  1.17704061e+00, -5.56819187e+00,\n",
       "       -6.69931067e+00,  2.83329055e+00, -1.23617938e+01,  8.36189285e+00,\n",
       "       -3.93101629e+00, -1.51334289e+01, -1.98867009e+01, -2.30529763e+00,\n",
       "       -1.58834307e+01, -6.48742600e+00,  3.13840460e+01, -7.11588009e-01,\n",
       "       -1.17892284e+01,  2.82495444e+00, -9.12756921e+00,  3.84099730e+00,\n",
       "       -1.11303220e+01,  1.47698939e+00, -4.56895775e+00,  1.16798101e+01,\n",
       "       -3.63115202e+00,  3.71214218e+00,  5.68896288e+00,  2.94430599e+00,\n",
       "       -3.70372734e+00, -8.46444848e+00, -6.10677971e+00, -7.48911978e+00,\n",
       "       -1.57181830e-01,  4.61495909e+00, -1.12404544e+01,  1.77020107e+01,\n",
       "       -3.26455447e+00,  2.30047048e+00, -8.60950857e+00,  2.35391782e+00,\n",
       "        3.82416647e+00, -1.69158814e+01,  3.37312911e+00, -7.15031000e+00,\n",
       "       -1.49425667e-01, -5.63676956e+00, -4.20682753e+00, -1.26258894e+00,\n",
       "       -9.08204363e-01, -1.93635138e+00,  9.32956668e+00, -2.31902641e-01,\n",
       "        5.26870774e+00,  1.25907475e+01, -4.12677864e+00, -1.50639838e+00,\n",
       "        3.21401349e-01, -5.38610957e+00,  4.91374383e+00,  4.96232162e+00,\n",
       "        1.28538947e+00,  1.66755108e+00,  1.32159634e+01,  1.87956437e+00,\n",
       "        2.11835495e+00, -1.83820095e+00,  9.50969152e+00, -4.35736356e-01,\n",
       "       -1.41356373e+01, -2.39130224e+01, -2.80708123e+00,  3.39783494e-01,\n",
       "        5.16418349e+00, -5.52350393e+00, -1.07009009e+01,  1.60925881e+00,\n",
       "        6.78811419e-02, -1.37048251e+01,  6.62815343e+01,  6.42104691e+00,\n",
       "       -1.73993976e+01, -2.54321787e+00, -5.27169342e+00,  3.08970393e+00,\n",
       "        3.19914230e+01, -4.72465551e+00,  2.33272119e+00, -8.59568830e-01,\n",
       "       -9.90194013e-01,  1.83679220e+00, -2.68276802e+00,  1.58085512e+01,\n",
       "       -2.24970216e+00,  1.20945074e+00,  3.67656723e+01,  8.79264872e+00,\n",
       "        1.45060681e+00,  5.39637788e+00,  6.96282299e-01,  6.88413062e+00,\n",
       "        4.12402343e+00,  4.45151404e+01, -3.07730322e+00, -8.61957338e+00,\n",
       "       -2.93570867e+00,  4.50193187e-01, -5.14139648e+00,  1.23133407e+00,\n",
       "       -5.62487068e-01, -1.71561072e+00,  2.38934013e+01,  3.05721422e+01,\n",
       "        5.31441481e+00,  7.53722307e-01, -6.61052430e+00, -1.83128770e+01,\n",
       "        6.61961053e+00, -1.31565737e+01,  2.91643827e+00, -5.84197753e-01,\n",
       "       -3.31853685e+00, -1.36614161e+00,  9.77232540e+00,  1.30294249e-01,\n",
       "       -7.79691227e-01, -1.78914700e+00, -1.92814207e+00,  1.45745446e+01,\n",
       "        5.39054396e+00, -2.64273066e+00, -9.68375650e+00, -8.19390740e-01,\n",
       "       -8.11558284e+00,  5.05584797e+00,  1.78910381e+01,  9.02715070e+00,\n",
       "       -2.54917447e+01, -8.70439632e+00, -1.00717380e+01, -3.09178565e+00,\n",
       "        6.78708849e-01, -4.45579118e+00, -1.18419969e+00,  1.56722157e+00,\n",
       "        1.21483442e-01, -1.56648546e+00,  2.22969966e+00, -2.71806620e+00,\n",
       "       -6.01946877e-01, -8.41417680e-01, -6.74291095e-01, -3.97236178e+00,\n",
       "        8.17681380e+00, -2.89584079e+00,  2.35418563e+00, -3.31073204e+00,\n",
       "        3.74073862e+00,  4.45800696e-01,  5.99826619e+00,  0.00000000e+00])"
      ]
     },
     "execution_count": 332,
     "metadata": {},
     "output_type": "execute_result"
    }
   ],
   "source": [
    "LinReg_fin.coef_"
   ]
  },
  {
   "cell_type": "code",
   "execution_count": 333,
   "metadata": {},
   "outputs": [
    {
     "data": {
      "text/plain": [
       "array([ 2.21019505e-03,  8.23551528e-03,  3.02820837e-02,  1.75739118e-02,\n",
       "       -5.83348075e-03,  2.47082086e-02,  1.54899325e-02,  3.10307786e-02,\n",
       "        2.45951140e-02,  1.34981293e-02,  1.79665460e-02,  1.61675651e-02,\n",
       "        9.31262991e-03,  2.38578238e-02,  7.41348857e-05,  2.19620306e-02,\n",
       "        1.62049433e-02,  1.68145719e-02,  2.30710165e-02,  1.00650851e-02,\n",
       "        2.01200129e-02,  2.31082903e-02,  3.00882326e-03,  2.25477990e-03,\n",
       "        3.38154342e-02,  2.22448582e-02,  1.10301605e-02,  5.41853686e-03,\n",
       "        1.65353723e-02,  3.94887443e-03,  1.98667519e-02,  2.48698050e-02,\n",
       "        1.25151798e-02,  2.97007562e-02,  3.02866410e-02,  8.00716168e-04,\n",
       "        3.23808995e-02,  3.18742331e-02,  3.42237650e-02,  2.94527147e-02,\n",
       "        1.07706318e-02,  2.79442540e-02,  1.32004721e-02,  2.30671658e-02,\n",
       "        1.09497146e-03,  3.65263549e-03,  5.60661103e-03,  7.24903683e-03,\n",
       "        1.86387148e-02,  6.12690967e-03,  3.18858993e-02,  2.47142766e-02,\n",
       "        1.56887318e-02,  1.10328836e-02,  7.21881913e-03,  1.90321395e-02,\n",
       "        4.50978397e-03,  1.44964963e-02,  1.37551072e-02,  1.78122209e-02,\n",
       "        6.88975276e-04,  1.79050456e-02,  4.20873998e-03,  9.50072458e-04,\n",
       "        3.31674394e-02,  1.48254975e-02,  3.43773246e-02,  2.59247190e-02,\n",
       "        3.31167374e-02,  9.63782481e-03,  2.38791782e-02, -1.37120730e-03,\n",
       "        2.45066410e-02,  2.96967099e-02,  2.69198467e-02,  9.01055610e-03,\n",
       "        1.26422003e-02,  1.28986331e-04,  1.36102053e-02,  2.66324693e-02,\n",
       "        1.85271636e-02,  8.51294564e-03,  7.33453661e-03,  7.80588784e-03,\n",
       "        4.08744912e-03,  1.10159204e-02,  2.91532467e-02,  8.45230023e-03,\n",
       "       -1.56813886e-03,  7.28230521e-03,  1.95594281e-02,  4.58750885e-03,\n",
       "        2.45458834e-02,  1.98441024e-02,  2.50294657e-02,  5.88687281e-03,\n",
       "        2.89749229e-03,  2.16987017e-02,  2.06379788e-02,  3.19909412e-02,\n",
       "        7.47015369e-03,  3.09211799e-02,  1.39594949e-02,  2.94023770e-02,\n",
       "       -7.70995862e-05,  1.17075040e-02,  2.97545875e-02,  4.97395335e-03,\n",
       "        2.25273917e-03,  5.75177178e-03,  1.13669133e-02,  2.64542525e-02,\n",
       "        2.16273230e-02,  2.54259878e-02,  4.90331925e-03,  2.75038735e-02,\n",
       "        4.50698306e-03,  1.23384928e-02,  8.38364742e-03,  3.18337442e-02,\n",
       "        8.59494731e-03,  2.20137756e-02,  3.32524325e-02,  2.84772699e-02,\n",
       "        1.91248960e-02,  8.57583664e-03,  2.72965468e-02,  1.98874153e-02,\n",
       "        2.10426450e-02,  1.40913295e-02,  2.75561560e-03,  1.03598520e-02,\n",
       "        1.19219544e-02,  1.56657386e-02,  5.49270449e-03,  4.57307285e-03,\n",
       "        1.72047485e-03,  2.30280207e-02,  1.43234358e-02,  1.35663247e-02,\n",
       "        1.02042915e-02,  2.13432424e-02,  1.79118444e-02,  2.26234058e-02,\n",
       "        2.21467034e-02,  1.52058066e-02,  8.41448058e-03,  3.32484487e-02,\n",
       "        1.03752345e-02,  2.08288782e-02,  2.93610631e-02,  1.57620501e-02,\n",
       "        2.64474570e-02,  1.04628547e-02,  1.25691268e-02,  1.19465460e-02,\n",
       "        1.16466795e-02,  2.05978586e-02,  1.58118483e-02,  2.37903843e-02,\n",
       "        4.05091237e-03,  1.17021263e-02,  1.92495811e-02,  3.16912753e-02,\n",
       "        3.18687981e-02,  9.59810602e-03,  7.92463016e-03,  2.10954600e-02,\n",
       "        5.18009422e-03,  5.10956989e-03,  2.18772627e-02,  3.19414674e-02,\n",
       "        3.16236516e-02,  9.38529115e-03,  1.68149482e-02,  2.20568832e-02,\n",
       "        9.36212736e-03,  3.36701138e-02,  1.77339368e-02,  3.34154680e-03,\n",
       "        2.72122034e-02,  6.84842354e-03,  3.73932841e-03,  3.03896145e-02,\n",
       "        1.65275475e-02,  1.28798426e-02,  2.62104505e-02,  2.70924325e-04,\n",
       "        2.77510126e-02, -1.60094271e-03,  7.00181000e-03,  3.21479879e-02,\n",
       "        1.26652875e-02,  2.14474756e-02, -7.87904923e-04,  2.40066183e-02,\n",
       "        6.83717661e-03,  6.05546988e-03,  7.25226930e-03,  2.03810630e-02,\n",
       "        1.81786380e-02,  7.24959115e-03,  1.70834403e-02,  3.07135852e-02,\n",
       "        1.69070602e-02,  9.45971869e-03,  3.33244819e-02,  1.90474406e-02,\n",
       "        2.75573626e-02,  3.38915383e-02,  3.31143447e-02,  3.36773167e-02,\n",
       "        4.49026936e-03,  1.56543550e-03,  1.90302775e-02,  2.47355171e-02,\n",
       "        2.06307766e-02,  2.19778449e-02,  7.46754106e-03,  1.24493906e-02,\n",
       "        1.80188286e-02,  1.95215198e-02,  1.36241831e-02,  2.03962168e-02,\n",
       "        3.13647136e-02,  7.82560091e-03,  5.93244804e-03,  7.40675570e-03,\n",
       "        2.10529188e-02,  1.38792506e-02,  1.86628500e-03,  1.07892715e-02,\n",
       "        2.35806019e-02,  2.37905900e-02,  6.39512843e-04,  6.09179031e-03,\n",
       "        2.52523525e-02,  1.45937277e-02,  2.55134441e-02,  2.02448162e-03,\n",
       "        3.19114534e-02,  2.57537837e-02,  1.93183654e-02,  2.27611303e-03,\n",
       "        2.57153132e-02,  9.48534432e-03,  2.84231315e-02,  3.13840506e-02,\n",
       "        1.65459438e-02,  1.52099935e-02,  4.65908706e-03,  2.63872792e-02,\n",
       "        6.83863252e-03,  2.56923407e-02,  1.15523885e-02,  3.03095925e-02,\n",
       "        2.51131297e-02,  2.84440686e-03,  2.40586289e-02,  2.07390855e-02,\n",
       "        2.22705446e-02,  1.67882061e-02,  2.67696632e-02,  1.29480401e-02,\n",
       "        5.26840633e-03, -9.29392717e-04,  1.75388093e-02,  3.25583836e-02,\n",
       "        2.85440133e-02,  3.37092288e-02,  1.71907654e-02,  8.47687027e-03,\n",
       "        1.47212071e-02,  1.56226921e-02,  1.68047755e-02,  9.06918628e-03,\n",
       "        1.50443377e-02,  1.73158192e-02,  1.41374141e-02,  3.18594766e-02,\n",
       "        3.60955805e-03,  1.47356633e-02,  1.22920990e-02,  2.14237970e-02,\n",
       "        3.49171378e-02,  1.38003189e-02,  3.29515893e-02,  1.29082124e-02,\n",
       "        2.34532049e-02,  1.92004047e-02,  1.71618464e-02,  2.39078892e-02,\n",
       "        7.96481240e-03,  3.43457176e-02,  1.04182742e-02,  9.14280406e-03,\n",
       "        1.60144505e-02,  1.74446930e-02,  2.43637273e-02,  1.51893349e-02,\n",
       "        2.61488270e-02,  6.46227230e-03,  1.37690327e-02,  2.48895518e-02,\n",
       "        1.62267324e-02,  8.65014742e-03,  1.41427941e-02,  6.63463286e-03,\n",
       "        1.60742797e-02,  1.01467181e-02,  6.10757043e-03,  1.23189166e-02,\n",
       "        2.12663918e-03,  2.95405755e-02,  9.15371265e-03,  2.19668127e-02,\n",
       "        3.23157827e-02,  1.69219139e-02,  1.37402263e-02,  2.90810504e-02,\n",
       "        1.56071166e-02,  2.51656111e-02,  1.98779949e-02,  2.08460650e-02,\n",
       "        1.38622646e-02,  1.33132757e-02,  1.25969443e-02,  1.22718691e-02,\n",
       "        3.29979193e-04,  1.77354966e-02,  4.36666427e-03,  3.37008799e-03,\n",
       "        5.26214505e-03,  1.44927047e-02,  1.50720472e-02,  3.29151510e-02,\n",
       "        1.25052111e-02,  3.76301374e-03,  7.52811453e-03,  4.76146353e-03,\n",
       "        1.48461625e-02,  5.27563793e-03,  1.40898792e-02,  3.47220771e-03,\n",
       "        2.61838236e-02,  1.84763154e-02,  2.93900578e-02,  1.53985905e-02,\n",
       "        2.64970697e-02,  3.14616260e-02,  1.08582363e-02,  2.86126590e-02,\n",
       "        3.41407063e-02,  6.14558471e-03,  6.54867378e-03,  1.41696980e-02,\n",
       "        2.27941249e-02,  2.14672465e-02,  3.47271193e-02,  1.93401083e-02,\n",
       "        3.53691502e-03,  2.63486549e-02,  1.14784760e-02,  3.37154131e-02,\n",
       "        2.50997773e-02,  9.54036949e-03,  6.33020841e-03,  2.17964606e-02,\n",
       "       -1.43660752e-03,  1.07500012e-02,  6.20464555e-03,  2.03221125e-02,\n",
       "        7.06696008e-03,  3.22458886e-02,  1.65819259e-02,  1.67827287e-02,\n",
       "        1.26241102e-02,  2.65525308e-02,  1.99160318e-02,  1.46411859e-02,\n",
       "        2.04005057e-02,  1.77635983e-02,  7.08092917e-03,  6.90526711e-03,\n",
       "        6.08945892e-03,  1.02590219e-02,  1.41703219e-04,  1.66127802e-02,\n",
       "        5.68956729e-03,  1.31144513e-02,  9.58816699e-04,  8.96102646e-04,\n",
       "        4.61941690e-03,  3.00549199e-02,  2.06573600e-02,  2.84924409e-02,\n",
       "        3.25293530e-02,  2.02019619e-02,  3.15969710e-02,  1.39757798e-03,\n",
       "        6.14862538e-03,  3.10017259e-02,  3.35076101e-02,  4.10279548e-03,\n",
       "        3.26994674e-02,  1.65577654e-02,  2.47932502e-02,  2.98126051e-02,\n",
       "        7.33038428e-03,  2.92561268e-02,  1.92296390e-02,  1.74962485e-02,\n",
       "        3.15358602e-02,  1.45681733e-02,  3.19379906e-02,  2.61573373e-02,\n",
       "        2.62594951e-02,  3.40938772e-02,  2.49518268e-03,  2.66139556e-02,\n",
       "        2.86500621e-02,  2.15731459e-02,  2.44467463e-02,  3.20297054e-02,\n",
       "        1.57521053e-02,  1.87825391e-02,  2.47763136e-02,  7.02864978e-03,\n",
       "        9.83586423e-03,  9.62703998e-03,  1.65221223e-03,  2.40465096e-02,\n",
       "        3.08584540e-02,  3.30032733e-02,  3.41406562e-02,  3.10644177e-02,\n",
       "        2.42447224e-02,  1.18266745e-02,  1.96627955e-02,  1.97181836e-02,\n",
       "        3.13718293e-03,  1.39119897e-02,  3.26041881e-02,  1.03789545e-02,\n",
       "        3.24275009e-02,  2.89028718e-02,  2.45469020e-02,  2.82677332e-02,\n",
       "        1.46210164e-02,  1.16484443e-02,  1.70947515e-02,  2.07453325e-03,\n",
       "        4.00601645e-03,  2.43926655e-02,  2.20109143e-02,  1.62513878e-02,\n",
       "        7.63794687e-03,  2.46244659e-03,  1.49937316e-02,  1.74505949e-02,\n",
       "        5.83696858e-03,  1.37463529e-02,  3.24846651e-02,  2.76944001e-02,\n",
       "        9.25501694e-03,  3.26319652e-02,  2.35605384e-02,  2.92216881e-02,\n",
       "        7.29113913e-03,  7.31930758e-03,  1.64109441e-02,  1.47744600e-02,\n",
       "        9.65489264e-03,  2.25048549e-02,  2.53768825e-02,  1.85661791e-02,\n",
       "        5.65763196e-03,  9.45690607e-03,  9.39336421e-03,  6.44268275e-03,\n",
       "        3.36961339e-02,  2.90281373e-02,  3.26137986e-02,  2.99453941e-02,\n",
       "        7.47842139e-03,  5.08504576e-03,  1.27306907e-02,  1.70169884e-02,\n",
       "        1.75062956e-03,  3.03090600e-02,  5.43319557e-03,  8.60113333e-03,\n",
       "        1.13612169e-02,  2.82884233e-02,  2.74073121e-02,  2.35726184e-02,\n",
       "        2.25846170e-02,  2.83902155e-02,  2.23199431e-03,  2.18906679e-02,\n",
       "        2.74786603e-02,  2.30207931e-02,  2.39004331e-02,  1.28487113e-02,\n",
       "        1.10558823e-02,  2.34025225e-02,  2.54929381e-02,  2.60240693e-02,\n",
       "        8.89165248e-03,  2.08145632e-02,  2.55984525e-02,  2.71287411e-02,\n",
       "        2.25243477e-02,  7.46405975e-03, -4.00151949e-03,  9.95339148e-03,\n",
       "        2.87699900e-02,  1.36192470e-02,  1.22150069e-04,  3.27414344e-02,\n",
       "       -3.47821991e-04,  1.26072090e-02,  1.05763500e-02,  2.39022844e-02,\n",
       "        1.42033027e-02,  5.58677305e-05,  9.69915992e-03,  1.90608754e-02,\n",
       "        1.44436383e-02,  1.84977946e-02,  2.89257907e-02,  1.37752294e-02,\n",
       "        4.35585770e-04,  1.27234780e-02,  2.58260687e-02,  7.72572574e-03,\n",
       "        1.93031101e-03,  2.76171685e-02,  7.65813102e-03,  3.16744604e-02,\n",
       "        1.56235961e-02,  9.61107168e-04,  1.70957330e-02,  3.07186437e-02,\n",
       "        1.17857410e-03,  7.03346442e-03,  7.35595997e-03,  1.81099602e-02,\n",
       "        2.74587329e-02,  2.01530761e-02,  2.96454607e-02,  2.12242161e-02,\n",
       "        2.77493437e-02,  1.73181344e-02,  3.38010695e-02,  1.80365059e-02,\n",
       "        2.87620441e-02,  3.14222418e-02,  7.10532005e-03,  2.84676338e-02,\n",
       "        5.38643609e-03,  2.42885917e-02,  1.69326378e-02,  2.10510072e-02,\n",
       "        1.62396357e-02,  7.84762548e-03,  3.26345414e-02,  2.90998733e-02,\n",
       "        6.61125991e-03,  1.73247987e-02,  2.67541789e-03,  3.21147603e-02,\n",
       "        9.50324558e-03,  8.09983970e-03,  1.19881379e-02,  1.29339610e-02,\n",
       "        1.98299354e-02,  1.00070306e-02,  3.39403593e-02,  1.29075543e-02,\n",
       "        5.55102891e-03,  2.98918901e-02,  8.74434347e-03,  3.19891479e-02,\n",
       "        9.62830456e-03,  2.34944835e-02,  1.47629422e-03,  1.89223012e-02,\n",
       "        1.68642140e-02,  1.88050647e-02,  1.39685597e-02,  2.41751957e-02,\n",
       "        4.26285051e-03,  4.93477788e-03,  1.92863008e-02,  1.72918419e-02,\n",
       "        2.32564089e-02,  3.35766099e-02,  2.56055662e-02,  1.04396877e-02,\n",
       "        1.70156146e-02,  2.25383488e-02,  1.64893148e-03,  1.64112590e-02,\n",
       "        1.87429413e-02,  3.33350190e-02,  2.27864316e-02,  3.01457616e-02,\n",
       "        1.06332089e-02,  6.18087023e-03,  2.09341562e-02,  1.79830447e-02,\n",
       "        2.47264828e-02,  3.28776553e-03, -2.89150869e-03,  2.19696851e-02,\n",
       "        5.12904523e-03,  4.34689474e-03,  1.24408386e-02,  1.52698969e-02,\n",
       "        1.71046380e-02, -1.17074607e-03,  1.15946749e-04, -1.01135918e-01])"
      ]
     },
     "execution_count": 333,
     "metadata": {},
     "output_type": "execute_result"
    }
   ],
   "source": [
    "w_opt"
   ]
  },
  {
   "cell_type": "code",
   "execution_count": 334,
   "metadata": {},
   "outputs": [
    {
     "data": {
      "text/plain": [
       "array([ 7.05925757e-03,  2.76061401e-03,  1.81293868e-02, -1.37331567e-02,\n",
       "       -8.92371372e-03,  2.08996203e-02,  6.64490003e-03,  2.53322576e-02,\n",
       "        3.54770790e-03,  3.42271331e-03,  4.82811178e-03,  3.14355354e-03,\n",
       "        2.57130916e-03,  6.34739333e-03,  3.91918936e-05,  5.84441828e-03,\n",
       "        4.28111531e-03,  4.46646410e-03,  6.15153753e-03,  2.50968742e-03,\n",
       "        5.37113543e-03,  6.14797932e-03,  1.06316302e-03,  6.49740089e-04,\n",
       "        8.70085904e-03,  5.67500637e-03, -4.35685049e-03,  1.15402919e-03,\n",
       "        3.46998745e-03,  1.08624111e-03,  5.00063174e-03,  6.49423620e-03,\n",
       "        3.21103994e-03,  7.90244092e-03,  8.03013333e-03,  1.59409219e-04,\n",
       "        8.61631716e-03,  8.36256327e-03,  8.83498405e-03,  7.79858139e-03,\n",
       "        2.86812751e-03,  7.43459140e-03,  3.43069471e-03,  7.01657083e-03,\n",
       "       -3.45885397e-05,  3.43193477e-04,  1.49164340e-03,  1.93599146e-03,\n",
       "        4.97555571e-03,  1.62902741e-03,  8.50677547e-03,  6.58012512e-03,\n",
       "        4.03317781e-03,  3.01769287e-03,  1.86695736e-03,  4.86105863e-03,\n",
       "       -2.65571029e-04,  3.67956721e-03,  3.22268813e-03,  4.40242506e-03,\n",
       "        1.81371179e-04,  4.75517939e-03,  1.13149436e-03,  2.43670639e-04,\n",
       "        8.83212371e-03,  3.96165851e-03,  9.16048895e-03,  6.72423675e-03,\n",
       "        8.81428944e-03,  1.01861962e-03,  6.34597960e-03, -1.80397993e-03,\n",
       "        6.54278143e-03,  8.36754077e-03,  7.16204701e-03,  2.40626939e-03,\n",
       "        3.33862977e-03,  1.73696224e-05,  3.60310301e-03,  6.93184907e-03,\n",
       "        4.86273739e-03,  6.00372191e-04,  1.96762450e-03,  2.06593316e-03,\n",
       "        5.28054265e-04,  2.86605548e-03,  7.74587345e-03,  1.02223791e-03,\n",
       "       -1.23108057e-03, -2.49133723e-03,  5.17054009e-03,  1.22051044e-03,\n",
       "        6.49402613e-03,  5.23429879e-03,  6.75732256e-03, -6.47050979e-04,\n",
       "        7.02293022e-04,  5.69099070e-03,  5.49379146e-03,  6.96889130e-03,\n",
       "        1.90404961e-03,  8.20593968e-03,  3.73704769e-03,  7.84214087e-03,\n",
       "       -1.01175488e-03,  3.11322837e-03,  7.96356383e-03,  1.35736782e-03,\n",
       "        4.81969073e-04,  1.54031084e-03,  3.03907067e-03,  7.01380710e-03,\n",
       "        5.37619141e-03,  6.76460462e-03,  1.09881008e-03,  7.24185241e-03,\n",
       "        1.13120902e-03,  3.24379600e-03,  2.20452498e-03,  8.79904520e-03,\n",
       "        2.23542055e-03,  5.85707012e-03,  8.51440357e-03,  7.54772455e-03,\n",
       "        5.24983638e-03,  2.14033018e-03,  7.21020518e-03,  4.78748047e-03,\n",
       "        5.34748857e-03,  3.60785469e-03,  7.33133759e-04,  2.67991435e-03,\n",
       "        3.16532588e-03,  4.16817335e-03,  1.57679471e-03,  1.21666973e-03,\n",
       "        4.58582509e-04,  5.29088519e-03,  3.68966137e-03,  3.64233562e-03,\n",
       "        2.73471615e-03,  5.64834681e-03,  4.77087756e-03,  5.31594675e-03,\n",
       "        3.68995252e-03,  3.69272254e-03,  2.18239557e-03,  8.90881869e-03,\n",
       "        2.33781312e-03,  5.54153991e-03,  7.82287220e-03,  4.29884220e-03,\n",
       "        7.03636733e-03,  2.62487908e-03,  3.31422076e-03,  3.13622520e-03,\n",
       "        2.94623364e-03,  5.10686368e-03,  2.31017608e-03,  6.26161112e-03,\n",
       "        7.60338105e-04,  2.89532420e-03,  5.10825351e-03,  6.67748221e-03,\n",
       "        8.48587065e-03,  1.20341825e-03,  2.21413825e-03,  5.61100105e-03,\n",
       "        1.12059467e-03,  1.35105298e-03,  5.81446000e-03,  8.34981427e-03,\n",
       "        7.90916277e-03,  1.63461073e-03,  4.46682590e-03,  5.84952884e-03,\n",
       "        2.44831879e-03,  8.91970358e-03,  4.73195432e-03,  8.56000777e-04,\n",
       "        7.23862508e-03,  1.78829967e-03,  9.07646953e-04,  7.28577020e-03,\n",
       "        4.40141729e-03,  2.65545074e-03,  6.70181162e-03,  2.77477346e-04,\n",
       "        7.38439860e-03, -1.50049745e-03,  1.98405160e-03,  8.61461813e-03,\n",
       "        3.33356065e-03,  5.43198692e-03, -3.82930604e-04,  6.34434460e-03,\n",
       "        1.80777381e-03,  1.61153983e-03,  1.83602405e-03,  5.93531297e-03,\n",
       "        4.95383421e-03,  1.93763907e-03,  4.54506313e-03,  8.17019335e-03,\n",
       "        4.62472482e-03,  2.32130742e-03,  8.92328143e-03,  2.88840588e-03,\n",
       "        7.23340906e-03,  9.01949360e-03,  8.79556226e-03,  8.97718000e-03,\n",
       "        7.69051909e-04, -4.02335173e-05,  4.48532789e-03,  6.28583764e-03,\n",
       "        5.55876513e-03,  5.65470899e-03, -8.59099263e-04,  2.95612805e-03,\n",
       "        4.81627858e-03,  5.18738395e-03,  3.64122559e-03,  6.34197023e-03,\n",
       "        7.90524853e-03,  2.04435432e-03,  1.52923042e-03,  6.79376295e-04,\n",
       "        5.50843417e-03,  3.89426271e-03,  4.36696076e-04,  1.90893236e-03,\n",
       "        6.26476109e-03,  6.32957505e-03,  2.76513939e-04,  1.62225449e-03,\n",
       "        6.72158824e-03,  3.88270907e-03,  6.37843093e-03,  3.65710781e-04,\n",
       "        8.20240187e-03,  6.88151563e-03,  4.79569970e-03,  6.27240978e-04,\n",
       "        7.38049807e-03,  2.52358353e-03,  7.56199714e-03,  8.06823814e-03,\n",
       "        4.39488984e-03,  4.22237334e-03,  1.03420428e-03,  7.01078003e-03,\n",
       "        1.83889652e-03,  6.82893717e-03,  2.73982605e-03,  7.20090989e-03,\n",
       "        6.94349558e-03,  8.26112951e-04,  6.85096578e-03,  5.03189223e-03,\n",
       "        6.09798127e-03,  4.41442900e-03,  7.17282231e-03,  2.96553288e-03,\n",
       "       -1.27211982e-03, -1.35893362e-03,  4.77232874e-03,  8.51708819e-03,\n",
       "        7.92840820e-03,  9.11767217e-03,  3.48426401e-03,  2.25318794e-03,\n",
       "        3.79208906e-03,  4.28975710e-03,  4.47092411e-03,  9.64450248e-04,\n",
       "        3.68626602e-03,  4.78243173e-03,  3.65218402e-03,  8.32798488e-03,\n",
       "        1.11126443e-03,  2.48051227e-03,  3.23174163e-03,  5.72596617e-03,\n",
       "        9.28181614e-03,  3.67158601e-03,  8.66525581e-03,  3.34651040e-03,\n",
       "        6.23163751e-03,  4.74414298e-03,  4.24696049e-03,  6.40574101e-03,\n",
       "        2.04098203e-03,  8.37999024e-03,  2.66573722e-03,  2.40079568e-03,\n",
       "        4.21460320e-03,  4.55278255e-03,  6.46663828e-03,  4.05831333e-03,\n",
       "        7.04455699e-03,  1.72743452e-03,  3.66326229e-03,  6.04844105e-03,\n",
       "        4.31572609e-03,  2.30567559e-03,  3.59362183e-03,  1.72615511e-03,\n",
       "        4.18780339e-03,  2.35188187e-03,  1.62200430e-03,  3.27745773e-03,\n",
       "        5.61602013e-04,  7.91566674e-03,  2.43535266e-03,  5.84327064e-03,\n",
       "        8.60448045e-03,  4.50121660e-03,  3.67583263e-03,  7.73703698e-03,\n",
       "        3.77215207e-03,  6.69949849e-03,  4.59834444e-03,  5.07542578e-03,\n",
       "        3.61553232e-03, -1.74442776e-03,  3.07130709e-03,  1.76490068e-03,\n",
       "       -3.35539767e-04,  4.77434892e-03,  1.16659064e-03,  8.56650279e-04,\n",
       "        1.36939099e-03,  3.73877502e-03,  3.92706814e-03,  8.72857946e-03,\n",
       "        3.37125198e-03,  9.01474374e-04,  1.96905238e-03,  1.27971753e-03,\n",
       "        3.65565150e-03,  1.88337861e-03,  3.98185394e-03, -1.47981519e-03,\n",
       "        6.96622745e-03,  4.97403033e-03,  7.83419865e-03,  4.09905764e-03,\n",
       "        7.01196473e-03,  8.34507211e-03,  2.65115945e-03,  7.59805473e-03,\n",
       "        8.23292809e-03,  1.71369133e-03,  1.70686811e-03,  3.70635325e-03,\n",
       "        5.88155933e-03,  5.71357980e-03,  9.23767356e-03,  5.14545146e-03,\n",
       "        8.57552456e-04,  7.05313227e-03,  3.44504110e-03,  8.98309136e-03,\n",
       "        6.71159969e-03,  2.47523115e-03, -2.92041041e-04,  5.84904339e-03,\n",
       "       -9.72803063e-04,  2.95474874e-03,  1.42269965e-03,  5.40671449e-03,\n",
       "        1.82795822e-03,  8.32126013e-03,  4.32260957e-03,  4.46421794e-03,\n",
       "        3.37522895e-03,  7.06554796e-03,  4.50221329e-03,  3.90239125e-03,\n",
       "        5.39830233e-03,  4.87043460e-03,  1.81670590e-03,  1.81575188e-03,\n",
       "        1.01619224e-03,  2.35264174e-03, -1.21195411e-03,  4.31944898e-03,\n",
       "        1.54028724e-03,  3.44983129e-03,  3.86900618e-04, -1.72104897e-03,\n",
       "        1.00166821e-03,  8.03828185e-03,  5.49480892e-03,  7.71675954e-03,\n",
       "        8.67493980e-03,  5.43016563e-03,  8.17757089e-03,  2.79890727e-04,\n",
       "        5.97715431e-06,  8.24860096e-03,  8.92138023e-03,  1.24496832e-03,\n",
       "        8.55537846e-03,  4.43352628e-03,  6.58637367e-03,  7.93562343e-03,\n",
       "        1.15433185e-03,  7.80780387e-03,  4.92315496e-03,  4.66995033e-03,\n",
       "        8.29710294e-03,  3.74323740e-03,  8.50038450e-03,  7.10021497e-03,\n",
       "        6.98846995e-03,  9.07264069e-03,  4.92234317e-04,  6.96808604e-03,\n",
       "        7.07159852e-03,  5.66148444e-03,  6.68782407e-03,  7.90750091e-03,\n",
       "        3.96125392e-03,  4.80127824e-03,  6.59205017e-03,  1.76317390e-03,\n",
       "        2.60629348e-03,  2.56128178e-03,  4.64693231e-04,  6.40998955e-03,\n",
       "        8.11895662e-03,  7.08507639e-03,  1.02316219e-02,  8.35493938e-03,\n",
       "        6.31179250e-03,  2.79572976e-03,  5.23130266e-03,  4.58871709e-03,\n",
       "        1.50492214e-04,  3.69005809e-03,  8.70752306e-03,  2.45191453e-03,\n",
       "        8.43242888e-03,  7.68963243e-03,  6.40711147e-03,  7.28570709e-03,\n",
       "        3.86134267e-03,  2.94475535e-03,  4.54599200e-03,  5.79601011e-04,\n",
       "        5.56546715e-04,  6.03547629e-03,  3.29856642e-03,  3.90973177e-03,\n",
       "        1.87598178e-03,  8.07609021e-04,  3.79392099e-03,  3.28541398e-03,\n",
       "        1.51980977e-03,  9.33426769e-06,  7.85948642e-03,  7.41715206e-03,\n",
       "        2.52310822e-03,  8.73890258e-03,  3.03107780e-03,  7.65404695e-03,\n",
       "        1.21640880e-03,  1.05995113e-03,  4.36614496e-03,  3.91744831e-03,\n",
       "        2.57940064e-03,  5.99546505e-03,  6.74408388e-03,  4.90862544e-03,\n",
       "        1.51291340e-03,  2.02427826e-03,  2.49666292e-03,  9.53150309e-04,\n",
       "        8.97003221e-03,  6.19667006e-03,  8.51288811e-03,  7.46499615e-03,\n",
       "        1.98031994e-03, -1.12822844e-04,  3.31499351e-03,  4.45503729e-03,\n",
       "        4.87688025e-04,  7.59690700e-03,  8.62478299e-04,  2.11308349e-03,\n",
       "        3.02246267e-03,  6.94793745e-03,  7.17445928e-03,  6.22842182e-03,\n",
       "        5.75448465e-03,  7.54122225e-03,  5.19549718e-04,  5.85104131e-03,\n",
       "        7.13956571e-03,  5.93011482e-03,  6.43488046e-03,  3.77620157e-03,\n",
       "        3.30897464e-03,  6.25500801e-03,  6.72146453e-03,  6.75506534e-03,\n",
       "        2.75268367e-03,  5.73953539e-03,  6.83930409e-03,  6.69475550e-03,\n",
       "        6.06745210e-03,  1.13510911e-03, -4.54016312e-03,  3.25475811e-03,\n",
       "        7.61941738e-03,  3.64223797e-03,  4.94182808e-05,  9.03909796e-03,\n",
       "       -1.66570510e-03,  3.47406011e-03,  2.86327374e-03,  5.59029000e-03,\n",
       "        2.97337308e-03, -1.14477530e-04,  2.53686110e-03,  4.47597916e-03,\n",
       "        3.84274165e-03,  4.92331180e-03,  7.36044322e-03,  3.60277595e-03,\n",
       "        1.10767336e-04,  3.38509163e-03,  6.78934591e-03,  1.64427441e-03,\n",
       "        3.96422814e-04,  7.04476163e-03,  2.03745195e-03,  8.40824460e-03,\n",
       "        3.37419505e-03,  2.57817823e-04,  4.54833359e-03,  7.99365897e-03,\n",
       "        3.15859362e-04,  1.45192496e-03,  1.89096306e-03,  4.81134381e-03,\n",
       "        7.30454900e-03,  5.37673516e-03,  7.39161753e-03,  5.43501852e-03,\n",
       "        8.74748904e-03,  4.45161261e-03,  8.97430498e-03,  4.86316135e-03,\n",
       "        7.06684554e-03,  8.38297193e-03,  1.89905433e-03,  7.24045194e-03,\n",
       "        5.85920206e-04,  5.76942897e-03,  4.08706546e-03,  5.49242721e-03,\n",
       "        3.86828496e-03,  2.08786711e-03,  8.86570044e-03,  7.74343242e-03,\n",
       "        1.86622905e-03,  2.41413050e-03,  7.00052166e-04,  7.25713362e-03,\n",
       "        2.52669050e-03,  2.32005807e-03,  3.21720457e-03,  3.39645717e-03,\n",
       "        5.21798446e-03,  2.29019210e-03,  9.06858237e-03,  3.43406528e-03,\n",
       "        1.47352803e-03,  7.94347661e-03,  2.24319716e-03,  8.43152560e-03,\n",
       "        2.55926150e-03,  6.12165270e-03,  3.12349647e-04,  4.07317727e-03,\n",
       "        4.48034397e-03,  5.31568891e-03,  3.44582471e-03,  6.43717341e-03,\n",
       "        1.11388256e-03,  1.07096432e-03,  5.14528743e-03,  4.68457254e-03,\n",
       "        6.18738642e-03,  8.36675341e-03,  6.69017985e-03,  2.70975834e-03,\n",
       "        4.51019484e-03,  5.99634593e-03,  4.43960794e-04, -2.15653537e-04,\n",
       "        4.66656904e-04,  8.76974275e-03,  3.86267905e-03,  5.88026774e-03,\n",
       "       -3.16305544e-05, -2.52782718e-03,  4.89563010e-04,  5.52221728e-03,\n",
       "        2.77344547e-03, -8.15421450e-04, -7.43420079e-03,  2.40903426e-03,\n",
       "       -7.18462668e-04, -6.08939098e-03, -2.50500994e-03,  2.22424611e-03,\n",
       "        1.07564109e-03, -5.28748820e-03, -3.02695326e-03, -9.59100502e-02])"
      ]
     },
     "execution_count": 334,
     "metadata": {},
     "output_type": "execute_result"
    }
   ],
   "source": [
    "w_opt_r"
   ]
  },
  {
   "cell_type": "markdown",
   "metadata": {},
   "source": [
    "Здесь вы можете поделиться своими мыслями по поводу этого задания."
   ]
  },
  {
   "cell_type": "markdown",
   "metadata": {
    "jupyter": {
     "outputs_hidden": true
    }
   },
   "source": [
    "_Честно говоря. Задание достаточно интересное, но сложное. Однако выполняя его я научился искать информацию, и что не маловажно пользоваться документацией к библиотекам. Задача полностью направлена на практическую реализацию, что на мой взгляд тоже не маловажно. Задания построены таким образом, как буд-то это реальные задачи из жизни, без всяких там нажми туда, сделай это и получи результат. Тут надо головой подумать и покопаться в интернете, чтобы решить задачу и возникшие в ходе ее решения проблемы._"
   ]
  },
  {
   "cell_type": "markdown",
   "metadata": {},
   "source": [
    "А здесь — вставить вашу любимую картинку."
   ]
  },
  {
   "cell_type": "markdown",
   "metadata": {
    "jupyter": {
     "outputs_hidden": true
    }
   },
   "source": [
    "![](https://naked-science.ru/wp-content/uploads/2016/11/field_image_26bfb2160bb56bc24bacf8d3c489e9ad.jpg)"
   ]
  },
  {
   "cell_type": "code",
   "execution_count": null,
   "metadata": {},
   "outputs": [],
   "source": []
  }
 ],
 "metadata": {
  "kernelspec": {
   "display_name": "Python 3",
   "language": "python",
   "name": "python3"
  },
  "language_info": {
   "codemirror_mode": {
    "name": "ipython",
    "version": 3
   },
   "file_extension": ".py",
   "mimetype": "text/x-python",
   "name": "python",
   "nbconvert_exporter": "python",
   "pygments_lexer": "ipython3",
   "version": "3.7.4"
  }
 },
 "nbformat": 4,
 "nbformat_minor": 4
}
